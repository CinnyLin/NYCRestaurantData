{
 "cells": [
  {
   "cell_type": "markdown",
   "metadata": {},
   "source": [
    "# Cross-Check nationality API data with Ancestry data #2\n",
    "\n",
    "**Goal**: determine how to group nationalities into ethnic/cultural clumps\n",
    "\n",
    "**Method**: for example, look for all the German results in Ancestry and see what values showed up in API, and vice versa. this will give us a better understanding about how we should be grouping values."
   ]
  },
  {
   "cell_type": "code",
   "execution_count": 1,
   "metadata": {},
   "outputs": [],
   "source": [
    "import pandas as pd\n",
    "import matplotlib.pyplot as plt"
   ]
  },
  {
   "cell_type": "code",
   "execution_count": 2,
   "metadata": {},
   "outputs": [
    {
     "data": {
      "text/html": [
       "<div>\n",
       "<style scoped>\n",
       "    .dataframe tbody tr th:only-of-type {\n",
       "        vertical-align: middle;\n",
       "    }\n",
       "\n",
       "    .dataframe tbody tr th {\n",
       "        vertical-align: top;\n",
       "    }\n",
       "\n",
       "    .dataframe thead th {\n",
       "        text-align: right;\n",
       "    }\n",
       "</style>\n",
       "<table border=\"1\" class=\"dataframe\">\n",
       "  <thead>\n",
       "    <tr style=\"text-align: right;\">\n",
       "      <th></th>\n",
       "      <th>Year</th>\n",
       "      <th>PG</th>\n",
       "      <th>ID</th>\n",
       "      <th>ID2</th>\n",
       "      <th>CAT_ORG</th>\n",
       "      <th>FULL</th>\n",
       "      <th>Position</th>\n",
       "      <th>Nation</th>\n",
       "      <th>Name</th>\n",
       "      <th>NATIONALITY</th>\n",
       "      <th>...</th>\n",
       "      <th>ST Name 2</th>\n",
       "      <th>ST Name 3</th>\n",
       "      <th>ST Name 4</th>\n",
       "      <th>ST Name 5</th>\n",
       "      <th>ST Name 6</th>\n",
       "      <th>First</th>\n",
       "      <th>Last</th>\n",
       "      <th>country1_api</th>\n",
       "      <th>country2_api</th>\n",
       "      <th>origin_api</th>\n",
       "    </tr>\n",
       "  </thead>\n",
       "  <tbody>\n",
       "    <tr>\n",
       "      <th>0</th>\n",
       "      <td>1913_TrowBusMan</td>\n",
       "      <td>904</td>\n",
       "      <td>33</td>\n",
       "      <td>1913_TrowBusMan_33</td>\n",
       "      <td>Restaurants</td>\n",
       "      <td>Albanian Roumanian Co, 261 W37th</td>\n",
       "      <td>23</td>\n",
       "      <td>NaN</td>\n",
       "      <td>Albanian Roumanian Co</td>\n",
       "      <td>Albanian</td>\n",
       "      <td>...</td>\n",
       "      <td>W37th</td>\n",
       "      <td>NaN</td>\n",
       "      <td>NaN</td>\n",
       "      <td>NaN</td>\n",
       "      <td>NaN</td>\n",
       "      <td>Roumanian</td>\n",
       "      <td>Albanian</td>\n",
       "      <td>Romania</td>\n",
       "      <td>Iran</td>\n",
       "      <td>NaN</td>\n",
       "    </tr>\n",
       "  </tbody>\n",
       "</table>\n",
       "<p>1 rows × 28 columns</p>\n",
       "</div>"
      ],
      "text/plain": [
       "              Year   PG  ID                 ID2      CAT_ORG  \\\n",
       "0  1913_TrowBusMan  904  33  1913_TrowBusMan_33  Restaurants   \n",
       "\n",
       "                               FULL  Position Nation                   Name  \\\n",
       "0  Albanian Roumanian Co, 261 W37th        23    NaN  Albanian Roumanian Co   \n",
       "\n",
       "  NATIONALITY  ... ST Name 2 ST Name 3 ST Name 4 ST Name 5 ST Name 6  \\\n",
       "0    Albanian  ...     W37th       NaN       NaN       NaN       NaN   \n",
       "\n",
       "       First      Last country1_api country2_api origin_api  \n",
       "0  Roumanian  Albanian      Romania         Iran        NaN  \n",
       "\n",
       "[1 rows x 28 columns]"
      ]
     },
     "execution_count": 2,
     "metadata": {},
     "output_type": "execute_result"
    }
   ],
   "source": [
    "df = pd.read_csv('1913TrowBus_nationalityAPI.csv')\n",
    "df.head(1)"
   ]
  },
  {
   "cell_type": "code",
   "execution_count": null,
   "metadata": {},
   "outputs": [],
   "source": []
  },
  {
   "cell_type": "markdown",
   "metadata": {},
   "source": [
    "## Check Ancestry results in common API values\n",
    "\n",
    "E.g. look for all \"German\" values in API column and see what values show up Ancestry results"
   ]
  },
  {
   "cell_type": "code",
   "execution_count": 4,
   "metadata": {},
   "outputs": [
    {
     "data": {
      "text/plain": [
       "Ireland           1064\n",
       "Germany            971\n",
       "United Kingdom     690\n",
       "France             406\n",
       "Israel             375\n",
       "Italy              329\n",
       "Switzerland        227\n",
       "Spain              138\n",
       "Austria            133\n",
       "cannot use api     105\n",
       "Greece             104\n",
       "South Africa        79\n",
       "error               72\n",
       "Liberia             66\n",
       "Sweden              62\n",
       "Kenya               47\n",
       "Netherlands         37\n",
       "Indonesia           34\n",
       "Ghana               33\n",
       "Denmark             29\n",
       "Name: country1_api, dtype: int64"
      ]
     },
     "execution_count": 4,
     "metadata": {},
     "output_type": "execute_result"
    }
   ],
   "source": [
    "df['country1_api'].value_counts()[:20]"
   ]
  },
  {
   "cell_type": "code",
   "execution_count": null,
   "metadata": {},
   "outputs": [],
   "source": []
  },
  {
   "cell_type": "markdown",
   "metadata": {},
   "source": [
    "## 1. Ireland"
   ]
  },
  {
   "cell_type": "code",
   "execution_count": 8,
   "metadata": {},
   "outputs": [
    {
     "data": {
      "text/html": [
       "<div>\n",
       "<style scoped>\n",
       "    .dataframe tbody tr th:only-of-type {\n",
       "        vertical-align: middle;\n",
       "    }\n",
       "\n",
       "    .dataframe tbody tr th {\n",
       "        vertical-align: top;\n",
       "    }\n",
       "\n",
       "    .dataframe thead th {\n",
       "        text-align: right;\n",
       "    }\n",
       "</style>\n",
       "<table border=\"1\" class=\"dataframe\">\n",
       "  <thead>\n",
       "    <tr style=\"text-align: right;\">\n",
       "      <th></th>\n",
       "      <th>Year</th>\n",
       "      <th>PG</th>\n",
       "      <th>ID</th>\n",
       "      <th>ID2</th>\n",
       "      <th>CAT_ORG</th>\n",
       "      <th>FULL</th>\n",
       "      <th>Position</th>\n",
       "      <th>Nation</th>\n",
       "      <th>Name</th>\n",
       "      <th>NATIONALITY</th>\n",
       "      <th>...</th>\n",
       "      <th>ST Name 2</th>\n",
       "      <th>ST Name 3</th>\n",
       "      <th>ST Name 4</th>\n",
       "      <th>ST Name 5</th>\n",
       "      <th>ST Name 6</th>\n",
       "      <th>First</th>\n",
       "      <th>Last</th>\n",
       "      <th>country1_api</th>\n",
       "      <th>country2_api</th>\n",
       "      <th>origin_api</th>\n",
       "    </tr>\n",
       "  </thead>\n",
       "  <tbody>\n",
       "    <tr>\n",
       "      <th>4</th>\n",
       "      <td>1913_TrowBusMan</td>\n",
       "      <td>906</td>\n",
       "      <td>430</td>\n",
       "      <td>1913_TrowBusMan_430</td>\n",
       "      <td>Restaurants</td>\n",
       "      <td>Cafe Safran, 265, 4th av</td>\n",
       "      <td>13</td>\n",
       "      <td>NaN</td>\n",
       "      <td>Cafe Safran</td>\n",
       "      <td>Armenian</td>\n",
       "      <td>...</td>\n",
       "      <td>4th</td>\n",
       "      <td>av</td>\n",
       "      <td>NaN</td>\n",
       "      <td>NaN</td>\n",
       "      <td>NaN</td>\n",
       "      <td>Safran</td>\n",
       "      <td>Cafe</td>\n",
       "      <td>Ireland</td>\n",
       "      <td>Turkey</td>\n",
       "      <td>NaN</td>\n",
       "    </tr>\n",
       "  </tbody>\n",
       "</table>\n",
       "<p>1 rows × 28 columns</p>\n",
       "</div>"
      ],
      "text/plain": [
       "              Year   PG   ID                  ID2      CAT_ORG  \\\n",
       "4  1913_TrowBusMan  906  430  1913_TrowBusMan_430  Restaurants   \n",
       "\n",
       "                       FULL  Position Nation         Name NATIONALITY  ...  \\\n",
       "4  Cafe Safran, 265, 4th av        13    NaN  Cafe Safran    Armenian  ...   \n",
       "\n",
       "  ST Name 2 ST Name 3 ST Name 4 ST Name 5 ST Name 6   First  Last  \\\n",
       "4       4th        av       NaN       NaN       NaN  Safran  Cafe   \n",
       "\n",
       "  country1_api country2_api origin_api  \n",
       "4      Ireland       Turkey        NaN  \n",
       "\n",
       "[1 rows x 28 columns]"
      ]
     },
     "execution_count": 8,
     "metadata": {},
     "output_type": "execute_result"
    }
   ],
   "source": [
    "IrelandAPI = df[df['country1_api']=='Ireland']\n",
    "IrelandAPI.head(1)"
   ]
  },
  {
   "cell_type": "code",
   "execution_count": 9,
   "metadata": {},
   "outputs": [
    {
     "data": {
      "text/plain": [
       "British      242\n",
       "German       133\n",
       "Unknown       97\n",
       "Jewish        91\n",
       "Irish         55\n",
       "Scottish      17\n",
       "Polish        17\n",
       "Italian        9\n",
       "Chinese        9\n",
       "Hungarian      8\n",
       "Name: NATIONALITY final, dtype: int64"
      ]
     },
     "execution_count": 9,
     "metadata": {},
     "output_type": "execute_result"
    }
   ],
   "source": [
    "IrelandAPI['NATIONALITY final'].value_counts()[:10]"
   ]
  },
  {
   "cell_type": "code",
   "execution_count": 13,
   "metadata": {},
   "outputs": [
    {
     "data": {
      "image/png": "[encoded data removed]",
      "text/plain": [
       "<Figure size 432x288 with 1 Axes>"
      ]
     },
     "metadata": {},
     "output_type": "display_data"
    }
   ],
   "source": [
    "text = '*Irish* API in Ancestry Results'\n",
    "\n",
    "labels = ['British: 242', 'German: 133', 'Unknown: 97', 'Jewish: 91', 'Irish: 55']\n",
    "sizes = [242, 133, 97, 91, 55]\n",
    "explode = [0, 0, 0, 0, 0.1]\n",
    "colors = ['#45ada8', '#d9acce', '#a75a94', '#970e3c', '#ec83aa']\n",
    "\n",
    "fig, ax = plt.subplots()\n",
    "ax.pie(sizes, explode=explode, labels=labels, colors=colors, \n",
    "       autopct='%1.1f%%', startangle=60)\n",
    "ax.axis('equal')\n",
    "\n",
    "plt.title(text)\n",
    "plt.savefig(f'plots/{text}.png')"
   ]
  },
  {
   "cell_type": "code",
   "execution_count": null,
   "metadata": {},
   "outputs": [],
   "source": []
  },
  {
   "cell_type": "markdown",
   "metadata": {},
   "source": [
    "## 2. Germany"
   ]
  },
  {
   "cell_type": "code",
   "execution_count": 5,
   "metadata": {},
   "outputs": [
    {
     "data": {
      "text/html": [
       "<div>\n",
       "<style scoped>\n",
       "    .dataframe tbody tr th:only-of-type {\n",
       "        vertical-align: middle;\n",
       "    }\n",
       "\n",
       "    .dataframe tbody tr th {\n",
       "        vertical-align: top;\n",
       "    }\n",
       "\n",
       "    .dataframe thead th {\n",
       "        text-align: right;\n",
       "    }\n",
       "</style>\n",
       "<table border=\"1\" class=\"dataframe\">\n",
       "  <thead>\n",
       "    <tr style=\"text-align: right;\">\n",
       "      <th></th>\n",
       "      <th>Year</th>\n",
       "      <th>PG</th>\n",
       "      <th>ID</th>\n",
       "      <th>ID2</th>\n",
       "      <th>CAT_ORG</th>\n",
       "      <th>FULL</th>\n",
       "      <th>Position</th>\n",
       "      <th>Nation</th>\n",
       "      <th>Name</th>\n",
       "      <th>NATIONALITY</th>\n",
       "      <th>...</th>\n",
       "      <th>ST Name 2</th>\n",
       "      <th>ST Name 3</th>\n",
       "      <th>ST Name 4</th>\n",
       "      <th>ST Name 5</th>\n",
       "      <th>ST Name 6</th>\n",
       "      <th>First</th>\n",
       "      <th>Last</th>\n",
       "      <th>country1_api</th>\n",
       "      <th>country2_api</th>\n",
       "      <th>origin_api</th>\n",
       "    </tr>\n",
       "  </thead>\n",
       "  <tbody>\n",
       "    <tr>\n",
       "      <th>8</th>\n",
       "      <td>1913_TrowBusMan</td>\n",
       "      <td>908</td>\n",
       "      <td>1138</td>\n",
       "      <td>1913_TrowBusMan_1138</td>\n",
       "      <td>Restaurants</td>\n",
       "      <td>Fuchs Meyer, 219 W30th</td>\n",
       "      <td>13</td>\n",
       "      <td>NaN</td>\n",
       "      <td>Fuchs Meyer</td>\n",
       "      <td>Austrian</td>\n",
       "      <td>...</td>\n",
       "      <td>W30th</td>\n",
       "      <td>NaN</td>\n",
       "      <td>NaN</td>\n",
       "      <td>NaN</td>\n",
       "      <td>NaN</td>\n",
       "      <td>Meyer</td>\n",
       "      <td>Fuchs</td>\n",
       "      <td>Germany</td>\n",
       "      <td>Switzerland</td>\n",
       "      <td>NaN</td>\n",
       "    </tr>\n",
       "  </tbody>\n",
       "</table>\n",
       "<p>1 rows × 28 columns</p>\n",
       "</div>"
      ],
      "text/plain": [
       "              Year   PG    ID                   ID2      CAT_ORG  \\\n",
       "8  1913_TrowBusMan  908  1138  1913_TrowBusMan_1138  Restaurants   \n",
       "\n",
       "                     FULL  Position Nation         Name NATIONALITY  ...  \\\n",
       "8  Fuchs Meyer, 219 W30th        13    NaN  Fuchs Meyer    Austrian  ...   \n",
       "\n",
       "  ST Name 2 ST Name 3 ST Name 4 ST Name 5 ST Name 6  First   Last  \\\n",
       "8     W30th       NaN       NaN       NaN       NaN  Meyer  Fuchs   \n",
       "\n",
       "  country1_api country2_api origin_api  \n",
       "8      Germany  Switzerland        NaN  \n",
       "\n",
       "[1 rows x 28 columns]"
      ]
     },
     "execution_count": 5,
     "metadata": {},
     "output_type": "execute_result"
    }
   ],
   "source": [
    "GermanAPI = df[df['country1_api']=='Germany']\n",
    "GermanAPI.head(1)"
   ]
  },
  {
   "cell_type": "code",
   "execution_count": 6,
   "metadata": {},
   "outputs": [
    {
     "data": {
      "text/plain": [
       "German      324\n",
       "Jewish      171\n",
       "British      36\n",
       "Swiss        11\n",
       "Polish       10\n",
       "Dutch         7\n",
       "Greek         6\n",
       "Unknown       4\n",
       "Irish         4\n",
       "Austrian      4\n",
       "Name: NATIONALITY final, dtype: int64"
      ]
     },
     "execution_count": 6,
     "metadata": {},
     "output_type": "execute_result"
    }
   ],
   "source": [
    "GermanAPI['NATIONALITY final'].value_counts()[:10]"
   ]
  },
  {
   "cell_type": "code",
   "execution_count": 7,
   "metadata": {},
   "outputs": [
    {
     "data": {
      "image/png": "[encoded data removed]",
      "text/plain": [
       "<Figure size 432x288 with 1 Axes>"
      ]
     },
     "metadata": {},
     "output_type": "display_data"
    }
   ],
   "source": [
    "text = '*German* API in Ancestry Results'\n",
    "\n",
    "labels = ['Jewish: 171', 'British: 36', 'Swiss: 11', 'Polish: 10', 'Dutch: 7', 'Greek: 6', 'Austrian: 4', 'Irish: 4']\n",
    "sizes = [171, 36, 11, 10, 7, 6, 4, 4]\n",
    "explode = [0.1, 0, 0, 0, 0, 0, 0, 0]\n",
    "colors = ['#45ada8', '#d9acce', '#a75a94', '#970e3c', '#ec83aa', '#ef335a', '#f765a3', '#f9d1d1']\n",
    "\n",
    "fig, ax = plt.subplots()\n",
    "ax.pie(sizes, explode=explode, labels=labels, colors=colors, \n",
    "       autopct='%1.1f%%', startangle=50)\n",
    "ax.axis('equal')\n",
    "\n",
    "plt.title(text)\n",
    "plt.savefig(f'plots/{text}.png')"
   ]
  },
  {
   "cell_type": "code",
   "execution_count": null,
   "metadata": {},
   "outputs": [],
   "source": []
  },
  {
   "cell_type": "markdown",
   "metadata": {},
   "source": [
    "## 3. United Kingdom"
   ]
  },
  {
   "cell_type": "code",
   "execution_count": 14,
   "metadata": {},
   "outputs": [
    {
     "data": {
      "text/html": [
       "<div>\n",
       "<style scoped>\n",
       "    .dataframe tbody tr th:only-of-type {\n",
       "        vertical-align: middle;\n",
       "    }\n",
       "\n",
       "    .dataframe tbody tr th {\n",
       "        vertical-align: top;\n",
       "    }\n",
       "\n",
       "    .dataframe thead th {\n",
       "        text-align: right;\n",
       "    }\n",
       "</style>\n",
       "<table border=\"1\" class=\"dataframe\">\n",
       "  <thead>\n",
       "    <tr style=\"text-align: right;\">\n",
       "      <th></th>\n",
       "      <th>Year</th>\n",
       "      <th>PG</th>\n",
       "      <th>ID</th>\n",
       "      <th>ID2</th>\n",
       "      <th>CAT_ORG</th>\n",
       "      <th>FULL</th>\n",
       "      <th>Position</th>\n",
       "      <th>Nation</th>\n",
       "      <th>Name</th>\n",
       "      <th>NATIONALITY</th>\n",
       "      <th>...</th>\n",
       "      <th>ST Name 2</th>\n",
       "      <th>ST Name 3</th>\n",
       "      <th>ST Name 4</th>\n",
       "      <th>ST Name 5</th>\n",
       "      <th>ST Name 6</th>\n",
       "      <th>First</th>\n",
       "      <th>Last</th>\n",
       "      <th>country1_api</th>\n",
       "      <th>country2_api</th>\n",
       "      <th>origin_api</th>\n",
       "    </tr>\n",
       "  </thead>\n",
       "  <tbody>\n",
       "    <tr>\n",
       "      <th>24</th>\n",
       "      <td>1913_TrowBusMan</td>\n",
       "      <td>912</td>\n",
       "      <td>2229</td>\n",
       "      <td>1913_TrowBusMan_2229</td>\n",
       "      <td>Restaurants</td>\n",
       "      <td>Merchants Vienna Cafe &amp;. Restaurant, 8 W17th</td>\n",
       "      <td>37</td>\n",
       "      <td>NaN</td>\n",
       "      <td>Merchants Vienna Cafe &amp; Restaurant</td>\n",
       "      <td>Austrian</td>\n",
       "      <td>...</td>\n",
       "      <td>W17th</td>\n",
       "      <td>NaN</td>\n",
       "      <td>NaN</td>\n",
       "      <td>NaN</td>\n",
       "      <td>NaN</td>\n",
       "      <td>Vienna</td>\n",
       "      <td>Merchants</td>\n",
       "      <td>United Kingdom</td>\n",
       "      <td>Belgium</td>\n",
       "      <td>NaN</td>\n",
       "    </tr>\n",
       "  </tbody>\n",
       "</table>\n",
       "<p>1 rows × 28 columns</p>\n",
       "</div>"
      ],
      "text/plain": [
       "               Year   PG    ID                   ID2      CAT_ORG  \\\n",
       "24  1913_TrowBusMan  912  2229  1913_TrowBusMan_2229  Restaurants   \n",
       "\n",
       "                                            FULL  Position Nation  \\\n",
       "24  Merchants Vienna Cafe &. Restaurant, 8 W17th        37    NaN   \n",
       "\n",
       "                                  Name NATIONALITY  ... ST Name 2 ST Name 3  \\\n",
       "24  Merchants Vienna Cafe & Restaurant    Austrian  ...     W17th       NaN   \n",
       "\n",
       "   ST Name 4 ST Name 5 ST Name 6   First       Last    country1_api  \\\n",
       "24       NaN       NaN       NaN  Vienna  Merchants  United Kingdom   \n",
       "\n",
       "   country2_api origin_api  \n",
       "24      Belgium        NaN  \n",
       "\n",
       "[1 rows x 28 columns]"
      ]
     },
     "execution_count": 14,
     "metadata": {},
     "output_type": "execute_result"
    }
   ],
   "source": [
    "UkAPI = df[df['country1_api']=='United Kingdom']\n",
    "UkAPI.head(1)"
   ]
  },
  {
   "cell_type": "code",
   "execution_count": 15,
   "metadata": {},
   "outputs": [
    {
     "data": {
      "text/plain": [
       "British     186\n",
       "Unknown      96\n",
       "German       58\n",
       "Jewish       48\n",
       "Scottish     10\n",
       "Greek         8\n",
       "Italian       4\n",
       "Austrian      2\n",
       "Chinese       2\n",
       "Russian       2\n",
       "Name: NATIONALITY final, dtype: int64"
      ]
     },
     "execution_count": 15,
     "metadata": {},
     "output_type": "execute_result"
    }
   ],
   "source": [
    "UkAPI['NATIONALITY final'].value_counts()[:10]"
   ]
  },
  {
   "cell_type": "code",
   "execution_count": 18,
   "metadata": {},
   "outputs": [
    {
     "data": {
      "image/png": "[encoded data removed]",
      "text/plain": [
       "<Figure size 432x288 with 1 Axes>"
      ]
     },
     "metadata": {},
     "output_type": "display_data"
    }
   ],
   "source": [
    "text = '*British* API in Ancestry Results'\n",
    "\n",
    "labels = ['British: 186', 'Unknown: 96', 'German: 58', 'Jewish: 48', 'Scottish: 10']\n",
    "sizes = [186, 96, 58, 48, 10]\n",
    "explode = [0.1, 0, 0, 0, 0]\n",
    "colors = ['#45ada8', '#d9acce', '#a75a94', '#970e3c', '#ec83aa']\n",
    "\n",
    "fig, ax = plt.subplots()\n",
    "ax.pie(sizes, explode=explode, labels=labels, colors=colors, \n",
    "       autopct='%1.1f%%', startangle=60)\n",
    "ax.axis('equal')\n",
    "\n",
    "plt.title(text)\n",
    "plt.savefig(f'plots/{text}.png')"
   ]
  },
  {
   "cell_type": "code",
   "execution_count": null,
   "metadata": {},
   "outputs": [],
   "source": []
  },
  {
   "cell_type": "markdown",
   "metadata": {},
   "source": [
    "## 4. France"
   ]
  },
  {
   "cell_type": "code",
   "execution_count": 19,
   "metadata": {},
   "outputs": [
    {
     "data": {
      "text/html": [
       "<div>\n",
       "<style scoped>\n",
       "    .dataframe tbody tr th:only-of-type {\n",
       "        vertical-align: middle;\n",
       "    }\n",
       "\n",
       "    .dataframe tbody tr th {\n",
       "        vertical-align: top;\n",
       "    }\n",
       "\n",
       "    .dataframe thead th {\n",
       "        text-align: right;\n",
       "    }\n",
       "</style>\n",
       "<table border=\"1\" class=\"dataframe\">\n",
       "  <thead>\n",
       "    <tr style=\"text-align: right;\">\n",
       "      <th></th>\n",
       "      <th>Year</th>\n",
       "      <th>PG</th>\n",
       "      <th>ID</th>\n",
       "      <th>ID2</th>\n",
       "      <th>CAT_ORG</th>\n",
       "      <th>FULL</th>\n",
       "      <th>Position</th>\n",
       "      <th>Nation</th>\n",
       "      <th>Name</th>\n",
       "      <th>NATIONALITY</th>\n",
       "      <th>...</th>\n",
       "      <th>ST Name 2</th>\n",
       "      <th>ST Name 3</th>\n",
       "      <th>ST Name 4</th>\n",
       "      <th>ST Name 5</th>\n",
       "      <th>ST Name 6</th>\n",
       "      <th>First</th>\n",
       "      <th>Last</th>\n",
       "      <th>country1_api</th>\n",
       "      <th>country2_api</th>\n",
       "      <th>origin_api</th>\n",
       "    </tr>\n",
       "  </thead>\n",
       "  <tbody>\n",
       "    <tr>\n",
       "      <th>17</th>\n",
       "      <td>1913_TrowBusMan</td>\n",
       "      <td>911</td>\n",
       "      <td>1909</td>\n",
       "      <td>1913_TrowBusMan_1909</td>\n",
       "      <td>Restaurants</td>\n",
       "      <td>Landau &amp; Donnenfeld, 217 E Houston</td>\n",
       "      <td>21</td>\n",
       "      <td>NaN</td>\n",
       "      <td>Landau &amp; Donnenfeld</td>\n",
       "      <td>Austrian</td>\n",
       "      <td>...</td>\n",
       "      <td>E</td>\n",
       "      <td>Houston</td>\n",
       "      <td>NaN</td>\n",
       "      <td>NaN</td>\n",
       "      <td>NaN</td>\n",
       "      <td>&amp;</td>\n",
       "      <td>Landau</td>\n",
       "      <td>France</td>\n",
       "      <td>Germany</td>\n",
       "      <td>NaN</td>\n",
       "    </tr>\n",
       "  </tbody>\n",
       "</table>\n",
       "<p>1 rows × 28 columns</p>\n",
       "</div>"
      ],
      "text/plain": [
       "               Year   PG    ID                   ID2      CAT_ORG  \\\n",
       "17  1913_TrowBusMan  911  1909  1913_TrowBusMan_1909  Restaurants   \n",
       "\n",
       "                                  FULL  Position Nation                 Name  \\\n",
       "17  Landau & Donnenfeld, 217 E Houston        21    NaN  Landau & Donnenfeld   \n",
       "\n",
       "   NATIONALITY  ... ST Name 2 ST Name 3 ST Name 4 ST Name 5 ST Name 6 First  \\\n",
       "17    Austrian  ...         E   Houston       NaN       NaN       NaN     &   \n",
       "\n",
       "      Last country1_api country2_api origin_api  \n",
       "17  Landau       France      Germany        NaN  \n",
       "\n",
       "[1 rows x 28 columns]"
      ]
     },
     "execution_count": 19,
     "metadata": {},
     "output_type": "execute_result"
    }
   ],
   "source": [
    "FranceAPI = df[df['country1_api']=='France']\n",
    "FranceAPI.head(1)"
   ]
  },
  {
   "cell_type": "code",
   "execution_count": 20,
   "metadata": {},
   "outputs": [
    {
     "data": {
      "text/plain": [
       "German     46\n",
       "Unknown    24\n",
       "British    24\n",
       "French     24\n",
       "Italian    22\n",
       "Greek      21\n",
       "Jewish     16\n",
       "Polish      4\n",
       "Spanish     3\n",
       "Chinese     3\n",
       "Name: NATIONALITY final, dtype: int64"
      ]
     },
     "execution_count": 20,
     "metadata": {},
     "output_type": "execute_result"
    }
   ],
   "source": [
    "FranceAPI['NATIONALITY final'].value_counts()[:10]"
   ]
  },
  {
   "cell_type": "code",
   "execution_count": 23,
   "metadata": {},
   "outputs": [
    {
     "data": {
      "image/png": "[encoded data removed]",
      "text/plain": [
       "<Figure size 432x288 with 1 Axes>"
      ]
     },
     "metadata": {},
     "output_type": "display_data"
    }
   ],
   "source": [
    "text = '*French* API in Ancestry Results'\n",
    "\n",
    "labels = ['German: 46', 'Unknown: 24', 'British: 24', 'French: 24', 'Italian: 22', 'Greek: 22', 'Jewish: 16']\n",
    "sizes = [46, 24, 24, 24, 22, 22, 16]\n",
    "explode = [0, 0, 0, 0.1, 0, 0, 0]\n",
    "colors = ['#45ada8', '#d9acce', '#a75a94', '#970e3c', '#ec83aa', '#ef335a', '#f765a3']\n",
    "\n",
    "fig, ax = plt.subplots()\n",
    "ax.pie(sizes, explode=explode, labels=labels, colors=colors, \n",
    "       autopct='%1.1f%%', startangle=70)\n",
    "ax.axis('equal')\n",
    "\n",
    "plt.title(text)\n",
    "plt.savefig(f'plots/{text}.png')"
   ]
  },
  {
   "cell_type": "code",
   "execution_count": null,
   "metadata": {},
   "outputs": [],
   "source": []
  },
  {
   "cell_type": "markdown",
   "metadata": {},
   "source": [
    "## 5. Israel"
   ]
  },
  {
   "cell_type": "code",
   "execution_count": 24,
   "metadata": {},
   "outputs": [
    {
     "data": {
      "text/html": [
       "<div>\n",
       "<style scoped>\n",
       "    .dataframe tbody tr th:only-of-type {\n",
       "        vertical-align: middle;\n",
       "    }\n",
       "\n",
       "    .dataframe tbody tr th {\n",
       "        vertical-align: top;\n",
       "    }\n",
       "\n",
       "    .dataframe thead th {\n",
       "        text-align: right;\n",
       "    }\n",
       "</style>\n",
       "<table border=\"1\" class=\"dataframe\">\n",
       "  <thead>\n",
       "    <tr style=\"text-align: right;\">\n",
       "      <th></th>\n",
       "      <th>Year</th>\n",
       "      <th>PG</th>\n",
       "      <th>ID</th>\n",
       "      <th>ID2</th>\n",
       "      <th>CAT_ORG</th>\n",
       "      <th>FULL</th>\n",
       "      <th>Position</th>\n",
       "      <th>Nation</th>\n",
       "      <th>Name</th>\n",
       "      <th>NATIONALITY</th>\n",
       "      <th>...</th>\n",
       "      <th>ST Name 2</th>\n",
       "      <th>ST Name 3</th>\n",
       "      <th>ST Name 4</th>\n",
       "      <th>ST Name 5</th>\n",
       "      <th>ST Name 6</th>\n",
       "      <th>First</th>\n",
       "      <th>Last</th>\n",
       "      <th>country1_api</th>\n",
       "      <th>country2_api</th>\n",
       "      <th>origin_api</th>\n",
       "    </tr>\n",
       "  </thead>\n",
       "  <tbody>\n",
       "    <tr>\n",
       "      <th>2</th>\n",
       "      <td>1913_TrowBusMan</td>\n",
       "      <td>908</td>\n",
       "      <td>1124</td>\n",
       "      <td>1913_TrowBusMan_1124</td>\n",
       "      <td>Restaurants</td>\n",
       "      <td>Frese Ida L, 2 W33d</td>\n",
       "      <td>13</td>\n",
       "      <td>NaN</td>\n",
       "      <td>Frese Ida L</td>\n",
       "      <td>American, German</td>\n",
       "      <td>...</td>\n",
       "      <td>W33d</td>\n",
       "      <td>NaN</td>\n",
       "      <td>NaN</td>\n",
       "      <td>NaN</td>\n",
       "      <td>NaN</td>\n",
       "      <td>Ida</td>\n",
       "      <td>Frese</td>\n",
       "      <td>Israel</td>\n",
       "      <td>Italy</td>\n",
       "      <td>NaN</td>\n",
       "    </tr>\n",
       "  </tbody>\n",
       "</table>\n",
       "<p>1 rows × 28 columns</p>\n",
       "</div>"
      ],
      "text/plain": [
       "              Year   PG    ID                   ID2      CAT_ORG  \\\n",
       "2  1913_TrowBusMan  908  1124  1913_TrowBusMan_1124  Restaurants   \n",
       "\n",
       "                  FULL  Position Nation         Name       NATIONALITY  ...  \\\n",
       "2  Frese Ida L, 2 W33d        13    NaN  Frese Ida L  American, German  ...   \n",
       "\n",
       "  ST Name 2 ST Name 3 ST Name 4 ST Name 5 ST Name 6 First   Last country1_api  \\\n",
       "2      W33d       NaN       NaN       NaN       NaN   Ida  Frese       Israel   \n",
       "\n",
       "  country2_api origin_api  \n",
       "2        Italy        NaN  \n",
       "\n",
       "[1 rows x 28 columns]"
      ]
     },
     "execution_count": 24,
     "metadata": {},
     "output_type": "execute_result"
    }
   ],
   "source": [
    "IsraelAPI = df[df['country1_api']=='Israel']\n",
    "IsraelAPI.head(1)"
   ]
  },
  {
   "cell_type": "code",
   "execution_count": 25,
   "metadata": {},
   "outputs": [
    {
     "data": {
      "text/plain": [
       "Jewish      201\n",
       "German       60\n",
       "Polish       23\n",
       "Russian       6\n",
       "French        3\n",
       "British       3\n",
       "Unknown       3\n",
       "Romanian      2\n",
       "Austrian      2\n",
       "Greek         2\n",
       "Name: NATIONALITY final, dtype: int64"
      ]
     },
     "execution_count": 25,
     "metadata": {},
     "output_type": "execute_result"
    }
   ],
   "source": [
    "IsraelAPI['NATIONALITY final'].value_counts()[:10]"
   ]
  },
  {
   "cell_type": "code",
   "execution_count": 30,
   "metadata": {},
   "outputs": [
    {
     "data": {
      "image/png": "[encoded data removed]",
      "text/plain": [
       "<Figure size 432x288 with 1 Axes>"
      ]
     },
     "metadata": {},
     "output_type": "display_data"
    }
   ],
   "source": [
    "text = '*Jewish* API in Ancestry Results'\n",
    "\n",
    "labels = ['Jewish: 201', 'German: 60', 'Polish: 23', 'Russian: 6', 'French: 3', 'British: 3']\n",
    "sizes = [201, 60, 23, 6, 3, 3]\n",
    "explode = [0.1, 0, 0, 0, 0, 0]\n",
    "colors = ['#45ada8', '#d9acce', '#a75a94', '#970e3c', '#ec83aa', '#ef335a']\n",
    "\n",
    "fig, ax = plt.subplots()\n",
    "ax.pie(sizes, explode=explode, labels=labels, colors=colors, \n",
    "       autopct='%1.1f%%', startangle=50)\n",
    "ax.axis('equal')\n",
    "\n",
    "plt.title(text)\n",
    "plt.savefig(f'plots/{text}.png')"
   ]
  },
  {
   "cell_type": "code",
   "execution_count": null,
   "metadata": {},
   "outputs": [],
   "source": []
  },
  {
   "cell_type": "markdown",
   "metadata": {},
   "source": [
    "## 6. Italy"
   ]
  },
  {
   "cell_type": "code",
   "execution_count": 31,
   "metadata": {},
   "outputs": [
    {
     "data": {
      "text/html": [
       "<div>\n",
       "<style scoped>\n",
       "    .dataframe tbody tr th:only-of-type {\n",
       "        vertical-align: middle;\n",
       "    }\n",
       "\n",
       "    .dataframe tbody tr th {\n",
       "        vertical-align: top;\n",
       "    }\n",
       "\n",
       "    .dataframe thead th {\n",
       "        text-align: right;\n",
       "    }\n",
       "</style>\n",
       "<table border=\"1\" class=\"dataframe\">\n",
       "  <thead>\n",
       "    <tr style=\"text-align: right;\">\n",
       "      <th></th>\n",
       "      <th>Year</th>\n",
       "      <th>PG</th>\n",
       "      <th>ID</th>\n",
       "      <th>ID2</th>\n",
       "      <th>CAT_ORG</th>\n",
       "      <th>FULL</th>\n",
       "      <th>Position</th>\n",
       "      <th>Nation</th>\n",
       "      <th>Name</th>\n",
       "      <th>NATIONALITY</th>\n",
       "      <th>...</th>\n",
       "      <th>ST Name 2</th>\n",
       "      <th>ST Name 3</th>\n",
       "      <th>ST Name 4</th>\n",
       "      <th>ST Name 5</th>\n",
       "      <th>ST Name 6</th>\n",
       "      <th>First</th>\n",
       "      <th>Last</th>\n",
       "      <th>country1_api</th>\n",
       "      <th>country2_api</th>\n",
       "      <th>origin_api</th>\n",
       "    </tr>\n",
       "  </thead>\n",
       "  <tbody>\n",
       "    <tr>\n",
       "      <th>27</th>\n",
       "      <td>1913_TrowBusMan</td>\n",
       "      <td>916</td>\n",
       "      <td>3460</td>\n",
       "      <td>1913_TrowBusMan_3460</td>\n",
       "      <td>Restaurants</td>\n",
       "      <td>Vienna Cafe &amp; Restaurant, 15 E33d</td>\n",
       "      <td>26</td>\n",
       "      <td>NaN</td>\n",
       "      <td>Vienna Cafe &amp; Restaurant</td>\n",
       "      <td>Austrian</td>\n",
       "      <td>...</td>\n",
       "      <td>E33d</td>\n",
       "      <td>NaN</td>\n",
       "      <td>NaN</td>\n",
       "      <td>NaN</td>\n",
       "      <td>NaN</td>\n",
       "      <td>Cafe</td>\n",
       "      <td>Vienna</td>\n",
       "      <td>Italy</td>\n",
       "      <td>Spain</td>\n",
       "      <td>NaN</td>\n",
       "    </tr>\n",
       "  </tbody>\n",
       "</table>\n",
       "<p>1 rows × 28 columns</p>\n",
       "</div>"
      ],
      "text/plain": [
       "               Year   PG    ID                   ID2      CAT_ORG  \\\n",
       "27  1913_TrowBusMan  916  3460  1913_TrowBusMan_3460  Restaurants   \n",
       "\n",
       "                                 FULL  Position Nation  \\\n",
       "27  Vienna Cafe & Restaurant, 15 E33d        26    NaN   \n",
       "\n",
       "                        Name NATIONALITY  ... ST Name 2 ST Name 3 ST Name 4  \\\n",
       "27  Vienna Cafe & Restaurant    Austrian  ...      E33d       NaN       NaN   \n",
       "\n",
       "   ST Name 5 ST Name 6 First    Last country1_api country2_api origin_api  \n",
       "27       NaN       NaN  Cafe  Vienna        Italy        Spain        NaN  \n",
       "\n",
       "[1 rows x 28 columns]"
      ]
     },
     "execution_count": 31,
     "metadata": {},
     "output_type": "execute_result"
    }
   ],
   "source": [
    "ItalyAPI = df[df['country1_api']=='Italy']\n",
    "ItalyAPI.head(1)"
   ]
  },
  {
   "cell_type": "code",
   "execution_count": 32,
   "metadata": {},
   "outputs": [
    {
     "data": {
      "text/plain": [
       "Italian     247\n",
       "French       10\n",
       "Spanish      10\n",
       "British       7\n",
       "Chinese       5\n",
       "Greek         4\n",
       "German        3\n",
       "Unknown       3\n",
       "Austrian      2\n",
       "Jewish        1\n",
       "Name: NATIONALITY final, dtype: int64"
      ]
     },
     "execution_count": 32,
     "metadata": {},
     "output_type": "execute_result"
    }
   ],
   "source": [
    "ItalyAPI['NATIONALITY final'].value_counts()[:10]"
   ]
  },
  {
   "cell_type": "code",
   "execution_count": 35,
   "metadata": {},
   "outputs": [
    {
     "data": {
      "image/png": "[encoded data removed]",
      "text/plain": [
       "<Figure size 432x288 with 1 Axes>"
      ]
     },
     "metadata": {},
     "output_type": "display_data"
    }
   ],
   "source": [
    "text = '*Italian* API in Ancestry Results'\n",
    "\n",
    "labels = ['Italian: 247', 'French: 10', 'Spanish: 10', 'British: 7']\n",
    "sizes = [247, 10, 10, 7]\n",
    "explode = [0.1, 0, 0, 0]\n",
    "colors = ['#45ada8', '#d9acce', '#a75a94', '#970e3c']\n",
    "\n",
    "fig, ax = plt.subplots()\n",
    "ax.pie(sizes, explode=explode, labels=labels, colors=colors, \n",
    "       autopct='%1.1f%%', startangle=30)\n",
    "ax.axis('equal')\n",
    "\n",
    "plt.title(text)\n",
    "plt.savefig(f'plots/{text}.png')"
   ]
  },
  {
   "cell_type": "code",
   "execution_count": null,
   "metadata": {},
   "outputs": [],
   "source": []
  },
  {
   "cell_type": "markdown",
   "metadata": {},
   "source": [
    "## 7. Switzerland"
   ]
  },
  {
   "cell_type": "code",
   "execution_count": 37,
   "metadata": {},
   "outputs": [
    {
     "data": {
      "text/html": [
       "<div>\n",
       "<style scoped>\n",
       "    .dataframe tbody tr th:only-of-type {\n",
       "        vertical-align: middle;\n",
       "    }\n",
       "\n",
       "    .dataframe tbody tr th {\n",
       "        vertical-align: top;\n",
       "    }\n",
       "\n",
       "    .dataframe thead th {\n",
       "        text-align: right;\n",
       "    }\n",
       "</style>\n",
       "<table border=\"1\" class=\"dataframe\">\n",
       "  <thead>\n",
       "    <tr style=\"text-align: right;\">\n",
       "      <th></th>\n",
       "      <th>Year</th>\n",
       "      <th>PG</th>\n",
       "      <th>ID</th>\n",
       "      <th>ID2</th>\n",
       "      <th>CAT_ORG</th>\n",
       "      <th>FULL</th>\n",
       "      <th>Position</th>\n",
       "      <th>Nation</th>\n",
       "      <th>Name</th>\n",
       "      <th>NATIONALITY</th>\n",
       "      <th>...</th>\n",
       "      <th>ST Name 2</th>\n",
       "      <th>ST Name 3</th>\n",
       "      <th>ST Name 4</th>\n",
       "      <th>ST Name 5</th>\n",
       "      <th>ST Name 6</th>\n",
       "      <th>First</th>\n",
       "      <th>Last</th>\n",
       "      <th>country1_api</th>\n",
       "      <th>country2_api</th>\n",
       "      <th>origin_api</th>\n",
       "    </tr>\n",
       "  </thead>\n",
       "  <tbody>\n",
       "    <tr>\n",
       "      <th>7</th>\n",
       "      <td>1913_TrowBusMan</td>\n",
       "      <td>908</td>\n",
       "      <td>1126</td>\n",
       "      <td>1913_TrowBusMan_1126</td>\n",
       "      <td>Restaurants</td>\n",
       "      <td>Freysinger Charles, 13 N Moore</td>\n",
       "      <td>20</td>\n",
       "      <td>NaN</td>\n",
       "      <td>Freysinger Charles</td>\n",
       "      <td>Austrian</td>\n",
       "      <td>...</td>\n",
       "      <td>N</td>\n",
       "      <td>Moore</td>\n",
       "      <td>NaN</td>\n",
       "      <td>NaN</td>\n",
       "      <td>NaN</td>\n",
       "      <td>Charles</td>\n",
       "      <td>Freysinger</td>\n",
       "      <td>Switzerland</td>\n",
       "      <td>Ireland</td>\n",
       "      <td>NaN</td>\n",
       "    </tr>\n",
       "  </tbody>\n",
       "</table>\n",
       "<p>1 rows × 28 columns</p>\n",
       "</div>"
      ],
      "text/plain": [
       "              Year   PG    ID                   ID2      CAT_ORG  \\\n",
       "7  1913_TrowBusMan  908  1126  1913_TrowBusMan_1126  Restaurants   \n",
       "\n",
       "                             FULL  Position Nation                Name  \\\n",
       "7  Freysinger Charles, 13 N Moore        20    NaN  Freysinger Charles   \n",
       "\n",
       "  NATIONALITY  ... ST Name 2 ST Name 3 ST Name 4 ST Name 5 ST Name 6    First  \\\n",
       "7    Austrian  ...         N     Moore       NaN       NaN       NaN  Charles   \n",
       "\n",
       "         Last country1_api country2_api origin_api  \n",
       "7  Freysinger  Switzerland      Ireland        NaN  \n",
       "\n",
       "[1 rows x 28 columns]"
      ]
     },
     "execution_count": 37,
     "metadata": {},
     "output_type": "execute_result"
    }
   ],
   "source": [
    "SwissAPI = df[df['country1_api']=='Switzerland']\n",
    "SwissAPI.head(1)"
   ]
  },
  {
   "cell_type": "code",
   "execution_count": 38,
   "metadata": {},
   "outputs": [
    {
     "data": {
      "text/plain": [
       "German       93\n",
       "Jewish       22\n",
       "British       8\n",
       "Dutch         4\n",
       "Unknown       4\n",
       "Swiss         3\n",
       "Austrian      3\n",
       "French        1\n",
       "Hungarian     1\n",
       "Scottish      1\n",
       "Name: NATIONALITY final, dtype: int64"
      ]
     },
     "execution_count": 38,
     "metadata": {},
     "output_type": "execute_result"
    }
   ],
   "source": [
    "SwissAPI['NATIONALITY final'].value_counts()[:10]"
   ]
  },
  {
   "cell_type": "code",
   "execution_count": 39,
   "metadata": {},
   "outputs": [
    {
     "data": {
      "image/png": "[encoded data removed]",
      "text/plain": [
       "<Figure size 432x288 with 1 Axes>"
      ]
     },
     "metadata": {},
     "output_type": "display_data"
    }
   ],
   "source": [
    "text = '*Swiss* API in Ancestry Results'\n",
    "\n",
    "labels = ['German: 93', 'Jewish: 22', 'British: 8', 'Dutch: 4', 'Swiss: 3']\n",
    "sizes = [93, 22, 8, 4, 3]\n",
    "explode = [0, 0, 0, 0, 0.1]\n",
    "colors = ['#45ada8', '#d9acce', '#a75a94', '#970e3c', '#ec83aa']\n",
    "\n",
    "fig, ax = plt.subplots()\n",
    "ax.pie(sizes, explode=explode, labels=labels, colors=colors, \n",
    "       autopct='%1.1f%%', startangle=50)\n",
    "ax.axis('equal')\n",
    "\n",
    "plt.title(text)\n",
    "plt.savefig(f'plots/{text}.png')"
   ]
  },
  {
   "cell_type": "code",
   "execution_count": null,
   "metadata": {},
   "outputs": [],
   "source": []
  },
  {
   "cell_type": "markdown",
   "metadata": {},
   "source": [
    "## 8. Spain"
   ]
  },
  {
   "cell_type": "code",
   "execution_count": 40,
   "metadata": {},
   "outputs": [
    {
     "data": {
      "text/html": [
       "<div>\n",
       "<style scoped>\n",
       "    .dataframe tbody tr th:only-of-type {\n",
       "        vertical-align: middle;\n",
       "    }\n",
       "\n",
       "    .dataframe tbody tr th {\n",
       "        vertical-align: top;\n",
       "    }\n",
       "\n",
       "    .dataframe thead th {\n",
       "        text-align: right;\n",
       "    }\n",
       "</style>\n",
       "<table border=\"1\" class=\"dataframe\">\n",
       "  <thead>\n",
       "    <tr style=\"text-align: right;\">\n",
       "      <th></th>\n",
       "      <th>Year</th>\n",
       "      <th>PG</th>\n",
       "      <th>ID</th>\n",
       "      <th>ID2</th>\n",
       "      <th>CAT_ORG</th>\n",
       "      <th>FULL</th>\n",
       "      <th>Position</th>\n",
       "      <th>Nation</th>\n",
       "      <th>Name</th>\n",
       "      <th>NATIONALITY</th>\n",
       "      <th>...</th>\n",
       "      <th>ST Name 2</th>\n",
       "      <th>ST Name 3</th>\n",
       "      <th>ST Name 4</th>\n",
       "      <th>ST Name 5</th>\n",
       "      <th>ST Name 6</th>\n",
       "      <th>First</th>\n",
       "      <th>Last</th>\n",
       "      <th>country1_api</th>\n",
       "      <th>country2_api</th>\n",
       "      <th>origin_api</th>\n",
       "    </tr>\n",
       "  </thead>\n",
       "  <tbody>\n",
       "    <tr>\n",
       "      <th>37</th>\n",
       "      <td>1913_TrowBusMan</td>\n",
       "      <td>904</td>\n",
       "      <td>11</td>\n",
       "      <td>1913_TrowBusMan_11</td>\n",
       "      <td>Restaurants</td>\n",
       "      <td>Abingdon Hotel. 7 Abingdon sq. Tel Chelsea 2300</td>\n",
       "      <td>16</td>\n",
       "      <td>NaN</td>\n",
       "      <td>Abingdon Hotel</td>\n",
       "      <td>British</td>\n",
       "      <td>...</td>\n",
       "      <td>Abingdon</td>\n",
       "      <td>sq</td>\n",
       "      <td>NaN</td>\n",
       "      <td>NaN</td>\n",
       "      <td>NaN</td>\n",
       "      <td>Hotel</td>\n",
       "      <td>Abingdon</td>\n",
       "      <td>Spain</td>\n",
       "      <td>Benin</td>\n",
       "      <td>NaN</td>\n",
       "    </tr>\n",
       "  </tbody>\n",
       "</table>\n",
       "<p>1 rows × 28 columns</p>\n",
       "</div>"
      ],
      "text/plain": [
       "               Year   PG  ID                 ID2      CAT_ORG  \\\n",
       "37  1913_TrowBusMan  904  11  1913_TrowBusMan_11  Restaurants   \n",
       "\n",
       "                                               FULL  Position Nation  \\\n",
       "37  Abingdon Hotel. 7 Abingdon sq. Tel Chelsea 2300        16    NaN   \n",
       "\n",
       "              Name NATIONALITY  ... ST Name 2 ST Name 3 ST Name 4 ST Name 5  \\\n",
       "37  Abingdon Hotel     British  ...  Abingdon        sq       NaN       NaN   \n",
       "\n",
       "   ST Name 6  First      Last country1_api country2_api origin_api  \n",
       "37       NaN  Hotel  Abingdon        Spain        Benin        NaN  \n",
       "\n",
       "[1 rows x 28 columns]"
      ]
     },
     "execution_count": 40,
     "metadata": {},
     "output_type": "execute_result"
    }
   ],
   "source": [
    "SpainAPI = df[df['country1_api']=='Spain']\n",
    "SpainAPI.head(1)"
   ]
  },
  {
   "cell_type": "code",
   "execution_count": 41,
   "metadata": {},
   "outputs": [
    {
     "data": {
      "text/plain": [
       "Unknown    27\n",
       "Italian    26\n",
       "Spanish    13\n",
       "German      6\n",
       "British     6\n",
       "French      4\n",
       "Greek       4\n",
       "Jewish      4\n",
       "Chinese     2\n",
       "Swiss       1\n",
       "Name: NATIONALITY final, dtype: int64"
      ]
     },
     "execution_count": 41,
     "metadata": {},
     "output_type": "execute_result"
    }
   ],
   "source": [
    "SpainAPI['NATIONALITY final'].value_counts()[:10]"
   ]
  },
  {
   "cell_type": "code",
   "execution_count": 45,
   "metadata": {},
   "outputs": [
    {
     "data": {
      "image/png": "[encoded data removed]",
      "text/plain": [
       "<Figure size 432x288 with 1 Axes>"
      ]
     },
     "metadata": {},
     "output_type": "display_data"
    }
   ],
   "source": [
    "text = '*Spainish* API in Ancestry Results'\n",
    "\n",
    "labels = ['Unknown: 27', 'Italian: 26', 'Spanish: 13', 'German: 6', 'British: 6']\n",
    "sizes = [27, 26, 13, 6, 6]\n",
    "explode = [0, 0, 0.1, 0, 0]\n",
    "colors = ['#45ada8', '#d9acce', '#a75a94', '#970e3c', '#ec83aa']\n",
    "\n",
    "fig, ax = plt.subplots()\n",
    "ax.pie(sizes, explode=explode, labels=labels, colors=colors, \n",
    "       autopct='%1.1f%%', startangle=70)\n",
    "ax.axis('equal')\n",
    "\n",
    "plt.title(text)\n",
    "plt.savefig(f'plots/{text}.png')"
   ]
  },
  {
   "cell_type": "code",
   "execution_count": null,
   "metadata": {},
   "outputs": [],
   "source": []
  },
  {
   "cell_type": "markdown",
   "metadata": {},
   "source": [
    "## 9. Austria"
   ]
  },
  {
   "cell_type": "code",
   "execution_count": 46,
   "metadata": {},
   "outputs": [
    {
     "data": {
      "text/html": [
       "<div>\n",
       "<style scoped>\n",
       "    .dataframe tbody tr th:only-of-type {\n",
       "        vertical-align: middle;\n",
       "    }\n",
       "\n",
       "    .dataframe tbody tr th {\n",
       "        vertical-align: top;\n",
       "    }\n",
       "\n",
       "    .dataframe thead th {\n",
       "        text-align: right;\n",
       "    }\n",
       "</style>\n",
       "<table border=\"1\" class=\"dataframe\">\n",
       "  <thead>\n",
       "    <tr style=\"text-align: right;\">\n",
       "      <th></th>\n",
       "      <th>Year</th>\n",
       "      <th>PG</th>\n",
       "      <th>ID</th>\n",
       "      <th>ID2</th>\n",
       "      <th>CAT_ORG</th>\n",
       "      <th>FULL</th>\n",
       "      <th>Position</th>\n",
       "      <th>Nation</th>\n",
       "      <th>Name</th>\n",
       "      <th>NATIONALITY</th>\n",
       "      <th>...</th>\n",
       "      <th>ST Name 2</th>\n",
       "      <th>ST Name 3</th>\n",
       "      <th>ST Name 4</th>\n",
       "      <th>ST Name 5</th>\n",
       "      <th>ST Name 6</th>\n",
       "      <th>First</th>\n",
       "      <th>Last</th>\n",
       "      <th>country1_api</th>\n",
       "      <th>country2_api</th>\n",
       "      <th>origin_api</th>\n",
       "    </tr>\n",
       "  </thead>\n",
       "  <tbody>\n",
       "    <tr>\n",
       "      <th>29</th>\n",
       "      <td>1913_TrowBusMan</td>\n",
       "      <td>911</td>\n",
       "      <td>2056</td>\n",
       "      <td>1913_TrowBusMan_2056</td>\n",
       "      <td>Restaurants</td>\n",
       "      <td>Lorber Adolph. 1420 Bway</td>\n",
       "      <td>15</td>\n",
       "      <td>NaN</td>\n",
       "      <td>Lorber Adolph</td>\n",
       "      <td>Austrian/German</td>\n",
       "      <td>...</td>\n",
       "      <td>Bway</td>\n",
       "      <td>NaN</td>\n",
       "      <td>NaN</td>\n",
       "      <td>NaN</td>\n",
       "      <td>NaN</td>\n",
       "      <td>Adolph</td>\n",
       "      <td>Lorber</td>\n",
       "      <td>Austria</td>\n",
       "      <td>Germany</td>\n",
       "      <td>NaN</td>\n",
       "    </tr>\n",
       "  </tbody>\n",
       "</table>\n",
       "<p>1 rows × 28 columns</p>\n",
       "</div>"
      ],
      "text/plain": [
       "               Year   PG    ID                   ID2      CAT_ORG  \\\n",
       "29  1913_TrowBusMan  911  2056  1913_TrowBusMan_2056  Restaurants   \n",
       "\n",
       "                        FULL  Position Nation           Name      NATIONALITY  \\\n",
       "29  Lorber Adolph. 1420 Bway        15    NaN  Lorber Adolph  Austrian/German   \n",
       "\n",
       "    ... ST Name 2 ST Name 3 ST Name 4 ST Name 5 ST Name 6   First    Last  \\\n",
       "29  ...      Bway       NaN       NaN       NaN       NaN  Adolph  Lorber   \n",
       "\n",
       "   country1_api country2_api origin_api  \n",
       "29      Austria      Germany        NaN  \n",
       "\n",
       "[1 rows x 28 columns]"
      ]
     },
     "execution_count": 46,
     "metadata": {},
     "output_type": "execute_result"
    }
   ],
   "source": [
    "AustriaAPI = df[df['country1_api']=='Austria']\n",
    "AustriaAPI.head(1)"
   ]
  },
  {
   "cell_type": "code",
   "execution_count": 47,
   "metadata": {},
   "outputs": [
    {
     "data": {
      "text/plain": [
       "German      48\n",
       "Jewish      19\n",
       "British      5\n",
       "Unknown      2\n",
       "Dutch        2\n",
       "Greek        2\n",
       "Polish       2\n",
       "French       1\n",
       "Austrian     1\n",
       "Name: NATIONALITY final, dtype: int64"
      ]
     },
     "execution_count": 47,
     "metadata": {},
     "output_type": "execute_result"
    }
   ],
   "source": [
    "AustriaAPI['NATIONALITY final'].value_counts()[:10]"
   ]
  },
  {
   "cell_type": "code",
   "execution_count": 48,
   "metadata": {},
   "outputs": [
    {
     "data": {
      "image/png": "[encoded data removed]",
      "text/plain": [
       "<Figure size 432x288 with 1 Axes>"
      ]
     },
     "metadata": {},
     "output_type": "display_data"
    }
   ],
   "source": [
    "text = '*Austrian* API in Ancestry Results'\n",
    "\n",
    "labels = ['German: 48', 'Jewish: 19', 'British: 5', 'Unknown: 2', 'Dutch: 2', 'Greek: 2', 'Polish: 2', 'French: 1']\n",
    "sizes = [48, 19, 5, 2, 2, 2, 2, 1]\n",
    "explode = [0, 0, 0, 0, 0, 0, 0, 0]\n",
    "colors = ['#45ada8', '#d9acce', '#a75a94', '#970e3c', '#ec83aa', '#ef335a', '#f765a3', '#f9d1d1']\n",
    "\n",
    "fig, ax = plt.subplots()\n",
    "ax.pie(sizes, explode=explode, labels=labels, colors=colors, \n",
    "       autopct='%1.1f%%', startangle=50)\n",
    "ax.axis('equal')\n",
    "\n",
    "plt.title(text)\n",
    "plt.savefig(f'plots/{text}.png')"
   ]
  },
  {
   "cell_type": "code",
   "execution_count": null,
   "metadata": {},
   "outputs": [],
   "source": []
  },
  {
   "cell_type": "markdown",
   "metadata": {},
   "source": [
    "## 10. Greece"
   ]
  },
  {
   "cell_type": "code",
   "execution_count": 49,
   "metadata": {},
   "outputs": [
    {
     "data": {
      "text/html": [
       "<div>\n",
       "<style scoped>\n",
       "    .dataframe tbody tr th:only-of-type {\n",
       "        vertical-align: middle;\n",
       "    }\n",
       "\n",
       "    .dataframe tbody tr th {\n",
       "        vertical-align: top;\n",
       "    }\n",
       "\n",
       "    .dataframe thead th {\n",
       "        text-align: right;\n",
       "    }\n",
       "</style>\n",
       "<table border=\"1\" class=\"dataframe\">\n",
       "  <thead>\n",
       "    <tr style=\"text-align: right;\">\n",
       "      <th></th>\n",
       "      <th>Year</th>\n",
       "      <th>PG</th>\n",
       "      <th>ID</th>\n",
       "      <th>ID2</th>\n",
       "      <th>CAT_ORG</th>\n",
       "      <th>FULL</th>\n",
       "      <th>Position</th>\n",
       "      <th>Nation</th>\n",
       "      <th>Name</th>\n",
       "      <th>NATIONALITY</th>\n",
       "      <th>...</th>\n",
       "      <th>ST Name 2</th>\n",
       "      <th>ST Name 3</th>\n",
       "      <th>ST Name 4</th>\n",
       "      <th>ST Name 5</th>\n",
       "      <th>ST Name 6</th>\n",
       "      <th>First</th>\n",
       "      <th>Last</th>\n",
       "      <th>country1_api</th>\n",
       "      <th>country2_api</th>\n",
       "      <th>origin_api</th>\n",
       "    </tr>\n",
       "  </thead>\n",
       "  <tbody>\n",
       "    <tr>\n",
       "      <th>84</th>\n",
       "      <td>1913_TrowBusMan</td>\n",
       "      <td>913</td>\n",
       "      <td>2551</td>\n",
       "      <td>1913_TrowBusMan_2551</td>\n",
       "      <td>Restaurants</td>\n",
       "      <td>Paris Tea Room, 72 Wall</td>\n",
       "      <td>16</td>\n",
       "      <td>CM</td>\n",
       "      <td>Paris Tea Room</td>\n",
       "      <td>Chinese</td>\n",
       "      <td>...</td>\n",
       "      <td>Wall</td>\n",
       "      <td>NaN</td>\n",
       "      <td>NaN</td>\n",
       "      <td>NaN</td>\n",
       "      <td>NaN</td>\n",
       "      <td>Tea</td>\n",
       "      <td>Paris</td>\n",
       "      <td>Greece</td>\n",
       "      <td>United Kingdom</td>\n",
       "      <td>NaN</td>\n",
       "    </tr>\n",
       "  </tbody>\n",
       "</table>\n",
       "<p>1 rows × 28 columns</p>\n",
       "</div>"
      ],
      "text/plain": [
       "               Year   PG    ID                   ID2      CAT_ORG  \\\n",
       "84  1913_TrowBusMan  913  2551  1913_TrowBusMan_2551  Restaurants   \n",
       "\n",
       "                       FULL  Position Nation            Name NATIONALITY  ...  \\\n",
       "84  Paris Tea Room, 72 Wall        16     CM  Paris Tea Room     Chinese  ...   \n",
       "\n",
       "   ST Name 2 ST Name 3 ST Name 4 ST Name 5 ST Name 6 First   Last  \\\n",
       "84      Wall       NaN       NaN       NaN       NaN   Tea  Paris   \n",
       "\n",
       "   country1_api    country2_api origin_api  \n",
       "84       Greece  United Kingdom        NaN  \n",
       "\n",
       "[1 rows x 28 columns]"
      ]
     },
     "execution_count": 49,
     "metadata": {},
     "output_type": "execute_result"
    }
   ],
   "source": [
    "GreeceAPI = df[df['country1_api']=='Greece']\n",
    "GreeceAPI.head(1)"
   ]
  },
  {
   "cell_type": "code",
   "execution_count": 50,
   "metadata": {},
   "outputs": [
    {
     "data": {
      "text/plain": [
       "Greek      84\n",
       "Italian     6\n",
       "Spanish     3\n",
       "German      2\n",
       "French      1\n",
       "Unknown     1\n",
       "Chinese     1\n",
       "Name: NATIONALITY final, dtype: int64"
      ]
     },
     "execution_count": 50,
     "metadata": {},
     "output_type": "execute_result"
    }
   ],
   "source": [
    "GreeceAPI['NATIONALITY final'].value_counts()[:10]"
   ]
  },
  {
   "cell_type": "code",
   "execution_count": 51,
   "metadata": {},
   "outputs": [
    {
     "data": {
      "image/png": "[encoded data removed]",
      "text/plain": [
       "<Figure size 432x288 with 1 Axes>"
      ]
     },
     "metadata": {},
     "output_type": "display_data"
    }
   ],
   "source": [
    "text = '*Greek* API in Ancestry Results'\n",
    "\n",
    "labels = ['Greek: 84', 'Italian: 6', 'Spanish: 3', 'German: 2']\n",
    "sizes = [84, 6, 3, 2]\n",
    "explode = [0.1, 0, 0, 0]\n",
    "colors = ['#45ada8', '#d9acce', '#a75a94', '#970e3c']\n",
    "\n",
    "fig, ax = plt.subplots()\n",
    "ax.pie(sizes, explode=explode, labels=labels, colors=colors, \n",
    "       autopct='%1.1f%%', startangle=50)\n",
    "ax.axis('equal')\n",
    "\n",
    "plt.title(text)\n",
    "plt.savefig(f'plots/{text}.png')"
   ]
  },
  {
   "cell_type": "code",
   "execution_count": null,
   "metadata": {},
   "outputs": [],
   "source": []
  }
 ],
 "metadata": {
  "kernelspec": {
   "display_name": "Python 3.8.1 64-bit",
   "language": "python",
   "name": "python38164bit0209044da7c742dab8314e0953beb93b"
  },
  "language_info": {
   "codemirror_mode": {
    "name": "ipython",
    "version": 3
   },
   "file_extension": ".py",
   "mimetype": "text/x-python",
   "name": "python",
   "nbconvert_exporter": "python",
   "pygments_lexer": "ipython3",
   "version": "3.8.1"
  }
 },
 "nbformat": 4,
 "nbformat_minor": 4
}
