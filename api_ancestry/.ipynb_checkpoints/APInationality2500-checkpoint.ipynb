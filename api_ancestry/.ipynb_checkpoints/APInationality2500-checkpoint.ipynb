{
 "cells": [
  {
   "cell_type": "markdown",
   "metadata": {},
   "source": [
    "# Using API to get nationality\n",
    "\n",
    "Account: ycl461+4@nyu.edu"
   ]
  },
  {
   "cell_type": "code",
   "execution_count": 1,
   "metadata": {},
   "outputs": [],
   "source": [
    "import json\n",
    "import pandas as pd\n",
    "import numpy as np\n",
    "import urllib\n",
    "from pandas.io.json import json_normalize\n",
    "from collections import Counter"
   ]
  },
  {
   "cell_type": "code",
   "execution_count": 2,
   "metadata": {},
   "outputs": [
    {
     "data": {
      "text/html": [
       "<div>\n",
       "<style scoped>\n",
       "    .dataframe tbody tr th:only-of-type {\n",
       "        vertical-align: middle;\n",
       "    }\n",
       "\n",
       "    .dataframe tbody tr th {\n",
       "        vertical-align: top;\n",
       "    }\n",
       "\n",
       "    .dataframe thead th {\n",
       "        text-align: right;\n",
       "    }\n",
       "</style>\n",
       "<table border=\"1\" class=\"dataframe\">\n",
       "  <thead>\n",
       "    <tr style=\"text-align: right;\">\n",
       "      <th></th>\n",
       "      <th>Year</th>\n",
       "      <th>PG</th>\n",
       "      <th>ID</th>\n",
       "      <th>ID2</th>\n",
       "      <th>CAT_ORG</th>\n",
       "      <th>FULL</th>\n",
       "      <th>Position</th>\n",
       "      <th>Nation</th>\n",
       "      <th>Name</th>\n",
       "      <th>NATIONALITY</th>\n",
       "      <th>...</th>\n",
       "      <th>ST Name</th>\n",
       "      <th>ST Name 2</th>\n",
       "      <th>ST Name 3</th>\n",
       "      <th>ST Name 4</th>\n",
       "      <th>ST Name 5</th>\n",
       "      <th>ST Name 6</th>\n",
       "      <th>First</th>\n",
       "      <th>Last</th>\n",
       "      <th>country1_api</th>\n",
       "      <th>country2_api</th>\n",
       "    </tr>\n",
       "  </thead>\n",
       "  <tbody>\n",
       "    <tr>\n",
       "      <th>0</th>\n",
       "      <td>1913_TrowBusMan</td>\n",
       "      <td>904</td>\n",
       "      <td>33</td>\n",
       "      <td>1913_TrowBusMan_33</td>\n",
       "      <td>Restaurants</td>\n",
       "      <td>Albanian Roumanian Co, 261 W37th</td>\n",
       "      <td>23</td>\n",
       "      <td>NaN</td>\n",
       "      <td>Albanian Roumanian Co</td>\n",
       "      <td>Albanian</td>\n",
       "      <td>...</td>\n",
       "      <td>261</td>\n",
       "      <td>W37th</td>\n",
       "      <td>NaN</td>\n",
       "      <td>NaN</td>\n",
       "      <td>NaN</td>\n",
       "      <td>NaN</td>\n",
       "      <td>Roumanian</td>\n",
       "      <td>Albanian</td>\n",
       "      <td>Romania</td>\n",
       "      <td>Iran</td>\n",
       "    </tr>\n",
       "  </tbody>\n",
       "</table>\n",
       "<p>1 rows × 27 columns</p>\n",
       "</div>"
      ],
      "text/plain": [
       "              Year   PG  ID                 ID2      CAT_ORG  \\\n",
       "0  1913_TrowBusMan  904  33  1913_TrowBusMan_33  Restaurants   \n",
       "\n",
       "                               FULL  Position Nation                    Name  \\\n",
       "0  Albanian Roumanian Co, 261 W37th        23    NaN  Albanian Roumanian Co    \n",
       "\n",
       "  NATIONALITY  ... ST Name ST Name 2 ST Name 3 ST Name 4 ST Name 5 ST Name 6  \\\n",
       "0    Albanian  ...     261     W37th       NaN       NaN       NaN       NaN   \n",
       "\n",
       "       First      Last country1_api country2_api  \n",
       "0  Roumanian  Albanian      Romania         Iran  \n",
       "\n",
       "[1 rows x 27 columns]"
      ]
     },
     "execution_count": 2,
     "metadata": {},
     "output_type": "execute_result"
    }
   ],
   "source": [
    "TrowBus1913 = pd.read_csv('1913TrowBus_nationalityAPI.csv', encoding='latin_1')\n",
    "TrowBus1913.head(1)"
   ]
  },
  {
   "cell_type": "code",
   "execution_count": null,
   "metadata": {},
   "outputs": [],
   "source": [
    "country_df = []\n",
    "for i in range(1500,1999):\n",
    "    first = TrowBus1913['First'][i]\n",
    "    last = TrowBus1913['Last'][i]\n",
    "    result = !curl -X GET \"https://v2.namsor.com/NamSorAPIv2/api2/json/origin/{first}/{last}\" -H \"accept: application/json\" -H \"X-API-KEY: fbeeb9ce36bee0728d3a577e10b06dc4\"\n",
    "    country_df.append(result[-1])"
   ]
  },
  {
   "cell_type": "code",
   "execution_count": null,
   "metadata": {},
   "outputs": [],
   "source": []
  },
  {
   "cell_type": "code",
   "execution_count": null,
   "metadata": {},
   "outputs": [],
   "source": [
    "country1 = []\n",
    "country2 = []\n",
    "\n",
    "for each in country_df:\n",
    "    try:\n",
    "        gen = each.split(',')[3].split(':')[1].strip('\"')\n",
    "        prob = each.split(',')[4].split(':')[1].strip('\"')\n",
    "    except:\n",
    "        gen = 'error'\n",
    "    \n",
    "    country1.append(gen)\n",
    "    country2.append(prob)"
   ]
  },
  {
   "cell_type": "code",
   "execution_count": null,
   "metadata": {},
   "outputs": [],
   "source": [
    "TrowBus1913['country1_api'][1000:1499] = np.array(country1[1000:1499])\n",
    "TrowBus1913['country2_api'][1000:1499] = np.array(country2[1000:1499])"
   ]
  },
  {
   "cell_type": "code",
   "execution_count": null,
   "metadata": {},
   "outputs": [],
   "source": [
    "TrowBus1913.head(1)"
   ]
  },
  {
   "cell_type": "code",
   "execution_count": null,
   "metadata": {},
   "outputs": [],
   "source": []
  },
  {
   "cell_type": "code",
   "execution_count": null,
   "metadata": {},
   "outputs": [],
   "source": [
    "Counter(country1)"
   ]
  },
  {
   "cell_type": "code",
   "execution_count": null,
   "metadata": {},
   "outputs": [],
   "source": [
    "Counter(country2)"
   ]
  },
  {
   "cell_type": "code",
   "execution_count": null,
   "metadata": {},
   "outputs": [],
   "source": [
    "TrowBus1913 = TrowBus1913.replace({'country2_api': \n",
    "                                   {'RO':'Romania', 'IL':'Israel', 'NE':'Niger', 'IE':'Ireland',\n",
    "                                    'AM':'Armenia','CH':'Switzerland','DE': 'Germany', 'CN': 'China',\n",
    "                                    'ET':'Ethiopia', 'FR':'France','DK': 'Denmark', 'SE': 'Sweden', \n",
    "                                    'GB':'United Kingdom', 'IT':'Italy', 'AT':'Austria', 'NO':'Norway',\n",
    "                                    'ZA':'South Africa', 'ES':'Spain', 'JP':'Japan', 'GH':'Ghana',\n",
    "                                    'NL':'Netherlands', 'CZ':'Czechia', 'HK':'Hong Kong', 'KR':'South Korea',\n",
    "                                    'VN':'Vietnam', 'TW':'Taiwan', 'MY':'Malaysia', 'MM':'Myanmar',\n",
    "                                    'GR':'Greece', 'TR':'Turkey', 'KH':'Cambodia', 'PL':'Poland', \n",
    "                                    'BE':'Belgium', 'KE':'Kenya', 'LR':'Liberia', 'NG':'Nigeria', \n",
    "                                    'RU':'Russia', 'ID':'Indonesia', 'BJ': 'Benin', 'CI': 'Côte d\\'Ivoire',\n",
    "                                    'PK':'Pakistan', 'SK': 'Slovakia', 'ZW': 'Zimbabwe', 'PT': 'Portugal',\n",
    "                                    'LB':'Lebanon', 'UG':'Uganda', 'EG':'Egypt', 'HU':'Hungary', 'IR':'Iran', \n",
    "                                    'MA':'Morocco', 'LV':'Latvia', 'CM':'Cameroon', 'TZ':'Tanzia'}})\n",
    "TrowBus1913.head()"
   ]
  },
  {
   "cell_type": "code",
   "execution_count": null,
   "metadata": {},
   "outputs": [],
   "source": []
  },
  {
   "cell_type": "code",
   "execution_count": null,
   "metadata": {},
   "outputs": [],
   "source": [
    "#TrowBus1913.to_csv(r'1913TrowBus_nationalityAPI.csv', index = False)"
   ]
  }
 ],
 "metadata": {
  "kernelspec": {
   "display_name": "Python 3.8.1 64-bit",
   "language": "python",
   "name": "python38164bit0209044da7c742dab8314e0953beb93b"
  },
  "language_info": {
   "codemirror_mode": {
    "name": "ipython",
    "version": 3
   },
   "file_extension": ".py",
   "mimetype": "text/x-python",
   "name": "python",
   "nbconvert_exporter": "python",
   "pygments_lexer": "ipython3",
   "version": "3.8.1"
  }
 },
 "nbformat": 4,
 "nbformat_minor": 4
}
