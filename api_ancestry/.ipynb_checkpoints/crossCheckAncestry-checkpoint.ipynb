{
 "cells": [
  {
   "cell_type": "markdown",
   "metadata": {},
   "source": [
    "# Cross-Check nationality API data with Ancestry data #1\n",
    "\n",
    "**Goal**: determine how to group nationalities into ethnic/cultural clumps\n",
    "\n",
    "**Method**: for example, look for all the German results in Ancestry and see what values showed up in API, and vice versa. this will give us a better understanding about how we should be grouping values."
   ]
  },
  {
   "cell_type": "code",
   "execution_count": 22,
   "metadata": {},
   "outputs": [],
   "source": [
    "import pandas as pd\n",
    "import matplotlib.pyplot as plt"
   ]
  },
  {
   "cell_type": "code",
   "execution_count": 3,
   "metadata": {},
   "outputs": [
    {
     "data": {
      "text/html": [
       "<div>\n",
       "<style scoped>\n",
       "    .dataframe tbody tr th:only-of-type {\n",
       "        vertical-align: middle;\n",
       "    }\n",
       "\n",
       "    .dataframe tbody tr th {\n",
       "        vertical-align: top;\n",
       "    }\n",
       "\n",
       "    .dataframe thead th {\n",
       "        text-align: right;\n",
       "    }\n",
       "</style>\n",
       "<table border=\"1\" class=\"dataframe\">\n",
       "  <thead>\n",
       "    <tr style=\"text-align: right;\">\n",
       "      <th></th>\n",
       "      <th>Year</th>\n",
       "      <th>PG</th>\n",
       "      <th>ID</th>\n",
       "      <th>ID2</th>\n",
       "      <th>CAT_ORG</th>\n",
       "      <th>FULL</th>\n",
       "      <th>Position</th>\n",
       "      <th>Nation</th>\n",
       "      <th>Name</th>\n",
       "      <th>NATIONALITY</th>\n",
       "      <th>...</th>\n",
       "      <th>ST Name 2</th>\n",
       "      <th>ST Name 3</th>\n",
       "      <th>ST Name 4</th>\n",
       "      <th>ST Name 5</th>\n",
       "      <th>ST Name 6</th>\n",
       "      <th>First</th>\n",
       "      <th>Last</th>\n",
       "      <th>country1_api</th>\n",
       "      <th>country2_api</th>\n",
       "      <th>origin_api</th>\n",
       "    </tr>\n",
       "  </thead>\n",
       "  <tbody>\n",
       "    <tr>\n",
       "      <th>0</th>\n",
       "      <td>1913_TrowBusMan</td>\n",
       "      <td>904</td>\n",
       "      <td>33</td>\n",
       "      <td>1913_TrowBusMan_33</td>\n",
       "      <td>Restaurants</td>\n",
       "      <td>Albanian Roumanian Co, 261 W37th</td>\n",
       "      <td>23</td>\n",
       "      <td>NaN</td>\n",
       "      <td>Albanian Roumanian Co</td>\n",
       "      <td>Albanian</td>\n",
       "      <td>...</td>\n",
       "      <td>W37th</td>\n",
       "      <td>NaN</td>\n",
       "      <td>NaN</td>\n",
       "      <td>NaN</td>\n",
       "      <td>NaN</td>\n",
       "      <td>Roumanian</td>\n",
       "      <td>Albanian</td>\n",
       "      <td>Romania</td>\n",
       "      <td>Iran</td>\n",
       "      <td>NaN</td>\n",
       "    </tr>\n",
       "  </tbody>\n",
       "</table>\n",
       "<p>1 rows × 28 columns</p>\n",
       "</div>"
      ],
      "text/plain": [
       "              Year   PG  ID                 ID2      CAT_ORG  \\\n",
       "0  1913_TrowBusMan  904  33  1913_TrowBusMan_33  Restaurants   \n",
       "\n",
       "                               FULL  Position Nation                   Name  \\\n",
       "0  Albanian Roumanian Co, 261 W37th        23    NaN  Albanian Roumanian Co   \n",
       "\n",
       "  NATIONALITY  ... ST Name 2 ST Name 3 ST Name 4 ST Name 5 ST Name 6  \\\n",
       "0    Albanian  ...     W37th       NaN       NaN       NaN       NaN   \n",
       "\n",
       "       First      Last country1_api country2_api origin_api  \n",
       "0  Roumanian  Albanian      Romania         Iran        NaN  \n",
       "\n",
       "[1 rows x 28 columns]"
      ]
     },
     "execution_count": 3,
     "metadata": {},
     "output_type": "execute_result"
    }
   ],
   "source": [
    "df = pd.read_csv('1913TrowBus_nationalityAPI.csv')\n",
    "df.head(1)"
   ]
  },
  {
   "cell_type": "code",
   "execution_count": 4,
   "metadata": {},
   "outputs": [
    {
     "data": {
      "text/plain": [
       "(5419, 28)"
      ]
     },
     "execution_count": 4,
     "metadata": {},
     "output_type": "execute_result"
    }
   ],
   "source": [
    "df.shape"
   ]
  },
  {
   "cell_type": "code",
   "execution_count": 52,
   "metadata": {},
   "outputs": [
    {
     "data": {
      "text/plain": [
       "Index(['Year', 'PG', 'ID', 'ID2', 'CAT_ORG', 'FULL', 'Position', 'Nation',\n",
       "       'Name', 'NATIONALITY', 'NATIONALITY final', 'GENDER', 'Unnamed: 12',\n",
       "       'Addy_Clean', 'Address', 'CORNER', 'ST combi', 'ST Name', 'ST Name 2',\n",
       "       'ST Name 3', 'ST Name 4', 'ST Name 5', 'ST Name 6', 'First', 'Last',\n",
       "       'country1_api', 'country2_api', 'origin_api'],\n",
       "      dtype='object')"
      ]
     },
     "execution_count": 52,
     "metadata": {},
     "output_type": "execute_result"
    }
   ],
   "source": [
    "df.columns"
   ]
  },
  {
   "cell_type": "code",
   "execution_count": null,
   "metadata": {},
   "outputs": [],
   "source": []
  },
  {
   "cell_type": "markdown",
   "metadata": {},
   "source": [
    "## Check API results in common Ancestry values\n",
    "\n",
    "E.g. look for all \"German\" values in Ancestry column and see what values show up API results"
   ]
  },
  {
   "cell_type": "code",
   "execution_count": 6,
   "metadata": {},
   "outputs": [
    {
     "data": {
      "text/plain": [
       "German            882\n",
       "Jewish            669\n",
       "British           632\n",
       "Unknown           373\n",
       "Italian           354\n",
       "Greek             172\n",
       "French             95\n",
       "Polish             85\n",
       "Irish              73\n",
       "Chinese            63\n",
       "Spanish            37\n",
       "Dutch              37\n",
       "Scottish           31\n",
       "Russian            25\n",
       "Swiss              24\n",
       "Hungarian          23\n",
       "Austrian           23\n",
       "Middle Eastern     11\n",
       "Welsh              10\n",
       "Swedish             7\n",
       "Czech               7\n",
       "Japanese            6\n",
       "Belgian             5\n",
       "Romanian            4\n",
       "Armenian            3\n",
       "german              3\n",
       "Portuguese          2\n",
       "Norwegian           2\n",
       "Finnish             2\n",
       "Ukranian            2\n",
       "Moldovian           1\n",
       "Slavic              1\n",
       "Georgian            1\n",
       "Indian              1\n",
       "Latvian             1\n",
       "Danish              1\n",
       "Slovenian           1\n",
       "Albanian            1\n",
       "Asian               1\n",
       "American            1\n",
       "Name: NATIONALITY final, dtype: int64"
      ]
     },
     "execution_count": 6,
     "metadata": {},
     "output_type": "execute_result"
    }
   ],
   "source": [
    "df['NATIONALITY final'].value_counts()"
   ]
  },
  {
   "cell_type": "code",
   "execution_count": 41,
   "metadata": {},
   "outputs": [
    {
     "data": {
      "text/plain": [
       "German            885\n",
       "Jewish            669\n",
       "British           632\n",
       "Unknown           373\n",
       "Italian           354\n",
       "Greek             172\n",
       "French             95\n",
       "Polish             85\n",
       "Irish              73\n",
       "Chinese            63\n",
       "Spanish            37\n",
       "Dutch              37\n",
       "Scottish           31\n",
       "Russian            25\n",
       "Swiss              24\n",
       "Austrian           23\n",
       "Hungarian          23\n",
       "Middle Eastern     11\n",
       "Welsh              10\n",
       "Czech               7\n",
       "Name: NATIONALITY final, dtype: int64"
      ]
     },
     "execution_count": 41,
     "metadata": {},
     "output_type": "execute_result"
    }
   ],
   "source": [
    "df = df.replace({'NATIONALITY final': {'german':'German'}})\n",
    "df['NATIONALITY final'].value_counts()[:20]"
   ]
  },
  {
   "cell_type": "code",
   "execution_count": null,
   "metadata": {},
   "outputs": [],
   "source": []
  },
  {
   "cell_type": "markdown",
   "metadata": {},
   "source": [
    "## 1. German"
   ]
  },
  {
   "cell_type": "code",
   "execution_count": 11,
   "metadata": {},
   "outputs": [
    {
     "data": {
      "text/html": [
       "<div>\n",
       "<style scoped>\n",
       "    .dataframe tbody tr th:only-of-type {\n",
       "        vertical-align: middle;\n",
       "    }\n",
       "\n",
       "    .dataframe tbody tr th {\n",
       "        vertical-align: top;\n",
       "    }\n",
       "\n",
       "    .dataframe thead th {\n",
       "        text-align: right;\n",
       "    }\n",
       "</style>\n",
       "<table border=\"1\" class=\"dataframe\">\n",
       "  <thead>\n",
       "    <tr style=\"text-align: right;\">\n",
       "      <th></th>\n",
       "      <th>Year</th>\n",
       "      <th>PG</th>\n",
       "      <th>ID</th>\n",
       "      <th>ID2</th>\n",
       "      <th>CAT_ORG</th>\n",
       "      <th>FULL</th>\n",
       "      <th>Position</th>\n",
       "      <th>Nation</th>\n",
       "      <th>Name</th>\n",
       "      <th>NATIONALITY</th>\n",
       "      <th>...</th>\n",
       "      <th>ST Name 2</th>\n",
       "      <th>ST Name 3</th>\n",
       "      <th>ST Name 4</th>\n",
       "      <th>ST Name 5</th>\n",
       "      <th>ST Name 6</th>\n",
       "      <th>First</th>\n",
       "      <th>Last</th>\n",
       "      <th>country1_api</th>\n",
       "      <th>country2_api</th>\n",
       "      <th>origin_api</th>\n",
       "    </tr>\n",
       "  </thead>\n",
       "  <tbody>\n",
       "    <tr>\n",
       "      <th>2</th>\n",
       "      <td>1913_TrowBusMan</td>\n",
       "      <td>908</td>\n",
       "      <td>1124</td>\n",
       "      <td>1913_TrowBusMan_1124</td>\n",
       "      <td>Restaurants</td>\n",
       "      <td>Frese Ida L, 2 W33d</td>\n",
       "      <td>13</td>\n",
       "      <td>NaN</td>\n",
       "      <td>Frese Ida L</td>\n",
       "      <td>American, German</td>\n",
       "      <td>...</td>\n",
       "      <td>W33d</td>\n",
       "      <td>NaN</td>\n",
       "      <td>NaN</td>\n",
       "      <td>NaN</td>\n",
       "      <td>NaN</td>\n",
       "      <td>Ida</td>\n",
       "      <td>Frese</td>\n",
       "      <td>Israel</td>\n",
       "      <td>Italy</td>\n",
       "      <td>NaN</td>\n",
       "    </tr>\n",
       "  </tbody>\n",
       "</table>\n",
       "<p>1 rows × 28 columns</p>\n",
       "</div>"
      ],
      "text/plain": [
       "              Year   PG    ID                   ID2      CAT_ORG  \\\n",
       "2  1913_TrowBusMan  908  1124  1913_TrowBusMan_1124  Restaurants   \n",
       "\n",
       "                  FULL  Position Nation         Name       NATIONALITY  ...  \\\n",
       "2  Frese Ida L, 2 W33d        13    NaN  Frese Ida L  American, German  ...   \n",
       "\n",
       "  ST Name 2 ST Name 3 ST Name 4 ST Name 5 ST Name 6 First   Last country1_api  \\\n",
       "2      W33d       NaN       NaN       NaN       NaN   Ida  Frese       Israel   \n",
       "\n",
       "  country2_api origin_api  \n",
       "2        Italy        NaN  \n",
       "\n",
       "[1 rows x 28 columns]"
      ]
     },
     "execution_count": 11,
     "metadata": {},
     "output_type": "execute_result"
    }
   ],
   "source": [
    "German = df[df['NATIONALITY final']=='German']\n",
    "German.head(1)"
   ]
  },
  {
   "cell_type": "code",
   "execution_count": 38,
   "metadata": {},
   "outputs": [
    {
     "data": {
      "text/plain": [
       "Germany           325\n",
       "Ireland           134\n",
       "Switzerland        93\n",
       "Israel             60\n",
       "United Kingdom     58\n",
       "Austria            48\n",
       "France             46\n",
       "Liberia            16\n",
       "error              13\n",
       "South Africa       10\n",
       "Name: country1_api, dtype: int64"
      ]
     },
     "execution_count": 38,
     "metadata": {},
     "output_type": "execute_result"
    }
   ],
   "source": [
    "German['country1_api'].value_counts()[:10]"
   ]
  },
  {
   "cell_type": "code",
   "execution_count": 35,
   "metadata": {},
   "outputs": [
    {
     "data": {
      "image/png": "[encoded data removed]",
      "text/plain": [
       "<Figure size 432x288 with 1 Axes>"
      ]
     },
     "metadata": {},
     "output_type": "display_data"
    }
   ],
   "source": [
    "text = '*German* Ancestry in API Results'\n",
    "\n",
    "labels = ['Ireland: 134', 'Swiss: 93', 'Israel: 60', 'UK: 58', 'Austria: 48', 'France: 46']\n",
    "sizes = [134, 93, 60, 58, 48, 46]\n",
    "explode = [0.1, 0, 0, 0, 0, 0]\n",
    "colors = ['#45ada8', '#d9acce', '#a75a94', '#970e3c', '#ec83aa', '#ef335a']\n",
    "\n",
    "fig, ax = plt.subplots()\n",
    "ax.pie(sizes, explode=explode, labels=labels, colors=colors, \n",
    "       autopct='%1.1f%%', startangle=80)\n",
    "ax.axis('equal')\n",
    "\n",
    "plt.title(text)\n",
    "plt.savefig(f'plots/{text}.png')"
   ]
  },
  {
   "cell_type": "code",
   "execution_count": null,
   "metadata": {},
   "outputs": [],
   "source": []
  },
  {
   "cell_type": "markdown",
   "metadata": {},
   "source": [
    "## 2. Jewish"
   ]
  },
  {
   "cell_type": "code",
   "execution_count": 53,
   "metadata": {},
   "outputs": [
    {
     "data": {
      "text/html": [
       "<div>\n",
       "<style scoped>\n",
       "    .dataframe tbody tr th:only-of-type {\n",
       "        vertical-align: middle;\n",
       "    }\n",
       "\n",
       "    .dataframe tbody tr th {\n",
       "        vertical-align: top;\n",
       "    }\n",
       "\n",
       "    .dataframe thead th {\n",
       "        text-align: right;\n",
       "    }\n",
       "</style>\n",
       "<table border=\"1\" class=\"dataframe\">\n",
       "  <thead>\n",
       "    <tr style=\"text-align: right;\">\n",
       "      <th></th>\n",
       "      <th>Year</th>\n",
       "      <th>PG</th>\n",
       "      <th>ID</th>\n",
       "      <th>ID2</th>\n",
       "      <th>CAT_ORG</th>\n",
       "      <th>FULL</th>\n",
       "      <th>Position</th>\n",
       "      <th>Nation</th>\n",
       "      <th>Name</th>\n",
       "      <th>NATIONALITY</th>\n",
       "      <th>...</th>\n",
       "      <th>ST Name 2</th>\n",
       "      <th>ST Name 3</th>\n",
       "      <th>ST Name 4</th>\n",
       "      <th>ST Name 5</th>\n",
       "      <th>ST Name 6</th>\n",
       "      <th>First</th>\n",
       "      <th>Last</th>\n",
       "      <th>country1_api</th>\n",
       "      <th>country2_api</th>\n",
       "      <th>origin_api</th>\n",
       "    </tr>\n",
       "  </thead>\n",
       "  <tbody>\n",
       "    <tr>\n",
       "      <th>2387</th>\n",
       "      <td>1913_TrowBusMan</td>\n",
       "      <td>904</td>\n",
       "      <td>6</td>\n",
       "      <td>1913_TrowBusMan_6</td>\n",
       "      <td>Restaurants</td>\n",
       "      <td>Abelowitz Samuel, 186 Madison</td>\n",
       "      <td>18</td>\n",
       "      <td>NaN</td>\n",
       "      <td>Abelowitz Samuel</td>\n",
       "      <td>Jewish</td>\n",
       "      <td>...</td>\n",
       "      <td>Madison</td>\n",
       "      <td>NaN</td>\n",
       "      <td>NaN</td>\n",
       "      <td>NaN</td>\n",
       "      <td>NaN</td>\n",
       "      <td>Samuel</td>\n",
       "      <td>Abelowitz</td>\n",
       "      <td>Israel</td>\n",
       "      <td>Spain</td>\n",
       "      <td>NaN</td>\n",
       "    </tr>\n",
       "  </tbody>\n",
       "</table>\n",
       "<p>1 rows × 28 columns</p>\n",
       "</div>"
      ],
      "text/plain": [
       "                 Year   PG  ID                ID2      CAT_ORG  \\\n",
       "2387  1913_TrowBusMan  904   6  1913_TrowBusMan_6  Restaurants   \n",
       "\n",
       "                               FULL  Position Nation              Name  \\\n",
       "2387  Abelowitz Samuel, 186 Madison        18    NaN  Abelowitz Samuel   \n",
       "\n",
       "     NATIONALITY  ... ST Name 2 ST Name 3 ST Name 4 ST Name 5 ST Name 6  \\\n",
       "2387      Jewish  ...   Madison       NaN       NaN       NaN       NaN   \n",
       "\n",
       "       First       Last country1_api country2_api origin_api  \n",
       "2387  Samuel  Abelowitz       Israel        Spain        NaN  \n",
       "\n",
       "[1 rows x 28 columns]"
      ]
     },
     "execution_count": 53,
     "metadata": {},
     "output_type": "execute_result"
    }
   ],
   "source": [
    "Jewish = df[df['NATIONALITY final']=='Jewish']\n",
    "Jewish.head(1)"
   ]
  },
  {
   "cell_type": "code",
   "execution_count": 54,
   "metadata": {},
   "outputs": [
    {
     "data": {
      "text/plain": [
       "Israel            201\n",
       "Germany           171\n",
       "Ireland            91\n",
       "United Kingdom     48\n",
       "Switzerland        22\n",
       "Sweden             21\n",
       "Austria            19\n",
       "France             16\n",
       "South Africa       12\n",
       "Liberia            10\n",
       "Name: country1_api, dtype: int64"
      ]
     },
     "execution_count": 54,
     "metadata": {},
     "output_type": "execute_result"
    }
   ],
   "source": [
    "Jewish['country1_api'].value_counts()[:10]"
   ]
  },
  {
   "cell_type": "code",
   "execution_count": 56,
   "metadata": {},
   "outputs": [
    {
     "data": {
      "image/png": "[encoded data removed]",
      "text/plain": [
       "<Figure size 432x288 with 1 Axes>"
      ]
     },
     "metadata": {},
     "output_type": "display_data"
    }
   ],
   "source": [
    "text = '*Jewish* Ancestry in API Results'\n",
    "\n",
    "labels = ['Germany: 171', 'Ireland: 91', 'UK: 48', 'Swiss: 22', 'Sweden: 21', 'Austria: 19', 'France: 16', 'South Africa: 12']\n",
    "sizes = [171, 91, 48, 22, 21, 19, 16, 12]\n",
    "explode = [0.1, 0, 0, 0, 0, 0, 0, 0]\n",
    "colors = ['#45ada8', '#d9acce', '#a75a94', '#970e3c', '#ec83aa', '#ef335a', '#f765a3', '#f9d1d1']\n",
    "\n",
    "fig, ax = plt.subplots()\n",
    "ax.pie(sizes, explode=explode, labels=labels, colors=colors, \n",
    "       autopct='%1.1f%%', startangle=60)\n",
    "ax.axis('equal')\n",
    "\n",
    "plt.title(text)\n",
    "plt.savefig(f'plots/{text}.png')"
   ]
  },
  {
   "cell_type": "code",
   "execution_count": null,
   "metadata": {},
   "outputs": [],
   "source": []
  },
  {
   "cell_type": "markdown",
   "metadata": {},
   "source": [
    "## 3. British"
   ]
  },
  {
   "cell_type": "code",
   "execution_count": 57,
   "metadata": {},
   "outputs": [
    {
     "data": {
      "text/html": [
       "<div>\n",
       "<style scoped>\n",
       "    .dataframe tbody tr th:only-of-type {\n",
       "        vertical-align: middle;\n",
       "    }\n",
       "\n",
       "    .dataframe tbody tr th {\n",
       "        vertical-align: top;\n",
       "    }\n",
       "\n",
       "    .dataframe thead th {\n",
       "        text-align: right;\n",
       "    }\n",
       "</style>\n",
       "<table border=\"1\" class=\"dataframe\">\n",
       "  <thead>\n",
       "    <tr style=\"text-align: right;\">\n",
       "      <th></th>\n",
       "      <th>Year</th>\n",
       "      <th>PG</th>\n",
       "      <th>ID</th>\n",
       "      <th>ID2</th>\n",
       "      <th>CAT_ORG</th>\n",
       "      <th>FULL</th>\n",
       "      <th>Position</th>\n",
       "      <th>Nation</th>\n",
       "      <th>Name</th>\n",
       "      <th>NATIONALITY</th>\n",
       "      <th>...</th>\n",
       "      <th>ST Name 2</th>\n",
       "      <th>ST Name 3</th>\n",
       "      <th>ST Name 4</th>\n",
       "      <th>ST Name 5</th>\n",
       "      <th>ST Name 6</th>\n",
       "      <th>First</th>\n",
       "      <th>Last</th>\n",
       "      <th>country1_api</th>\n",
       "      <th>country2_api</th>\n",
       "      <th>origin_api</th>\n",
       "    </tr>\n",
       "  </thead>\n",
       "  <tbody>\n",
       "    <tr>\n",
       "      <th>35</th>\n",
       "      <td>1913_TrowBusMan</td>\n",
       "      <td>904</td>\n",
       "      <td>3</td>\n",
       "      <td>1913_TrowBusMan_3</td>\n",
       "      <td>Restaurants</td>\n",
       "      <td>Abbott Emile, 2726 Bway</td>\n",
       "      <td>14</td>\n",
       "      <td>NaN</td>\n",
       "      <td>Abbott Emile</td>\n",
       "      <td>British</td>\n",
       "      <td>...</td>\n",
       "      <td>Bway</td>\n",
       "      <td>NaN</td>\n",
       "      <td>NaN</td>\n",
       "      <td>NaN</td>\n",
       "      <td>NaN</td>\n",
       "      <td>Emile</td>\n",
       "      <td>Abbott</td>\n",
       "      <td>United Kingdom</td>\n",
       "      <td>France</td>\n",
       "      <td>NaN</td>\n",
       "    </tr>\n",
       "  </tbody>\n",
       "</table>\n",
       "<p>1 rows × 28 columns</p>\n",
       "</div>"
      ],
      "text/plain": [
       "               Year   PG  ID                ID2      CAT_ORG  \\\n",
       "35  1913_TrowBusMan  904   3  1913_TrowBusMan_3  Restaurants   \n",
       "\n",
       "                       FULL  Position Nation          Name NATIONALITY  ...  \\\n",
       "35  Abbott Emile, 2726 Bway        14    NaN  Abbott Emile     British  ...   \n",
       "\n",
       "   ST Name 2 ST Name 3 ST Name 4 ST Name 5 ST Name 6  First    Last  \\\n",
       "35      Bway       NaN       NaN       NaN       NaN  Emile  Abbott   \n",
       "\n",
       "      country1_api country2_api origin_api  \n",
       "35  United Kingdom       France        NaN  \n",
       "\n",
       "[1 rows x 28 columns]"
      ]
     },
     "execution_count": 57,
     "metadata": {},
     "output_type": "execute_result"
    }
   ],
   "source": [
    "British = df[df['NATIONALITY final']=='British']\n",
    "British.head(1)"
   ]
  },
  {
   "cell_type": "code",
   "execution_count": 58,
   "metadata": {},
   "outputs": [
    {
     "data": {
      "text/plain": [
       "Ireland           242\n",
       "United Kingdom    186\n",
       "cannot use api     64\n",
       "Germany            36\n",
       "France             24\n",
       "Liberia            11\n",
       "Switzerland         8\n",
       "error               8\n",
       "Italy               7\n",
       "Spain               6\n",
       "Name: country1_api, dtype: int64"
      ]
     },
     "execution_count": 58,
     "metadata": {},
     "output_type": "execute_result"
    }
   ],
   "source": [
    "British['country1_api'].value_counts()[:10]"
   ]
  },
  {
   "cell_type": "code",
   "execution_count": 61,
   "metadata": {},
   "outputs": [
    {
     "data": {
      "image/png": "[encoded data removed]",
      "text/plain": [
       "<Figure size 432x288 with 1 Axes>"
      ]
     },
     "metadata": {},
     "output_type": "display_data"
    }
   ],
   "source": [
    "text = '*British* Ancestry in API Results'\n",
    "\n",
    "labels = ['Ireland: 242', 'UK: 186', 'Germany: 36', 'France: 24', 'Liberia: 11', 'Swiss: 8']\n",
    "sizes = [242, 186, 36, 24, 11, 8]\n",
    "explode = [0.1, 0.1, 0, 0, 0, 0]\n",
    "colors = ['#45ada8', '#d9acce', '#a75a94', '#970e3c', '#ec83aa', '#ef335a']\n",
    "\n",
    "fig, ax = plt.subplots()\n",
    "ax.pie(sizes, explode=explode, labels=labels, colors=colors, \n",
    "       autopct='%1.1f%%', startangle=50)\n",
    "ax.axis('equal')\n",
    "\n",
    "plt.title(text)\n",
    "plt.savefig(f'plots/{text}.png')"
   ]
  },
  {
   "cell_type": "code",
   "execution_count": null,
   "metadata": {},
   "outputs": [],
   "source": []
  },
  {
   "cell_type": "markdown",
   "metadata": {},
   "source": [
    "## 4. Italian"
   ]
  },
  {
   "cell_type": "code",
   "execution_count": 62,
   "metadata": {},
   "outputs": [
    {
     "data": {
      "text/html": [
       "<div>\n",
       "<style scoped>\n",
       "    .dataframe tbody tr th:only-of-type {\n",
       "        vertical-align: middle;\n",
       "    }\n",
       "\n",
       "    .dataframe tbody tr th {\n",
       "        vertical-align: top;\n",
       "    }\n",
       "\n",
       "    .dataframe thead th {\n",
       "        text-align: right;\n",
       "    }\n",
       "</style>\n",
       "<table border=\"1\" class=\"dataframe\">\n",
       "  <thead>\n",
       "    <tr style=\"text-align: right;\">\n",
       "      <th></th>\n",
       "      <th>Year</th>\n",
       "      <th>PG</th>\n",
       "      <th>ID</th>\n",
       "      <th>ID2</th>\n",
       "      <th>CAT_ORG</th>\n",
       "      <th>FULL</th>\n",
       "      <th>Position</th>\n",
       "      <th>Nation</th>\n",
       "      <th>Name</th>\n",
       "      <th>NATIONALITY</th>\n",
       "      <th>...</th>\n",
       "      <th>ST Name 2</th>\n",
       "      <th>ST Name 3</th>\n",
       "      <th>ST Name 4</th>\n",
       "      <th>ST Name 5</th>\n",
       "      <th>ST Name 6</th>\n",
       "      <th>First</th>\n",
       "      <th>Last</th>\n",
       "      <th>country1_api</th>\n",
       "      <th>country2_api</th>\n",
       "      <th>origin_api</th>\n",
       "    </tr>\n",
       "  </thead>\n",
       "  <tbody>\n",
       "    <tr>\n",
       "      <th>2027</th>\n",
       "      <td>1913_TrowBusMan</td>\n",
       "      <td>904</td>\n",
       "      <td>19</td>\n",
       "      <td>1913_TrowBusMan_19</td>\n",
       "      <td>Restaurants</td>\n",
       "      <td>Acampora Giovanni, 328 E 107th</td>\n",
       "      <td>19</td>\n",
       "      <td>NaN</td>\n",
       "      <td>Acampora Giovanni</td>\n",
       "      <td>Italian</td>\n",
       "      <td>...</td>\n",
       "      <td>E</td>\n",
       "      <td>107th</td>\n",
       "      <td>NaN</td>\n",
       "      <td>NaN</td>\n",
       "      <td>NaN</td>\n",
       "      <td>Giovanni</td>\n",
       "      <td>Acampora</td>\n",
       "      <td>Italy</td>\n",
       "      <td>Spain</td>\n",
       "      <td>NaN</td>\n",
       "    </tr>\n",
       "  </tbody>\n",
       "</table>\n",
       "<p>1 rows × 28 columns</p>\n",
       "</div>"
      ],
      "text/plain": [
       "                 Year   PG  ID                 ID2      CAT_ORG  \\\n",
       "2027  1913_TrowBusMan  904  19  1913_TrowBusMan_19  Restaurants   \n",
       "\n",
       "                                FULL  Position Nation               Name  \\\n",
       "2027  Acampora Giovanni, 328 E 107th        19    NaN  Acampora Giovanni   \n",
       "\n",
       "     NATIONALITY  ... ST Name 2 ST Name 3 ST Name 4 ST Name 5 ST Name 6  \\\n",
       "2027     Italian  ...         E     107th       NaN       NaN       NaN   \n",
       "\n",
       "         First      Last country1_api country2_api origin_api  \n",
       "2027  Giovanni  Acampora        Italy        Spain        NaN  \n",
       "\n",
       "[1 rows x 28 columns]"
      ]
     },
     "execution_count": 62,
     "metadata": {},
     "output_type": "execute_result"
    }
   ],
   "source": [
    "Italian = df[df['NATIONALITY final']=='Italian']\n",
    "Italian.head(1)"
   ]
  },
  {
   "cell_type": "code",
   "execution_count": 63,
   "metadata": {},
   "outputs": [
    {
     "data": {
      "text/plain": [
       "Italy             247\n",
       "Spain              26\n",
       "France             22\n",
       "Kenya              11\n",
       "Ireland             9\n",
       "error               9\n",
       "Greece              6\n",
       "United Kingdom      4\n",
       "CD                  3\n",
       "Portugal            3\n",
       "Name: country1_api, dtype: int64"
      ]
     },
     "execution_count": 63,
     "metadata": {},
     "output_type": "execute_result"
    }
   ],
   "source": [
    "Italian['country1_api'].value_counts()[:10]"
   ]
  },
  {
   "cell_type": "code",
   "execution_count": 67,
   "metadata": {},
   "outputs": [
    {
     "data": {
      "image/png": "[encoded data removed]",
      "text/plain": [
       "<Figure size 432x288 with 1 Axes>"
      ]
     },
     "metadata": {},
     "output_type": "display_data"
    }
   ],
   "source": [
    "text = '*Italian* Ancestry in API Results'\n",
    "\n",
    "labels = ['Italy: 247', 'Spain: 26', 'France: 22', 'Kenya: 11', 'Ireland: 9', 'Greece: 6']\n",
    "sizes = [247, 26, 22, 11, 9, 6]\n",
    "explode = [0.1, 0, 0, 0, 0, 0]\n",
    "colors = ['#45ada8', '#d9acce', '#a75a94', '#970e3c', '#ec83aa', '#ef335a']\n",
    "\n",
    "fig, ax = plt.subplots()\n",
    "ax.pie(sizes, explode=explode, labels=labels, colors=colors, \n",
    "       autopct='%1.1f%%', startangle=50)\n",
    "ax.axis('equal')\n",
    "\n",
    "plt.title(text)\n",
    "plt.savefig(f'plots/{text}.png')"
   ]
  },
  {
   "cell_type": "code",
   "execution_count": null,
   "metadata": {},
   "outputs": [],
   "source": []
  },
  {
   "cell_type": "markdown",
   "metadata": {},
   "source": [
    "## 5. Greek"
   ]
  },
  {
   "cell_type": "code",
   "execution_count": 68,
   "metadata": {},
   "outputs": [
    {
     "data": {
      "text/html": [
       "<div>\n",
       "<style scoped>\n",
       "    .dataframe tbody tr th:only-of-type {\n",
       "        vertical-align: middle;\n",
       "    }\n",
       "\n",
       "    .dataframe tbody tr th {\n",
       "        vertical-align: top;\n",
       "    }\n",
       "\n",
       "    .dataframe thead th {\n",
       "        text-align: right;\n",
       "    }\n",
       "</style>\n",
       "<table border=\"1\" class=\"dataframe\">\n",
       "  <thead>\n",
       "    <tr style=\"text-align: right;\">\n",
       "      <th></th>\n",
       "      <th>Year</th>\n",
       "      <th>PG</th>\n",
       "      <th>ID</th>\n",
       "      <th>ID2</th>\n",
       "      <th>CAT_ORG</th>\n",
       "      <th>FULL</th>\n",
       "      <th>Position</th>\n",
       "      <th>Nation</th>\n",
       "      <th>Name</th>\n",
       "      <th>NATIONALITY</th>\n",
       "      <th>...</th>\n",
       "      <th>ST Name 2</th>\n",
       "      <th>ST Name 3</th>\n",
       "      <th>ST Name 4</th>\n",
       "      <th>ST Name 5</th>\n",
       "      <th>ST Name 6</th>\n",
       "      <th>First</th>\n",
       "      <th>Last</th>\n",
       "      <th>country1_api</th>\n",
       "      <th>country2_api</th>\n",
       "      <th>origin_api</th>\n",
       "    </tr>\n",
       "  </thead>\n",
       "  <tbody>\n",
       "    <tr>\n",
       "      <th>1758</th>\n",
       "      <td>1913_TrowBusMan</td>\n",
       "      <td>904</td>\n",
       "      <td>21</td>\n",
       "      <td>1913_TrowBusMan_21</td>\n",
       "      <td>Restaurants</td>\n",
       "      <td>Achilos Antonio, 1380 St Nicholas av</td>\n",
       "      <td>17</td>\n",
       "      <td>NaN</td>\n",
       "      <td>Achilos Antonio</td>\n",
       "      <td>Greek</td>\n",
       "      <td>...</td>\n",
       "      <td>St</td>\n",
       "      <td>Nicholas</td>\n",
       "      <td>av</td>\n",
       "      <td>NaN</td>\n",
       "      <td>NaN</td>\n",
       "      <td>Antonio</td>\n",
       "      <td>Achilos</td>\n",
       "      <td>Spain</td>\n",
       "      <td>Portugal</td>\n",
       "      <td>NaN</td>\n",
       "    </tr>\n",
       "  </tbody>\n",
       "</table>\n",
       "<p>1 rows × 28 columns</p>\n",
       "</div>"
      ],
      "text/plain": [
       "                 Year   PG  ID                 ID2      CAT_ORG  \\\n",
       "1758  1913_TrowBusMan  904  21  1913_TrowBusMan_21  Restaurants   \n",
       "\n",
       "                                      FULL  Position Nation             Name  \\\n",
       "1758  Achilos Antonio, 1380 St Nicholas av        17    NaN  Achilos Antonio   \n",
       "\n",
       "     NATIONALITY  ... ST Name 2 ST Name 3 ST Name 4 ST Name 5 ST Name 6  \\\n",
       "1758       Greek  ...        St  Nicholas        av       NaN       NaN   \n",
       "\n",
       "        First     Last country1_api country2_api origin_api  \n",
       "1758  Antonio  Achilos        Spain     Portugal        NaN  \n",
       "\n",
       "[1 rows x 28 columns]"
      ]
     },
     "execution_count": 68,
     "metadata": {},
     "output_type": "execute_result"
    }
   ],
   "source": [
    "Greek = df[df['NATIONALITY final']=='Greek']\n",
    "Greek.head(1)"
   ]
  },
  {
   "cell_type": "code",
   "execution_count": 69,
   "metadata": {},
   "outputs": [
    {
     "data": {
      "text/plain": [
       "Greece            84\n",
       "France            21\n",
       "Ireland            8\n",
       "United Kingdom     8\n",
       "Slovakia           7\n",
       "Kenya              7\n",
       "Portugal           6\n",
       "Germany            6\n",
       "Latvia             5\n",
       "Spain              4\n",
       "Name: country1_api, dtype: int64"
      ]
     },
     "execution_count": 69,
     "metadata": {},
     "output_type": "execute_result"
    }
   ],
   "source": [
    "Greek['country1_api'].value_counts()[:10]"
   ]
  },
  {
   "cell_type": "code",
   "execution_count": 72,
   "metadata": {},
   "outputs": [
    {
     "data": {
      "image/png": "[encoded data removed]",
      "text/plain": [
       "<Figure size 432x288 with 1 Axes>"
      ]
     },
     "metadata": {},
     "output_type": "display_data"
    }
   ],
   "source": [
    "text = '*Greek* Ancestry in API Results'\n",
    "\n",
    "labels = ['Greece: 84', 'France: 21', 'Ireland: 8', 'UK: 8', 'Slovakia: 7', 'Kenya: 7', 'Portugal: 6', 'Germany: 6']\n",
    "sizes = [84, 21, 8, 8, 7, 7, 6, 6]\n",
    "explode = [0.1, 0, 0, 0, 0, 0, 0, 0]\n",
    "colors = ['#45ada8', '#d9acce', '#a75a94', '#970e3c', '#ec83aa', '#ef335a', '#f765a3', '#f9d1d1']\n",
    "\n",
    "fig, ax = plt.subplots()\n",
    "ax.pie(sizes, explode=explode, labels=labels, colors=colors, \n",
    "       autopct='%1.1f%%', startangle=70)\n",
    "ax.axis('equal')\n",
    "\n",
    "plt.title(text)\n",
    "plt.savefig(f'plots/{text}.png')"
   ]
  },
  {
   "cell_type": "code",
   "execution_count": null,
   "metadata": {},
   "outputs": [],
   "source": []
  },
  {
   "cell_type": "markdown",
   "metadata": {},
   "source": [
    "## 6. French"
   ]
  },
  {
   "cell_type": "code",
   "execution_count": 73,
   "metadata": {},
   "outputs": [
    {
     "data": {
      "text/html": [
       "<div>\n",
       "<style scoped>\n",
       "    .dataframe tbody tr th:only-of-type {\n",
       "        vertical-align: middle;\n",
       "    }\n",
       "\n",
       "    .dataframe tbody tr th {\n",
       "        vertical-align: top;\n",
       "    }\n",
       "\n",
       "    .dataframe thead th {\n",
       "        text-align: right;\n",
       "    }\n",
       "</style>\n",
       "<table border=\"1\" class=\"dataframe\">\n",
       "  <thead>\n",
       "    <tr style=\"text-align: right;\">\n",
       "      <th></th>\n",
       "      <th>Year</th>\n",
       "      <th>PG</th>\n",
       "      <th>ID</th>\n",
       "      <th>ID2</th>\n",
       "      <th>CAT_ORG</th>\n",
       "      <th>FULL</th>\n",
       "      <th>Position</th>\n",
       "      <th>Nation</th>\n",
       "      <th>Name</th>\n",
       "      <th>NATIONALITY</th>\n",
       "      <th>...</th>\n",
       "      <th>ST Name 2</th>\n",
       "      <th>ST Name 3</th>\n",
       "      <th>ST Name 4</th>\n",
       "      <th>ST Name 5</th>\n",
       "      <th>ST Name 6</th>\n",
       "      <th>First</th>\n",
       "      <th>Last</th>\n",
       "      <th>country1_api</th>\n",
       "      <th>country2_api</th>\n",
       "      <th>origin_api</th>\n",
       "    </tr>\n",
       "  </thead>\n",
       "  <tbody>\n",
       "    <tr>\n",
       "      <th>778</th>\n",
       "      <td>1913_TrowBusMan</td>\n",
       "      <td>904</td>\n",
       "      <td>23</td>\n",
       "      <td>1913_TrowBusMan_23</td>\n",
       "      <td>Restaurants</td>\n",
       "      <td>Adamoil Brothers, 74 Macdougal</td>\n",
       "      <td>18</td>\n",
       "      <td>NaN</td>\n",
       "      <td>Adamoil Brothers</td>\n",
       "      <td>French</td>\n",
       "      <td>...</td>\n",
       "      <td>Macdougal</td>\n",
       "      <td>NaN</td>\n",
       "      <td>NaN</td>\n",
       "      <td>NaN</td>\n",
       "      <td>NaN</td>\n",
       "      <td>Brothers</td>\n",
       "      <td>Adamoil</td>\n",
       "      <td>Ireland</td>\n",
       "      <td>Ghana</td>\n",
       "      <td>Northern Europe</td>\n",
       "    </tr>\n",
       "  </tbody>\n",
       "</table>\n",
       "<p>1 rows × 28 columns</p>\n",
       "</div>"
      ],
      "text/plain": [
       "                Year   PG  ID                 ID2      CAT_ORG  \\\n",
       "778  1913_TrowBusMan  904  23  1913_TrowBusMan_23  Restaurants   \n",
       "\n",
       "                               FULL  Position Nation              Name  \\\n",
       "778  Adamoil Brothers, 74 Macdougal        18    NaN  Adamoil Brothers   \n",
       "\n",
       "    NATIONALITY  ...  ST Name 2 ST Name 3 ST Name 4 ST Name 5 ST Name 6  \\\n",
       "778      French  ...  Macdougal       NaN       NaN       NaN       NaN   \n",
       "\n",
       "        First     Last country1_api country2_api       origin_api  \n",
       "778  Brothers  Adamoil      Ireland        Ghana  Northern Europe  \n",
       "\n",
       "[1 rows x 28 columns]"
      ]
     },
     "execution_count": 73,
     "metadata": {},
     "output_type": "execute_result"
    }
   ],
   "source": [
    "French = df[df['NATIONALITY final']=='French']\n",
    "French.head(1)"
   ]
  },
  {
   "cell_type": "code",
   "execution_count": 74,
   "metadata": {},
   "outputs": [
    {
     "data": {
      "text/plain": [
       "cannot use api    31\n",
       "France            24\n",
       "Italy             10\n",
       "Ireland            7\n",
       "Spain              4\n",
       "Israel             3\n",
       "Germany            3\n",
       "United Kingdom     2\n",
       "Greece             1\n",
       "Madagascar         1\n",
       "Name: country1_api, dtype: int64"
      ]
     },
     "execution_count": 74,
     "metadata": {},
     "output_type": "execute_result"
    }
   ],
   "source": [
    "French['country1_api'].value_counts()[:10]"
   ]
  },
  {
   "cell_type": "code",
   "execution_count": 75,
   "metadata": {},
   "outputs": [
    {
     "data": {
      "image/png": "[encoded data removed]",
      "text/plain": [
       "<Figure size 432x288 with 1 Axes>"
      ]
     },
     "metadata": {},
     "output_type": "display_data"
    }
   ],
   "source": [
    "text = '*French* Ancestry in API Results'\n",
    "\n",
    "labels = ['France: 24', 'Italy: 10', 'Ireland: 7', 'Spain: 4', 'Israel: 3', 'Germany: 3']\n",
    "sizes = [24, 10, 7, 4, 3, 3]\n",
    "explode = [0.1, 0, 0, 0, 0, 0]\n",
    "colors = ['#45ada8', '#d9acce', '#a75a94', '#970e3c', '#ec83aa', '#ef335a']\n",
    "\n",
    "fig, ax = plt.subplots()\n",
    "ax.pie(sizes, explode=explode, labels=labels, colors=colors, \n",
    "       autopct='%1.1f%%', startangle=80)\n",
    "ax.axis('equal')\n",
    "\n",
    "plt.title(text)\n",
    "plt.savefig(f'plots/{text}.png')"
   ]
  },
  {
   "cell_type": "code",
   "execution_count": null,
   "metadata": {},
   "outputs": [],
   "source": []
  },
  {
   "cell_type": "markdown",
   "metadata": {},
   "source": [
    "## 7. Polish"
   ]
  },
  {
   "cell_type": "code",
   "execution_count": 76,
   "metadata": {},
   "outputs": [
    {
     "data": {
      "text/html": [
       "<div>\n",
       "<style scoped>\n",
       "    .dataframe tbody tr th:only-of-type {\n",
       "        vertical-align: middle;\n",
       "    }\n",
       "\n",
       "    .dataframe tbody tr th {\n",
       "        vertical-align: top;\n",
       "    }\n",
       "\n",
       "    .dataframe thead th {\n",
       "        text-align: right;\n",
       "    }\n",
       "</style>\n",
       "<table border=\"1\" class=\"dataframe\">\n",
       "  <thead>\n",
       "    <tr style=\"text-align: right;\">\n",
       "      <th></th>\n",
       "      <th>Year</th>\n",
       "      <th>PG</th>\n",
       "      <th>ID</th>\n",
       "      <th>ID2</th>\n",
       "      <th>CAT_ORG</th>\n",
       "      <th>FULL</th>\n",
       "      <th>Position</th>\n",
       "      <th>Nation</th>\n",
       "      <th>Name</th>\n",
       "      <th>NATIONALITY</th>\n",
       "      <th>...</th>\n",
       "      <th>ST Name 2</th>\n",
       "      <th>ST Name 3</th>\n",
       "      <th>ST Name 4</th>\n",
       "      <th>ST Name 5</th>\n",
       "      <th>ST Name 6</th>\n",
       "      <th>First</th>\n",
       "      <th>Last</th>\n",
       "      <th>country1_api</th>\n",
       "      <th>country2_api</th>\n",
       "      <th>origin_api</th>\n",
       "    </tr>\n",
       "  </thead>\n",
       "  <tbody>\n",
       "    <tr>\n",
       "      <th>3071</th>\n",
       "      <td>1913_TrowBusMan</td>\n",
       "      <td>907</td>\n",
       "      <td>730</td>\n",
       "      <td>1913_TrowBusMan_730</td>\n",
       "      <td>Restaurants</td>\n",
       "      <td>Czerniawski W, &amp; W. Lichodziejewski, 545 E12th</td>\n",
       "      <td>37</td>\n",
       "      <td>NaN</td>\n",
       "      <td>Czerniawski W &amp; W Lichodziejewski</td>\n",
       "      <td>Polish</td>\n",
       "      <td>...</td>\n",
       "      <td>E12th</td>\n",
       "      <td>NaN</td>\n",
       "      <td>NaN</td>\n",
       "      <td>NaN</td>\n",
       "      <td>NaN</td>\n",
       "      <td>W</td>\n",
       "      <td>Czerniawski</td>\n",
       "      <td>Poland</td>\n",
       "      <td>Germany</td>\n",
       "      <td>NaN</td>\n",
       "    </tr>\n",
       "  </tbody>\n",
       "</table>\n",
       "<p>1 rows × 28 columns</p>\n",
       "</div>"
      ],
      "text/plain": [
       "                 Year   PG   ID                  ID2      CAT_ORG  \\\n",
       "3071  1913_TrowBusMan  907  730  1913_TrowBusMan_730  Restaurants   \n",
       "\n",
       "                                                FULL  Position Nation  \\\n",
       "3071  Czerniawski W, & W. Lichodziejewski, 545 E12th        37    NaN   \n",
       "\n",
       "                                   Name NATIONALITY  ... ST Name 2 ST Name 3  \\\n",
       "3071  Czerniawski W & W Lichodziejewski      Polish  ...     E12th       NaN   \n",
       "\n",
       "     ST Name 4 ST Name 5 ST Name 6 First         Last country1_api  \\\n",
       "3071       NaN       NaN       NaN     W  Czerniawski       Poland   \n",
       "\n",
       "     country2_api origin_api  \n",
       "3071      Germany        NaN  \n",
       "\n",
       "[1 rows x 28 columns]"
      ]
     },
     "execution_count": 76,
     "metadata": {},
     "output_type": "execute_result"
    }
   ],
   "source": [
    "Polish = df[df['NATIONALITY final']=='Polish']\n",
    "Polish.head(1)"
   ]
  },
  {
   "cell_type": "code",
   "execution_count": 77,
   "metadata": {},
   "outputs": [
    {
     "data": {
      "text/plain": [
       "Israel         23\n",
       "Ireland        17\n",
       "Germany        10\n",
       "Poland          8\n",
       "France          4\n",
       "Hungary         3\n",
       "Netherlands     2\n",
       "Turkey          2\n",
       "Slovakia        2\n",
       "Ghana           2\n",
       "Name: country1_api, dtype: int64"
      ]
     },
     "execution_count": 77,
     "metadata": {},
     "output_type": "execute_result"
    }
   ],
   "source": [
    "Polish['country1_api'].value_counts()[:10]"
   ]
  },
  {
   "cell_type": "code",
   "execution_count": 129,
   "metadata": {},
   "outputs": [
    {
     "data": {
      "image/png": "[encoded data removed]",
      "text/plain": [
       "<Figure size 432x288 with 1 Axes>"
      ]
     },
     "metadata": {},
     "output_type": "display_data"
    }
   ],
   "source": [
    "text = '*Polish* Ancestry in API Results'\n",
    "\n",
    "labels = ['Israel: 23', 'Ireland: 17', 'Germany: 10', 'Poland: 8', 'France: 4', 'Hungary: 3']\n",
    "sizes = [23, 17, 10, 8, 4, 3]\n",
    "explode = [0.1, 0, 0, 0.1, 0, 0]\n",
    "colors = ['#45ada8', '#d9acce', '#a75a94', '#970e3c', '#ec83aa', '#ef335a']\n",
    "\n",
    "fig, ax = plt.subplots()\n",
    "ax.pie(sizes, explode=explode, labels=labels, colors=colors, \n",
    "       autopct='%1.1f%%', startangle=70)\n",
    "ax.axis('equal')\n",
    "\n",
    "plt.title(text)\n",
    "plt.savefig(f'plots/{text}.png')"
   ]
  },
  {
   "cell_type": "code",
   "execution_count": null,
   "metadata": {},
   "outputs": [],
   "source": []
  },
  {
   "cell_type": "markdown",
   "metadata": {},
   "source": [
    "## 8. Irish"
   ]
  },
  {
   "cell_type": "code",
   "execution_count": 81,
   "metadata": {},
   "outputs": [
    {
     "data": {
      "text/html": [
       "<div>\n",
       "<style scoped>\n",
       "    .dataframe tbody tr th:only-of-type {\n",
       "        vertical-align: middle;\n",
       "    }\n",
       "\n",
       "    .dataframe tbody tr th {\n",
       "        vertical-align: top;\n",
       "    }\n",
       "\n",
       "    .dataframe thead th {\n",
       "        text-align: right;\n",
       "    }\n",
       "</style>\n",
       "<table border=\"1\" class=\"dataframe\">\n",
       "  <thead>\n",
       "    <tr style=\"text-align: right;\">\n",
       "      <th></th>\n",
       "      <th>Year</th>\n",
       "      <th>PG</th>\n",
       "      <th>ID</th>\n",
       "      <th>ID2</th>\n",
       "      <th>CAT_ORG</th>\n",
       "      <th>FULL</th>\n",
       "      <th>Position</th>\n",
       "      <th>Nation</th>\n",
       "      <th>Name</th>\n",
       "      <th>NATIONALITY</th>\n",
       "      <th>...</th>\n",
       "      <th>ST Name 2</th>\n",
       "      <th>ST Name 3</th>\n",
       "      <th>ST Name 4</th>\n",
       "      <th>ST Name 5</th>\n",
       "      <th>ST Name 6</th>\n",
       "      <th>First</th>\n",
       "      <th>Last</th>\n",
       "      <th>country1_api</th>\n",
       "      <th>country2_api</th>\n",
       "      <th>origin_api</th>\n",
       "    </tr>\n",
       "  </thead>\n",
       "  <tbody>\n",
       "    <tr>\n",
       "      <th>1954</th>\n",
       "      <td>1913_TrowBusMan</td>\n",
       "      <td>905</td>\n",
       "      <td>216</td>\n",
       "      <td>1913_TrowBusMan_216</td>\n",
       "      <td>Restaurants</td>\n",
       "      <td>Bergin Michael J. 35 Cooper sq E</td>\n",
       "      <td>18</td>\n",
       "      <td>NaN</td>\n",
       "      <td>Bergin Michael J</td>\n",
       "      <td>Irish</td>\n",
       "      <td>...</td>\n",
       "      <td>Cooper</td>\n",
       "      <td>sq</td>\n",
       "      <td>E</td>\n",
       "      <td>NaN</td>\n",
       "      <td>NaN</td>\n",
       "      <td>Michael</td>\n",
       "      <td>Bergin</td>\n",
       "      <td>Ireland</td>\n",
       "      <td>France</td>\n",
       "      <td>NaN</td>\n",
       "    </tr>\n",
       "  </tbody>\n",
       "</table>\n",
       "<p>1 rows × 28 columns</p>\n",
       "</div>"
      ],
      "text/plain": [
       "                 Year   PG   ID                  ID2      CAT_ORG  \\\n",
       "1954  1913_TrowBusMan  905  216  1913_TrowBusMan_216  Restaurants   \n",
       "\n",
       "                                  FULL  Position Nation              Name  \\\n",
       "1954  Bergin Michael J. 35 Cooper sq E        18    NaN  Bergin Michael J   \n",
       "\n",
       "     NATIONALITY  ... ST Name 2 ST Name 3 ST Name 4 ST Name 5 ST Name 6  \\\n",
       "1954       Irish  ...    Cooper        sq         E       NaN       NaN   \n",
       "\n",
       "        First    Last country1_api country2_api origin_api  \n",
       "1954  Michael  Bergin      Ireland       France        NaN  \n",
       "\n",
       "[1 rows x 28 columns]"
      ]
     },
     "execution_count": 81,
     "metadata": {},
     "output_type": "execute_result"
    }
   ],
   "source": [
    "Irish = df[df['NATIONALITY final']=='Irish']\n",
    "Irish.head(1)"
   ]
  },
  {
   "cell_type": "code",
   "execution_count": 82,
   "metadata": {},
   "outputs": [
    {
     "data": {
      "text/plain": [
       "Ireland           55\n",
       "error              9\n",
       "Germany            4\n",
       "Switzerland        1\n",
       "Malaysia           1\n",
       "South Africa       1\n",
       "United Kingdom     1\n",
       "Name: country1_api, dtype: int64"
      ]
     },
     "execution_count": 82,
     "metadata": {},
     "output_type": "execute_result"
    }
   ],
   "source": [
    "Irish['country1_api'].value_counts()[:10]"
   ]
  },
  {
   "cell_type": "code",
   "execution_count": 85,
   "metadata": {},
   "outputs": [
    {
     "data": {
      "image/png": "[encoded data removed]",
      "text/plain": [
       "<Figure size 432x288 with 1 Axes>"
      ]
     },
     "metadata": {},
     "output_type": "display_data"
    }
   ],
   "source": [
    "text = '*Irish* Ancestry in API Results'\n",
    "\n",
    "labels = ['Ireland: 55', 'Germany: 4', 'Swiss: 1', 'Malaysia: 1', 'South Africa: 1', 'UK: 1']\n",
    "sizes = [55, 4, 1, 1, 1, 1]\n",
    "explode = [0.1, 0, 0, 0, 0, 0]\n",
    "colors = ['#45ada8', '#d9acce', '#a75a94', '#970e3c', '#ec83aa', '#ef335a']\n",
    "\n",
    "fig, ax = plt.subplots()\n",
    "ax.pie(sizes, explode=explode, labels=labels, colors=colors, \n",
    "       autopct='%1.1f%%', startangle=40)\n",
    "ax.axis('equal')\n",
    "\n",
    "plt.title(text)\n",
    "plt.savefig(f'plots/{text}.png')"
   ]
  },
  {
   "cell_type": "code",
   "execution_count": null,
   "metadata": {},
   "outputs": [],
   "source": []
  },
  {
   "cell_type": "markdown",
   "metadata": {},
   "source": [
    "## 9. Chinese"
   ]
  },
  {
   "cell_type": "code",
   "execution_count": 86,
   "metadata": {},
   "outputs": [
    {
     "data": {
      "text/html": [
       "<div>\n",
       "<style scoped>\n",
       "    .dataframe tbody tr th:only-of-type {\n",
       "        vertical-align: middle;\n",
       "    }\n",
       "\n",
       "    .dataframe tbody tr th {\n",
       "        vertical-align: top;\n",
       "    }\n",
       "\n",
       "    .dataframe thead th {\n",
       "        text-align: right;\n",
       "    }\n",
       "</style>\n",
       "<table border=\"1\" class=\"dataframe\">\n",
       "  <thead>\n",
       "    <tr style=\"text-align: right;\">\n",
       "      <th></th>\n",
       "      <th>Year</th>\n",
       "      <th>PG</th>\n",
       "      <th>ID</th>\n",
       "      <th>ID2</th>\n",
       "      <th>CAT_ORG</th>\n",
       "      <th>FULL</th>\n",
       "      <th>Position</th>\n",
       "      <th>Nation</th>\n",
       "      <th>Name</th>\n",
       "      <th>NATIONALITY</th>\n",
       "      <th>...</th>\n",
       "      <th>ST Name 2</th>\n",
       "      <th>ST Name 3</th>\n",
       "      <th>ST Name 4</th>\n",
       "      <th>ST Name 5</th>\n",
       "      <th>ST Name 6</th>\n",
       "      <th>First</th>\n",
       "      <th>Last</th>\n",
       "      <th>country1_api</th>\n",
       "      <th>country2_api</th>\n",
       "      <th>origin_api</th>\n",
       "    </tr>\n",
       "  </thead>\n",
       "  <tbody>\n",
       "    <tr>\n",
       "      <th>40</th>\n",
       "      <td>1913_TrowBusMan</td>\n",
       "      <td>905</td>\n",
       "      <td>93</td>\n",
       "      <td>1913_TrowBusMan_93</td>\n",
       "      <td>Restaurants</td>\n",
       "      <td>Asahi Tea Room, 61 W38th</td>\n",
       "      <td>16</td>\n",
       "      <td>CM</td>\n",
       "      <td>Asahi Tea Room</td>\n",
       "      <td>Chinese</td>\n",
       "      <td>...</td>\n",
       "      <td>W38th</td>\n",
       "      <td>NaN</td>\n",
       "      <td>NaN</td>\n",
       "      <td>NaN</td>\n",
       "      <td>NaN</td>\n",
       "      <td>Tea</td>\n",
       "      <td>Asahi</td>\n",
       "      <td>Japan</td>\n",
       "      <td>CÃÂÃÂÃÂÃÂÃÂÃÂÃÂÃÂÃÂÃÂÃÂÃ...</td>\n",
       "      <td>NaN</td>\n",
       "    </tr>\n",
       "  </tbody>\n",
       "</table>\n",
       "<p>1 rows × 28 columns</p>\n",
       "</div>"
      ],
      "text/plain": [
       "               Year   PG  ID                 ID2      CAT_ORG  \\\n",
       "40  1913_TrowBusMan  905  93  1913_TrowBusMan_93  Restaurants   \n",
       "\n",
       "                        FULL  Position Nation            Name NATIONALITY  \\\n",
       "40  Asahi Tea Room, 61 W38th        16     CM  Asahi Tea Room     Chinese   \n",
       "\n",
       "    ... ST Name 2 ST Name 3 ST Name 4 ST Name 5 ST Name 6 First   Last  \\\n",
       "40  ...     W38th       NaN       NaN       NaN       NaN   Tea  Asahi   \n",
       "\n",
       "   country1_api                                       country2_api origin_api  \n",
       "40        Japan  CÃÂÃÂÃÂÃÂÃÂÃÂÃÂÃÂÃÂÃÂÃÂÃ...        NaN  \n",
       "\n",
       "[1 rows x 28 columns]"
      ]
     },
     "execution_count": 86,
     "metadata": {},
     "output_type": "execute_result"
    }
   ],
   "source": [
    "Chinese = df[df['NATIONALITY final']=='Chinese']\n",
    "Chinese.head(1)"
   ]
  },
  {
   "cell_type": "code",
   "execution_count": 87,
   "metadata": {},
   "outputs": [
    {
     "data": {
      "text/plain": [
       "Ireland           9\n",
       "Malaysia          8\n",
       "South Korea       6\n",
       "Italy             5\n",
       "Hong Kong         5\n",
       "China             5\n",
       "Myanmar           4\n",
       "France            3\n",
       "Vietnam           3\n",
       "United Kingdom    2\n",
       "Name: country1_api, dtype: int64"
      ]
     },
     "execution_count": 87,
     "metadata": {},
     "output_type": "execute_result"
    }
   ],
   "source": [
    "Chinese['country1_api'].value_counts()[:10]"
   ]
  },
  {
   "cell_type": "code",
   "execution_count": 128,
   "metadata": {},
   "outputs": [
    {
     "data": {
      "image/png": "[encoded data removed]",
      "text/plain": [
       "<Figure size 432x288 with 1 Axes>"
      ]
     },
     "metadata": {},
     "output_type": "display_data"
    }
   ],
   "source": [
    "text = '*Chinese* Ancestry in API Results'\n",
    "\n",
    "labels = ['Ireland: 9', 'Malaysia: 8', 'South Korea: 6', 'Italy: 5', 'China: 5', 'Hong Kong: 5', 'Myanmar: 4', 'Vietnam: 3']\n",
    "sizes = [9, 8, 6, 5, 5, 5, 4, 3]\n",
    "explode = [0.1, 0, 0, 0, 0.1, 0.1, 0, 0]\n",
    "colors = ['#45ada8', '#d9acce', '#a75a94', '#970e3c', '#ec83aa', '#ef335a', '#f765a3', '#f9d1d1']\n",
    "\n",
    "fig, ax = plt.subplots()\n",
    "ax.pie(sizes, explode=explode, labels=labels, colors=colors, \n",
    "       autopct='%1.1f%%', startangle=85)\n",
    "ax.axis('equal')\n",
    "\n",
    "plt.title(text)\n",
    "plt.savefig(f'plots/{text}.png')"
   ]
  },
  {
   "cell_type": "code",
   "execution_count": null,
   "metadata": {},
   "outputs": [],
   "source": []
  },
  {
   "cell_type": "markdown",
   "metadata": {},
   "source": [
    "## 10. Spanish"
   ]
  },
  {
   "cell_type": "code",
   "execution_count": 91,
   "metadata": {},
   "outputs": [
    {
     "data": {
      "text/html": [
       "<div>\n",
       "<style scoped>\n",
       "    .dataframe tbody tr th:only-of-type {\n",
       "        vertical-align: middle;\n",
       "    }\n",
       "\n",
       "    .dataframe tbody tr th {\n",
       "        vertical-align: top;\n",
       "    }\n",
       "\n",
       "    .dataframe thead th {\n",
       "        text-align: right;\n",
       "    }\n",
       "</style>\n",
       "<table border=\"1\" class=\"dataframe\">\n",
       "  <thead>\n",
       "    <tr style=\"text-align: right;\">\n",
       "      <th></th>\n",
       "      <th>Year</th>\n",
       "      <th>PG</th>\n",
       "      <th>ID</th>\n",
       "      <th>ID2</th>\n",
       "      <th>CAT_ORG</th>\n",
       "      <th>FULL</th>\n",
       "      <th>Position</th>\n",
       "      <th>Nation</th>\n",
       "      <th>Name</th>\n",
       "      <th>NATIONALITY</th>\n",
       "      <th>...</th>\n",
       "      <th>ST Name 2</th>\n",
       "      <th>ST Name 3</th>\n",
       "      <th>ST Name 4</th>\n",
       "      <th>ST Name 5</th>\n",
       "      <th>ST Name 6</th>\n",
       "      <th>First</th>\n",
       "      <th>Last</th>\n",
       "      <th>country1_api</th>\n",
       "      <th>country2_api</th>\n",
       "      <th>origin_api</th>\n",
       "    </tr>\n",
       "  </thead>\n",
       "  <tbody>\n",
       "    <tr>\n",
       "      <th>3220</th>\n",
       "      <td>1913_TrowBusMan</td>\n",
       "      <td>905</td>\n",
       "      <td>192</td>\n",
       "      <td>1913_TrowBusMan_192</td>\n",
       "      <td>Restaurants</td>\n",
       "      <td>Belmonte &amp; Russo, 234 E113th</td>\n",
       "      <td>18</td>\n",
       "      <td>NaN</td>\n",
       "      <td>Belmonte &amp; Russo</td>\n",
       "      <td>Spanish</td>\n",
       "      <td>...</td>\n",
       "      <td>E113th</td>\n",
       "      <td>NaN</td>\n",
       "      <td>NaN</td>\n",
       "      <td>NaN</td>\n",
       "      <td>NaN</td>\n",
       "      <td>&amp;</td>\n",
       "      <td>Belmonte</td>\n",
       "      <td>Spain</td>\n",
       "      <td>Italy</td>\n",
       "      <td>NaN</td>\n",
       "    </tr>\n",
       "  </tbody>\n",
       "</table>\n",
       "<p>1 rows × 28 columns</p>\n",
       "</div>"
      ],
      "text/plain": [
       "                 Year   PG   ID                  ID2      CAT_ORG  \\\n",
       "3220  1913_TrowBusMan  905  192  1913_TrowBusMan_192  Restaurants   \n",
       "\n",
       "                              FULL  Position Nation              Name  \\\n",
       "3220  Belmonte & Russo, 234 E113th        18    NaN  Belmonte & Russo   \n",
       "\n",
       "     NATIONALITY  ... ST Name 2 ST Name 3 ST Name 4 ST Name 5 ST Name 6 First  \\\n",
       "3220     Spanish  ...    E113th       NaN       NaN       NaN       NaN     &   \n",
       "\n",
       "          Last country1_api country2_api origin_api  \n",
       "3220  Belmonte        Spain        Italy        NaN  \n",
       "\n",
       "[1 rows x 28 columns]"
      ]
     },
     "execution_count": 91,
     "metadata": {},
     "output_type": "execute_result"
    }
   ],
   "source": [
    "Spanish = df[df['NATIONALITY final']=='Spanish']\n",
    "Spanish.head(1)"
   ]
  },
  {
   "cell_type": "code",
   "execution_count": 92,
   "metadata": {},
   "outputs": [
    {
     "data": {
      "text/plain": [
       "Spain                   13\n",
       "Italy                   10\n",
       "France                   3\n",
       "Greece                   3\n",
       "Ireland                  2\n",
       "Germany                  1\n",
       "Slovakia                 1\n",
       "United Kingdom           1\n",
       "Moldova, Republic of     1\n",
       "Hungary                  1\n",
       "Name: country1_api, dtype: int64"
      ]
     },
     "execution_count": 92,
     "metadata": {},
     "output_type": "execute_result"
    }
   ],
   "source": [
    "Spanish['country1_api'].value_counts()[:10]"
   ]
  },
  {
   "cell_type": "code",
   "execution_count": 94,
   "metadata": {},
   "outputs": [
    {
     "data": {
      "image/png": "[encoded data removed]",
      "text/plain": [
       "<Figure size 432x288 with 1 Axes>"
      ]
     },
     "metadata": {},
     "output_type": "display_data"
    }
   ],
   "source": [
    "text = '*Spanish* Ancestry in API Results'\n",
    "\n",
    "labels = ['Spain: 13', 'Italy: 10', 'France: 3', 'Greece: 3', 'Ireland: 2', 'Germany: 1']\n",
    "sizes = [13, 10, 3, 3, 2, 1]\n",
    "explode = [0.1, 0, 0, 0, 0, 0]\n",
    "colors = ['#45ada8', '#d9acce', '#a75a94', '#970e3c', '#ec83aa', '#ef335a']\n",
    "\n",
    "fig, ax = plt.subplots()\n",
    "ax.pie(sizes, explode=explode, labels=labels, colors=colors, \n",
    "       autopct='%1.1f%%', startangle=70)\n",
    "ax.axis('equal')\n",
    "\n",
    "plt.title(text)\n",
    "plt.savefig(f'plots/{text}.png')"
   ]
  },
  {
   "cell_type": "code",
   "execution_count": null,
   "metadata": {},
   "outputs": [],
   "source": []
  },
  {
   "cell_type": "markdown",
   "metadata": {},
   "source": [
    "## 11. Dutch"
   ]
  },
  {
   "cell_type": "code",
   "execution_count": 95,
   "metadata": {},
   "outputs": [
    {
     "data": {
      "text/html": [
       "<div>\n",
       "<style scoped>\n",
       "    .dataframe tbody tr th:only-of-type {\n",
       "        vertical-align: middle;\n",
       "    }\n",
       "\n",
       "    .dataframe tbody tr th {\n",
       "        vertical-align: top;\n",
       "    }\n",
       "\n",
       "    .dataframe thead th {\n",
       "        text-align: right;\n",
       "    }\n",
       "</style>\n",
       "<table border=\"1\" class=\"dataframe\">\n",
       "  <thead>\n",
       "    <tr style=\"text-align: right;\">\n",
       "      <th></th>\n",
       "      <th>Year</th>\n",
       "      <th>PG</th>\n",
       "      <th>ID</th>\n",
       "      <th>ID2</th>\n",
       "      <th>CAT_ORG</th>\n",
       "      <th>FULL</th>\n",
       "      <th>Position</th>\n",
       "      <th>Nation</th>\n",
       "      <th>Name</th>\n",
       "      <th>NATIONALITY</th>\n",
       "      <th>...</th>\n",
       "      <th>ST Name 2</th>\n",
       "      <th>ST Name 3</th>\n",
       "      <th>ST Name 4</th>\n",
       "      <th>ST Name 5</th>\n",
       "      <th>ST Name 6</th>\n",
       "      <th>First</th>\n",
       "      <th>Last</th>\n",
       "      <th>country1_api</th>\n",
       "      <th>country2_api</th>\n",
       "      <th>origin_api</th>\n",
       "    </tr>\n",
       "  </thead>\n",
       "  <tbody>\n",
       "    <tr>\n",
       "      <th>111</th>\n",
       "      <td>1913_TrowBusMan</td>\n",
       "      <td>905</td>\n",
       "      <td>44</td>\n",
       "      <td>1913_TrowBusMan_44</td>\n",
       "      <td>Restaurants</td>\n",
       "      <td>Als Jacob, 48 W4th</td>\n",
       "      <td>11</td>\n",
       "      <td>NaN</td>\n",
       "      <td>Als Jacob</td>\n",
       "      <td>Dutch</td>\n",
       "      <td>...</td>\n",
       "      <td>W4th</td>\n",
       "      <td>NaN</td>\n",
       "      <td>NaN</td>\n",
       "      <td>NaN</td>\n",
       "      <td>NaN</td>\n",
       "      <td>Jacob</td>\n",
       "      <td>Als</td>\n",
       "      <td>United Kingdom</td>\n",
       "      <td>Denmark</td>\n",
       "      <td>NaN</td>\n",
       "    </tr>\n",
       "  </tbody>\n",
       "</table>\n",
       "<p>1 rows × 28 columns</p>\n",
       "</div>"
      ],
      "text/plain": [
       "                Year   PG  ID                 ID2      CAT_ORG  \\\n",
       "111  1913_TrowBusMan  905  44  1913_TrowBusMan_44  Restaurants   \n",
       "\n",
       "                   FULL  Position Nation       Name NATIONALITY  ...  \\\n",
       "111  Als Jacob, 48 W4th        11    NaN  Als Jacob       Dutch  ...   \n",
       "\n",
       "    ST Name 2 ST Name 3 ST Name 4 ST Name 5 ST Name 6  First Last  \\\n",
       "111      W4th       NaN       NaN       NaN       NaN  Jacob  Als   \n",
       "\n",
       "       country1_api country2_api origin_api  \n",
       "111  United Kingdom      Denmark        NaN  \n",
       "\n",
       "[1 rows x 28 columns]"
      ]
     },
     "execution_count": 95,
     "metadata": {},
     "output_type": "execute_result"
    }
   ],
   "source": [
    "Dutch = df[df['NATIONALITY final']=='Dutch']\n",
    "Dutch.head(1)"
   ]
  },
  {
   "cell_type": "code",
   "execution_count": 96,
   "metadata": {},
   "outputs": [
    {
     "data": {
      "text/plain": [
       "Ireland           8\n",
       "Germany           7\n",
       "Netherlands       5\n",
       "Switzerland       4\n",
       "Belgium           2\n",
       "Austria           2\n",
       "United Kingdom    2\n",
       "Poland            1\n",
       "Denmark           1\n",
       "South Africa      1\n",
       "Name: country1_api, dtype: int64"
      ]
     },
     "execution_count": 96,
     "metadata": {},
     "output_type": "execute_result"
    }
   ],
   "source": [
    "Dutch['country1_api'].value_counts()[:10]"
   ]
  },
  {
   "cell_type": "code",
   "execution_count": 127,
   "metadata": {},
   "outputs": [
    {
     "data": {
      "image/png": "[encoded data removed]",
      "text/plain": [
       "<Figure size 432x288 with 1 Axes>"
      ]
     },
     "metadata": {},
     "output_type": "display_data"
    }
   ],
   "source": [
    "text = '*Dutch* Ancestry in API Results'\n",
    "\n",
    "labels = ['Ireland: 8', 'Germany: 7', 'Netherlands: 5', 'Swiss: 4', 'Belgium: 2', 'Austria: 2', 'UK: 2']\n",
    "sizes = [8, 7, 5, 4, 2, 2, 2]\n",
    "explode = [0.1, 0, 0.1, 0, 0, 0, 0]\n",
    "colors = ['#45ada8', '#d9acce', '#a75a94', '#970e3c', '#ec83aa', '#ef335a', '#f9d1d1']\n",
    "\n",
    "fig, ax = plt.subplots()\n",
    "ax.pie(sizes, explode=explode, labels=labels, colors=colors, \n",
    "       autopct='%1.1f%%', startangle=80)\n",
    "ax.axis('equal')\n",
    "\n",
    "plt.title(text)\n",
    "plt.savefig(f'plots/{text}.png')"
   ]
  },
  {
   "cell_type": "code",
   "execution_count": null,
   "metadata": {},
   "outputs": [],
   "source": []
  },
  {
   "cell_type": "markdown",
   "metadata": {},
   "source": [
    "## 12. Scottish"
   ]
  },
  {
   "cell_type": "code",
   "execution_count": 98,
   "metadata": {},
   "outputs": [
    {
     "data": {
      "text/html": [
       "<div>\n",
       "<style scoped>\n",
       "    .dataframe tbody tr th:only-of-type {\n",
       "        vertical-align: middle;\n",
       "    }\n",
       "\n",
       "    .dataframe tbody tr th {\n",
       "        vertical-align: top;\n",
       "    }\n",
       "\n",
       "    .dataframe thead th {\n",
       "        text-align: right;\n",
       "    }\n",
       "</style>\n",
       "<table border=\"1\" class=\"dataframe\">\n",
       "  <thead>\n",
       "    <tr style=\"text-align: right;\">\n",
       "      <th></th>\n",
       "      <th>Year</th>\n",
       "      <th>PG</th>\n",
       "      <th>ID</th>\n",
       "      <th>ID2</th>\n",
       "      <th>CAT_ORG</th>\n",
       "      <th>FULL</th>\n",
       "      <th>Position</th>\n",
       "      <th>Nation</th>\n",
       "      <th>Name</th>\n",
       "      <th>NATIONALITY</th>\n",
       "      <th>...</th>\n",
       "      <th>ST Name 2</th>\n",
       "      <th>ST Name 3</th>\n",
       "      <th>ST Name 4</th>\n",
       "      <th>ST Name 5</th>\n",
       "      <th>ST Name 6</th>\n",
       "      <th>First</th>\n",
       "      <th>Last</th>\n",
       "      <th>country1_api</th>\n",
       "      <th>country2_api</th>\n",
       "      <th>origin_api</th>\n",
       "    </tr>\n",
       "  </thead>\n",
       "  <tbody>\n",
       "    <tr>\n",
       "      <th>3187</th>\n",
       "      <td>1913_TrowBusMan</td>\n",
       "      <td>905</td>\n",
       "      <td>188</td>\n",
       "      <td>1913_TrowBusMan_188</td>\n",
       "      <td>Restaurants</td>\n",
       "      <td>Bell Art Restaurant Co. 128 W49th</td>\n",
       "      <td>24</td>\n",
       "      <td>NaN</td>\n",
       "      <td>Bell Art Restaurant Co</td>\n",
       "      <td>Scottish</td>\n",
       "      <td>...</td>\n",
       "      <td>W49th</td>\n",
       "      <td>NaN</td>\n",
       "      <td>NaN</td>\n",
       "      <td>NaN</td>\n",
       "      <td>NaN</td>\n",
       "      <td>Art</td>\n",
       "      <td>Bell</td>\n",
       "      <td>United Kingdom</td>\n",
       "      <td>Ireland</td>\n",
       "      <td>NaN</td>\n",
       "    </tr>\n",
       "  </tbody>\n",
       "</table>\n",
       "<p>1 rows × 28 columns</p>\n",
       "</div>"
      ],
      "text/plain": [
       "                 Year   PG   ID                  ID2      CAT_ORG  \\\n",
       "3187  1913_TrowBusMan  905  188  1913_TrowBusMan_188  Restaurants   \n",
       "\n",
       "                                   FULL  Position Nation  \\\n",
       "3187  Bell Art Restaurant Co. 128 W49th        24    NaN   \n",
       "\n",
       "                        Name NATIONALITY  ... ST Name 2 ST Name 3 ST Name 4  \\\n",
       "3187  Bell Art Restaurant Co    Scottish  ...     W49th       NaN       NaN   \n",
       "\n",
       "     ST Name 5 ST Name 6 First  Last    country1_api country2_api origin_api  \n",
       "3187       NaN       NaN   Art  Bell  United Kingdom      Ireland        NaN  \n",
       "\n",
       "[1 rows x 28 columns]"
      ]
     },
     "execution_count": 98,
     "metadata": {},
     "output_type": "execute_result"
    }
   ],
   "source": [
    "Scottish = df[df['NATIONALITY final']=='Scottish']\n",
    "Scottish.head(1)"
   ]
  },
  {
   "cell_type": "code",
   "execution_count": 101,
   "metadata": {},
   "outputs": [
    {
     "data": {
      "text/plain": [
       "Ireland           17\n",
       "United Kingdom    10\n",
       "Sweden             1\n",
       "Switzerland        1\n",
       "error              1\n",
       "Viet Nam           1\n",
       "Name: country1_api, dtype: int64"
      ]
     },
     "execution_count": 101,
     "metadata": {},
     "output_type": "execute_result"
    }
   ],
   "source": [
    "Scottish['country1_api'].value_counts()[:10]"
   ]
  },
  {
   "cell_type": "code",
   "execution_count": 126,
   "metadata": {},
   "outputs": [
    {
     "data": {
      "image/png": "[encoded data removed]",
      "text/plain": [
       "<Figure size 432x288 with 1 Axes>"
      ]
     },
     "metadata": {},
     "output_type": "display_data"
    }
   ],
   "source": [
    "text = '*Scottish* Ancestry in API Results'\n",
    "\n",
    "labels = ['Ireland: 17', 'UK: 10', 'Sweden: 1', 'Swiss: 1']\n",
    "sizes = [17, 10, 1, 1]\n",
    "explode = [0.1, 0.1, 0, 0]\n",
    "colors = ['#45ada8', '#d9acce', '#a75a94', '#970e3c']\n",
    "\n",
    "fig, ax = plt.subplots()\n",
    "ax.pie(sizes, explode=explode, labels=labels, colors=colors, \n",
    "       autopct='%1.1f%%', startangle=60)\n",
    "ax.axis('equal')\n",
    "\n",
    "plt.title(text)\n",
    "plt.savefig(f'plots/{text}.png')"
   ]
  },
  {
   "cell_type": "code",
   "execution_count": null,
   "metadata": {},
   "outputs": [],
   "source": []
  },
  {
   "cell_type": "markdown",
   "metadata": {},
   "source": [
    "## 13. Russian"
   ]
  },
  {
   "cell_type": "code",
   "execution_count": 104,
   "metadata": {},
   "outputs": [
    {
     "data": {
      "text/html": [
       "<div>\n",
       "<style scoped>\n",
       "    .dataframe tbody tr th:only-of-type {\n",
       "        vertical-align: middle;\n",
       "    }\n",
       "\n",
       "    .dataframe tbody tr th {\n",
       "        vertical-align: top;\n",
       "    }\n",
       "\n",
       "    .dataframe thead th {\n",
       "        text-align: right;\n",
       "    }\n",
       "</style>\n",
       "<table border=\"1\" class=\"dataframe\">\n",
       "  <thead>\n",
       "    <tr style=\"text-align: right;\">\n",
       "      <th></th>\n",
       "      <th>Year</th>\n",
       "      <th>PG</th>\n",
       "      <th>ID</th>\n",
       "      <th>ID2</th>\n",
       "      <th>CAT_ORG</th>\n",
       "      <th>FULL</th>\n",
       "      <th>Position</th>\n",
       "      <th>Nation</th>\n",
       "      <th>Name</th>\n",
       "      <th>NATIONALITY</th>\n",
       "      <th>...</th>\n",
       "      <th>ST Name 2</th>\n",
       "      <th>ST Name 3</th>\n",
       "      <th>ST Name 4</th>\n",
       "      <th>ST Name 5</th>\n",
       "      <th>ST Name 6</th>\n",
       "      <th>First</th>\n",
       "      <th>Last</th>\n",
       "      <th>country1_api</th>\n",
       "      <th>country2_api</th>\n",
       "      <th>origin_api</th>\n",
       "    </tr>\n",
       "  </thead>\n",
       "  <tbody>\n",
       "    <tr>\n",
       "      <th>3162</th>\n",
       "      <td>1913_TrowBusMan</td>\n",
       "      <td>905</td>\n",
       "      <td>172</td>\n",
       "      <td>1913_TrowBusMan_172</td>\n",
       "      <td>Restaurants</td>\n",
       "      <td>Bayefsky Rose, 277, 7th av</td>\n",
       "      <td>15</td>\n",
       "      <td>NaN</td>\n",
       "      <td>Bayefsky Rose</td>\n",
       "      <td>Russian</td>\n",
       "      <td>...</td>\n",
       "      <td>7th</td>\n",
       "      <td>av</td>\n",
       "      <td>NaN</td>\n",
       "      <td>NaN</td>\n",
       "      <td>NaN</td>\n",
       "      <td>Rose</td>\n",
       "      <td>Bayefsky</td>\n",
       "      <td>Ireland</td>\n",
       "      <td>United Kingdom</td>\n",
       "      <td>NaN</td>\n",
       "    </tr>\n",
       "  </tbody>\n",
       "</table>\n",
       "<p>1 rows × 28 columns</p>\n",
       "</div>"
      ],
      "text/plain": [
       "                 Year   PG   ID                  ID2      CAT_ORG  \\\n",
       "3162  1913_TrowBusMan  905  172  1913_TrowBusMan_172  Restaurants   \n",
       "\n",
       "                            FULL  Position Nation           Name NATIONALITY  \\\n",
       "3162  Bayefsky Rose, 277, 7th av        15    NaN  Bayefsky Rose     Russian   \n",
       "\n",
       "      ... ST Name 2 ST Name 3 ST Name 4 ST Name 5 ST Name 6 First      Last  \\\n",
       "3162  ...       7th        av       NaN       NaN       NaN  Rose  Bayefsky   \n",
       "\n",
       "     country1_api    country2_api origin_api  \n",
       "3162      Ireland  United Kingdom        NaN  \n",
       "\n",
       "[1 rows x 28 columns]"
      ]
     },
     "execution_count": 104,
     "metadata": {},
     "output_type": "execute_result"
    }
   ],
   "source": [
    "Russian = df[df['NATIONALITY final']=='Russian']\n",
    "Russian.head(1)"
   ]
  },
  {
   "cell_type": "code",
   "execution_count": 105,
   "metadata": {},
   "outputs": [
    {
     "data": {
      "text/plain": [
       "Israel                6\n",
       "Ireland               5\n",
       "Poland                3\n",
       "Liberia               2\n",
       "United Kingdom        2\n",
       "Russian Federation    2\n",
       "Germany               1\n",
       "Czech Republic        1\n",
       "France                1\n",
       "Slovakia              1\n",
       "Name: country1_api, dtype: int64"
      ]
     },
     "execution_count": 105,
     "metadata": {},
     "output_type": "execute_result"
    }
   ],
   "source": [
    "Russian['country1_api'].value_counts()[:10]"
   ]
  },
  {
   "cell_type": "code",
   "execution_count": 125,
   "metadata": {},
   "outputs": [
    {
     "data": {
      "image/png": "[encoded data removed]",
      "text/plain": [
       "<Figure size 432x288 with 1 Axes>"
      ]
     },
     "metadata": {},
     "output_type": "display_data"
    }
   ],
   "source": [
    "text = '*Russian* Ancestry in API Results'\n",
    "\n",
    "labels = ['Israel: 6', 'Ireland: 5', 'Poland: 3', 'Liberia: 2', 'UK: 2', 'Russia: 2']\n",
    "sizes = [6, 5, 3, 2, 2, 2]\n",
    "explode = [0.1, 0, 0, 0, 0, 0.1]\n",
    "colors = ['#45ada8', '#d9acce', '#a75a94', '#970e3c', '#ec83aa', '#ef335a']\n",
    "\n",
    "fig, ax = plt.subplots()\n",
    "ax.pie(sizes, explode=explode, labels=labels, colors=colors, \n",
    "       autopct='%1.1f%%', startangle=80)\n",
    "ax.axis('equal')\n",
    "\n",
    "plt.title(text)\n",
    "plt.savefig(f'plots/{text}.png')"
   ]
  },
  {
   "cell_type": "code",
   "execution_count": null,
   "metadata": {},
   "outputs": [],
   "source": []
  },
  {
   "cell_type": "markdown",
   "metadata": {},
   "source": [
    "## 14. Swiss"
   ]
  },
  {
   "cell_type": "code",
   "execution_count": 108,
   "metadata": {},
   "outputs": [
    {
     "data": {
      "text/html": [
       "<div>\n",
       "<style scoped>\n",
       "    .dataframe tbody tr th:only-of-type {\n",
       "        vertical-align: middle;\n",
       "    }\n",
       "\n",
       "    .dataframe tbody tr th {\n",
       "        vertical-align: top;\n",
       "    }\n",
       "\n",
       "    .dataframe thead th {\n",
       "        text-align: right;\n",
       "    }\n",
       "</style>\n",
       "<table border=\"1\" class=\"dataframe\">\n",
       "  <thead>\n",
       "    <tr style=\"text-align: right;\">\n",
       "      <th></th>\n",
       "      <th>Year</th>\n",
       "      <th>PG</th>\n",
       "      <th>ID</th>\n",
       "      <th>ID2</th>\n",
       "      <th>CAT_ORG</th>\n",
       "      <th>FULL</th>\n",
       "      <th>Position</th>\n",
       "      <th>Nation</th>\n",
       "      <th>Name</th>\n",
       "      <th>NATIONALITY</th>\n",
       "      <th>...</th>\n",
       "      <th>ST Name 2</th>\n",
       "      <th>ST Name 3</th>\n",
       "      <th>ST Name 4</th>\n",
       "      <th>ST Name 5</th>\n",
       "      <th>ST Name 6</th>\n",
       "      <th>First</th>\n",
       "      <th>Last</th>\n",
       "      <th>country1_api</th>\n",
       "      <th>country2_api</th>\n",
       "      <th>origin_api</th>\n",
       "    </tr>\n",
       "  </thead>\n",
       "  <tbody>\n",
       "    <tr>\n",
       "      <th>3264</th>\n",
       "      <td>1913_TrowBusMan</td>\n",
       "      <td>907</td>\n",
       "      <td>891</td>\n",
       "      <td>1913_TrowBusMan_891</td>\n",
       "      <td>Restaurants</td>\n",
       "      <td>Eckhardt Barbara, 210 West</td>\n",
       "      <td>18</td>\n",
       "      <td>NaN</td>\n",
       "      <td>Eckhardt Barbara</td>\n",
       "      <td>Swiss</td>\n",
       "      <td>...</td>\n",
       "      <td>West</td>\n",
       "      <td>NaN</td>\n",
       "      <td>NaN</td>\n",
       "      <td>NaN</td>\n",
       "      <td>NaN</td>\n",
       "      <td>Barbara</td>\n",
       "      <td>Eckhardt</td>\n",
       "      <td>Germany</td>\n",
       "      <td>Austria</td>\n",
       "      <td>NaN</td>\n",
       "    </tr>\n",
       "  </tbody>\n",
       "</table>\n",
       "<p>1 rows × 28 columns</p>\n",
       "</div>"
      ],
      "text/plain": [
       "                 Year   PG   ID                  ID2      CAT_ORG  \\\n",
       "3264  1913_TrowBusMan  907  891  1913_TrowBusMan_891  Restaurants   \n",
       "\n",
       "                            FULL  Position Nation              Name  \\\n",
       "3264  Eckhardt Barbara, 210 West        18    NaN  Eckhardt Barbara   \n",
       "\n",
       "     NATIONALITY  ... ST Name 2 ST Name 3 ST Name 4 ST Name 5 ST Name 6  \\\n",
       "3264       Swiss  ...      West       NaN       NaN       NaN       NaN   \n",
       "\n",
       "        First      Last country1_api country2_api origin_api  \n",
       "3264  Barbara  Eckhardt      Germany      Austria        NaN  \n",
       "\n",
       "[1 rows x 28 columns]"
      ]
     },
     "execution_count": 108,
     "metadata": {},
     "output_type": "execute_result"
    }
   ],
   "source": [
    "Swiss = df[df['NATIONALITY final']=='Swiss']\n",
    "Swiss.head(1)"
   ]
  },
  {
   "cell_type": "code",
   "execution_count": 109,
   "metadata": {},
   "outputs": [
    {
     "data": {
      "text/plain": [
       "Germany        11\n",
       "Switzerland     3\n",
       "Belgium         2\n",
       "Ireland         2\n",
       "Israel          1\n",
       "Liberia         1\n",
       "France          1\n",
       "Morocco         1\n",
       "Sweden          1\n",
       "Spain           1\n",
       "Name: country1_api, dtype: int64"
      ]
     },
     "execution_count": 109,
     "metadata": {},
     "output_type": "execute_result"
    }
   ],
   "source": [
    "Swiss['country1_api'].value_counts()[:10]"
   ]
  },
  {
   "cell_type": "code",
   "execution_count": 124,
   "metadata": {},
   "outputs": [
    {
     "data": {
      "image/png": "[encoded data removed]",
      "text/plain": [
       "<Figure size 432x288 with 1 Axes>"
      ]
     },
     "metadata": {},
     "output_type": "display_data"
    }
   ],
   "source": [
    "text = '*Swiss* Ancestry in API Results'\n",
    "\n",
    "labels = ['Germany: 11', 'Swiss: 3', 'Belgium: 2', 'Ireland: 2', 'Israel: 1']\n",
    "sizes = [11, 3, 2, 2, 1]\n",
    "explode = [0.1, 0.1, 0, 0, 0]\n",
    "colors = ['#45ada8', '#d9acce', '#a75a94', '#970e3c', '#ec83aa']\n",
    "\n",
    "fig, ax = plt.subplots()\n",
    "ax.pie(sizes, explode=explode, labels=labels, colors=colors, \n",
    "       autopct='%1.1f%%', startangle=70)\n",
    "ax.axis('equal')\n",
    "\n",
    "plt.title(text)\n",
    "plt.savefig(f'plots/{text}.png')"
   ]
  },
  {
   "cell_type": "code",
   "execution_count": null,
   "metadata": {},
   "outputs": [],
   "source": []
  },
  {
   "cell_type": "markdown",
   "metadata": {},
   "source": [
    "## 15. Austrian"
   ]
  },
  {
   "cell_type": "code",
   "execution_count": 112,
   "metadata": {},
   "outputs": [
    {
     "data": {
      "text/html": [
       "<div>\n",
       "<style scoped>\n",
       "    .dataframe tbody tr th:only-of-type {\n",
       "        vertical-align: middle;\n",
       "    }\n",
       "\n",
       "    .dataframe tbody tr th {\n",
       "        vertical-align: top;\n",
       "    }\n",
       "\n",
       "    .dataframe thead th {\n",
       "        text-align: right;\n",
       "    }\n",
       "</style>\n",
       "<table border=\"1\" class=\"dataframe\">\n",
       "  <thead>\n",
       "    <tr style=\"text-align: right;\">\n",
       "      <th></th>\n",
       "      <th>Year</th>\n",
       "      <th>PG</th>\n",
       "      <th>ID</th>\n",
       "      <th>ID2</th>\n",
       "      <th>CAT_ORG</th>\n",
       "      <th>FULL</th>\n",
       "      <th>Position</th>\n",
       "      <th>Nation</th>\n",
       "      <th>Name</th>\n",
       "      <th>NATIONALITY</th>\n",
       "      <th>...</th>\n",
       "      <th>ST Name 2</th>\n",
       "      <th>ST Name 3</th>\n",
       "      <th>ST Name 4</th>\n",
       "      <th>ST Name 5</th>\n",
       "      <th>ST Name 6</th>\n",
       "      <th>First</th>\n",
       "      <th>Last</th>\n",
       "      <th>country1_api</th>\n",
       "      <th>country2_api</th>\n",
       "      <th>origin_api</th>\n",
       "    </tr>\n",
       "  </thead>\n",
       "  <tbody>\n",
       "    <tr>\n",
       "      <th>7</th>\n",
       "      <td>1913_TrowBusMan</td>\n",
       "      <td>908</td>\n",
       "      <td>1126</td>\n",
       "      <td>1913_TrowBusMan_1126</td>\n",
       "      <td>Restaurants</td>\n",
       "      <td>Freysinger Charles, 13 N Moore</td>\n",
       "      <td>20</td>\n",
       "      <td>NaN</td>\n",
       "      <td>Freysinger Charles</td>\n",
       "      <td>Austrian</td>\n",
       "      <td>...</td>\n",
       "      <td>N</td>\n",
       "      <td>Moore</td>\n",
       "      <td>NaN</td>\n",
       "      <td>NaN</td>\n",
       "      <td>NaN</td>\n",
       "      <td>Charles</td>\n",
       "      <td>Freysinger</td>\n",
       "      <td>Switzerland</td>\n",
       "      <td>Ireland</td>\n",
       "      <td>NaN</td>\n",
       "    </tr>\n",
       "  </tbody>\n",
       "</table>\n",
       "<p>1 rows × 28 columns</p>\n",
       "</div>"
      ],
      "text/plain": [
       "              Year   PG    ID                   ID2      CAT_ORG  \\\n",
       "7  1913_TrowBusMan  908  1126  1913_TrowBusMan_1126  Restaurants   \n",
       "\n",
       "                             FULL  Position Nation                Name  \\\n",
       "7  Freysinger Charles, 13 N Moore        20    NaN  Freysinger Charles   \n",
       "\n",
       "  NATIONALITY  ... ST Name 2 ST Name 3 ST Name 4 ST Name 5 ST Name 6    First  \\\n",
       "7    Austrian  ...         N     Moore       NaN       NaN       NaN  Charles   \n",
       "\n",
       "         Last country1_api country2_api origin_api  \n",
       "7  Freysinger  Switzerland      Ireland        NaN  \n",
       "\n",
       "[1 rows x 28 columns]"
      ]
     },
     "execution_count": 112,
     "metadata": {},
     "output_type": "execute_result"
    }
   ],
   "source": [
    "Austrian = df[df['NATIONALITY final']=='Austrian']\n",
    "Austrian.head(1)"
   ]
  },
  {
   "cell_type": "code",
   "execution_count": 113,
   "metadata": {},
   "outputs": [
    {
     "data": {
      "text/plain": [
       "Germany           4\n",
       "Switzerland       3\n",
       "Israel            2\n",
       "United Kingdom    2\n",
       "Sweden            2\n",
       "China             2\n",
       "Italy             2\n",
       "Ireland           2\n",
       "Ethiopia          1\n",
       "France            1\n",
       "Name: country1_api, dtype: int64"
      ]
     },
     "execution_count": 113,
     "metadata": {},
     "output_type": "execute_result"
    }
   ],
   "source": [
    "Austrian['country1_api'].value_counts()[:10]"
   ]
  },
  {
   "cell_type": "code",
   "execution_count": 115,
   "metadata": {},
   "outputs": [
    {
     "data": {
      "image/png": "[encoded data removed]",
      "text/plain": [
       "<Figure size 432x288 with 1 Axes>"
      ]
     },
     "metadata": {},
     "output_type": "display_data"
    }
   ],
   "source": [
    "text = '*Austrian* Ancestry in API Results'\n",
    "\n",
    "labels = ['Germany: 4', 'Swiss: 3', 'Israel: 2', 'UK: 2', 'Sweden: 2', 'China: 2', 'Italy: 2', 'Ireland: 2']\n",
    "sizes = [4, 3, 2, 2, 2, 2, 2, 2]\n",
    "explode = [0.1, 0, 0, 0, 0, 0, 0, 0]\n",
    "colors = ['#45ada8', '#d9acce', '#a75a94', '#970e3c', '#ec83aa', '#ef335a', '#f765a3', '#f9d1d1']\n",
    "\n",
    "fig, ax = plt.subplots()\n",
    "ax.pie(sizes, explode=explode, labels=labels, colors=colors, \n",
    "       autopct='%1.1f%%', startangle=80)\n",
    "ax.axis('equal')\n",
    "\n",
    "plt.title(text)\n",
    "plt.savefig(f'plots/{text}.png')"
   ]
  },
  {
   "cell_type": "code",
   "execution_count": null,
   "metadata": {},
   "outputs": [],
   "source": []
  },
  {
   "cell_type": "markdown",
   "metadata": {},
   "source": [
    "## 16. Hungarian"
   ]
  },
  {
   "cell_type": "code",
   "execution_count": 117,
   "metadata": {},
   "outputs": [
    {
     "data": {
      "text/html": [
       "<div>\n",
       "<style scoped>\n",
       "    .dataframe tbody tr th:only-of-type {\n",
       "        vertical-align: middle;\n",
       "    }\n",
       "\n",
       "    .dataframe tbody tr th {\n",
       "        vertical-align: top;\n",
       "    }\n",
       "\n",
       "    .dataframe thead th {\n",
       "        text-align: right;\n",
       "    }\n",
       "</style>\n",
       "<table border=\"1\" class=\"dataframe\">\n",
       "  <thead>\n",
       "    <tr style=\"text-align: right;\">\n",
       "      <th></th>\n",
       "      <th>Year</th>\n",
       "      <th>PG</th>\n",
       "      <th>ID</th>\n",
       "      <th>ID2</th>\n",
       "      <th>CAT_ORG</th>\n",
       "      <th>FULL</th>\n",
       "      <th>Position</th>\n",
       "      <th>Nation</th>\n",
       "      <th>Name</th>\n",
       "      <th>NATIONALITY</th>\n",
       "      <th>...</th>\n",
       "      <th>ST Name 2</th>\n",
       "      <th>ST Name 3</th>\n",
       "      <th>ST Name 4</th>\n",
       "      <th>ST Name 5</th>\n",
       "      <th>ST Name 6</th>\n",
       "      <th>First</th>\n",
       "      <th>Last</th>\n",
       "      <th>country1_api</th>\n",
       "      <th>country2_api</th>\n",
       "      <th>origin_api</th>\n",
       "    </tr>\n",
       "  </thead>\n",
       "  <tbody>\n",
       "    <tr>\n",
       "      <th>1930</th>\n",
       "      <td>1913_TrowBusMan</td>\n",
       "      <td>905</td>\n",
       "      <td>110</td>\n",
       "      <td>1913_TrowBusMan_110</td>\n",
       "      <td>Restaurants</td>\n",
       "      <td>Baborsky Anton, 1380, 1st av</td>\n",
       "      <td>16</td>\n",
       "      <td>NaN</td>\n",
       "      <td>Baborsky Anton</td>\n",
       "      <td>Hungarian</td>\n",
       "      <td>...</td>\n",
       "      <td>1st</td>\n",
       "      <td>av</td>\n",
       "      <td>NaN</td>\n",
       "      <td>NaN</td>\n",
       "      <td>NaN</td>\n",
       "      <td>Anton</td>\n",
       "      <td>Baborsky</td>\n",
       "      <td>Slovakia</td>\n",
       "      <td>Russian Federation</td>\n",
       "      <td>NaN</td>\n",
       "    </tr>\n",
       "  </tbody>\n",
       "</table>\n",
       "<p>1 rows × 28 columns</p>\n",
       "</div>"
      ],
      "text/plain": [
       "                 Year   PG   ID                  ID2      CAT_ORG  \\\n",
       "1930  1913_TrowBusMan  905  110  1913_TrowBusMan_110  Restaurants   \n",
       "\n",
       "                              FULL  Position Nation            Name  \\\n",
       "1930  Baborsky Anton, 1380, 1st av        16    NaN  Baborsky Anton   \n",
       "\n",
       "     NATIONALITY  ... ST Name 2 ST Name 3 ST Name 4 ST Name 5 ST Name 6  \\\n",
       "1930   Hungarian  ...       1st        av       NaN       NaN       NaN   \n",
       "\n",
       "      First      Last country1_api        country2_api origin_api  \n",
       "1930  Anton  Baborsky     Slovakia  Russian Federation        NaN  \n",
       "\n",
       "[1 rows x 28 columns]"
      ]
     },
     "execution_count": 117,
     "metadata": {},
     "output_type": "execute_result"
    }
   ],
   "source": [
    "Hungarian = df[df['NATIONALITY final']=='Hungarian']\n",
    "Hungarian.head(1)"
   ]
  },
  {
   "cell_type": "code",
   "execution_count": 118,
   "metadata": {},
   "outputs": [
    {
     "data": {
      "text/plain": [
       "Ireland           8\n",
       "Hungary           5\n",
       "Germany           3\n",
       "France            2\n",
       "Indonesia         1\n",
       "Czech Republic    1\n",
       "Slovakia          1\n",
       "Morocco           1\n",
       "Switzerland       1\n",
       "Name: country1_api, dtype: int64"
      ]
     },
     "execution_count": 118,
     "metadata": {},
     "output_type": "execute_result"
    }
   ],
   "source": [
    "Hungarian['country1_api'].value_counts()[:10]"
   ]
  },
  {
   "cell_type": "code",
   "execution_count": 123,
   "metadata": {},
   "outputs": [
    {
     "data": {
      "image/png": "[encoded data removed]",
      "text/plain": [
       "<Figure size 432x288 with 1 Axes>"
      ]
     },
     "metadata": {},
     "output_type": "display_data"
    }
   ],
   "source": [
    "text = '*Hungarian* Ancestry in API Results'\n",
    "\n",
    "labels = ['Ireland: 8', 'Hungary: 5', 'Germany: 3', 'France: 2', 'Indonesia: 1', 'Czechia: 1']\n",
    "sizes = [8, 5, 3, 2, 1, 1]\n",
    "explode = [0.1, 0.1, 0, 0, 0, 0]\n",
    "colors = ['#45ada8', '#d9acce', '#a75a94', '#970e3c', '#ec83aa', '#ef335a']\n",
    "\n",
    "fig, ax = plt.subplots()\n",
    "ax.pie(sizes, explode=explode, labels=labels, colors=colors, \n",
    "       autopct='%1.1f%%', startangle=70)\n",
    "ax.axis('equal')\n",
    "\n",
    "plt.title(text)\n",
    "plt.savefig(f'plots/{text}.png')"
   ]
  },
  {
   "cell_type": "code",
   "execution_count": null,
   "metadata": {},
   "outputs": [],
   "source": []
  },
  {
   "cell_type": "markdown",
   "metadata": {},
   "source": [
    "## 17. Middle Eastern"
   ]
  },
  {
   "cell_type": "code",
   "execution_count": 130,
   "metadata": {},
   "outputs": [
    {
     "data": {
      "text/html": [
       "<div>\n",
       "<style scoped>\n",
       "    .dataframe tbody tr th:only-of-type {\n",
       "        vertical-align: middle;\n",
       "    }\n",
       "\n",
       "    .dataframe tbody tr th {\n",
       "        vertical-align: top;\n",
       "    }\n",
       "\n",
       "    .dataframe thead th {\n",
       "        text-align: right;\n",
       "    }\n",
       "</style>\n",
       "<table border=\"1\" class=\"dataframe\">\n",
       "  <thead>\n",
       "    <tr style=\"text-align: right;\">\n",
       "      <th></th>\n",
       "      <th>Year</th>\n",
       "      <th>PG</th>\n",
       "      <th>ID</th>\n",
       "      <th>ID2</th>\n",
       "      <th>CAT_ORG</th>\n",
       "      <th>FULL</th>\n",
       "      <th>Position</th>\n",
       "      <th>Nation</th>\n",
       "      <th>Name</th>\n",
       "      <th>NATIONALITY</th>\n",
       "      <th>...</th>\n",
       "      <th>ST Name 2</th>\n",
       "      <th>ST Name 3</th>\n",
       "      <th>ST Name 4</th>\n",
       "      <th>ST Name 5</th>\n",
       "      <th>ST Name 6</th>\n",
       "      <th>First</th>\n",
       "      <th>Last</th>\n",
       "      <th>country1_api</th>\n",
       "      <th>country2_api</th>\n",
       "      <th>origin_api</th>\n",
       "    </tr>\n",
       "  </thead>\n",
       "  <tbody>\n",
       "    <tr>\n",
       "      <th>3057</th>\n",
       "      <td>1913_TrowBusMan</td>\n",
       "      <td>906</td>\n",
       "      <td>519</td>\n",
       "      <td>1913_TrowBusMan_519</td>\n",
       "      <td>Restaurants</td>\n",
       "      <td>Charwat Caroline, 1434 Av A</td>\n",
       "      <td>18</td>\n",
       "      <td>NaN</td>\n",
       "      <td>Charwat Caroline</td>\n",
       "      <td>Middle Eastern</td>\n",
       "      <td>...</td>\n",
       "      <td>Av</td>\n",
       "      <td>A</td>\n",
       "      <td>NaN</td>\n",
       "      <td>NaN</td>\n",
       "      <td>NaN</td>\n",
       "      <td>Caroline</td>\n",
       "      <td>Charwat</td>\n",
       "      <td>France</td>\n",
       "      <td>United Kingdom</td>\n",
       "      <td>NaN</td>\n",
       "    </tr>\n",
       "  </tbody>\n",
       "</table>\n",
       "<p>1 rows × 28 columns</p>\n",
       "</div>"
      ],
      "text/plain": [
       "                 Year   PG   ID                  ID2      CAT_ORG  \\\n",
       "3057  1913_TrowBusMan  906  519  1913_TrowBusMan_519  Restaurants   \n",
       "\n",
       "                             FULL  Position Nation              Name  \\\n",
       "3057  Charwat Caroline, 1434 Av A        18    NaN  Charwat Caroline   \n",
       "\n",
       "         NATIONALITY  ... ST Name 2 ST Name 3 ST Name 4 ST Name 5 ST Name 6  \\\n",
       "3057  Middle Eastern  ...        Av         A       NaN       NaN       NaN   \n",
       "\n",
       "         First     Last country1_api    country2_api origin_api  \n",
       "3057  Caroline  Charwat       France  United Kingdom        NaN  \n",
       "\n",
       "[1 rows x 28 columns]"
      ]
     },
     "execution_count": 130,
     "metadata": {},
     "output_type": "execute_result"
    }
   ],
   "source": [
    "MidEast = df[df['NATIONALITY final']=='Middle Eastern']\n",
    "MidEast.head(1)"
   ]
  },
  {
   "cell_type": "code",
   "execution_count": 131,
   "metadata": {},
   "outputs": [
    {
     "data": {
      "text/plain": [
       "France                          2\n",
       "Morocco                         2\n",
       "Indonesia                       1\n",
       "Egypt                           1\n",
       "Islamic Republic of Iran        1\n",
       "Nigeria                         1\n",
       "Tanzania, United Republic of    1\n",
       "Israel                          1\n",
       "Algeria                         1\n",
       "Name: country1_api, dtype: int64"
      ]
     },
     "execution_count": 131,
     "metadata": {},
     "output_type": "execute_result"
    }
   ],
   "source": [
    "MidEast['country1_api'].value_counts()[:10]"
   ]
  },
  {
   "cell_type": "code",
   "execution_count": 136,
   "metadata": {},
   "outputs": [
    {
     "data": {
      "image/png": "[encoded data removed]",
      "text/plain": [
       "<Figure size 432x288 with 1 Axes>"
      ]
     },
     "metadata": {},
     "output_type": "display_data"
    }
   ],
   "source": [
    "text = '*Middle Eastern* Ancestry in API Results'\n",
    "\n",
    "labels = ['France: 2', 'Morocco: 2', 'Indonesia: 1', 'Egypt: 1', 'Iran: 1', 'Nigeria: 1', 'Tanzania: 1', 'Algeria: 1']\n",
    "sizes = [2, 2, 1, 1, 1, 1, 1, 1]\n",
    "explode = [0, 0, 0, 0.1, 0, 0, 0, 0]\n",
    "colors = ['#45ada8', '#d9acce', '#a75a94', '#970e3c', '#ec83aa', '#ef335a', '#f765a3', '#f9d1d1']\n",
    "\n",
    "fig, ax = plt.subplots()\n",
    "ax.pie(sizes, explode=explode, labels=labels, colors=colors, \n",
    "       autopct='%1.1f%%', startangle=80)\n",
    "ax.axis('equal')\n",
    "\n",
    "plt.title(text)\n",
    "plt.savefig(f'plots/{text}.png')"
   ]
  },
  {
   "cell_type": "code",
   "execution_count": null,
   "metadata": {},
   "outputs": [],
   "source": []
  }
 ],
 "metadata": {
  "kernelspec": {
   "display_name": "Python 3.8.1 64-bit",
   "language": "python",
   "name": "python38164bit0209044da7c742dab8314e0953beb93b"
  },
  "language_info": {
   "codemirror_mode": {
    "name": "ipython",
    "version": 3
   },
   "file_extension": ".py",
   "mimetype": "text/x-python",
   "name": "python",
   "nbconvert_exporter": "python",
   "pygments_lexer": "ipython3",
   "version": "3.8.1"
  }
 },
 "nbformat": 4,
 "nbformat_minor": 4
}
