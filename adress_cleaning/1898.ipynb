{
 "cells": [
  {
   "cell_type": "markdown",
   "metadata": {},
   "source": [
    "# 1898 Restaurant Data\n",
    "Goal: Create a set of uniform code for cleaning up the street names and street numbers. \n"
   ]
  },
  {
   "cell_type": "code",
   "execution_count": 1,
   "metadata": {},
   "outputs": [],
   "source": [
    "import pandas as pd"
   ]
  },
  {
   "cell_type": "code",
   "execution_count": null,
   "metadata": {},
   "outputs": [],
   "source": []
  },
  {
   "cell_type": "markdown",
   "metadata": {},
   "source": [
    "## Master"
   ]
  },
  {
   "cell_type": "code",
   "execution_count": 2,
   "metadata": {},
   "outputs": [
    {
     "data": {
      "text/html": [
       "<div>\n",
       "<style scoped>\n",
       "    .dataframe tbody tr th:only-of-type {\n",
       "        vertical-align: middle;\n",
       "    }\n",
       "\n",
       "    .dataframe tbody tr th {\n",
       "        vertical-align: top;\n",
       "    }\n",
       "\n",
       "    .dataframe thead th {\n",
       "        text-align: right;\n",
       "    }\n",
       "</style>\n",
       "<table border=\"1\" class=\"dataframe\">\n",
       "  <thead>\n",
       "    <tr style=\"text-align: right;\">\n",
       "      <th></th>\n",
       "      <th>street_name</th>\n",
       "      <th>odd_on</th>\n",
       "      <th>avg_direction</th>\n",
       "      <th>building_num_range</th>\n",
       "      <th>start_end_coordinates</th>\n",
       "      <th>segment_length</th>\n",
       "      <th>segment_direction</th>\n",
       "      <th>building_num_range_length</th>\n",
       "      <th>avg_length_per_building</th>\n",
       "      <th>direction_deviation</th>\n",
       "      <th>road_type</th>\n",
       "      <th>offset_from_road_center</th>\n",
       "    </tr>\n",
       "  </thead>\n",
       "  <tbody>\n",
       "    <tr>\n",
       "      <th>0</th>\n",
       "      <td>10th Avenue</td>\n",
       "      <td>left</td>\n",
       "      <td>-170.561731</td>\n",
       "      <td>[1, 19]</td>\n",
       "      <td>[[40.741073, -74.009227], [40.739952, -74.0094...</td>\n",
       "      <td>126.194091</td>\n",
       "      <td>-170.561731</td>\n",
       "      <td>19</td>\n",
       "      <td>6.641794</td>\n",
       "      <td>0.0</td>\n",
       "      <td>Avenue</td>\n",
       "      <td>10</td>\n",
       "    </tr>\n",
       "  </tbody>\n",
       "</table>\n",
       "</div>"
      ],
      "text/plain": [
       "   street_name odd_on  avg_direction building_num_range  \\\n",
       "0  10th Avenue   left    -170.561731            [1, 19]   \n",
       "\n",
       "                               start_end_coordinates  segment_length  \\\n",
       "0  [[40.741073, -74.009227], [40.739952, -74.0094...      126.194091   \n",
       "\n",
       "   segment_direction  building_num_range_length  avg_length_per_building  \\\n",
       "0        -170.561731                         19                 6.641794   \n",
       "\n",
       "   direction_deviation road_type  offset_from_road_center  \n",
       "0                  0.0    Avenue                       10  "
      ]
     },
     "execution_count": 2,
     "metadata": {},
     "output_type": "execute_result"
    }
   ],
   "source": [
    "DF = pd.read_csv('datasets/1880_streets_full.csv')\n",
    "DF.head(1)"
   ]
  },
  {
   "cell_type": "code",
   "execution_count": 3,
   "metadata": {},
   "outputs": [
    {
     "data": {
      "text/plain": [
       "10th Avenue         164\n",
       "8th Avenue          148\n",
       "5th Avenue          129\n",
       "2nd Avenue          129\n",
       "3rd Avenue          126\n",
       "                   ... \n",
       "Cornelia Street       1\n",
       "Jackson Place         1\n",
       "Hamilton Street       1\n",
       "7th Street Place      1\n",
       "Winthrop Place        1\n",
       "Name: street_name, Length: 666, dtype: int64"
      ]
     },
     "execution_count": 3,
     "metadata": {},
     "output_type": "execute_result"
    }
   ],
   "source": [
    "DF['street_name'].value_counts()"
   ]
  },
  {
   "cell_type": "code",
   "execution_count": 4,
   "metadata": {},
   "outputs": [],
   "source": [
    "master_list = list(dict(DF['street_name'].value_counts()).keys())\n",
    "#sorted(master_list)"
   ]
  },
  {
   "cell_type": "code",
   "execution_count": null,
   "metadata": {},
   "outputs": [],
   "source": []
  },
  {
   "cell_type": "markdown",
   "metadata": {},
   "source": [
    "## 1898"
   ]
  },
  {
   "cell_type": "code",
   "execution_count": 5,
   "metadata": {},
   "outputs": [
    {
     "data": {
      "text/html": [
       "<div>\n",
       "<style scoped>\n",
       "    .dataframe tbody tr th:only-of-type {\n",
       "        vertical-align: middle;\n",
       "    }\n",
       "\n",
       "    .dataframe tbody tr th {\n",
       "        vertical-align: top;\n",
       "    }\n",
       "\n",
       "    .dataframe thead th {\n",
       "        text-align: right;\n",
       "    }\n",
       "</style>\n",
       "<table border=\"1\" class=\"dataframe\">\n",
       "  <thead>\n",
       "    <tr style=\"text-align: right;\">\n",
       "      <th></th>\n",
       "      <th>Year</th>\n",
       "      <th>PG</th>\n",
       "      <th>ID</th>\n",
       "      <th>ID2</th>\n",
       "      <th>CAT_ORG</th>\n",
       "      <th>CAT_MOD</th>\n",
       "      <th>FULL</th>\n",
       "      <th>Position</th>\n",
       "      <th>Nation</th>\n",
       "      <th>Name</th>\n",
       "      <th>...</th>\n",
       "      <th>Arrival / I Record</th>\n",
       "      <th>CORNER</th>\n",
       "      <th>Address2</th>\n",
       "      <th>ST combi</th>\n",
       "      <th>ST Name</th>\n",
       "      <th>ST Name 2</th>\n",
       "      <th>ST Name 3</th>\n",
       "      <th>ST Name 4</th>\n",
       "      <th>ST Name 5</th>\n",
       "      <th>ST Name 6</th>\n",
       "    </tr>\n",
       "  </thead>\n",
       "  <tbody>\n",
       "    <tr>\n",
       "      <th>0</th>\n",
       "      <td>1898_TrowBusMan</td>\n",
       "      <td>951</td>\n",
       "      <td>75</td>\n",
       "      <td>1898_TrowBusMan_75</td>\n",
       "      <td>Restaurants (Marked thus + are oyster saloons.)</td>\n",
       "      <td>Restaurant</td>\n",
       "      <td>Abbott Charles W. 548 W 39th</td>\n",
       "      <td>18</td>\n",
       "      <td>NaN</td>\n",
       "      <td>Abbott Charles W</td>\n",
       "      <td>...</td>\n",
       "      <td>NaN</td>\n",
       "      <td>N</td>\n",
       "      <td>548</td>\n",
       "      <td>W 39th</td>\n",
       "      <td>W</td>\n",
       "      <td>39th</td>\n",
       "      <td>NaN</td>\n",
       "      <td>NaN</td>\n",
       "      <td>NaN</td>\n",
       "      <td>NaN</td>\n",
       "    </tr>\n",
       "  </tbody>\n",
       "</table>\n",
       "<p>1 rows × 37 columns</p>\n",
       "</div>"
      ],
      "text/plain": [
       "              Year   PG  ID                 ID2  \\\n",
       "0  1898_TrowBusMan  951  75  1898_TrowBusMan_75   \n",
       "\n",
       "                                           CAT_ORG     CAT_MOD  \\\n",
       "0  Restaurants (Marked thus + are oyster saloons.)  Restaurant   \n",
       "\n",
       "                           FULL  Position Nation               Name  ...  \\\n",
       "0  Abbott Charles W. 548 W 39th        18    NaN  Abbott Charles W   ...   \n",
       "\n",
       "  Arrival / I Record CORNER Address2 ST combi ST Name ST Name 2 ST Name 3  \\\n",
       "0                NaN      N      548  W 39th        W      39th       NaN   \n",
       "\n",
       "  ST Name 4 ST Name 5 ST Name 6  \n",
       "0       NaN       NaN       NaN  \n",
       "\n",
       "[1 rows x 37 columns]"
      ]
     },
     "execution_count": 5,
     "metadata": {},
     "output_type": "execute_result"
    }
   ],
   "source": [
    "df = pd.read_csv('datasets/1898TrowBus.csv')\n",
    "df.head(1)"
   ]
  },
  {
   "cell_type": "code",
   "execution_count": 6,
   "metadata": {},
   "outputs": [
    {
     "data": {
      "text/plain": [
       "(1994, 37)"
      ]
     },
     "execution_count": 6,
     "metadata": {},
     "output_type": "execute_result"
    }
   ],
   "source": [
    "df.shape"
   ]
  },
  {
   "cell_type": "code",
   "execution_count": 7,
   "metadata": {},
   "outputs": [
    {
     "data": {
      "text/plain": [
       "Index(['Year', 'PG', 'ID', 'ID2', 'CAT_ORG', 'CAT_MOD', 'FULL', 'Position',\n",
       "       'Nation', 'Name', 'Addy_Clean', 'Address',\n",
       "       'Nationality - Katherine Vote', 'Nationality - Zehra Vote',\n",
       "       'Nationality - Jessica', 'Nationality Final', 'api_result1',\n",
       "       'api_result2', 'nationality_api', 'Gender - Katherine Vote',\n",
       "       'Gender - Zehra Vote', 'Gender - Jessica', 'Gender - Final',\n",
       "       'Gender_api', 'gender_combined', 'gender_mary', 'Notes',\n",
       "       'Arrival / I Record', 'CORNER', 'Address2', 'ST combi', 'ST Name',\n",
       "       'ST Name 2', 'ST Name 3', 'ST Name 4', 'ST Name 5', 'ST Name 6'],\n",
       "      dtype='object')"
      ]
     },
     "execution_count": 7,
     "metadata": {},
     "output_type": "execute_result"
    }
   ],
   "source": [
    "df.columns"
   ]
  },
  {
   "cell_type": "markdown",
   "metadata": {},
   "source": [
    "Get the columns I need."
   ]
  },
  {
   "cell_type": "code",
   "execution_count": 8,
   "metadata": {},
   "outputs": [
    {
     "data": {
      "text/html": [
       "<div>\n",
       "<style scoped>\n",
       "    .dataframe tbody tr th:only-of-type {\n",
       "        vertical-align: middle;\n",
       "    }\n",
       "\n",
       "    .dataframe tbody tr th {\n",
       "        vertical-align: top;\n",
       "    }\n",
       "\n",
       "    .dataframe thead th {\n",
       "        text-align: right;\n",
       "    }\n",
       "</style>\n",
       "<table border=\"1\" class=\"dataframe\">\n",
       "  <thead>\n",
       "    <tr style=\"text-align: right;\">\n",
       "      <th></th>\n",
       "      <th>FULL</th>\n",
       "      <th>Name</th>\n",
       "      <th>Addy_Clean</th>\n",
       "      <th>ST combi</th>\n",
       "    </tr>\n",
       "  </thead>\n",
       "  <tbody>\n",
       "    <tr>\n",
       "      <th>0</th>\n",
       "      <td>Abbott Charles W. 548 W 39th</td>\n",
       "      <td>Abbott Charles W</td>\n",
       "      <td>548 W 39th</td>\n",
       "      <td>W 39th</td>\n",
       "    </tr>\n",
       "    <tr>\n",
       "      <th>1</th>\n",
       "      <td>Abeles Aaron, 113 Eldridge</td>\n",
       "      <td>Abeles Aaron</td>\n",
       "      <td>113 Eldridge</td>\n",
       "      <td>Eldridge</td>\n",
       "    </tr>\n",
       "    <tr>\n",
       "      <th>2</th>\n",
       "      <td>Abelmont Eugenia, 486, 6th av</td>\n",
       "      <td>Abelmont Eugenia</td>\n",
       "      <td>486 6th av</td>\n",
       "      <td>6th av</td>\n",
       "    </tr>\n",
       "    <tr>\n",
       "      <th>3</th>\n",
       "      <td>Abrahams Anna, 292 Cherry</td>\n",
       "      <td>Abrahams Anna</td>\n",
       "      <td>292 Cherry</td>\n",
       "      <td>Cherry</td>\n",
       "    </tr>\n",
       "    <tr>\n",
       "      <th>4</th>\n",
       "      <td>Abramowitz Louis, 155 Allen</td>\n",
       "      <td>Abramowitz Louis</td>\n",
       "      <td>155 Allen st</td>\n",
       "      <td>Allen st</td>\n",
       "    </tr>\n",
       "  </tbody>\n",
       "</table>\n",
       "</div>"
      ],
      "text/plain": [
       "                            FULL               Name      Addy_Clean  \\\n",
       "0   Abbott Charles W. 548 W 39th  Abbott Charles W      548 W 39th    \n",
       "1     Abeles Aaron, 113 Eldridge      Abeles Aaron   113 Eldridge     \n",
       "2  Abelmont Eugenia, 486, 6th av  Abelmont Eugenia      486 6th av    \n",
       "3      Abrahams Anna, 292 Cherry     Abrahams Anna     292 Cherry     \n",
       "4    Abramowitz Louis, 155 Allen  Abramowitz Louis   155 Allen st     \n",
       "\n",
       "     ST combi  \n",
       "0     W 39th   \n",
       "1  Eldridge    \n",
       "2     6th av   \n",
       "3    Cherry    \n",
       "4  Allen st    "
      ]
     },
     "execution_count": 8,
     "metadata": {},
     "output_type": "execute_result"
    }
   ],
   "source": [
    "df = df[['FULL', 'Name', 'Addy_Clean', 'ST combi']]\n",
    "df.head()"
   ]
  },
  {
   "cell_type": "code",
   "execution_count": 9,
   "metadata": {},
   "outputs": [
    {
     "data": {
      "text/html": [
       "<div>\n",
       "<style scoped>\n",
       "    .dataframe tbody tr th:only-of-type {\n",
       "        vertical-align: middle;\n",
       "    }\n",
       "\n",
       "    .dataframe tbody tr th {\n",
       "        vertical-align: top;\n",
       "    }\n",
       "\n",
       "    .dataframe thead th {\n",
       "        text-align: right;\n",
       "    }\n",
       "</style>\n",
       "<table border=\"1\" class=\"dataframe\">\n",
       "  <thead>\n",
       "    <tr style=\"text-align: right;\">\n",
       "      <th></th>\n",
       "      <th>full</th>\n",
       "      <th>name</th>\n",
       "      <th>address</th>\n",
       "      <th>street</th>\n",
       "    </tr>\n",
       "  </thead>\n",
       "  <tbody>\n",
       "    <tr>\n",
       "      <th>0</th>\n",
       "      <td>Abbott Charles W. 548 W 39th</td>\n",
       "      <td>Abbott Charles W</td>\n",
       "      <td>548 W 39th</td>\n",
       "      <td>W 39th</td>\n",
       "    </tr>\n",
       "  </tbody>\n",
       "</table>\n",
       "</div>"
      ],
      "text/plain": [
       "                           full               name      address   street\n",
       "0  Abbott Charles W. 548 W 39th  Abbott Charles W   548 W 39th   W 39th "
      ]
     },
     "execution_count": 9,
     "metadata": {},
     "output_type": "execute_result"
    }
   ],
   "source": [
    "df.columns = ['full', 'name', 'address', 'street']\n",
    "df.head(1)"
   ]
  },
  {
   "cell_type": "code",
   "execution_count": null,
   "metadata": {},
   "outputs": [],
   "source": []
  },
  {
   "cell_type": "code",
   "execution_count": 10,
   "metadata": {},
   "outputs": [],
   "source": [
    "#df['address'].str.split().str[0]"
   ]
  },
  {
   "cell_type": "code",
   "execution_count": 11,
   "metadata": {},
   "outputs": [
    {
     "data": {
      "text/html": [
       "<div>\n",
       "<style scoped>\n",
       "    .dataframe tbody tr th:only-of-type {\n",
       "        vertical-align: middle;\n",
       "    }\n",
       "\n",
       "    .dataframe tbody tr th {\n",
       "        vertical-align: top;\n",
       "    }\n",
       "\n",
       "    .dataframe thead th {\n",
       "        text-align: right;\n",
       "    }\n",
       "</style>\n",
       "<table border=\"1\" class=\"dataframe\">\n",
       "  <thead>\n",
       "    <tr style=\"text-align: right;\">\n",
       "      <th></th>\n",
       "      <th>full</th>\n",
       "      <th>name</th>\n",
       "      <th>address</th>\n",
       "      <th>street</th>\n",
       "      <th>no</th>\n",
       "    </tr>\n",
       "  </thead>\n",
       "  <tbody>\n",
       "    <tr>\n",
       "      <th>0</th>\n",
       "      <td>Abbott Charles W. 548 W 39th</td>\n",
       "      <td>Abbott Charles W</td>\n",
       "      <td>548 W 39th</td>\n",
       "      <td>W 39th</td>\n",
       "      <td>548</td>\n",
       "    </tr>\n",
       "    <tr>\n",
       "      <th>1</th>\n",
       "      <td>Abeles Aaron, 113 Eldridge</td>\n",
       "      <td>Abeles Aaron</td>\n",
       "      <td>113 Eldridge</td>\n",
       "      <td>Eldridge</td>\n",
       "      <td>113</td>\n",
       "    </tr>\n",
       "    <tr>\n",
       "      <th>2</th>\n",
       "      <td>Abelmont Eugenia, 486, 6th av</td>\n",
       "      <td>Abelmont Eugenia</td>\n",
       "      <td>486 6th av</td>\n",
       "      <td>6th av</td>\n",
       "      <td>486</td>\n",
       "    </tr>\n",
       "    <tr>\n",
       "      <th>3</th>\n",
       "      <td>Abrahams Anna, 292 Cherry</td>\n",
       "      <td>Abrahams Anna</td>\n",
       "      <td>292 Cherry</td>\n",
       "      <td>Cherry</td>\n",
       "      <td>292</td>\n",
       "    </tr>\n",
       "    <tr>\n",
       "      <th>4</th>\n",
       "      <td>Abramowitz Louis, 155 Allen</td>\n",
       "      <td>Abramowitz Louis</td>\n",
       "      <td>155 Allen st</td>\n",
       "      <td>Allen st</td>\n",
       "      <td>155</td>\n",
       "    </tr>\n",
       "  </tbody>\n",
       "</table>\n",
       "</div>"
      ],
      "text/plain": [
       "                            full               name         address  \\\n",
       "0   Abbott Charles W. 548 W 39th  Abbott Charles W      548 W 39th    \n",
       "1     Abeles Aaron, 113 Eldridge      Abeles Aaron   113 Eldridge     \n",
       "2  Abelmont Eugenia, 486, 6th av  Abelmont Eugenia      486 6th av    \n",
       "3      Abrahams Anna, 292 Cherry     Abrahams Anna     292 Cherry     \n",
       "4    Abramowitz Louis, 155 Allen  Abramowitz Louis   155 Allen st     \n",
       "\n",
       "       street   no  \n",
       "0     W 39th   548  \n",
       "1  Eldridge    113  \n",
       "2     6th av   486  \n",
       "3    Cherry    292  \n",
       "4  Allen st    155  "
      ]
     },
     "execution_count": 11,
     "metadata": {},
     "output_type": "execute_result"
    }
   ],
   "source": [
    "df['no'] = df['address'].str.split().str[0]\n",
    "df.head()"
   ]
  },
  {
   "cell_type": "code",
   "execution_count": null,
   "metadata": {},
   "outputs": [],
   "source": []
  },
  {
   "cell_type": "markdown",
   "metadata": {},
   "source": [
    "### Street"
   ]
  },
  {
   "cell_type": "markdown",
   "metadata": {},
   "source": [
    "### systematic cleaning"
   ]
  },
  {
   "cell_type": "markdown",
   "metadata": {},
   "source": [
    "#### strip unnecessary white spaces"
   ]
  },
  {
   "cell_type": "code",
   "execution_count": 12,
   "metadata": {},
   "outputs": [
    {
     "data": {
      "text/html": [
       "<div>\n",
       "<style scoped>\n",
       "    .dataframe tbody tr th:only-of-type {\n",
       "        vertical-align: middle;\n",
       "    }\n",
       "\n",
       "    .dataframe tbody tr th {\n",
       "        vertical-align: top;\n",
       "    }\n",
       "\n",
       "    .dataframe thead th {\n",
       "        text-align: right;\n",
       "    }\n",
       "</style>\n",
       "<table border=\"1\" class=\"dataframe\">\n",
       "  <thead>\n",
       "    <tr style=\"text-align: right;\">\n",
       "      <th></th>\n",
       "      <th>full</th>\n",
       "      <th>name</th>\n",
       "      <th>address</th>\n",
       "      <th>street</th>\n",
       "      <th>no</th>\n",
       "      <th>street_clean</th>\n",
       "    </tr>\n",
       "  </thead>\n",
       "  <tbody>\n",
       "    <tr>\n",
       "      <th>0</th>\n",
       "      <td>Abbott Charles W. 548 W 39th</td>\n",
       "      <td>Abbott Charles W</td>\n",
       "      <td>548 W 39th</td>\n",
       "      <td>W 39th</td>\n",
       "      <td>548</td>\n",
       "      <td>W 39th</td>\n",
       "    </tr>\n",
       "  </tbody>\n",
       "</table>\n",
       "</div>"
      ],
      "text/plain": [
       "                           full               name      address   street   no  \\\n",
       "0  Abbott Charles W. 548 W 39th  Abbott Charles W   548 W 39th   W 39th   548   \n",
       "\n",
       "  street_clean  \n",
       "0       W 39th  "
      ]
     },
     "execution_count": 12,
     "metadata": {},
     "output_type": "execute_result"
    }
   ],
   "source": [
    "df['street_clean'] = df['street'].str.strip()\n",
    "df.head(1)"
   ]
  },
  {
   "cell_type": "markdown",
   "metadata": {},
   "source": [
    "Inspect `street_clean` data."
   ]
  },
  {
   "cell_type": "code",
   "execution_count": 13,
   "metadata": {},
   "outputs": [],
   "source": [
    "st = dict(df['street_clean'].value_counts())\n",
    "#sorted(st.items())"
   ]
  },
  {
   "cell_type": "markdown",
   "metadata": {},
   "source": [
    "#### add \"street\" after \"E xxth\" or \"W xxth\""
   ]
  },
  {
   "cell_type": "code",
   "execution_count": 14,
   "metadata": {},
   "outputs": [
    {
     "data": {
      "text/html": [
       "<div>\n",
       "<style scoped>\n",
       "    .dataframe tbody tr th:only-of-type {\n",
       "        vertical-align: middle;\n",
       "    }\n",
       "\n",
       "    .dataframe tbody tr th {\n",
       "        vertical-align: top;\n",
       "    }\n",
       "\n",
       "    .dataframe thead th {\n",
       "        text-align: right;\n",
       "    }\n",
       "</style>\n",
       "<table border=\"1\" class=\"dataframe\">\n",
       "  <thead>\n",
       "    <tr style=\"text-align: right;\">\n",
       "      <th></th>\n",
       "      <th>full</th>\n",
       "      <th>name</th>\n",
       "      <th>address</th>\n",
       "      <th>street</th>\n",
       "      <th>no</th>\n",
       "      <th>street_clean</th>\n",
       "    </tr>\n",
       "  </thead>\n",
       "  <tbody>\n",
       "    <tr>\n",
       "      <th>0</th>\n",
       "      <td>Abbott Charles W. 548 W 39th</td>\n",
       "      <td>Abbott Charles W</td>\n",
       "      <td>548 W 39th</td>\n",
       "      <td>W 39th</td>\n",
       "      <td>548</td>\n",
       "      <td>W 39th Street</td>\n",
       "    </tr>\n",
       "  </tbody>\n",
       "</table>\n",
       "</div>"
      ],
      "text/plain": [
       "                           full               name      address   street   no  \\\n",
       "0  Abbott Charles W. 548 W 39th  Abbott Charles W   548 W 39th   W 39th   548   \n",
       "\n",
       "    street_clean  \n",
       "0  W 39th Street  "
      ]
     },
     "execution_count": 14,
     "metadata": {},
     "output_type": "execute_result"
    }
   ],
   "source": [
    "df['street_clean'] = df['street_clean'].apply(\n",
    "    lambda x: x+' Street' if x.startswith('E ') | x.startswith('W ') else x)\n",
    "df.head(1)"
   ]
  },
  {
   "cell_type": "code",
   "execution_count": 15,
   "metadata": {},
   "outputs": [],
   "source": [
    "st = dict(df['street_clean'].value_counts())\n",
    "#sorted(st.items())"
   ]
  },
  {
   "cell_type": "markdown",
   "metadata": {},
   "source": [
    "#### replace abbreviation with full names."
   ]
  },
  {
   "cell_type": "code",
   "execution_count": 16,
   "metadata": {},
   "outputs": [],
   "source": [
    "df['street_clean'] = df['street_clean'].apply(\n",
    "    lambda x: x.replace(' st', ' Street') if x.endswith(' st') else x)"
   ]
  },
  {
   "cell_type": "code",
   "execution_count": 17,
   "metadata": {},
   "outputs": [],
   "source": [
    "df['street_clean'] = df['street_clean'].apply(\n",
    "    lambda x: x.replace(' av', ' Avenue') if x.endswith(' av') else x)"
   ]
  },
  {
   "cell_type": "code",
   "execution_count": 18,
   "metadata": {},
   "outputs": [],
   "source": [
    "df['street_clean'] = df['street_clean'].apply(\n",
    "    lambda x: x.replace(' pl', ' Place') if x.endswith(' pl') else x)"
   ]
  },
  {
   "cell_type": "code",
   "execution_count": 19,
   "metadata": {},
   "outputs": [],
   "source": [
    "df['street_clean'] = df['street_clean'].apply(\n",
    "    lambda x: x.replace(' mkt', ' Market') if x.endswith(' mkt') else x)"
   ]
  },
  {
   "cell_type": "code",
   "execution_count": 20,
   "metadata": {},
   "outputs": [],
   "source": [
    "df['street_clean'] = df['street_clean'].apply(\n",
    "    lambda x: x.replace(' ln', ' Lane') if x.endswith(' ln') else x)"
   ]
  },
  {
   "cell_type": "code",
   "execution_count": 21,
   "metadata": {},
   "outputs": [],
   "source": [
    "df['street_clean'] = df['street_clean'].apply(\n",
    "    lambda x: x.replace(' sq', ' Square') if x.endswith(' sq') else x)"
   ]
  },
  {
   "cell_type": "code",
   "execution_count": 22,
   "metadata": {},
   "outputs": [],
   "source": [
    "df['street_clean'] = df['street_clean'].apply(\n",
    "    lambda x: x.replace(' slip', ' Slip') if x.endswith(' slip') else x)"
   ]
  },
  {
   "cell_type": "code",
   "execution_count": 23,
   "metadata": {},
   "outputs": [],
   "source": [
    "st = dict(df['street_clean'].value_counts())\n",
    "#sorted(st.items())"
   ]
  },
  {
   "cell_type": "code",
   "execution_count": null,
   "metadata": {},
   "outputs": [],
   "source": []
  },
  {
   "cell_type": "markdown",
   "metadata": {},
   "source": [
    "#### add \"street\" to all the ones with only one word"
   ]
  },
  {
   "cell_type": "code",
   "execution_count": 24,
   "metadata": {},
   "outputs": [],
   "source": [
    "df['street_clean'] = df['street_clean'].apply(\n",
    "    lambda x: x+' Street' if len(x.split())==1 else x)"
   ]
  },
  {
   "cell_type": "code",
   "execution_count": 25,
   "metadata": {},
   "outputs": [],
   "source": [
    "st = dict(df['street_clean'].value_counts())\n",
    "#sorted(st.items())"
   ]
  },
  {
   "cell_type": "code",
   "execution_count": null,
   "metadata": {},
   "outputs": [],
   "source": []
  },
  {
   "cell_type": "markdown",
   "metadata": {},
   "source": [
    "#### change to title case"
   ]
  },
  {
   "cell_type": "code",
   "execution_count": null,
   "metadata": {},
   "outputs": [],
   "source": []
  },
  {
   "cell_type": "markdown",
   "metadata": {},
   "source": [
    "### cross check results"
   ]
  },
  {
   "cell_type": "code",
   "execution_count": 26,
   "metadata": {},
   "outputs": [
    {
     "data": {
      "text/plain": [
       "['3rd Avenue', 'Broadway Street', '2nd Avenue', '1st Avenue', '6th Avenue']"
      ]
     },
     "execution_count": 26,
     "metadata": {},
     "output_type": "execute_result"
    }
   ],
   "source": [
    "streets_list = list(dict(df['street_clean'].value_counts()).keys())\n",
    "streets_list[:5]"
   ]
  },
  {
   "cell_type": "code",
   "execution_count": 27,
   "metadata": {},
   "outputs": [
    {
     "name": "stdout",
     "output_type": "stream",
     "text": [
      "Broadway Street\n",
      "E Houston Street\n",
      "W Broadway Street\n",
      "\n",
      "Park row\n",
      "Amsterdam Avenue\n",
      "Columbus Avenue\n",
      "Av A\n",
      "W Houston Street\n",
      "E Broadway Street\n",
      "Fulton Market\n",
      "Av C\n",
      "Av B\n",
      "Chatham Square\n",
      "5th Street\n",
      "St Mark’s Place\n",
      "Clinton Market\n",
      "N Moore\n",
      "2nd Street\n",
      "1st Street\n",
      "Lincoln Avenue\n",
      "Tompkins Market\n",
      "8th Street\n",
      "Trinity Place\n",
      "Macdougal Street\n",
      "av c W\n",
      "S William\n",
      "Washington Market\n",
      "Union sq E\n",
      "Tremont Avenue\n",
      "6th Street\n",
      "Willis Avenue\n",
      "7th Street\n",
      "3 Avenue\n",
      "E 145th Street\n",
      "8d Avenue\n",
      "av n E\n",
      "c 3rd Avenue\n",
      "Av D\n",
      "Stone William\n",
      "Jefferson Market\n",
      "Jerome Avenue\n",
      "W End av Street\n",
      "New Chambers\n",
      "Little W 12th\n",
      "N William\n",
      "av n W\n",
      "Bible h\n",
      "Centre Market\n",
      "9th Street\n",
      "Brook Avenue\n",
      "Grand st Circle\n",
      "VandeWater Street\n",
      "Hanover Square\n",
      "Catherine Market\n"
     ]
    }
   ],
   "source": [
    "for street in streets_list:\n",
    "    if street not in master_list:\n",
    "        print(street)"
   ]
  },
  {
   "cell_type": "code",
   "execution_count": null,
   "metadata": {},
   "outputs": [],
   "source": []
  },
  {
   "cell_type": "markdown",
   "metadata": {},
   "source": [
    "### manual cleaning"
   ]
  },
  {
   "cell_type": "code",
   "execution_count": 28,
   "metadata": {},
   "outputs": [],
   "source": [
    "STREET = {\n",
    "    # street added wrongly\n",
    "    '1st Street': '1st Avenue',\n",
    "    '2nd Street': '2nd Avenue',\n",
    "    '3 Avenue': '3rd Avenue',\n",
    "    'c 3rd Avenue': '3rd Avenue',\n",
    "    '5th Street': '5th Avenue',\n",
    "    '6th Street': '6th Avenue',\n",
    "    '7th Street': '7th Avenue',\n",
    "    '8th Street': '8th Avenue',\n",
    "    '8d Avenue': '8th Avenue',\n",
    "    '9th Street': '9th Avenue',\n",
    "    'Broadway Street': 'Broadway',\n",
    "    \n",
    "    # direction order\n",
    "    'W Broadway Street': 'Broadway W',\n",
    "    'E Broadway Street': 'Broadway E',\n",
    "    'W Houston Street': 'Houston Street W',\n",
    "    'E Houston Street': 'Houston Street E',\n",
    "    'N Moore': 'Moore Street N',\n",
    "    'S William': 'William Street S',\n",
    "    'N William': 'William Street N',\n",
    "    'Union sq E': 'Union Square E',\n",
    "    'Little W 12th': 'W 12th Street',\n",
    "    'E 145th Street': 'E 145th Street',\n",
    "    \n",
    "    # title case\n",
    "    'Park row': 'Park Row',\n",
    "    'James slip': 'James Slip',\n",
    "    'Old slip': 'Old Slip',\n",
    "    'Catherine slip': 'Catherine Slip',\n",
    "    'Peck slip'\n",
    "    \n",
    "    # order\n",
    "    'Av A': 'A Avenue',\n",
    "    'Av B': 'B Avenue',\n",
    "    'Av C': 'C Avenue',\n",
    "    'av c W': 'C Avenue',\n",
    "    'Av D': 'D Avenue',\n",
    "    'av n E': 'East Avenue',\n",
    "    'av n W': 'West Avenue',\n",
    "    'W End av Street': 'West Avenue',\n",
    "    \n",
    "    # same name\n",
    "    'Centre Market': 'Centre Market Place',\n",
    "    'Clinton Market': 'Clinton Place',\n",
    "    'Chatham Square': 'Chatham Street',\n",
    "    'Catherine Market': 'Catherine Street',\n",
    "    'Fulton Market': 'Fulton Street',\n",
    "    'Grand st Circle': 'Grand Street',\n",
    "    'Jefferson Market': 'Jefferson Street',\n",
    "    'Stone William': 'Stone Street',\n",
    "    'Tompkins Market': 'Tompkins Street',\n",
    "    'Washington Market': 'Washington Place',\n",
    "    'Hanover Square': 'Hanover Street',\n",
    "    'New Chambers': 'New Chambers Street',\n",
    "    \n",
    "    # different spelling\n",
    "    'Macdougal Street': 'Mac Dougal Street',\n",
    "    'St Mark’s Place': 'Saint Marks Place',\n",
    "    'VandeWater Street': 'Vandewater Street',\n",
    "    \n",
    "    # unmatched\n",
    "    # Amsterdam Avenue\n",
    "    # Columbus Avenue\n",
    "    # Trinity Place\n",
    "    # Lincoln Avenue\n",
    "    # Tremont Avenue\n",
    "    # Brook Avenue\n",
    "    # Willis Avenue\n",
    "    # Bible h\n",
    "    # Jerome Avenue\n",
    "}"
   ]
  },
  {
   "cell_type": "code",
   "execution_count": 29,
   "metadata": {},
   "outputs": [
    {
     "data": {
      "text/html": [
       "<div>\n",
       "<style scoped>\n",
       "    .dataframe tbody tr th:only-of-type {\n",
       "        vertical-align: middle;\n",
       "    }\n",
       "\n",
       "    .dataframe tbody tr th {\n",
       "        vertical-align: top;\n",
       "    }\n",
       "\n",
       "    .dataframe thead th {\n",
       "        text-align: right;\n",
       "    }\n",
       "</style>\n",
       "<table border=\"1\" class=\"dataframe\">\n",
       "  <thead>\n",
       "    <tr style=\"text-align: right;\">\n",
       "      <th></th>\n",
       "      <th>full</th>\n",
       "      <th>name</th>\n",
       "      <th>address</th>\n",
       "      <th>street</th>\n",
       "      <th>no</th>\n",
       "      <th>street_clean</th>\n",
       "    </tr>\n",
       "  </thead>\n",
       "  <tbody>\n",
       "    <tr>\n",
       "      <th>0</th>\n",
       "      <td>Abbott Charles W. 548 W 39th</td>\n",
       "      <td>Abbott Charles W</td>\n",
       "      <td>548 W 39th</td>\n",
       "      <td>W 39th</td>\n",
       "      <td>548</td>\n",
       "      <td>W 39th Street</td>\n",
       "    </tr>\n",
       "  </tbody>\n",
       "</table>\n",
       "</div>"
      ],
      "text/plain": [
       "                           full               name      address   street   no  \\\n",
       "0  Abbott Charles W. 548 W 39th  Abbott Charles W   548 W 39th   W 39th   548   \n",
       "\n",
       "    street_clean  \n",
       "0  W 39th Street  "
      ]
     },
     "execution_count": 29,
     "metadata": {},
     "output_type": "execute_result"
    }
   ],
   "source": [
    "df = df.replace({'street_clean': STREET})\n",
    "df.head(1)"
   ]
  },
  {
   "cell_type": "code",
   "execution_count": 30,
   "metadata": {},
   "outputs": [
    {
     "data": {
      "text/plain": [
       "['3rd Avenue', '2nd Avenue', '1st Avenue', 'Broadway', '6th Avenue']"
      ]
     },
     "execution_count": 30,
     "metadata": {},
     "output_type": "execute_result"
    }
   ],
   "source": [
    "streets_list = list(dict(df['street_clean'].value_counts()).keys())\n",
    "streets_list[:5]"
   ]
  },
  {
   "cell_type": "code",
   "execution_count": null,
   "metadata": {},
   "outputs": [],
   "source": []
  },
  {
   "cell_type": "markdown",
   "metadata": {},
   "source": [
    "### cross check results"
   ]
  },
  {
   "cell_type": "code",
   "execution_count": 31,
   "metadata": {},
   "outputs": [
    {
     "name": "stdout",
     "output_type": "stream",
     "text": [
      "Broadway W\n",
      "\n",
      "Columbus Avenue\n",
      "Amsterdam Avenue\n",
      "Av A\n",
      "Broadway E\n",
      "Lincoln Avenue\n",
      "Trinity Place\n",
      "Tremont Avenue\n",
      "West Avenue\n",
      "Willis Avenue\n",
      "Jerome Avenue\n",
      "Bible h\n",
      "E 145th Street\n",
      "East Avenue\n",
      "Brook Avenue\n"
     ]
    }
   ],
   "source": [
    "for street in streets_list:\n",
    "    if street not in master_list:\n",
    "        print(street)"
   ]
  },
  {
   "cell_type": "code",
   "execution_count": null,
   "metadata": {},
   "outputs": [],
   "source": []
  },
  {
   "cell_type": "markdown",
   "metadata": {},
   "source": [
    "### House Number"
   ]
  },
  {
   "cell_type": "code",
   "execution_count": 32,
   "metadata": {},
   "outputs": [
    {
     "data": {
      "text/html": [
       "<div>\n",
       "<style scoped>\n",
       "    .dataframe tbody tr th:only-of-type {\n",
       "        vertical-align: middle;\n",
       "    }\n",
       "\n",
       "    .dataframe tbody tr th {\n",
       "        vertical-align: top;\n",
       "    }\n",
       "\n",
       "    .dataframe thead th {\n",
       "        text-align: right;\n",
       "    }\n",
       "</style>\n",
       "<table border=\"1\" class=\"dataframe\">\n",
       "  <thead>\n",
       "    <tr style=\"text-align: right;\">\n",
       "      <th></th>\n",
       "      <th>full</th>\n",
       "      <th>name</th>\n",
       "      <th>address</th>\n",
       "      <th>street</th>\n",
       "      <th>no</th>\n",
       "      <th>street_clean</th>\n",
       "      <th>num_clean</th>\n",
       "    </tr>\n",
       "  </thead>\n",
       "  <tbody>\n",
       "    <tr>\n",
       "      <th>0</th>\n",
       "      <td>Abbott Charles W. 548 W 39th</td>\n",
       "      <td>Abbott Charles W</td>\n",
       "      <td>548 W 39th</td>\n",
       "      <td>W 39th</td>\n",
       "      <td>548</td>\n",
       "      <td>W 39th Street</td>\n",
       "      <td>548</td>\n",
       "    </tr>\n",
       "  </tbody>\n",
       "</table>\n",
       "</div>"
      ],
      "text/plain": [
       "                           full               name      address   street   no  \\\n",
       "0  Abbott Charles W. 548 W 39th  Abbott Charles W   548 W 39th   W 39th   548   \n",
       "\n",
       "    street_clean num_clean  \n",
       "0  W 39th Street       548  "
      ]
     },
     "execution_count": 32,
     "metadata": {},
     "output_type": "execute_result"
    }
   ],
   "source": [
    "df['num_clean'] = df['no']\n",
    "df.head(1)"
   ]
  },
  {
   "cell_type": "code",
   "execution_count": 33,
   "metadata": {},
   "outputs": [],
   "source": [
    "no = dict(df['num_clean'].value_counts())\n",
    "#sorted(no.items())"
   ]
  },
  {
   "cell_type": "code",
   "execution_count": null,
   "metadata": {},
   "outputs": [],
   "source": []
  },
  {
   "cell_type": "code",
   "execution_count": 34,
   "metadata": {},
   "outputs": [],
   "source": [
    "df['num_clean'] = df['num_clean'].apply(\n",
    "    lambda x: x.replace('th', '') if str(x).endswith('th') else x)"
   ]
  },
  {
   "cell_type": "code",
   "execution_count": 35,
   "metadata": {},
   "outputs": [],
   "source": [
    "df['num_clean'] = df['num_clean'].apply(\n",
    "    lambda x: x.replace('d', '') if str(x).endswith('d') else x)"
   ]
  },
  {
   "cell_type": "code",
   "execution_count": null,
   "metadata": {},
   "outputs": [],
   "source": []
  },
  {
   "cell_type": "code",
   "execution_count": 36,
   "metadata": {},
   "outputs": [],
   "source": [
    "df['num_clean'] = df['num_clean'].dropna().astype(str).astype(float).astype(int)"
   ]
  },
  {
   "cell_type": "code",
   "execution_count": null,
   "metadata": {},
   "outputs": [],
   "source": []
  },
  {
   "cell_type": "code",
   "execution_count": 37,
   "metadata": {},
   "outputs": [],
   "source": [
    "df.to_csv('cleaned/1898_address_CLEANED.csv')"
   ]
  }
 ],
 "metadata": {
  "kernelspec": {
   "display_name": "Python 3.8.1 64-bit",
   "language": "python",
   "name": "python38164bit0209044da7c742dab8314e0953beb93b"
  },
  "language_info": {
   "codemirror_mode": {
    "name": "ipython",
    "version": 3
   },
   "file_extension": ".py",
   "mimetype": "text/x-python",
   "name": "python",
   "nbconvert_exporter": "python",
   "pygments_lexer": "ipython3",
   "version": "3.8.1"
  }
 },
 "nbformat": 4,
 "nbformat_minor": 4
}
