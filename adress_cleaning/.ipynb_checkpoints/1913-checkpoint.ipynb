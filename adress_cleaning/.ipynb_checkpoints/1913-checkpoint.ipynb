{
 "cells": [
  {
   "cell_type": "markdown",
   "metadata": {},
   "source": [
    "# 1913 Restaurant Data\n",
    "Goal: Create a set of uniform code for cleaning up the street names and street numbers. \n"
   ]
  },
  {
   "cell_type": "code",
   "execution_count": 1,
   "metadata": {},
   "outputs": [],
   "source": [
    "import pandas as pd"
   ]
  },
  {
   "cell_type": "code",
   "execution_count": null,
   "metadata": {},
   "outputs": [],
   "source": []
  },
  {
   "cell_type": "markdown",
   "metadata": {},
   "source": [
    "## Master"
   ]
  },
  {
   "cell_type": "code",
   "execution_count": 2,
   "metadata": {},
   "outputs": [
    {
     "data": {
      "text/html": [
       "<div>\n",
       "<style scoped>\n",
       "    .dataframe tbody tr th:only-of-type {\n",
       "        vertical-align: middle;\n",
       "    }\n",
       "\n",
       "    .dataframe tbody tr th {\n",
       "        vertical-align: top;\n",
       "    }\n",
       "\n",
       "    .dataframe thead th {\n",
       "        text-align: right;\n",
       "    }\n",
       "</style>\n",
       "<table border=\"1\" class=\"dataframe\">\n",
       "  <thead>\n",
       "    <tr style=\"text-align: right;\">\n",
       "      <th></th>\n",
       "      <th>street_name</th>\n",
       "      <th>odd_on</th>\n",
       "      <th>avg_direction</th>\n",
       "      <th>building_num_range</th>\n",
       "      <th>start_end_coordinates</th>\n",
       "      <th>segment_length</th>\n",
       "      <th>segment_direction</th>\n",
       "      <th>building_num_range_length</th>\n",
       "      <th>avg_length_per_building</th>\n",
       "      <th>direction_deviation</th>\n",
       "      <th>road_type</th>\n",
       "      <th>offset_from_road_center</th>\n",
       "    </tr>\n",
       "  </thead>\n",
       "  <tbody>\n",
       "    <tr>\n",
       "      <th>0</th>\n",
       "      <td>10th Avenue</td>\n",
       "      <td>left</td>\n",
       "      <td>-170.561731</td>\n",
       "      <td>[1, 19]</td>\n",
       "      <td>[[40.741073, -74.009227], [40.739952, -74.0094...</td>\n",
       "      <td>126.194091</td>\n",
       "      <td>-170.561731</td>\n",
       "      <td>19</td>\n",
       "      <td>6.641794</td>\n",
       "      <td>0.0</td>\n",
       "      <td>Avenue</td>\n",
       "      <td>10</td>\n",
       "    </tr>\n",
       "  </tbody>\n",
       "</table>\n",
       "</div>"
      ],
      "text/plain": [
       "   street_name odd_on  avg_direction building_num_range  \\\n",
       "0  10th Avenue   left    -170.561731            [1, 19]   \n",
       "\n",
       "                               start_end_coordinates  segment_length  \\\n",
       "0  [[40.741073, -74.009227], [40.739952, -74.0094...      126.194091   \n",
       "\n",
       "   segment_direction  building_num_range_length  avg_length_per_building  \\\n",
       "0        -170.561731                         19                 6.641794   \n",
       "\n",
       "   direction_deviation road_type  offset_from_road_center  \n",
       "0                  0.0    Avenue                       10  "
      ]
     },
     "execution_count": 2,
     "metadata": {},
     "output_type": "execute_result"
    }
   ],
   "source": [
    "DF = pd.read_csv('datasets/1880_streets_full.csv')\n",
    "DF.head(1)"
   ]
  },
  {
   "cell_type": "code",
   "execution_count": 3,
   "metadata": {},
   "outputs": [
    {
     "data": {
      "text/plain": [
       "10th Avenue       164\n",
       "8th Avenue        148\n",
       "5th Avenue        129\n",
       "2nd Avenue        129\n",
       "3rd Avenue        126\n",
       "                 ... \n",
       "Strikers Lane       1\n",
       "Hague Street        1\n",
       "Minetta Place       1\n",
       "Pier 15             1\n",
       "Hancock Street      1\n",
       "Name: street_name, Length: 666, dtype: int64"
      ]
     },
     "execution_count": 3,
     "metadata": {},
     "output_type": "execute_result"
    }
   ],
   "source": [
    "DF['street_name'].value_counts()"
   ]
  },
  {
   "cell_type": "code",
   "execution_count": 4,
   "metadata": {},
   "outputs": [],
   "source": [
    "master_list = list(dict(DF['street_name'].value_counts()).keys())\n",
    "#sorted(master_list)"
   ]
  },
  {
   "cell_type": "code",
   "execution_count": null,
   "metadata": {},
   "outputs": [],
   "source": []
  },
  {
   "cell_type": "markdown",
   "metadata": {},
   "source": [
    "## 1913"
   ]
  },
  {
   "cell_type": "code",
   "execution_count": 5,
   "metadata": {},
   "outputs": [
    {
     "data": {
      "text/html": [
       "<div>\n",
       "<style scoped>\n",
       "    .dataframe tbody tr th:only-of-type {\n",
       "        vertical-align: middle;\n",
       "    }\n",
       "\n",
       "    .dataframe tbody tr th {\n",
       "        vertical-align: top;\n",
       "    }\n",
       "\n",
       "    .dataframe thead th {\n",
       "        text-align: right;\n",
       "    }\n",
       "</style>\n",
       "<table border=\"1\" class=\"dataframe\">\n",
       "  <thead>\n",
       "    <tr style=\"text-align: right;\">\n",
       "      <th></th>\n",
       "      <th>Year</th>\n",
       "      <th>PG</th>\n",
       "      <th>ID</th>\n",
       "      <th>ID2</th>\n",
       "      <th>CAT_ORG</th>\n",
       "      <th>FULL</th>\n",
       "      <th>Position</th>\n",
       "      <th>Nation</th>\n",
       "      <th>Name</th>\n",
       "      <th>NATIONALITY</th>\n",
       "      <th>...</th>\n",
       "      <th>Addy_Clean</th>\n",
       "      <th>Address</th>\n",
       "      <th>CORNER</th>\n",
       "      <th>ST combi</th>\n",
       "      <th>ST Name</th>\n",
       "      <th>ST Name 2</th>\n",
       "      <th>ST Name 3</th>\n",
       "      <th>ST Name 4</th>\n",
       "      <th>ST Name 5</th>\n",
       "      <th>ST Name 6</th>\n",
       "    </tr>\n",
       "  </thead>\n",
       "  <tbody>\n",
       "    <tr>\n",
       "      <th>0</th>\n",
       "      <td>1913_TrowBusMan</td>\n",
       "      <td>904</td>\n",
       "      <td>33</td>\n",
       "      <td>1913_TrowBusMan_33</td>\n",
       "      <td>Restaurants</td>\n",
       "      <td>Albanian Roumanian Co, 261 W37th</td>\n",
       "      <td>23</td>\n",
       "      <td>NaN</td>\n",
       "      <td>Albanian Roumanian Co</td>\n",
       "      <td>Albanian</td>\n",
       "      <td>...</td>\n",
       "      <td>261 W 37th</td>\n",
       "      <td>261 W37th</td>\n",
       "      <td>N</td>\n",
       "      <td>W 37th</td>\n",
       "      <td>261</td>\n",
       "      <td>W37th</td>\n",
       "      <td>NaN</td>\n",
       "      <td>NaN</td>\n",
       "      <td>NaN</td>\n",
       "      <td>NaN</td>\n",
       "    </tr>\n",
       "  </tbody>\n",
       "</table>\n",
       "<p>1 rows × 23 columns</p>\n",
       "</div>"
      ],
      "text/plain": [
       "              Year   PG  ID                 ID2      CAT_ORG  \\\n",
       "0  1913_TrowBusMan  904  33  1913_TrowBusMan_33  Restaurants   \n",
       "\n",
       "                               FULL  Position Nation                    Name  \\\n",
       "0  Albanian Roumanian Co, 261 W37th        23    NaN  Albanian Roumanian Co    \n",
       "\n",
       "  NATIONALITY  ...  Addy_Clean    Address CORNER ST combi ST Name ST Name 2  \\\n",
       "0    Albanian  ...  261 W 37th  261 W37th      N   W 37th     261     W37th   \n",
       "\n",
       "  ST Name 3 ST Name 4 ST Name 5 ST Name 6  \n",
       "0       NaN       NaN       NaN       NaN  \n",
       "\n",
       "[1 rows x 23 columns]"
      ]
     },
     "execution_count": 5,
     "metadata": {},
     "output_type": "execute_result"
    }
   ],
   "source": [
    "df = pd.read_csv('datasets/1913TrowBus.csv')\n",
    "df.head(1)"
   ]
  },
  {
   "cell_type": "code",
   "execution_count": 6,
   "metadata": {},
   "outputs": [
    {
     "data": {
      "text/plain": [
       "(5419, 23)"
      ]
     },
     "execution_count": 6,
     "metadata": {},
     "output_type": "execute_result"
    }
   ],
   "source": [
    "df.shape"
   ]
  },
  {
   "cell_type": "code",
   "execution_count": 7,
   "metadata": {},
   "outputs": [
    {
     "data": {
      "text/plain": [
       "Index(['Year', 'PG', 'ID', 'ID2', 'CAT_ORG', 'FULL', 'Position', 'Nation',\n",
       "       'Name', 'NATIONALITY', 'NATIONALITY final', 'GENDER', 'Unnamed: 12',\n",
       "       'Addy_Clean', 'Address', 'CORNER', 'ST combi', 'ST Name', 'ST Name 2',\n",
       "       'ST Name 3', 'ST Name 4', 'ST Name 5', 'ST Name 6'],\n",
       "      dtype='object')"
      ]
     },
     "execution_count": 7,
     "metadata": {},
     "output_type": "execute_result"
    }
   ],
   "source": [
    "df.columns"
   ]
  },
  {
   "cell_type": "markdown",
   "metadata": {},
   "source": [
    "Get the columns I need."
   ]
  },
  {
   "cell_type": "code",
   "execution_count": 8,
   "metadata": {},
   "outputs": [
    {
     "data": {
      "text/html": [
       "<div>\n",
       "<style scoped>\n",
       "    .dataframe tbody tr th:only-of-type {\n",
       "        vertical-align: middle;\n",
       "    }\n",
       "\n",
       "    .dataframe tbody tr th {\n",
       "        vertical-align: top;\n",
       "    }\n",
       "\n",
       "    .dataframe thead th {\n",
       "        text-align: right;\n",
       "    }\n",
       "</style>\n",
       "<table border=\"1\" class=\"dataframe\">\n",
       "  <thead>\n",
       "    <tr style=\"text-align: right;\">\n",
       "      <th></th>\n",
       "      <th>FULL</th>\n",
       "      <th>Name</th>\n",
       "      <th>Addy_Clean</th>\n",
       "      <th>ST combi</th>\n",
       "    </tr>\n",
       "  </thead>\n",
       "  <tbody>\n",
       "    <tr>\n",
       "      <th>0</th>\n",
       "      <td>Albanian Roumanian Co, 261 W37th</td>\n",
       "      <td>Albanian Roumanian Co</td>\n",
       "      <td>261 W 37th</td>\n",
       "      <td>W 37th</td>\n",
       "    </tr>\n",
       "    <tr>\n",
       "      <th>1</th>\n",
       "      <td>Garbade Emily D. 78 W Houston</td>\n",
       "      <td>Garbade Emily D</td>\n",
       "      <td>78 W Houston</td>\n",
       "      <td>W Houston</td>\n",
       "    </tr>\n",
       "    <tr>\n",
       "      <th>2</th>\n",
       "      <td>Frese Ida L, 2 W33d</td>\n",
       "      <td>Frese Ida L</td>\n",
       "      <td>2 W 33rd</td>\n",
       "      <td>W 33rd</td>\n",
       "    </tr>\n",
       "    <tr>\n",
       "      <th>3</th>\n",
       "      <td>Aram Ada. 1902, 7th av</td>\n",
       "      <td>Aram Ada</td>\n",
       "      <td>1902 7th av</td>\n",
       "      <td>7th av</td>\n",
       "    </tr>\n",
       "    <tr>\n",
       "      <th>4</th>\n",
       "      <td>Cafe Safran, 265, 4th av</td>\n",
       "      <td>Cafe Safran</td>\n",
       "      <td>265 4th av</td>\n",
       "      <td>4th av</td>\n",
       "    </tr>\n",
       "  </tbody>\n",
       "</table>\n",
       "</div>"
      ],
      "text/plain": [
       "                               FULL                    Name    Addy_Clean  \\\n",
       "0  Albanian Roumanian Co, 261 W37th  Albanian Roumanian Co     261 W 37th   \n",
       "1     Garbade Emily D. 78 W Houston        Garbade Emily D   78 W Houston   \n",
       "2               Frese Ida L, 2 W33d            Frese Ida L       2 W 33rd   \n",
       "3            Aram Ada. 1902, 7th av               Aram Ada    1902 7th av   \n",
       "4          Cafe Safran, 265, 4th av            Cafe Safran     265 4th av   \n",
       "\n",
       "    ST combi  \n",
       "0     W 37th  \n",
       "1  W Houston  \n",
       "2     W 33rd  \n",
       "3     7th av  \n",
       "4     4th av  "
      ]
     },
     "execution_count": 8,
     "metadata": {},
     "output_type": "execute_result"
    }
   ],
   "source": [
    "df = df[['FULL', 'Name', 'Addy_Clean', 'ST combi']]\n",
    "df.head()"
   ]
  },
  {
   "cell_type": "code",
   "execution_count": 9,
   "metadata": {},
   "outputs": [
    {
     "data": {
      "text/html": [
       "<div>\n",
       "<style scoped>\n",
       "    .dataframe tbody tr th:only-of-type {\n",
       "        vertical-align: middle;\n",
       "    }\n",
       "\n",
       "    .dataframe tbody tr th {\n",
       "        vertical-align: top;\n",
       "    }\n",
       "\n",
       "    .dataframe thead th {\n",
       "        text-align: right;\n",
       "    }\n",
       "</style>\n",
       "<table border=\"1\" class=\"dataframe\">\n",
       "  <thead>\n",
       "    <tr style=\"text-align: right;\">\n",
       "      <th></th>\n",
       "      <th>full</th>\n",
       "      <th>name</th>\n",
       "      <th>address</th>\n",
       "      <th>street</th>\n",
       "    </tr>\n",
       "  </thead>\n",
       "  <tbody>\n",
       "    <tr>\n",
       "      <th>0</th>\n",
       "      <td>Albanian Roumanian Co, 261 W37th</td>\n",
       "      <td>Albanian Roumanian Co</td>\n",
       "      <td>261 W 37th</td>\n",
       "      <td>W 37th</td>\n",
       "    </tr>\n",
       "  </tbody>\n",
       "</table>\n",
       "</div>"
      ],
      "text/plain": [
       "                               full                    name     address  \\\n",
       "0  Albanian Roumanian Co, 261 W37th  Albanian Roumanian Co   261 W 37th   \n",
       "\n",
       "   street  \n",
       "0  W 37th  "
      ]
     },
     "execution_count": 9,
     "metadata": {},
     "output_type": "execute_result"
    }
   ],
   "source": [
    "df.columns = ['full', 'name', 'address', 'street']\n",
    "df.head(1)"
   ]
  },
  {
   "cell_type": "code",
   "execution_count": null,
   "metadata": {},
   "outputs": [],
   "source": []
  },
  {
   "cell_type": "code",
   "execution_count": 10,
   "metadata": {},
   "outputs": [
    {
     "data": {
      "text/html": [
       "<div>\n",
       "<style scoped>\n",
       "    .dataframe tbody tr th:only-of-type {\n",
       "        vertical-align: middle;\n",
       "    }\n",
       "\n",
       "    .dataframe tbody tr th {\n",
       "        vertical-align: top;\n",
       "    }\n",
       "\n",
       "    .dataframe thead th {\n",
       "        text-align: right;\n",
       "    }\n",
       "</style>\n",
       "<table border=\"1\" class=\"dataframe\">\n",
       "  <thead>\n",
       "    <tr style=\"text-align: right;\">\n",
       "      <th></th>\n",
       "      <th>full</th>\n",
       "      <th>name</th>\n",
       "      <th>address</th>\n",
       "      <th>street</th>\n",
       "      <th>num</th>\n",
       "    </tr>\n",
       "  </thead>\n",
       "  <tbody>\n",
       "    <tr>\n",
       "      <th>0</th>\n",
       "      <td>Albanian Roumanian Co, 261 W37th</td>\n",
       "      <td>Albanian Roumanian Co</td>\n",
       "      <td>261 W 37th</td>\n",
       "      <td>W 37th</td>\n",
       "      <td>261</td>\n",
       "    </tr>\n",
       "    <tr>\n",
       "      <th>1</th>\n",
       "      <td>Garbade Emily D. 78 W Houston</td>\n",
       "      <td>Garbade Emily D</td>\n",
       "      <td>78 W Houston</td>\n",
       "      <td>W Houston</td>\n",
       "      <td>78</td>\n",
       "    </tr>\n",
       "    <tr>\n",
       "      <th>2</th>\n",
       "      <td>Frese Ida L, 2 W33d</td>\n",
       "      <td>Frese Ida L</td>\n",
       "      <td>2 W 33rd</td>\n",
       "      <td>W 33rd</td>\n",
       "      <td>2</td>\n",
       "    </tr>\n",
       "    <tr>\n",
       "      <th>3</th>\n",
       "      <td>Aram Ada. 1902, 7th av</td>\n",
       "      <td>Aram Ada</td>\n",
       "      <td>1902 7th av</td>\n",
       "      <td>7th av</td>\n",
       "      <td>1902</td>\n",
       "    </tr>\n",
       "    <tr>\n",
       "      <th>4</th>\n",
       "      <td>Cafe Safran, 265, 4th av</td>\n",
       "      <td>Cafe Safran</td>\n",
       "      <td>265 4th av</td>\n",
       "      <td>4th av</td>\n",
       "      <td>265</td>\n",
       "    </tr>\n",
       "  </tbody>\n",
       "</table>\n",
       "</div>"
      ],
      "text/plain": [
       "                               full                    name       address  \\\n",
       "0  Albanian Roumanian Co, 261 W37th  Albanian Roumanian Co     261 W 37th   \n",
       "1     Garbade Emily D. 78 W Houston        Garbade Emily D   78 W Houston   \n",
       "2               Frese Ida L, 2 W33d            Frese Ida L       2 W 33rd   \n",
       "3            Aram Ada. 1902, 7th av               Aram Ada    1902 7th av   \n",
       "4          Cafe Safran, 265, 4th av            Cafe Safran     265 4th av   \n",
       "\n",
       "      street   num  \n",
       "0     W 37th   261  \n",
       "1  W Houston    78  \n",
       "2     W 33rd     2  \n",
       "3     7th av  1902  \n",
       "4     4th av   265  "
      ]
     },
     "execution_count": 10,
     "metadata": {},
     "output_type": "execute_result"
    }
   ],
   "source": [
    "df['num'] = df['address'].str.split().str[0]\n",
    "df.head()"
   ]
  },
  {
   "cell_type": "code",
   "execution_count": null,
   "metadata": {},
   "outputs": [],
   "source": []
  },
  {
   "cell_type": "markdown",
   "metadata": {},
   "source": [
    "### Street"
   ]
  },
  {
   "cell_type": "markdown",
   "metadata": {},
   "source": [
    "### systematic cleaning"
   ]
  },
  {
   "cell_type": "markdown",
   "metadata": {},
   "source": [
    "#### strip unnecessary white spaces"
   ]
  },
  {
   "cell_type": "code",
   "execution_count": 11,
   "metadata": {},
   "outputs": [
    {
     "data": {
      "text/html": [
       "<div>\n",
       "<style scoped>\n",
       "    .dataframe tbody tr th:only-of-type {\n",
       "        vertical-align: middle;\n",
       "    }\n",
       "\n",
       "    .dataframe tbody tr th {\n",
       "        vertical-align: top;\n",
       "    }\n",
       "\n",
       "    .dataframe thead th {\n",
       "        text-align: right;\n",
       "    }\n",
       "</style>\n",
       "<table border=\"1\" class=\"dataframe\">\n",
       "  <thead>\n",
       "    <tr style=\"text-align: right;\">\n",
       "      <th></th>\n",
       "      <th>full</th>\n",
       "      <th>name</th>\n",
       "      <th>address</th>\n",
       "      <th>street</th>\n",
       "      <th>num</th>\n",
       "      <th>street_clean</th>\n",
       "    </tr>\n",
       "  </thead>\n",
       "  <tbody>\n",
       "    <tr>\n",
       "      <th>0</th>\n",
       "      <td>Albanian Roumanian Co, 261 W37th</td>\n",
       "      <td>Albanian Roumanian Co</td>\n",
       "      <td>261 W 37th</td>\n",
       "      <td>W 37th</td>\n",
       "      <td>261</td>\n",
       "      <td>W 37th</td>\n",
       "    </tr>\n",
       "  </tbody>\n",
       "</table>\n",
       "</div>"
      ],
      "text/plain": [
       "                               full                    name     address  \\\n",
       "0  Albanian Roumanian Co, 261 W37th  Albanian Roumanian Co   261 W 37th   \n",
       "\n",
       "   street  num street_clean  \n",
       "0  W 37th  261       W 37th  "
      ]
     },
     "execution_count": 11,
     "metadata": {},
     "output_type": "execute_result"
    }
   ],
   "source": [
    "df['street_clean'] = df['street'].str.strip()\n",
    "df.head(1)"
   ]
  },
  {
   "cell_type": "markdown",
   "metadata": {},
   "source": [
    "Inspect `street_clean` data."
   ]
  },
  {
   "cell_type": "code",
   "execution_count": 12,
   "metadata": {},
   "outputs": [],
   "source": [
    "st = dict(df['street_clean'].value_counts())\n",
    "#sorted(st.items())"
   ]
  },
  {
   "cell_type": "code",
   "execution_count": null,
   "metadata": {},
   "outputs": [],
   "source": []
  },
  {
   "cell_type": "markdown",
   "metadata": {},
   "source": [
    "#### add \"street\" after \"E xxth\" or \"W xxth\""
   ]
  },
  {
   "cell_type": "code",
   "execution_count": 13,
   "metadata": {},
   "outputs": [
    {
     "data": {
      "text/html": [
       "<div>\n",
       "<style scoped>\n",
       "    .dataframe tbody tr th:only-of-type {\n",
       "        vertical-align: middle;\n",
       "    }\n",
       "\n",
       "    .dataframe tbody tr th {\n",
       "        vertical-align: top;\n",
       "    }\n",
       "\n",
       "    .dataframe thead th {\n",
       "        text-align: right;\n",
       "    }\n",
       "</style>\n",
       "<table border=\"1\" class=\"dataframe\">\n",
       "  <thead>\n",
       "    <tr style=\"text-align: right;\">\n",
       "      <th></th>\n",
       "      <th>full</th>\n",
       "      <th>name</th>\n",
       "      <th>address</th>\n",
       "      <th>street</th>\n",
       "      <th>num</th>\n",
       "      <th>street_clean</th>\n",
       "    </tr>\n",
       "  </thead>\n",
       "  <tbody>\n",
       "    <tr>\n",
       "      <th>0</th>\n",
       "      <td>Albanian Roumanian Co, 261 W37th</td>\n",
       "      <td>Albanian Roumanian Co</td>\n",
       "      <td>261 W 37th</td>\n",
       "      <td>W 37th</td>\n",
       "      <td>261</td>\n",
       "      <td>W 37th Street</td>\n",
       "    </tr>\n",
       "  </tbody>\n",
       "</table>\n",
       "</div>"
      ],
      "text/plain": [
       "                               full                    name     address  \\\n",
       "0  Albanian Roumanian Co, 261 W37th  Albanian Roumanian Co   261 W 37th   \n",
       "\n",
       "   street  num   street_clean  \n",
       "0  W 37th  261  W 37th Street  "
      ]
     },
     "execution_count": 13,
     "metadata": {},
     "output_type": "execute_result"
    }
   ],
   "source": [
    "df['street_clean'] = df['street_clean'].apply(\n",
    "    lambda x: x+' Street' if x.startswith('E ') | x.startswith('W ') else x)\n",
    "df.head(1)"
   ]
  },
  {
   "cell_type": "code",
   "execution_count": 14,
   "metadata": {},
   "outputs": [],
   "source": [
    "st = dict(df['street_clean'].value_counts())\n",
    "#sorted(st.items())"
   ]
  },
  {
   "cell_type": "code",
   "execution_count": null,
   "metadata": {},
   "outputs": [],
   "source": []
  },
  {
   "cell_type": "markdown",
   "metadata": {},
   "source": [
    "#### replace abbreviation with full names."
   ]
  },
  {
   "cell_type": "code",
   "execution_count": 15,
   "metadata": {},
   "outputs": [],
   "source": [
    "df['street_clean'] = df['street_clean'].apply(\n",
    "    lambda x: x.replace(' st', ' Street') if x.endswith(' st') else x)"
   ]
  },
  {
   "cell_type": "code",
   "execution_count": 16,
   "metadata": {},
   "outputs": [],
   "source": [
    "df['street_clean'] = df['street_clean'].apply(\n",
    "    lambda x: x.replace(' St', ' Street') if x.endswith(' St') else x)"
   ]
  },
  {
   "cell_type": "code",
   "execution_count": 17,
   "metadata": {},
   "outputs": [],
   "source": [
    "df['street_clean'] = df['street_clean'].apply(\n",
    "    lambda x: x.replace(' av', ' Avenue') if x.endswith(' av') else x)"
   ]
  },
  {
   "cell_type": "code",
   "execution_count": 18,
   "metadata": {},
   "outputs": [],
   "source": [
    "df['street_clean'] = df['street_clean'].apply(\n",
    "    lambda x: x.replace(' pl', ' Place') if x.endswith(' pl') else x)"
   ]
  },
  {
   "cell_type": "code",
   "execution_count": 19,
   "metadata": {},
   "outputs": [],
   "source": [
    "df['street_clean'] = df['street_clean'].apply(\n",
    "    lambda x: x.replace(' mkt', ' Market') if x.endswith(' mkt') else x)"
   ]
  },
  {
   "cell_type": "code",
   "execution_count": 20,
   "metadata": {},
   "outputs": [],
   "source": [
    "df['street_clean'] = df['street_clean'].apply(\n",
    "    lambda x: x.replace(' ln', ' Lane') if x.endswith(' ln') else x)"
   ]
  },
  {
   "cell_type": "code",
   "execution_count": 21,
   "metadata": {},
   "outputs": [],
   "source": [
    "df['street_clean'] = df['street_clean'].apply(\n",
    "    lambda x: x.replace(' sq', ' Square') if x.endswith(' sq') else x)"
   ]
  },
  {
   "cell_type": "code",
   "execution_count": 22,
   "metadata": {},
   "outputs": [],
   "source": [
    "df['street_clean'] = df['street_clean'].apply(\n",
    "    lambda x: x.replace(' slip', ' Slip') if x.endswith(' slip') else x)"
   ]
  },
  {
   "cell_type": "code",
   "execution_count": 23,
   "metadata": {},
   "outputs": [],
   "source": [
    "df['street_clean'] = df['street_clean'].apply(\n",
    "    lambda x: x.replace(' sl', ' Slip') if x.endswith(' sl') else x)"
   ]
  },
  {
   "cell_type": "code",
   "execution_count": 24,
   "metadata": {},
   "outputs": [],
   "source": [
    "df['street_clean'] = df['street_clean'].apply(\n",
    "    lambda x: x.replace(' pkway', ' Parkway') if x.endswith(' pkway') else x)"
   ]
  },
  {
   "cell_type": "code",
   "execution_count": 25,
   "metadata": {},
   "outputs": [],
   "source": [
    "df['street_clean'] = df['street_clean'].apply(\n",
    "    lambda x: x.replace(' rd', ' Road') if x.endswith(' rd') else x)"
   ]
  },
  {
   "cell_type": "code",
   "execution_count": 26,
   "metadata": {},
   "outputs": [],
   "source": [
    "df['street_clean'] = df['street_clean'].apply(\n",
    "    lambda x: x.replace(' pk', ' Park') if x.endswith(' pk') else x)"
   ]
  },
  {
   "cell_type": "code",
   "execution_count": 27,
   "metadata": {},
   "outputs": [],
   "source": [
    "st = dict(df['street_clean'].value_counts())\n",
    "#sorted(st.items())"
   ]
  },
  {
   "cell_type": "code",
   "execution_count": null,
   "metadata": {},
   "outputs": [],
   "source": []
  },
  {
   "cell_type": "markdown",
   "metadata": {},
   "source": [
    "#### add \"street\" to all the ones with only one word"
   ]
  },
  {
   "cell_type": "code",
   "execution_count": 28,
   "metadata": {},
   "outputs": [],
   "source": [
    "df['street_clean'] = df['street_clean'].apply(\n",
    "    lambda x: x+' Street' if len(x.split())==1 else x)"
   ]
  },
  {
   "cell_type": "code",
   "execution_count": 29,
   "metadata": {},
   "outputs": [],
   "source": [
    "st = dict(df['street_clean'].value_counts())\n",
    "#sorted(st.items())"
   ]
  },
  {
   "cell_type": "code",
   "execution_count": null,
   "metadata": {},
   "outputs": [],
   "source": []
  },
  {
   "cell_type": "markdown",
   "metadata": {},
   "source": [
    "### cross check results"
   ]
  },
  {
   "cell_type": "code",
   "execution_count": 30,
   "metadata": {},
   "outputs": [
    {
     "data": {
      "text/plain": [
       "['3rd Avenue', 'Broadway Street', '8th Avenue', '2nd Avenue', '6th Avenue']"
      ]
     },
     "execution_count": 30,
     "metadata": {},
     "output_type": "execute_result"
    }
   ],
   "source": [
    "streets_list = list(dict(df['street_clean'].value_counts()).keys())\n",
    "streets_list[:5]"
   ]
  },
  {
   "cell_type": "code",
   "execution_count": 31,
   "metadata": {},
   "outputs": [
    {
     "name": "stdout",
     "output_type": "stream",
     "text": [
      "Broadway Street\n",
      "Amsterdam Avenue\n",
      "Columbus Avenue\n",
      "E Houston Street\n",
      "Lenox Avenue\n",
      "E Broadway Street\n",
      "Ave A\n",
      "Park row\n",
      "Westchester Avenue\n",
      "Willis Avenue\n",
      "W Broadway Street\n",
      "Ave C\n",
      "Ave B\n",
      "6th Street\n",
      "3rd Street\n",
      "5th Street\n",
      "E 138th Street\n",
      "W Houston Street\n",
      "St Mark's Place\n",
      "2nd Street\n",
      "Ave D\n",
      "Prospect Avenue\n",
      "Lafayette Street\n",
      "Boston Road\n",
      "St Nicholas Avenue\n",
      "Webster Avenue\n",
      "Macdougal Street\n",
      "7th Street\n",
      "Brook Avenue\n",
      "E Tremont av Street\n",
      "E 149th Street\n",
      "S Boulevard\n",
      "Morris Avenue\n",
      "Cathedral Parkway\n",
      "Courtlandt Avenue\n",
      "Cooper sq E\n",
      "1st Street\n",
      "Washington Avenue\n",
      "Union sq E\n",
      "Columbus Circle\n",
      "Marginal Street\n",
      "Wendover Avenue\n",
      "Washington Market\n",
      "Kenmare Street\n",
      "E Fordham rd Street\n",
      "City Id Avenue\n",
      "E 169th Street\n",
      "St Ann's Avenue\n",
      "Manhattan Avenue\n",
      "Melrose Avenue\n",
      "Jerome Avenue\n",
      "White Plains Road\n",
      "Gt Jones\n",
      "Villa Avenue\n",
      "W 8th Street\n",
      "Washington sq S\n",
      "E 180th Street\n",
      "Central pk W\n",
      "Arthur Avenue\n",
      "E 102nd Street\n",
      "E End av Street\n",
      "E 187th Street\n",
      "Wilkins Avenue\n",
      "Little W12th\n",
      "E 163rd Street\n",
      "Tremont Avenue\n",
      "Chatham Square\n",
      "Fulton Market\n",
      "Freeman Street\n",
      "E 151st Street\n",
      "E 174th Street\n",
      "Hamilton Place\n",
      "Westchester Square\n",
      "Forest Avenue\n",
      "New Chambers\n",
      "Pleasant Avenue\n",
      "N Moore\n",
      "Morningside drive\n",
      "Trinity Place\n",
      "123rd Street\n",
      "Bergen Avenue\n",
      "S William\n",
      "E 148th Street\n",
      "W 18st Street\n",
      "Hughes Avenue\n",
      "Catherine Market\n",
      "Newell Avenue\n",
      "E 165th Street\n",
      "Washington sq W\n",
      "Alex Avenue\n",
      "E 158th Street\n",
      "Hanover Square\n",
      "Riverside drive\n",
      "Fox Street\n",
      "E 100th Street\n",
      "Ditmars City Id\n",
      "Edgecombe Avenue\n",
      "Morris pk Avenue\n",
      "Bathgate Avenue\n",
      "Bible h\n",
      "W End Av Street\n",
      "Cypress Avenue\n",
      "E 150th Street\n",
      "Belmont Avenue\n",
      "Waverley Place\n",
      "E 137th Street\n",
      "Ogden Avenue\n",
      "E 161st Street\n",
      "Longwood Avenue\n",
      "E 183rd Street\n",
      "Lexington Street\n",
      "Clay Avenue\n",
      "E 143rd Street\n",
      "Claremont Avenue\n",
      "Harlem Market\n",
      "E 160th Street\n",
      "Thompson Avenue\n",
      "Union Avenue\n",
      "Central pk S\n",
      "Macomb's Road\n",
      "W 22th Street\n",
      "E 155th Street\n",
      "Washington sq E\n",
      "Burling Street\n",
      "Central Station\n",
      "Home Street\n",
      "E 101st Street\n"
     ]
    }
   ],
   "source": [
    "for street in streets_list:\n",
    "    if street not in master_list:\n",
    "        print(street)"
   ]
  },
  {
   "cell_type": "code",
   "execution_count": null,
   "metadata": {},
   "outputs": [],
   "source": []
  },
  {
   "cell_type": "markdown",
   "metadata": {},
   "source": [
    "### manual cleaning"
   ]
  },
  {
   "cell_type": "code",
   "execution_count": 32,
   "metadata": {},
   "outputs": [],
   "source": [
    "STREET = {\n",
    "    # unmatched\n",
    "    # 123rd Street\n",
    "    # W 8th Street\n",
    "    # W 22th Street\n",
    "    # W 18st Street\n",
    "    # E 100th Street\n",
    "    # E 101st Street\n",
    "    # E 102nd Street\n",
    "    # E 137th Street\n",
    "    # E 138th Street\n",
    "    # E 143rd Street\n",
    "    # E 148th Street\n",
    "    # E 149th Street\n",
    "    # E 150th Street\n",
    "    # E 151st Street\n",
    "    # E 155th Street\n",
    "    # E 158th Street\n",
    "    # E 160th Street\n",
    "    # E 161st Street\n",
    "    # E 163rd Street\n",
    "    # E 165th Street\n",
    "    # E 169th Street\n",
    "    # E 174th Street\n",
    "    # E 180th Street\n",
    "    # E 183rd Street\n",
    "    # E 187th Street\n",
    "    \n",
    "    # street added wrongly\n",
    "    '1st Street': '1st Avenue',\n",
    "    '2nd Street': '2nd Avenue',\n",
    "    '3 Avenue': '3rd Avenue',\n",
    "    'c 3rd Avenue': '3rd Avenue',\n",
    "    '3rd Street': '3rd Avenue',\n",
    "    '5th Street': '5th Avenue',\n",
    "    '6th Street': '6th Avenue',\n",
    "    '7th Street': '7th Avenue',\n",
    "    '8th Street': '8th Avenue',\n",
    "    '8d Avenue': '8th Avenue',\n",
    "    '9th Street': '9th Avenue',\n",
    "    'Broadway Street': 'Broadway',\n",
    "    \n",
    "    # direction order\n",
    "    'W Broadway Street': 'Broadway W',\n",
    "    'E Broadway Street': 'Broadway E',\n",
    "    'W Houston Street': 'Houston Street W',\n",
    "    'E Houston Street': 'Houston Street E',\n",
    "    'N Moore': 'Moore Street N',\n",
    "    'S William': 'William Street S',\n",
    "    'N William': 'William Street N',\n",
    "    'Union sq E': 'Union Square E',\n",
    "    'Little W 12th': 'W 12th Street',\n",
    "    'E 145th Street': 'E 145th Street',\n",
    "    \n",
    "    # title case\n",
    "    'Park row': 'Park Row',\n",
    "    'James slip': 'James Slip',\n",
    "    'Old slip': 'Old Slip',\n",
    "    'Catherine slip': 'Catherine Slip',\n",
    "    'Peck slip'\n",
    "    \n",
    "    # order\n",
    "    'Av A': 'A Avenue',\n",
    "    'Ave A': 'A Avenue',\n",
    "    'Av B': 'B Avenue',\n",
    "    'Ave B': 'B Avenue',\n",
    "    'Av C': 'C Avenue',\n",
    "    'Ave C': 'C Avenue',\n",
    "    'av c W': 'C Avenue',\n",
    "    'Av D': 'D Avenue',\n",
    "    'Ave D': 'D Avenue',\n",
    "    'av n E': 'East Avenue',\n",
    "    'av n W': 'West Avenue',\n",
    "    'W End av Street': 'West Avenue',\n",
    "    'W End Av Street': 'West Avenue',\n",
    "    \n",
    "    # same name\n",
    "    'Centre Market': 'Centre Market Place',\n",
    "    'Clinton Market': 'Clinton Place',\n",
    "    'Chatham Square': 'Chatham Street',\n",
    "    'Catherine Market': 'Catherine Street',\n",
    "    'Fulton Market': 'Fulton Street',\n",
    "    'Grand st Circle': 'Grand Street',\n",
    "    'Jefferson Market': 'Jefferson Street',\n",
    "    'Stone William': 'Stone Street',\n",
    "    'Tompkins Market': 'Tompkins Street',\n",
    "    'Washington Market': 'Washington Place',\n",
    "    'Hanover Square': 'Hanover Street',\n",
    "    'New Chambers': 'New Chambers Street',\n",
    "    'Thompson Avenue': 'Thompson Street',\n",
    "    'Union Avenue': 'Union Square',\n",
    "    'Lexington Street': 'Lexington Avenue',\n",
    "    'Morris pk Avenue': 'Morris Street',\n",
    "    \n",
    "    # different spelling\n",
    "    'Macdougal Street': 'Mac Dougal Street',\n",
    "    'St Mark’s Place': 'Saint Marks Place',\n",
    "    'St Mark\\'s Place': 'Saint Marks Place',\n",
    "    'VandeWater Street': 'Vandewater Street',\n",
    "    'Riverside drive': 'Riverside Driveway',\n",
    "    'Newell Avenue': 'New Avenue',\n",
    "    'Washington sq E': 'Washington Square E',\n",
    "    'Washington sq W': 'Washington Square W',\n",
    "    'Washington sq S': 'Washington Square S',\n",
    "    'Waverley Place': 'Waverly Place',\n",
    "    'Hamilton Place': 'Hamilton Street',\n",
    "    'Morris Avenue': 'Morris Street',\n",
    "    'Courtlandt Avenue': 'Courtlandt Street',\n",
    "    'Lafayette Street': 'Lafayette Place',\n",
    "    'Boston Road': 'Bolton Road',\n",
    "    'Washington Avenue': 'Washington Street',\n",
    "    'Burling Street': 'Burling Slip'\n",
    "    \n",
    "    \n",
    "    # unmatched avenues\n",
    "    # Alex Avenue\n",
    "    # Amsterdam Avenue\n",
    "    # Lincoln Avenue\n",
    "    # Tremont Avenue\n",
    "    # Brook Avenue\n",
    "    # Willis Avenue\n",
    "    # Columbus Avenue\n",
    "    # Bergen Avenue\n",
    "    # Hughes Avenue\n",
    "    # Claremont Avenue\n",
    "    # Clay Avenue\n",
    "    # Bathgate Avenue\n",
    "    # Forest Avenue\n",
    "    # Pleasant Avenue\n",
    "    # Cypress Avenue\n",
    "    # Edgecombe Avenue\n",
    "    # Ogden Avenue\n",
    "    # Longwood Avenue\n",
    "    # Belmont Avenue\n",
    "    # Villa Avenue\n",
    "    # Arthur Avenue\n",
    "    # Wilkins Avenue\n",
    "    # Tremont Avenue\n",
    "    # Jerome Avenue\n",
    "    # Lenox Avenue\n",
    "    # Westchester Avenue\n",
    "    # Prospect Avenue\n",
    "    # St Nicholas Avenue\n",
    "    # Webster Avenue\n",
    "    # Wendover Avenue\n",
    "    # City Id Avenue\n",
    "    # Melrose Avenue\n",
    "    # Manhattan Avenue\n",
    "    # St Ann's Avenue\n",
    "    # Jerome Avenue\n",
    "    \n",
    "    # unmatched\n",
    "    # Trinity Place\n",
    "    # Bible h\n",
    "    # Home Street\n",
    "    # Columbus Circle\n",
    "    # Central pk W\n",
    "    # E End av Street\n",
    "    # Little W12th\n",
    "    # Gt Jones\n",
    "    # Westchester Square\n",
    "    # Freeman Street\n",
    "    # Central pk S\n",
    "    # Harlem Market\n",
    "    # Trinity Place\n",
    "    # Ditmars City Id\n",
    "    # Central Station\n",
    "    # Morningside drive\n",
    "    # Fox Street\n",
    "    # Macomb's Road\n",
    "    # Cathedral Parkway\n",
    "    # Cooper sq E\n",
    "    # S Boulevard\n",
    "    # E Tremont av Street\n",
    "    # Marginal Street\n",
    "    # Kenmare Street\n",
    "    # E Fordham rd Street\n",
    "    # White Plains Road\n",
    "}"
   ]
  },
  {
   "cell_type": "code",
   "execution_count": 33,
   "metadata": {},
   "outputs": [
    {
     "data": {
      "text/html": [
       "<div>\n",
       "<style scoped>\n",
       "    .dataframe tbody tr th:only-of-type {\n",
       "        vertical-align: middle;\n",
       "    }\n",
       "\n",
       "    .dataframe tbody tr th {\n",
       "        vertical-align: top;\n",
       "    }\n",
       "\n",
       "    .dataframe thead th {\n",
       "        text-align: right;\n",
       "    }\n",
       "</style>\n",
       "<table border=\"1\" class=\"dataframe\">\n",
       "  <thead>\n",
       "    <tr style=\"text-align: right;\">\n",
       "      <th></th>\n",
       "      <th>full</th>\n",
       "      <th>name</th>\n",
       "      <th>address</th>\n",
       "      <th>street</th>\n",
       "      <th>num</th>\n",
       "      <th>street_clean</th>\n",
       "    </tr>\n",
       "  </thead>\n",
       "  <tbody>\n",
       "    <tr>\n",
       "      <th>0</th>\n",
       "      <td>Albanian Roumanian Co, 261 W37th</td>\n",
       "      <td>Albanian Roumanian Co</td>\n",
       "      <td>261 W 37th</td>\n",
       "      <td>W 37th</td>\n",
       "      <td>261</td>\n",
       "      <td>W 37th Street</td>\n",
       "    </tr>\n",
       "  </tbody>\n",
       "</table>\n",
       "</div>"
      ],
      "text/plain": [
       "                               full                    name     address  \\\n",
       "0  Albanian Roumanian Co, 261 W37th  Albanian Roumanian Co   261 W 37th   \n",
       "\n",
       "   street  num   street_clean  \n",
       "0  W 37th  261  W 37th Street  "
      ]
     },
     "execution_count": 33,
     "metadata": {},
     "output_type": "execute_result"
    }
   ],
   "source": [
    "df = df.replace({'street_clean': STREET})\n",
    "df.head(1)"
   ]
  },
  {
   "cell_type": "code",
   "execution_count": 34,
   "metadata": {},
   "outputs": [
    {
     "data": {
      "text/plain": [
       "['3rd Avenue', 'Broadway', '8th Avenue', '2nd Avenue', '6th Avenue']"
      ]
     },
     "execution_count": 34,
     "metadata": {},
     "output_type": "execute_result"
    }
   ],
   "source": [
    "streets_list = list(dict(df['street_clean'].value_counts()).keys())\n",
    "streets_list[:5]"
   ]
  },
  {
   "cell_type": "code",
   "execution_count": null,
   "metadata": {},
   "outputs": [],
   "source": []
  },
  {
   "cell_type": "markdown",
   "metadata": {},
   "source": [
    "### cross check results"
   ]
  },
  {
   "cell_type": "code",
   "execution_count": 35,
   "metadata": {},
   "outputs": [
    {
     "name": "stdout",
     "output_type": "stream",
     "text": [
      "Amsterdam Avenue\n",
      "Columbus Avenue\n",
      "Lenox Avenue\n",
      "Broadway E\n",
      "Westchester Avenue\n",
      "Willis Avenue\n",
      "Broadway W\n",
      "E 138th Street\n",
      "Prospect Avenue\n",
      "St Nicholas Avenue\n",
      "Webster Avenue\n",
      "Brook Avenue\n",
      "Cathedral Parkway\n",
      "S Boulevard\n",
      "E 149th Street\n",
      "E Tremont av Street\n",
      "Cooper sq E\n",
      "Courtlandt Street\n",
      "Columbus Circle\n",
      "Marginal Street\n",
      "Kenmare Street\n",
      "City Id Avenue\n",
      "E Fordham rd Street\n",
      "Wendover Avenue\n",
      "Melrose Avenue\n",
      "E 169th Street\n",
      "Manhattan Avenue\n",
      "St Ann's Avenue\n",
      "White Plains Road\n",
      "Jerome Avenue\n",
      "Villa Avenue\n",
      "Washington Square S\n",
      "E 187th Street\n",
      "W 8th Street\n",
      "Gt Jones\n",
      "E 163rd Street\n",
      "E 102nd Street\n",
      "Arthur Avenue\n",
      "Central pk W\n",
      "Wilkins Avenue\n",
      "Little W12th\n",
      "E 180th Street\n",
      "E End av Street\n",
      "Tremont Avenue\n",
      "E 174th Street\n",
      "Westchester Square\n",
      "Pleasant Avenue\n",
      "E 151st Street\n",
      "Freeman Street\n",
      "Forest Avenue\n",
      "Harlem Market\n",
      "E 183rd Street\n",
      "Bathgate Avenue\n",
      "Alex Avenue\n",
      "E 100th Street\n",
      "Trinity Place\n",
      "E 148th Street\n",
      "E 160th Street\n",
      "E 155th Street\n",
      "West Avenue\n",
      "Central Station\n",
      "Ogden Avenue\n",
      "Bergen Avenue\n",
      "E 137th Street\n",
      "E 158th Street\n",
      "Edgecombe Avenue\n",
      "123rd Street\n",
      "Longwood Avenue\n",
      "Home Street\n",
      "Claremont Avenue\n",
      "Cypress Avenue\n",
      "Fox Street\n",
      "Morningside drive\n",
      "Macomb's Road\n",
      "E 150th Street\n",
      "Belmont Avenue\n",
      "Hughes Avenue\n",
      "E 143rd Street\n",
      "W 18st Street\n",
      "E 165th Street\n",
      "W 22th Street\n",
      "Central pk S\n",
      "Ditmars City Id\n",
      "E 101st Street\n",
      "Clay Avenue\n",
      "E 161st Street\n",
      "Bible h\n"
     ]
    }
   ],
   "source": [
    "for street in streets_list:\n",
    "    if street not in master_list:\n",
    "        print(street)"
   ]
  },
  {
   "cell_type": "code",
   "execution_count": null,
   "metadata": {},
   "outputs": [],
   "source": []
  },
  {
   "cell_type": "markdown",
   "metadata": {},
   "source": [
    "### House Number"
   ]
  },
  {
   "cell_type": "code",
   "execution_count": 55,
   "metadata": {},
   "outputs": [
    {
     "data": {
      "text/html": [
       "<div>\n",
       "<style scoped>\n",
       "    .dataframe tbody tr th:only-of-type {\n",
       "        vertical-align: middle;\n",
       "    }\n",
       "\n",
       "    .dataframe tbody tr th {\n",
       "        vertical-align: top;\n",
       "    }\n",
       "\n",
       "    .dataframe thead th {\n",
       "        text-align: right;\n",
       "    }\n",
       "</style>\n",
       "<table border=\"1\" class=\"dataframe\">\n",
       "  <thead>\n",
       "    <tr style=\"text-align: right;\">\n",
       "      <th></th>\n",
       "      <th>full</th>\n",
       "      <th>name</th>\n",
       "      <th>address</th>\n",
       "      <th>street</th>\n",
       "      <th>num</th>\n",
       "      <th>street_clean</th>\n",
       "      <th>num_clean</th>\n",
       "    </tr>\n",
       "  </thead>\n",
       "  <tbody>\n",
       "    <tr>\n",
       "      <th>0</th>\n",
       "      <td>Albanian Roumanian Co, 261 W37th</td>\n",
       "      <td>Albanian Roumanian Co</td>\n",
       "      <td>261 W 37th</td>\n",
       "      <td>W 37th</td>\n",
       "      <td>261</td>\n",
       "      <td>W 37th Street</td>\n",
       "      <td>261</td>\n",
       "    </tr>\n",
       "  </tbody>\n",
       "</table>\n",
       "</div>"
      ],
      "text/plain": [
       "                               full                    name     address  \\\n",
       "0  Albanian Roumanian Co, 261 W37th  Albanian Roumanian Co   261 W 37th   \n",
       "\n",
       "   street  num   street_clean num_clean  \n",
       "0  W 37th  261  W 37th Street       261  "
      ]
     },
     "execution_count": 55,
     "metadata": {},
     "output_type": "execute_result"
    }
   ],
   "source": [
    "df['num_clean'] = df['num']\n",
    "df.head(1)"
   ]
  },
  {
   "cell_type": "code",
   "execution_count": 40,
   "metadata": {},
   "outputs": [],
   "source": [
    "no = dict(df['num_clean'].value_counts())\n",
    "#sorted(no.items())"
   ]
  },
  {
   "cell_type": "code",
   "execution_count": null,
   "metadata": {},
   "outputs": [],
   "source": []
  },
  {
   "cell_type": "code",
   "execution_count": 56,
   "metadata": {},
   "outputs": [],
   "source": [
    "df['num_clean'] = df['num_clean'].apply(\n",
    "    lambda x: x.replace('Grand', '0') if str(x).endswith('Grand') else x)"
   ]
  },
  {
   "cell_type": "code",
   "execution_count": 58,
   "metadata": {},
   "outputs": [],
   "source": [
    "df['num_clean'] = df['num_clean'].apply(\n",
    "    lambda x: x.replace('d', '') if str(x).endswith('d') else x)"
   ]
  },
  {
   "cell_type": "code",
   "execution_count": null,
   "metadata": {},
   "outputs": [],
   "source": []
  },
  {
   "cell_type": "code",
   "execution_count": 59,
   "metadata": {},
   "outputs": [],
   "source": [
    "df['num_clean'] = df['num_clean'].dropna().astype(str).astype(float).astype(int)"
   ]
  },
  {
   "cell_type": "code",
   "execution_count": null,
   "metadata": {},
   "outputs": [],
   "source": []
  },
  {
   "cell_type": "code",
   "execution_count": 60,
   "metadata": {},
   "outputs": [],
   "source": [
    "df.to_csv('cleaned/1913_address_CLEANED.csv')"
   ]
  }
 ],
 "metadata": {
  "kernelspec": {
   "display_name": "Python 3.8.1 64-bit",
   "language": "python",
   "name": "python38164bit0209044da7c742dab8314e0953beb93b"
  },
  "language_info": {
   "codemirror_mode": {
    "name": "ipython",
    "version": 3
   },
   "file_extension": ".py",
   "mimetype": "text/x-python",
   "name": "python",
   "nbconvert_exporter": "python",
   "pygments_lexer": "ipython3",
   "version": "3.8.1"
  }
 },
 "nbformat": 4,
 "nbformat_minor": 4
}
