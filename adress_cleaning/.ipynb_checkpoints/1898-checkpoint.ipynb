{
 "cells": [
  {
   "cell_type": "markdown",
   "metadata": {},
   "source": [
    "# 1898 Restaurant Data\n",
    "Goal: Create a set of uniform code for cleaning up the street names and street numbers. \n"
   ]
  },
  {
   "cell_type": "code",
   "execution_count": 1,
   "metadata": {},
   "outputs": [],
   "source": [
    "import pandas as pd"
   ]
  },
  {
   "cell_type": "code",
   "execution_count": null,
   "metadata": {},
   "outputs": [],
   "source": []
  },
  {
   "cell_type": "markdown",
   "metadata": {},
   "source": [
    "## Master"
   ]
  },
  {
   "cell_type": "code",
   "execution_count": 2,
   "metadata": {},
   "outputs": [
    {
     "data": {
      "text/html": [
       "<div>\n",
       "<style scoped>\n",
       "    .dataframe tbody tr th:only-of-type {\n",
       "        vertical-align: middle;\n",
       "    }\n",
       "\n",
       "    .dataframe tbody tr th {\n",
       "        vertical-align: top;\n",
       "    }\n",
       "\n",
       "    .dataframe thead th {\n",
       "        text-align: right;\n",
       "    }\n",
       "</style>\n",
       "<table border=\"1\" class=\"dataframe\">\n",
       "  <thead>\n",
       "    <tr style=\"text-align: right;\">\n",
       "      <th></th>\n",
       "      <th>street_name</th>\n",
       "      <th>odd_on</th>\n",
       "      <th>avg_direction</th>\n",
       "      <th>building_num_range</th>\n",
       "      <th>start_end_coordinates</th>\n",
       "      <th>segment_length</th>\n",
       "      <th>segment_direction</th>\n",
       "      <th>building_num_range_length</th>\n",
       "      <th>avg_length_per_building</th>\n",
       "      <th>direction_deviation</th>\n",
       "      <th>road_type</th>\n",
       "      <th>offset_from_road_center</th>\n",
       "    </tr>\n",
       "  </thead>\n",
       "  <tbody>\n",
       "    <tr>\n",
       "      <th>0</th>\n",
       "      <td>10th Avenue</td>\n",
       "      <td>left</td>\n",
       "      <td>-170.561731</td>\n",
       "      <td>[1, 19]</td>\n",
       "      <td>[[40.741073, -74.009227], [40.739952, -74.0094...</td>\n",
       "      <td>126.194091</td>\n",
       "      <td>-170.561731</td>\n",
       "      <td>19</td>\n",
       "      <td>6.641794</td>\n",
       "      <td>0.0</td>\n",
       "      <td>Avenue</td>\n",
       "      <td>10</td>\n",
       "    </tr>\n",
       "  </tbody>\n",
       "</table>\n",
       "</div>"
      ],
      "text/plain": [
       "   street_name odd_on  avg_direction building_num_range  \\\n",
       "0  10th Avenue   left    -170.561731            [1, 19]   \n",
       "\n",
       "                               start_end_coordinates  segment_length  \\\n",
       "0  [[40.741073, -74.009227], [40.739952, -74.0094...      126.194091   \n",
       "\n",
       "   segment_direction  building_num_range_length  avg_length_per_building  \\\n",
       "0        -170.561731                         19                 6.641794   \n",
       "\n",
       "   direction_deviation road_type  offset_from_road_center  \n",
       "0                  0.0    Avenue                       10  "
      ]
     },
     "execution_count": 2,
     "metadata": {},
     "output_type": "execute_result"
    }
   ],
   "source": [
    "DF = pd.read_csv('datasets/1880_streets_full.csv')\n",
    "DF.head(1)"
   ]
  },
  {
   "cell_type": "code",
   "execution_count": 3,
   "metadata": {},
   "outputs": [
    {
     "data": {
      "text/plain": [
       "10th Avenue        164\n",
       "8th Avenue         148\n",
       "5th Avenue         129\n",
       "2nd Avenue         129\n",
       "3rd Avenue         126\n",
       "                  ... \n",
       "Randalls Island      1\n",
       "Varick Place         1\n",
       "Hamilton Street      1\n",
       "Hague Street         1\n",
       "Gay Street           1\n",
       "Name: street_name, Length: 666, dtype: int64"
      ]
     },
     "execution_count": 3,
     "metadata": {},
     "output_type": "execute_result"
    }
   ],
   "source": [
    "DF['street_name'].value_counts()"
   ]
  },
  {
   "cell_type": "code",
   "execution_count": 4,
   "metadata": {},
   "outputs": [
    {
     "data": {
      "text/plain": [
       "['10th Avenue', '8th Avenue', '5th Avenue', '2nd Avenue', '3rd Avenue']"
      ]
     },
     "execution_count": 4,
     "metadata": {},
     "output_type": "execute_result"
    }
   ],
   "source": [
    "master_list = list(dict(DF['street_name'].value_counts()).keys())\n",
    "master_list[:5]"
   ]
  },
  {
   "cell_type": "code",
   "execution_count": null,
   "metadata": {},
   "outputs": [],
   "source": []
  },
  {
   "cell_type": "markdown",
   "metadata": {},
   "source": [
    "## Ward 3"
   ]
  },
  {
   "cell_type": "code",
   "execution_count": 5,
   "metadata": {},
   "outputs": [
    {
     "data": {
      "text/html": [
       "<div>\n",
       "<style scoped>\n",
       "    .dataframe tbody tr th:only-of-type {\n",
       "        vertical-align: middle;\n",
       "    }\n",
       "\n",
       "    .dataframe tbody tr th {\n",
       "        vertical-align: top;\n",
       "    }\n",
       "\n",
       "    .dataframe thead th {\n",
       "        text-align: right;\n",
       "    }\n",
       "</style>\n",
       "<table border=\"1\" class=\"dataframe\">\n",
       "  <thead>\n",
       "    <tr style=\"text-align: right;\">\n",
       "      <th></th>\n",
       "      <th>DataID</th>\n",
       "      <th>RecordId</th>\n",
       "      <th>Name</th>\n",
       "      <th>HouseHoldId</th>\n",
       "      <th>Street Name</th>\n",
       "      <th>House Number</th>\n",
       "      <th>Dwelling Number</th>\n",
       "      <th>Family Number</th>\n",
       "      <th>Surname</th>\n",
       "      <th>Relationship</th>\n",
       "      <th>...</th>\n",
       "      <th>Number of Weeks Out of Work</th>\n",
       "      <th>Can Read</th>\n",
       "      <th>Can Write</th>\n",
       "      <th>Attended School</th>\n",
       "      <th>Own or Rent</th>\n",
       "      <th>Home owned</th>\n",
       "      <th>Farm or House</th>\n",
       "      <th>Survivor of Confederate or Union of Army or Navy</th>\n",
       "      <th>Blind</th>\n",
       "      <th>Deaf and Dumb</th>\n",
       "    </tr>\n",
       "  </thead>\n",
       "  <tbody>\n",
       "    <tr>\n",
       "      <th>0</th>\n",
       "      <td>4449800_00259</td>\n",
       "      <td>18496912</td>\n",
       "      <td>Wm H Gee</td>\n",
       "      <td>18496912</td>\n",
       "      <td>Cortland St</td>\n",
       "      <td>41</td>\n",
       "      <td>1.0</td>\n",
       "      <td>1</td>\n",
       "      <td>Gee</td>\n",
       "      <td>Head</td>\n",
       "      <td>...</td>\n",
       "      <td>0</td>\n",
       "      <td>Yes</td>\n",
       "      <td>Yes</td>\n",
       "      <td>NaN</td>\n",
       "      <td>Rent</td>\n",
       "      <td>NaN</td>\n",
       "      <td>House</td>\n",
       "      <td>NaN</td>\n",
       "      <td>NaN</td>\n",
       "      <td>NaN</td>\n",
       "    </tr>\n",
       "  </tbody>\n",
       "</table>\n",
       "<p>1 rows × 39 columns</p>\n",
       "</div>"
      ],
      "text/plain": [
       "          DataID  RecordId      Name  HouseHoldId  Street Name House Number  \\\n",
       "0  4449800_00259  18496912  Wm H Gee     18496912  Cortland St           41   \n",
       "\n",
       "   Dwelling Number  Family Number Surname Relationship  ...  \\\n",
       "0              1.0              1     Gee         Head  ...   \n",
       "\n",
       "  Number of Weeks Out of Work Can Read  Can Write Attended School Own or Rent  \\\n",
       "0                           0      Yes        Yes             NaN        Rent   \n",
       "\n",
       "  Home owned Farm or House Survivor of Confederate or Union of Army or Navy  \\\n",
       "0        NaN         House                                              NaN   \n",
       "\n",
       "   Blind  Deaf and Dumb  \n",
       "0    NaN            NaN  \n",
       "\n",
       "[1 rows x 39 columns]"
      ]
     },
     "execution_count": 5,
     "metadata": {},
     "output_type": "execute_result"
    }
   ],
   "source": [
    "df = pd.read_csv('datasets/1910_New York_Manhattan Ward 3.csv')\n",
    "df.head(1)"
   ]
  },
  {
   "cell_type": "markdown",
   "metadata": {},
   "source": [
    "### Street"
   ]
  },
  {
   "cell_type": "markdown",
   "metadata": {},
   "source": [
    "Create a new column called `street_clean` than is a duplicate of current `Street Name`.\n",
    "\n",
    "\"I would like that to be done in a new variable column, so that we preserve the original data.\""
   ]
  },
  {
   "cell_type": "code",
   "execution_count": 6,
   "metadata": {},
   "outputs": [
    {
     "data": {
      "text/html": [
       "<div>\n",
       "<style scoped>\n",
       "    .dataframe tbody tr th:only-of-type {\n",
       "        vertical-align: middle;\n",
       "    }\n",
       "\n",
       "    .dataframe tbody tr th {\n",
       "        vertical-align: top;\n",
       "    }\n",
       "\n",
       "    .dataframe thead th {\n",
       "        text-align: right;\n",
       "    }\n",
       "</style>\n",
       "<table border=\"1\" class=\"dataframe\">\n",
       "  <thead>\n",
       "    <tr style=\"text-align: right;\">\n",
       "      <th></th>\n",
       "      <th>DataID</th>\n",
       "      <th>RecordId</th>\n",
       "      <th>Name</th>\n",
       "      <th>HouseHoldId</th>\n",
       "      <th>Street Name</th>\n",
       "      <th>House Number</th>\n",
       "      <th>Dwelling Number</th>\n",
       "      <th>Family Number</th>\n",
       "      <th>Surname</th>\n",
       "      <th>Relationship</th>\n",
       "      <th>...</th>\n",
       "      <th>Can Read</th>\n",
       "      <th>Can Write</th>\n",
       "      <th>Attended School</th>\n",
       "      <th>Own or Rent</th>\n",
       "      <th>Home owned</th>\n",
       "      <th>Farm or House</th>\n",
       "      <th>Survivor of Confederate or Union of Army or Navy</th>\n",
       "      <th>Blind</th>\n",
       "      <th>Deaf and Dumb</th>\n",
       "      <th>street_clean</th>\n",
       "    </tr>\n",
       "  </thead>\n",
       "  <tbody>\n",
       "    <tr>\n",
       "      <th>0</th>\n",
       "      <td>4449800_00259</td>\n",
       "      <td>18496912</td>\n",
       "      <td>Wm H Gee</td>\n",
       "      <td>18496912</td>\n",
       "      <td>Cortland St</td>\n",
       "      <td>41</td>\n",
       "      <td>1.0</td>\n",
       "      <td>1</td>\n",
       "      <td>Gee</td>\n",
       "      <td>Head</td>\n",
       "      <td>...</td>\n",
       "      <td>Yes</td>\n",
       "      <td>Yes</td>\n",
       "      <td>NaN</td>\n",
       "      <td>Rent</td>\n",
       "      <td>NaN</td>\n",
       "      <td>House</td>\n",
       "      <td>NaN</td>\n",
       "      <td>NaN</td>\n",
       "      <td>NaN</td>\n",
       "      <td>Cortland St</td>\n",
       "    </tr>\n",
       "  </tbody>\n",
       "</table>\n",
       "<p>1 rows × 40 columns</p>\n",
       "</div>"
      ],
      "text/plain": [
       "          DataID  RecordId      Name  HouseHoldId  Street Name House Number  \\\n",
       "0  4449800_00259  18496912  Wm H Gee     18496912  Cortland St           41   \n",
       "\n",
       "   Dwelling Number  Family Number Surname Relationship  ... Can Read  \\\n",
       "0              1.0              1     Gee         Head  ...      Yes   \n",
       "\n",
       "  Can Write  Attended School Own or Rent Home owned Farm or House  \\\n",
       "0       Yes              NaN        Rent        NaN         House   \n",
       "\n",
       "  Survivor of Confederate or Union of Army or Navy Blind  Deaf and Dumb  \\\n",
       "0                                              NaN   NaN            NaN   \n",
       "\n",
       "   street_clean  \n",
       "0   Cortland St  \n",
       "\n",
       "[1 rows x 40 columns]"
      ]
     },
     "execution_count": 6,
     "metadata": {},
     "output_type": "execute_result"
    }
   ],
   "source": [
    "df['street_clean'] = df['Street Name']\n",
    "df.head(1)"
   ]
  },
  {
   "cell_type": "markdown",
   "metadata": {},
   "source": [
    "Clean `street_clean` data."
   ]
  },
  {
   "cell_type": "code",
   "execution_count": 7,
   "metadata": {},
   "outputs": [],
   "source": [
    "st = dict(df['street_clean'].value_counts())\n",
    "#sorted(st.items())"
   ]
  },
  {
   "cell_type": "markdown",
   "metadata": {},
   "source": [
    "Basic Clean: change \"st\" to \"street\" or add \"street\""
   ]
  },
  {
   "cell_type": "code",
   "execution_count": 18,
   "metadata": {},
   "outputs": [],
   "source": [
    "STREET = {\n",
    "    'Barclay St': 'Barclay Street',\n",
    "    \n",
    "    'Bway': 'Broadway',\n",
    "    \n",
    "    'Chambers St': 'Chambers Street',\n",
    "    'chambers street': 'Chambers Street',\n",
    "    \n",
    "    'Church St': 'Church Street',\n",
    "    \n",
    "    'Cortandt St': 'Cortlandt Street',\n",
    "    'Cortland St': 'Cortlandt Street',\n",
    "    'Cortlandt': 'Cortlandt Street',\n",
    "    'Cortlandt St': 'Cortlandt Street',\n",
    "    \n",
    "    'Dey': 'Dey Street',\n",
    "    'Dey St': 'Dey Street',\n",
    "\n",
    "    'Fulton': 'Fulton Street',\n",
    "    'Fulton St': 'Fulton Street',\n",
    "    \n",
    "    'Greenwich': 'Greenwich Street',\n",
    "    'Greenwich St': 'Greenwich Street',\n",
    "    \n",
    "    'Liberty St': 'Liberty Street',\n",
    "    \n",
    "    'Murray St': 'Murray Street',\n",
    "    \n",
    "    'Reade St': 'Reade Street',\n",
    "    \n",
    "    'Vesey': 'Vesey Street',\n",
    "    'Vesey St': 'Vesey Street',\n",
    "    \n",
    "    'Warren': 'Warren Street',\n",
    "    'Warren St': 'Warren Street',\n",
    "    \n",
    "    'Wash': 'Washington Street',\n",
    "    'Wash St': 'Washington Street',\n",
    "    'Washington St': 'Washington Street',\n",
    "\n",
    "    'West St': 'West Street'\n",
    "}"
   ]
  },
  {
   "cell_type": "code",
   "execution_count": 19,
   "metadata": {},
   "outputs": [
    {
     "data": {
      "text/html": [
       "<div>\n",
       "<style scoped>\n",
       "    .dataframe tbody tr th:only-of-type {\n",
       "        vertical-align: middle;\n",
       "    }\n",
       "\n",
       "    .dataframe tbody tr th {\n",
       "        vertical-align: top;\n",
       "    }\n",
       "\n",
       "    .dataframe thead th {\n",
       "        text-align: right;\n",
       "    }\n",
       "</style>\n",
       "<table border=\"1\" class=\"dataframe\">\n",
       "  <thead>\n",
       "    <tr style=\"text-align: right;\">\n",
       "      <th></th>\n",
       "      <th>DataID</th>\n",
       "      <th>RecordId</th>\n",
       "      <th>Name</th>\n",
       "      <th>HouseHoldId</th>\n",
       "      <th>Street Name</th>\n",
       "      <th>House Number</th>\n",
       "      <th>Dwelling Number</th>\n",
       "      <th>Family Number</th>\n",
       "      <th>Surname</th>\n",
       "      <th>Relationship</th>\n",
       "      <th>...</th>\n",
       "      <th>Can Read</th>\n",
       "      <th>Can Write</th>\n",
       "      <th>Attended School</th>\n",
       "      <th>Own or Rent</th>\n",
       "      <th>Home owned</th>\n",
       "      <th>Farm or House</th>\n",
       "      <th>Survivor of Confederate or Union of Army or Navy</th>\n",
       "      <th>Blind</th>\n",
       "      <th>Deaf and Dumb</th>\n",
       "      <th>street_clean</th>\n",
       "    </tr>\n",
       "  </thead>\n",
       "  <tbody>\n",
       "    <tr>\n",
       "      <th>0</th>\n",
       "      <td>4449800_00259</td>\n",
       "      <td>18496912</td>\n",
       "      <td>Wm H Gee</td>\n",
       "      <td>18496912</td>\n",
       "      <td>Cortland St</td>\n",
       "      <td>41</td>\n",
       "      <td>1.0</td>\n",
       "      <td>1</td>\n",
       "      <td>Gee</td>\n",
       "      <td>Head</td>\n",
       "      <td>...</td>\n",
       "      <td>Yes</td>\n",
       "      <td>Yes</td>\n",
       "      <td>NaN</td>\n",
       "      <td>Rent</td>\n",
       "      <td>NaN</td>\n",
       "      <td>House</td>\n",
       "      <td>NaN</td>\n",
       "      <td>NaN</td>\n",
       "      <td>NaN</td>\n",
       "      <td>Cortlandt Street</td>\n",
       "    </tr>\n",
       "  </tbody>\n",
       "</table>\n",
       "<p>1 rows × 40 columns</p>\n",
       "</div>"
      ],
      "text/plain": [
       "          DataID  RecordId      Name  HouseHoldId  Street Name House Number  \\\n",
       "0  4449800_00259  18496912  Wm H Gee     18496912  Cortland St           41   \n",
       "\n",
       "   Dwelling Number  Family Number Surname Relationship  ... Can Read  \\\n",
       "0              1.0              1     Gee         Head  ...      Yes   \n",
       "\n",
       "  Can Write  Attended School Own or Rent Home owned Farm or House  \\\n",
       "0       Yes              NaN        Rent        NaN         House   \n",
       "\n",
       "  Survivor of Confederate or Union of Army or Navy Blind  Deaf and Dumb  \\\n",
       "0                                              NaN   NaN            NaN   \n",
       "\n",
       "       street_clean  \n",
       "0  Cortlandt Street  \n",
       "\n",
       "[1 rows x 40 columns]"
      ]
     },
     "execution_count": 19,
     "metadata": {},
     "output_type": "execute_result"
    }
   ],
   "source": [
    "df = df.replace({'street_clean': STREET})\n",
    "df.head(1)"
   ]
  },
  {
   "cell_type": "code",
   "execution_count": 20,
   "metadata": {},
   "outputs": [
    {
     "data": {
      "text/plain": [
       "['Greenwich Street',\n",
       " 'Washington Street',\n",
       " 'West Street',\n",
       " 'Vesey Street',\n",
       " 'Broadway']"
      ]
     },
     "execution_count": 20,
     "metadata": {},
     "output_type": "execute_result"
    }
   ],
   "source": [
    "streets_list = list(dict(df['street_clean'].value_counts()).keys())\n",
    "streets_list[:5]"
   ]
  },
  {
   "cell_type": "code",
   "execution_count": null,
   "metadata": {},
   "outputs": [],
   "source": []
  },
  {
   "cell_type": "markdown",
   "metadata": {},
   "source": [
    "### Cross check results\n",
    "\n",
    "After basic clean, check `street_clean` results with master list and revise `STREET` dict."
   ]
  },
  {
   "cell_type": "code",
   "execution_count": 21,
   "metadata": {},
   "outputs": [],
   "source": [
    "for street in streets_list:\n",
    "    if street not in master_list:\n",
    "        print(street)"
   ]
  },
  {
   "cell_type": "markdown",
   "metadata": {},
   "source": [
    "### NO RESULTS WERE PRINTED MEANING ALL STREETS WERE CLEANED!!!"
   ]
  },
  {
   "cell_type": "code",
   "execution_count": null,
   "metadata": {},
   "outputs": [],
   "source": []
  },
  {
   "cell_type": "markdown",
   "metadata": {},
   "source": [
    "### House Number\n",
    "\n",
    "I suddenly have a feeling that is `'2.0'` '2' or '20'?"
   ]
  },
  {
   "cell_type": "code",
   "execution_count": 22,
   "metadata": {},
   "outputs": [
    {
     "data": {
      "text/html": [
       "<div>\n",
       "<style scoped>\n",
       "    .dataframe tbody tr th:only-of-type {\n",
       "        vertical-align: middle;\n",
       "    }\n",
       "\n",
       "    .dataframe tbody tr th {\n",
       "        vertical-align: top;\n",
       "    }\n",
       "\n",
       "    .dataframe thead th {\n",
       "        text-align: right;\n",
       "    }\n",
       "</style>\n",
       "<table border=\"1\" class=\"dataframe\">\n",
       "  <thead>\n",
       "    <tr style=\"text-align: right;\">\n",
       "      <th></th>\n",
       "      <th>DataID</th>\n",
       "      <th>RecordId</th>\n",
       "      <th>Name</th>\n",
       "      <th>HouseHoldId</th>\n",
       "      <th>Street Name</th>\n",
       "      <th>House Number</th>\n",
       "      <th>Dwelling Number</th>\n",
       "      <th>Family Number</th>\n",
       "      <th>Surname</th>\n",
       "      <th>Relationship</th>\n",
       "      <th>...</th>\n",
       "      <th>Can Write</th>\n",
       "      <th>Attended School</th>\n",
       "      <th>Own or Rent</th>\n",
       "      <th>Home owned</th>\n",
       "      <th>Farm or House</th>\n",
       "      <th>Survivor of Confederate or Union of Army or Navy</th>\n",
       "      <th>Blind</th>\n",
       "      <th>Deaf and Dumb</th>\n",
       "      <th>street_clean</th>\n",
       "      <th>num_clean</th>\n",
       "    </tr>\n",
       "  </thead>\n",
       "  <tbody>\n",
       "    <tr>\n",
       "      <th>0</th>\n",
       "      <td>4449800_00259</td>\n",
       "      <td>18496912</td>\n",
       "      <td>Wm H Gee</td>\n",
       "      <td>18496912</td>\n",
       "      <td>Cortland St</td>\n",
       "      <td>41</td>\n",
       "      <td>1.0</td>\n",
       "      <td>1</td>\n",
       "      <td>Gee</td>\n",
       "      <td>Head</td>\n",
       "      <td>...</td>\n",
       "      <td>Yes</td>\n",
       "      <td>NaN</td>\n",
       "      <td>Rent</td>\n",
       "      <td>NaN</td>\n",
       "      <td>House</td>\n",
       "      <td>NaN</td>\n",
       "      <td>NaN</td>\n",
       "      <td>NaN</td>\n",
       "      <td>Cortlandt Street</td>\n",
       "      <td>41</td>\n",
       "    </tr>\n",
       "  </tbody>\n",
       "</table>\n",
       "<p>1 rows × 41 columns</p>\n",
       "</div>"
      ],
      "text/plain": [
       "          DataID  RecordId      Name  HouseHoldId  Street Name House Number  \\\n",
       "0  4449800_00259  18496912  Wm H Gee     18496912  Cortland St           41   \n",
       "\n",
       "   Dwelling Number  Family Number Surname Relationship  ... Can Write  \\\n",
       "0              1.0              1     Gee         Head  ...       Yes   \n",
       "\n",
       "  Attended School  Own or Rent Home owned Farm or House  \\\n",
       "0             NaN         Rent        NaN         House   \n",
       "\n",
       "  Survivor of Confederate or Union of Army or Navy Blind Deaf and Dumb  \\\n",
       "0                                              NaN   NaN           NaN   \n",
       "\n",
       "       street_clean  num_clean  \n",
       "0  Cortlandt Street         41  \n",
       "\n",
       "[1 rows x 41 columns]"
      ]
     },
     "execution_count": 22,
     "metadata": {},
     "output_type": "execute_result"
    }
   ],
   "source": [
    "df['num_clean'] = df['House Number']\n",
    "df.head(1)"
   ]
  },
  {
   "cell_type": "code",
   "execution_count": 23,
   "metadata": {},
   "outputs": [],
   "source": [
    "no = dict(df['num_clean'].value_counts())\n",
    "#sorted(no.items())"
   ]
  },
  {
   "cell_type": "code",
   "execution_count": 24,
   "metadata": {},
   "outputs": [],
   "source": [
    "NUMBER = {\n",
    "    '1-2': 1,\n",
    "    '125 to 131': 125,\n",
    "    '2-01': 2, # ?\n",
    "}"
   ]
  },
  {
   "cell_type": "code",
   "execution_count": 25,
   "metadata": {},
   "outputs": [
    {
     "data": {
      "text/html": [
       "<div>\n",
       "<style scoped>\n",
       "    .dataframe tbody tr th:only-of-type {\n",
       "        vertical-align: middle;\n",
       "    }\n",
       "\n",
       "    .dataframe tbody tr th {\n",
       "        vertical-align: top;\n",
       "    }\n",
       "\n",
       "    .dataframe thead th {\n",
       "        text-align: right;\n",
       "    }\n",
       "</style>\n",
       "<table border=\"1\" class=\"dataframe\">\n",
       "  <thead>\n",
       "    <tr style=\"text-align: right;\">\n",
       "      <th></th>\n",
       "      <th>DataID</th>\n",
       "      <th>RecordId</th>\n",
       "      <th>Name</th>\n",
       "      <th>HouseHoldId</th>\n",
       "      <th>Street Name</th>\n",
       "      <th>House Number</th>\n",
       "      <th>Dwelling Number</th>\n",
       "      <th>Family Number</th>\n",
       "      <th>Surname</th>\n",
       "      <th>Relationship</th>\n",
       "      <th>...</th>\n",
       "      <th>Can Write</th>\n",
       "      <th>Attended School</th>\n",
       "      <th>Own or Rent</th>\n",
       "      <th>Home owned</th>\n",
       "      <th>Farm or House</th>\n",
       "      <th>Survivor of Confederate or Union of Army or Navy</th>\n",
       "      <th>Blind</th>\n",
       "      <th>Deaf and Dumb</th>\n",
       "      <th>street_clean</th>\n",
       "      <th>num_clean</th>\n",
       "    </tr>\n",
       "  </thead>\n",
       "  <tbody>\n",
       "    <tr>\n",
       "      <th>0</th>\n",
       "      <td>4449800_00259</td>\n",
       "      <td>18496912</td>\n",
       "      <td>Wm H Gee</td>\n",
       "      <td>18496912</td>\n",
       "      <td>Cortland St</td>\n",
       "      <td>41</td>\n",
       "      <td>1.0</td>\n",
       "      <td>1</td>\n",
       "      <td>Gee</td>\n",
       "      <td>Head</td>\n",
       "      <td>...</td>\n",
       "      <td>Yes</td>\n",
       "      <td>NaN</td>\n",
       "      <td>Rent</td>\n",
       "      <td>NaN</td>\n",
       "      <td>House</td>\n",
       "      <td>NaN</td>\n",
       "      <td>NaN</td>\n",
       "      <td>NaN</td>\n",
       "      <td>Cortlandt Street</td>\n",
       "      <td>41</td>\n",
       "    </tr>\n",
       "  </tbody>\n",
       "</table>\n",
       "<p>1 rows × 41 columns</p>\n",
       "</div>"
      ],
      "text/plain": [
       "          DataID  RecordId      Name  HouseHoldId  Street Name House Number  \\\n",
       "0  4449800_00259  18496912  Wm H Gee     18496912  Cortland St           41   \n",
       "\n",
       "   Dwelling Number  Family Number Surname Relationship  ... Can Write  \\\n",
       "0              1.0              1     Gee         Head  ...       Yes   \n",
       "\n",
       "  Attended School  Own or Rent Home owned Farm or House  \\\n",
       "0             NaN         Rent        NaN         House   \n",
       "\n",
       "  Survivor of Confederate or Union of Army or Navy Blind Deaf and Dumb  \\\n",
       "0                                              NaN   NaN           NaN   \n",
       "\n",
       "       street_clean  num_clean  \n",
       "0  Cortlandt Street         41  \n",
       "\n",
       "[1 rows x 41 columns]"
      ]
     },
     "execution_count": 25,
     "metadata": {},
     "output_type": "execute_result"
    }
   ],
   "source": [
    "df = df.replace({'num_clean': NUMBER})\n",
    "df.head(1)"
   ]
  },
  {
   "cell_type": "code",
   "execution_count": null,
   "metadata": {},
   "outputs": [],
   "source": []
  },
  {
   "cell_type": "markdown",
   "metadata": {},
   "source": [
    "geocoding with `qGIS`'s `MMQGIS` requires four columns: `Address`, `City`, `State`, `Country`"
   ]
  },
  {
   "cell_type": "code",
   "execution_count": 26,
   "metadata": {},
   "outputs": [
    {
     "data": {
      "text/html": [
       "<div>\n",
       "<style scoped>\n",
       "    .dataframe tbody tr th:only-of-type {\n",
       "        vertical-align: middle;\n",
       "    }\n",
       "\n",
       "    .dataframe tbody tr th {\n",
       "        vertical-align: top;\n",
       "    }\n",
       "\n",
       "    .dataframe thead th {\n",
       "        text-align: right;\n",
       "    }\n",
       "</style>\n",
       "<table border=\"1\" class=\"dataframe\">\n",
       "  <thead>\n",
       "    <tr style=\"text-align: right;\">\n",
       "      <th></th>\n",
       "      <th>DataID</th>\n",
       "      <th>RecordId</th>\n",
       "      <th>Name</th>\n",
       "      <th>HouseHoldId</th>\n",
       "      <th>Street Name</th>\n",
       "      <th>House Number</th>\n",
       "      <th>Dwelling Number</th>\n",
       "      <th>Family Number</th>\n",
       "      <th>Surname</th>\n",
       "      <th>Relationship</th>\n",
       "      <th>...</th>\n",
       "      <th>Attended School</th>\n",
       "      <th>Own or Rent</th>\n",
       "      <th>Home owned</th>\n",
       "      <th>Farm or House</th>\n",
       "      <th>Survivor of Confederate or Union of Army or Navy</th>\n",
       "      <th>Blind</th>\n",
       "      <th>Deaf and Dumb</th>\n",
       "      <th>street_clean</th>\n",
       "      <th>num_clean</th>\n",
       "      <th>Address</th>\n",
       "    </tr>\n",
       "  </thead>\n",
       "  <tbody>\n",
       "    <tr>\n",
       "      <th>0</th>\n",
       "      <td>4449800_00259</td>\n",
       "      <td>18496912</td>\n",
       "      <td>Wm H Gee</td>\n",
       "      <td>18496912</td>\n",
       "      <td>Cortland St</td>\n",
       "      <td>41</td>\n",
       "      <td>1.0</td>\n",
       "      <td>1</td>\n",
       "      <td>Gee</td>\n",
       "      <td>Head</td>\n",
       "      <td>...</td>\n",
       "      <td>NaN</td>\n",
       "      <td>Rent</td>\n",
       "      <td>NaN</td>\n",
       "      <td>House</td>\n",
       "      <td>NaN</td>\n",
       "      <td>NaN</td>\n",
       "      <td>NaN</td>\n",
       "      <td>Cortlandt Street</td>\n",
       "      <td>41</td>\n",
       "      <td>41 Cortlandt Street</td>\n",
       "    </tr>\n",
       "  </tbody>\n",
       "</table>\n",
       "<p>1 rows × 42 columns</p>\n",
       "</div>"
      ],
      "text/plain": [
       "          DataID  RecordId      Name  HouseHoldId  Street Name House Number  \\\n",
       "0  4449800_00259  18496912  Wm H Gee     18496912  Cortland St           41   \n",
       "\n",
       "   Dwelling Number  Family Number Surname Relationship  ... Attended School  \\\n",
       "0              1.0              1     Gee         Head  ...             NaN   \n",
       "\n",
       "  Own or Rent  Home owned Farm or House  \\\n",
       "0        Rent         NaN         House   \n",
       "\n",
       "  Survivor of Confederate or Union of Army or Navy Blind Deaf and Dumb  \\\n",
       "0                                              NaN   NaN           NaN   \n",
       "\n",
       "       street_clean  num_clean              Address  \n",
       "0  Cortlandt Street         41  41 Cortlandt Street  \n",
       "\n",
       "[1 rows x 42 columns]"
      ]
     },
     "execution_count": 26,
     "metadata": {},
     "output_type": "execute_result"
    }
   ],
   "source": [
    "df['Address'] = df['num_clean'].astype(str) + ' ' + df['street_clean']\n",
    "df.head(1)"
   ]
  },
  {
   "cell_type": "code",
   "execution_count": 27,
   "metadata": {},
   "outputs": [
    {
     "data": {
      "text/html": [
       "<div>\n",
       "<style scoped>\n",
       "    .dataframe tbody tr th:only-of-type {\n",
       "        vertical-align: middle;\n",
       "    }\n",
       "\n",
       "    .dataframe tbody tr th {\n",
       "        vertical-align: top;\n",
       "    }\n",
       "\n",
       "    .dataframe thead th {\n",
       "        text-align: right;\n",
       "    }\n",
       "</style>\n",
       "<table border=\"1\" class=\"dataframe\">\n",
       "  <thead>\n",
       "    <tr style=\"text-align: right;\">\n",
       "      <th></th>\n",
       "      <th>DataID</th>\n",
       "      <th>RecordId</th>\n",
       "      <th>Name</th>\n",
       "      <th>HouseHoldId</th>\n",
       "      <th>Street Name</th>\n",
       "      <th>House Number</th>\n",
       "      <th>Dwelling Number</th>\n",
       "      <th>Family Number</th>\n",
       "      <th>Surname</th>\n",
       "      <th>Relationship</th>\n",
       "      <th>...</th>\n",
       "      <th>Farm or House</th>\n",
       "      <th>Survivor of Confederate or Union of Army or Navy</th>\n",
       "      <th>Blind</th>\n",
       "      <th>Deaf and Dumb</th>\n",
       "      <th>street_clean</th>\n",
       "      <th>num_clean</th>\n",
       "      <th>Address</th>\n",
       "      <th>City</th>\n",
       "      <th>State</th>\n",
       "      <th>Country</th>\n",
       "    </tr>\n",
       "  </thead>\n",
       "  <tbody>\n",
       "    <tr>\n",
       "      <th>0</th>\n",
       "      <td>4449800_00259</td>\n",
       "      <td>18496912</td>\n",
       "      <td>Wm H Gee</td>\n",
       "      <td>18496912</td>\n",
       "      <td>Cortland St</td>\n",
       "      <td>41</td>\n",
       "      <td>1.0</td>\n",
       "      <td>1</td>\n",
       "      <td>Gee</td>\n",
       "      <td>Head</td>\n",
       "      <td>...</td>\n",
       "      <td>House</td>\n",
       "      <td>NaN</td>\n",
       "      <td>NaN</td>\n",
       "      <td>NaN</td>\n",
       "      <td>Cortlandt Street</td>\n",
       "      <td>41</td>\n",
       "      <td>41 Cortlandt Street</td>\n",
       "      <td>New York City</td>\n",
       "      <td>New York</td>\n",
       "      <td>United States</td>\n",
       "    </tr>\n",
       "  </tbody>\n",
       "</table>\n",
       "<p>1 rows × 45 columns</p>\n",
       "</div>"
      ],
      "text/plain": [
       "          DataID  RecordId      Name  HouseHoldId  Street Name House Number  \\\n",
       "0  4449800_00259  18496912  Wm H Gee     18496912  Cortland St           41   \n",
       "\n",
       "   Dwelling Number  Family Number Surname Relationship  ... Farm or House  \\\n",
       "0              1.0              1     Gee         Head  ...         House   \n",
       "\n",
       "  Survivor of Confederate or Union of Army or Navy  Blind Deaf and Dumb  \\\n",
       "0                                              NaN    NaN           NaN   \n",
       "\n",
       "       street_clean num_clean              Address           City     State  \\\n",
       "0  Cortlandt Street        41  41 Cortlandt Street  New York City  New York   \n",
       "\n",
       "         Country  \n",
       "0  United States  \n",
       "\n",
       "[1 rows x 45 columns]"
      ]
     },
     "execution_count": 27,
     "metadata": {},
     "output_type": "execute_result"
    }
   ],
   "source": [
    "df['City'] = 'New York City'\n",
    "df['State'] = 'New York'\n",
    "df['Country'] = 'United States'\n",
    "df.head(1)"
   ]
  },
  {
   "cell_type": "code",
   "execution_count": null,
   "metadata": {},
   "outputs": [],
   "source": []
  },
  {
   "cell_type": "code",
   "execution_count": 28,
   "metadata": {},
   "outputs": [],
   "source": [
    "df.to_csv('cleaned/ward3_1910_CLEANED.csv')"
   ]
  }
 ],
 "metadata": {
  "kernelspec": {
   "display_name": "Python 3.8.1 64-bit",
   "language": "python",
   "name": "python38164bit0209044da7c742dab8314e0953beb93b"
  },
  "language_info": {
   "codemirror_mode": {
    "name": "ipython",
    "version": 3
   },
   "file_extension": ".py",
   "mimetype": "text/x-python",
   "name": "python",
   "nbconvert_exporter": "python",
   "pygments_lexer": "ipython3",
   "version": "3.8.1"
  }
 },
 "nbformat": 4,
 "nbformat_minor": 4
}
