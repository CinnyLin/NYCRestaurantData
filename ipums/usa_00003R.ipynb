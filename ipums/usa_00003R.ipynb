{
 "cells": [
  {
   "cell_type": "code",
   "execution_count": null,
   "metadata": {},
   "outputs": [],
   "source": []
  },
  {
   "cell_type": "code",
   "execution_count": 1,
   "metadata": {},
   "outputs": [
    {
     "name": "stderr",
     "output_type": "stream",
     "text": [
      "Updating HTML index of packages in '.Library'\n",
      "Making 'packages.html' ... done\n"
     ]
    }
   ],
   "source": [
    "install.packages('ipumsr')"
   ]
  },
  {
   "cell_type": "code",
   "execution_count": 3,
   "metadata": {},
   "outputs": [
    {
     "name": "stderr",
     "output_type": "stream",
     "text": [
      "Loading required package: ipumsr\n"
     ]
    },
    {
     "ename": "ERROR",
     "evalue": "Error in custom_check_file_exists(ddi_file): Could not find file named './usa_00003.xml' in current working directory:\n  /Users/cinny/Downloads/NYCRestaurantData/ipums\nDo you need to change the directory with `setwd()`?\n",
     "output_type": "error",
     "traceback": [
      "Error in custom_check_file_exists(ddi_file): Could not find file named './usa_00003.xml' in current working directory:\n  /Users/cinny/Downloads/NYCRestaurantData/ipums\nDo you need to change the directory with `setwd()`?\nTraceback:\n",
      "1. read_ipums_ddi(\"usa_00003.xml\")",
      "2. custom_check_file_exists(ddi_file)",
      "3. stop(paste0(\"Could not find file named '\", file, \"' in current working directory:\\n  \", \n .     getwd(), \"\\nDo you need to change the directory with `setwd()`?\"))"
     ]
    }
   ],
   "source": [
    "# NOTE: To load data, you must download both the extract's data and the DDI\n",
    "# and also set the working directory to the folder with these files (or change the path below).\n",
    "\n",
    "if (!require(\"ipumsr\")) stop(\"Reading IPUMS data into R requires the ipumsr package. It can be installed using the following command: install.packages('ipumsr')\")\n",
    "\n",
    "ddi <- read_ipums_ddi(\"usa_00003.xml\")\n",
    "data <- read_ipums_micro(ddi)"
   ]
  },
  {
   "cell_type": "code",
   "execution_count": null,
   "metadata": {},
   "outputs": [],
   "source": []
  },
  {
   "cell_type": "code",
   "execution_count": null,
   "metadata": {},
   "outputs": [],
   "source": []
  },
  {
   "cell_type": "code",
   "execution_count": null,
   "metadata": {},
   "outputs": [],
   "source": []
  },
  {
   "cell_type": "code",
   "execution_count": null,
   "metadata": {},
   "outputs": [],
   "source": []
  }
 ],
 "metadata": {
  "kernelspec": {
   "display_name": "R",
   "language": "R",
   "name": "ir"
  },
  "language_info": {
   "codemirror_mode": "r",
   "file_extension": ".r",
   "mimetype": "text/x-r-source",
   "name": "R",
   "pygments_lexer": "r",
   "version": "3.6.1"
  }
 },
 "nbformat": 4,
 "nbformat_minor": 4
}
