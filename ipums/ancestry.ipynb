{
 "cells": [
  {
   "cell_type": "markdown",
   "metadata": {},
   "source": [
    "# \"Nationality\" Data Cleaning\n",
    "Cross Checking the validity of the gender and nationality API Mary is using with Ancestry datasets Tim has scraped (`Ancestry_1910`) for `1898_TrowBus dataset`\n",
    "\n",
    "### Requirements"
   ]
  },
  {
   "cell_type": "code",
   "execution_count": 6,
   "metadata": {},
   "outputs": [],
   "source": [
    "import pandas as pd"
   ]
  },
  {
   "cell_type": "markdown",
   "metadata": {},
   "source": [
    "### Datasets"
   ]
  },
  {
   "cell_type": "code",
   "execution_count": 39,
   "metadata": {},
   "outputs": [
    {
     "data": {
      "text/html": [
       "<div>\n",
       "<style scoped>\n",
       "    .dataframe tbody tr th:only-of-type {\n",
       "        vertical-align: middle;\n",
       "    }\n",
       "\n",
       "    .dataframe tbody tr th {\n",
       "        vertical-align: top;\n",
       "    }\n",
       "\n",
       "    .dataframe thead th {\n",
       "        text-align: right;\n",
       "    }\n",
       "</style>\n",
       "<table border=\"1\" class=\"dataframe\">\n",
       "  <thead>\n",
       "    <tr style=\"text-align: right;\">\n",
       "      <th></th>\n",
       "      <th>name</th>\n",
       "      <th>address</th>\n",
       "      <th>nationality_final</th>\n",
       "      <th>nationality_mary</th>\n",
       "    </tr>\n",
       "  </thead>\n",
       "  <tbody>\n",
       "    <tr>\n",
       "      <th>0</th>\n",
       "      <td>Abbott Charles W</td>\n",
       "      <td>548 W 39th</td>\n",
       "      <td>English</td>\n",
       "      <td>English</td>\n",
       "    </tr>\n",
       "  </tbody>\n",
       "</table>\n",
       "</div>"
      ],
      "text/plain": [
       "                name      address nationality_final nationality_mary\n",
       "0  Abbott Charles W   548 W 39th            English          English"
      ]
     },
     "execution_count": 39,
     "metadata": {},
     "output_type": "execute_result"
    }
   ],
   "source": [
    "df1 = pd.read_csv('1898TrowBus.csv')[['Name', 'Addy_Clean', 'Nationality Final', 'nationality_mary']]\n",
    "df1.columns = ['name', 'address', 'nationality_final', 'nationality_mary']\n",
    "df1.head(1)"
   ]
  },
  {
   "cell_type": "code",
   "execution_count": null,
   "metadata": {},
   "outputs": [],
   "source": []
  },
  {
   "cell_type": "code",
   "execution_count": 40,
   "metadata": {},
   "outputs": [
    {
     "data": {
      "text/html": [
       "<div>\n",
       "<style scoped>\n",
       "    .dataframe tbody tr th:only-of-type {\n",
       "        vertical-align: middle;\n",
       "    }\n",
       "\n",
       "    .dataframe tbody tr th {\n",
       "        vertical-align: top;\n",
       "    }\n",
       "\n",
       "    .dataframe thead th {\n",
       "        text-align: right;\n",
       "    }\n",
       "</style>\n",
       "<table border=\"1\" class=\"dataframe\">\n",
       "  <thead>\n",
       "    <tr style=\"text-align: right;\">\n",
       "      <th></th>\n",
       "      <th>name</th>\n",
       "      <th>address</th>\n",
       "      <th>nationality_final</th>\n",
       "    </tr>\n",
       "  </thead>\n",
       "  <tbody>\n",
       "    <tr>\n",
       "      <th>0</th>\n",
       "      <td>Albanian Roumanian Co</td>\n",
       "      <td>261 W 37th</td>\n",
       "      <td>Albanian</td>\n",
       "    </tr>\n",
       "  </tbody>\n",
       "</table>\n",
       "</div>"
      ],
      "text/plain": [
       "                     name     address nationality_final\n",
       "0  Albanian Roumanian Co   261 W 37th          Albanian"
      ]
     },
     "execution_count": 40,
     "metadata": {},
     "output_type": "execute_result"
    }
   ],
   "source": [
    "df2 = pd.read_csv('1913TrowBus.csv')[['Name', 'Addy_Clean', 'NATIONALITY final']]\n",
    "df2.columns = ['name', 'address', 'nationality_final']\n",
    "df2.head(1)"
   ]
  },
  {
   "cell_type": "code",
   "execution_count": null,
   "metadata": {},
   "outputs": [],
   "source": []
  },
  {
   "cell_type": "code",
   "execution_count": 104,
   "metadata": {},
   "outputs": [
    {
     "name": "stderr",
     "output_type": "stream",
     "text": [
      "/Library/Frameworks/Python.framework/Versions/3.8/lib/python3.8/site-packages/IPython/core/interactiveshell.py:3050: DtypeWarning: Columns (13) have mixed types.Specify dtype option on import or set low_memory=False.\n",
      "  has_raised = await self.run_ast_nodes(code_ast.body, cell_name,\n"
     ]
    },
    {
     "data": {
      "text/html": [
       "<div>\n",
       "<style scoped>\n",
       "    .dataframe tbody tr th:only-of-type {\n",
       "        vertical-align: middle;\n",
       "    }\n",
       "\n",
       "    .dataframe tbody tr th {\n",
       "        vertical-align: top;\n",
       "    }\n",
       "\n",
       "    .dataframe thead th {\n",
       "        text-align: right;\n",
       "    }\n",
       "</style>\n",
       "<table border=\"1\" class=\"dataframe\">\n",
       "  <thead>\n",
       "    <tr style=\"text-align: right;\">\n",
       "      <th></th>\n",
       "      <th>name</th>\n",
       "      <th>first</th>\n",
       "      <th>last</th>\n",
       "      <th>address</th>\n",
       "      <th>street</th>\n",
       "      <th>no</th>\n",
       "      <th>birthplace</th>\n",
       "      <th>bpf</th>\n",
       "      <th>bpm</th>\n",
       "    </tr>\n",
       "  </thead>\n",
       "  <tbody>\n",
       "    <tr>\n",
       "      <th>0</th>\n",
       "      <td>I Virginia Isola</td>\n",
       "      <td>I</td>\n",
       "      <td>Isola</td>\n",
       "      <td>Catherine Street 25</td>\n",
       "      <td>Catherine Street</td>\n",
       "      <td>25</td>\n",
       "      <td>Italy</td>\n",
       "      <td>Italy</td>\n",
       "      <td>Italy</td>\n",
       "    </tr>\n",
       "  </tbody>\n",
       "</table>\n",
       "</div>"
      ],
      "text/plain": [
       "               name first   last              address            street  no  \\\n",
       "0  I Virginia Isola     I  Isola  Catherine Street 25  Catherine Street  25   \n",
       "\n",
       "  birthplace    bpf    bpm  \n",
       "0      Italy  Italy  Italy  "
      ]
     },
     "execution_count": 104,
     "metadata": {},
     "output_type": "execute_result"
    }
   ],
   "source": [
    "df3 = pd.read_csv('Ancesrty_1910_Manhattan_Ward7.csv')[\n",
    "    ['Name', 'First Name', 'Surname', \n",
    "     'Address', 'Street Name New', 'House Number New', \n",
    "     'Birthplace', 'Father\\'s Birthplace', 'Mother\\'s Birthplace']]\n",
    "#[['Name', 'Address', 'Birthplace', 'Father\\'s Birthplace', 'Mother\\'s Birthplace']]\n",
    "\n",
    "df3.columns = ['name', 'first', 'last', \n",
    "               'address', 'street', 'no',\n",
    "               'birthplace', 'bpf', 'bpm']\n",
    "#df3.columns = ['name', 'address', 'birthplace', 'birthplace_f', 'birthplace_m']\n",
    "\n",
    "df3.head(1)"
   ]
  },
  {
   "cell_type": "code",
   "execution_count": 100,
   "metadata": {},
   "outputs": [
    {
     "data": {
      "text/plain": [
       "Index(['DataID', 'RecordId', 'Name', 'First Name', 'Middle Name', 'Surname',\n",
       "       'HouseHoldId', 'Street Name New', 'House Number New', 'Address',\n",
       "       'PlaceId', 'Lon', 'Lat', 'Dwelling Number', 'Own or Rent',\n",
       "       'Relationship', 'Is Head', 'Gender', 'Race', 'Age', 'Marital Status',\n",
       "       'Number of Years of Present Marriage', 'Number of Children Born',\n",
       "       'Number of Children Living', 'Birthplace', 'Father's Birthplace',\n",
       "       'Mother's Birthplace', 'US Born', 'Immigration Year',\n",
       "       'Naturalization Status', 'Self Native Tongue', 'Occupation',\n",
       "       'Occupation Category', 'Industry', 'Self Employed or Not',\n",
       "       'Out of Work on April 15', 'Number of Weeks Out of Work', 'Can Read',\n",
       "       'Can Write', 'Attended School', 'Blind', 'Deaf and Dumb',\n",
       "       'Enumeration District Number', 'Ward of City', 'Street Name',\n",
       "       'House Number'],\n",
       "      dtype='object')"
      ]
     },
     "execution_count": 100,
     "metadata": {},
     "output_type": "execute_result"
    }
   ],
   "source": [
    "df3.columns"
   ]
  },
  {
   "cell_type": "code",
   "execution_count": null,
   "metadata": {},
   "outputs": [],
   "source": []
  },
  {
   "cell_type": "markdown",
   "metadata": {},
   "source": [
    "### dataset1: `1898TrowBus`"
   ]
  },
  {
   "cell_type": "markdown",
   "metadata": {},
   "source": [
    "How is the discrepancy between the final result and Mary's API?"
   ]
  },
  {
   "cell_type": "code",
   "execution_count": 68,
   "metadata": {},
   "outputs": [
    {
     "data": {
      "text/plain": [
       "False    1853\n",
       "True      141\n",
       "dtype: int64"
      ]
     },
     "execution_count": 68,
     "metadata": {},
     "output_type": "execute_result"
    }
   ],
   "source": [
    "diff = (df1['nationality_final'] != df1['nationality_mary'])\n",
    "diff.value_counts()"
   ]
  },
  {
   "cell_type": "markdown",
   "metadata": {},
   "source": [
    "This means there is only discrepancy in 141 pieces of data."
   ]
  },
  {
   "cell_type": "code",
   "execution_count": 67,
   "metadata": {},
   "outputs": [
    {
     "data": {
      "text/html": [
       "<div>\n",
       "<style scoped>\n",
       "    .dataframe tbody tr th:only-of-type {\n",
       "        vertical-align: middle;\n",
       "    }\n",
       "\n",
       "    .dataframe tbody tr th {\n",
       "        vertical-align: top;\n",
       "    }\n",
       "\n",
       "    .dataframe thead th {\n",
       "        text-align: right;\n",
       "    }\n",
       "</style>\n",
       "<table border=\"1\" class=\"dataframe\">\n",
       "  <thead>\n",
       "    <tr style=\"text-align: right;\">\n",
       "      <th></th>\n",
       "      <th>name</th>\n",
       "      <th>address</th>\n",
       "      <th>nationality_final</th>\n",
       "      <th>nationality_mary</th>\n",
       "    </tr>\n",
       "  </thead>\n",
       "  <tbody>\n",
       "    <tr>\n",
       "      <th>2</th>\n",
       "      <td>Abelmont Eugenia</td>\n",
       "      <td>486 6th av</td>\n",
       "      <td>NaN</td>\n",
       "      <td>Spainish</td>\n",
       "    </tr>\n",
       "    <tr>\n",
       "      <th>29</th>\n",
       "      <td>Alten Henry</td>\n",
       "      <td>227 W Broadway</td>\n",
       "      <td>German</td>\n",
       "      <td>English</td>\n",
       "    </tr>\n",
       "    <tr>\n",
       "      <th>134</th>\n",
       "      <td>Beshawte K</td>\n",
       "      <td>434 6th av</td>\n",
       "      <td>NaN</td>\n",
       "      <td>English</td>\n",
       "    </tr>\n",
       "    <tr>\n",
       "      <th>138</th>\n",
       "      <td>Bette Brothers</td>\n",
       "      <td>20 Spring</td>\n",
       "      <td>NaN</td>\n",
       "      <td>English</td>\n",
       "    </tr>\n",
       "    <tr>\n",
       "      <th>147</th>\n",
       "      <td>Bittner John</td>\n",
       "      <td>2273 8th av</td>\n",
       "      <td>NaN</td>\n",
       "      <td>German</td>\n",
       "    </tr>\n",
       "    <tr>\n",
       "      <th>...</th>\n",
       "      <td>...</td>\n",
       "      <td>...</td>\n",
       "      <td>...</td>\n",
       "      <td>...</td>\n",
       "    </tr>\n",
       "    <tr>\n",
       "      <th>1742</th>\n",
       "      <td>+Still's J H Son</td>\n",
       "      <td>195 3rd av</td>\n",
       "      <td>NaN</td>\n",
       "      <td>NaN</td>\n",
       "    </tr>\n",
       "    <tr>\n",
       "      <th>1747</th>\n",
       "      <td>Streen &amp; Liberman</td>\n",
       "      <td>154 Centre</td>\n",
       "      <td>NaN</td>\n",
       "      <td>NaN</td>\n",
       "    </tr>\n",
       "    <tr>\n",
       "      <th>1835</th>\n",
       "      <td>Velmahos Brothers</td>\n",
       "      <td>107 Greenwich</td>\n",
       "      <td>NaN</td>\n",
       "      <td>NaN</td>\n",
       "    </tr>\n",
       "    <tr>\n",
       "      <th>1837</th>\n",
       "      <td>Vermatten Jules</td>\n",
       "      <td>100 Broad</td>\n",
       "      <td>NaN</td>\n",
       "      <td>NaN</td>\n",
       "    </tr>\n",
       "    <tr>\n",
       "      <th>1971</th>\n",
       "      <td>Yaralianz George D</td>\n",
       "      <td>691 1st av</td>\n",
       "      <td>NaN</td>\n",
       "      <td>NaN</td>\n",
       "    </tr>\n",
       "  </tbody>\n",
       "</table>\n",
       "<p>141 rows × 4 columns</p>\n",
       "</div>"
      ],
      "text/plain": [
       "                     name         address nationality_final nationality_mary\n",
       "2       Abelmont Eugenia      486 6th av                NaN         Spainish\n",
       "29           Alten Henry   227 W Broadway            German          English\n",
       "134           Beshawte K      434 6th av                NaN          English\n",
       "138       Bette Brothers      20 Spring                 NaN          English\n",
       "147         Bittner John     2273 8th av                NaN           German\n",
       "...                   ...             ...               ...              ...\n",
       "1742    +Still's J H Son      195 3rd av                NaN              NaN\n",
       "1747   Streen & Liberman     154 Centre                 NaN              NaN\n",
       "1835   Velmahos Brothers    107 Greenwich               NaN              NaN\n",
       "1837     Vermatten Jules      100 Broad                 NaN              NaN\n",
       "1971  Yaralianz George D      691 1st av                NaN              NaN\n",
       "\n",
       "[141 rows x 4 columns]"
      ]
     },
     "execution_count": 67,
     "metadata": {},
     "output_type": "execute_result"
    }
   ],
   "source": [
    "df1[diff]"
   ]
  },
  {
   "cell_type": "markdown",
   "metadata": {},
   "source": [
    "Inspecing the data, I realize that the discrepancy exists mostly not because they had different results, but because nationality_final did not have a result. "
   ]
  },
  {
   "cell_type": "code",
   "execution_count": 75,
   "metadata": {},
   "outputs": [
    {
     "data": {
      "text/plain": [
       "False    138\n",
       "True       3\n",
       "Name: nationality_final, dtype: int64"
      ]
     },
     "execution_count": 75,
     "metadata": {},
     "output_type": "execute_result"
    }
   ],
   "source": [
    "real_diff = df1[diff]['nationality_final'].notnull()\n",
    "real_diff.value_counts()"
   ]
  },
  {
   "cell_type": "markdown",
   "metadata": {},
   "source": [
    "This means that only 3 of the discrepancy are actual discrepancies. "
   ]
  },
  {
   "cell_type": "code",
   "execution_count": 76,
   "metadata": {},
   "outputs": [
    {
     "data": {
      "text/html": [
       "<div>\n",
       "<style scoped>\n",
       "    .dataframe tbody tr th:only-of-type {\n",
       "        vertical-align: middle;\n",
       "    }\n",
       "\n",
       "    .dataframe tbody tr th {\n",
       "        vertical-align: top;\n",
       "    }\n",
       "\n",
       "    .dataframe thead th {\n",
       "        text-align: right;\n",
       "    }\n",
       "</style>\n",
       "<table border=\"1\" class=\"dataframe\">\n",
       "  <thead>\n",
       "    <tr style=\"text-align: right;\">\n",
       "      <th></th>\n",
       "      <th>name</th>\n",
       "      <th>address</th>\n",
       "      <th>nationality_final</th>\n",
       "      <th>nationality_mary</th>\n",
       "    </tr>\n",
       "  </thead>\n",
       "  <tbody>\n",
       "    <tr>\n",
       "      <th>29</th>\n",
       "      <td>Alten Henry</td>\n",
       "      <td>227 W Broadway</td>\n",
       "      <td>German</td>\n",
       "      <td>English</td>\n",
       "    </tr>\n",
       "    <tr>\n",
       "      <th>177</th>\n",
       "      <td>Bormann George</td>\n",
       "      <td>342 9th av</td>\n",
       "      <td>Gernan</td>\n",
       "      <td>German</td>\n",
       "    </tr>\n",
       "    <tr>\n",
       "      <th>1300</th>\n",
       "      <td>Muth Theodore P</td>\n",
       "      <td>389 West st</td>\n",
       "      <td>-</td>\n",
       "      <td>NaN</td>\n",
       "    </tr>\n",
       "  </tbody>\n",
       "</table>\n",
       "</div>"
      ],
      "text/plain": [
       "                  name         address nationality_final nationality_mary\n",
       "29        Alten Henry   227 W Broadway            German          English\n",
       "177    Bormann George      342 9th av             Gernan           German\n",
       "1300  Muth Theodore P    389 West st                   -              NaN"
      ]
     },
     "execution_count": 76,
     "metadata": {},
     "output_type": "execute_result"
    }
   ],
   "source": [
    "df1[diff][real_diff]"
   ]
  },
  {
   "cell_type": "markdown",
   "metadata": {},
   "source": [
    "I want to cross-check these 3 data with Tim's Ancestry dataset."
   ]
  },
  {
   "cell_type": "code",
   "execution_count": 124,
   "metadata": {},
   "outputs": [
    {
     "data": {
      "text/html": [
       "<div>\n",
       "<style scoped>\n",
       "    .dataframe tbody tr th:only-of-type {\n",
       "        vertical-align: middle;\n",
       "    }\n",
       "\n",
       "    .dataframe tbody tr th {\n",
       "        vertical-align: top;\n",
       "    }\n",
       "\n",
       "    .dataframe thead th {\n",
       "        text-align: right;\n",
       "    }\n",
       "</style>\n",
       "<table border=\"1\" class=\"dataframe\">\n",
       "  <thead>\n",
       "    <tr style=\"text-align: right;\">\n",
       "      <th></th>\n",
       "      <th>name</th>\n",
       "      <th>first</th>\n",
       "      <th>last</th>\n",
       "      <th>address</th>\n",
       "      <th>street</th>\n",
       "      <th>no</th>\n",
       "      <th>birthplace</th>\n",
       "      <th>bpf</th>\n",
       "      <th>bpm</th>\n",
       "    </tr>\n",
       "  </thead>\n",
       "  <tbody>\n",
       "    <tr>\n",
       "      <th>18268</th>\n",
       "      <td>Alten Majerovitz</td>\n",
       "      <td>Alten</td>\n",
       "      <td>Majerovitz</td>\n",
       "      <td>Pike Street 11</td>\n",
       "      <td>Pike Street</td>\n",
       "      <td>11</td>\n",
       "      <td>Russia</td>\n",
       "      <td>Russia</td>\n",
       "      <td>Russia</td>\n",
       "    </tr>\n",
       "  </tbody>\n",
       "</table>\n",
       "</div>"
      ],
      "text/plain": [
       "                   name  first        last         address       street  no  \\\n",
       "18268  Alten Majerovitz  Alten  Majerovitz  Pike Street 11  Pike Street  11   \n",
       "\n",
       "      birthplace     bpf     bpm  \n",
       "18268     Russia  Russia  Russia  "
      ]
     },
     "execution_count": 124,
     "metadata": {},
     "output_type": "execute_result"
    }
   ],
   "source": [
    "df3[df3['first']=='Alten']"
   ]
  },
  {
   "cell_type": "markdown",
   "metadata": {},
   "source": [
    "No, his last name is \"Henry\" so he is unlikely Russian, despite his name being Alten.\n",
    "\n",
    "(fyi, Alten as a family name would likely be German, but as first name...?)"
   ]
  },
  {
   "cell_type": "code",
   "execution_count": 125,
   "metadata": {},
   "outputs": [
    {
     "data": {
      "text/html": [
       "<div>\n",
       "<style scoped>\n",
       "    .dataframe tbody tr th:only-of-type {\n",
       "        vertical-align: middle;\n",
       "    }\n",
       "\n",
       "    .dataframe tbody tr th {\n",
       "        vertical-align: top;\n",
       "    }\n",
       "\n",
       "    .dataframe thead th {\n",
       "        text-align: right;\n",
       "    }\n",
       "</style>\n",
       "<table border=\"1\" class=\"dataframe\">\n",
       "  <thead>\n",
       "    <tr style=\"text-align: right;\">\n",
       "      <th></th>\n",
       "      <th>name</th>\n",
       "      <th>first</th>\n",
       "      <th>last</th>\n",
       "      <th>address</th>\n",
       "      <th>street</th>\n",
       "      <th>no</th>\n",
       "      <th>birthplace</th>\n",
       "      <th>bpf</th>\n",
       "      <th>bpm</th>\n",
       "    </tr>\n",
       "  </thead>\n",
       "  <tbody>\n",
       "    <tr>\n",
       "      <th>886</th>\n",
       "      <td>William Henry</td>\n",
       "      <td>William</td>\n",
       "      <td>Henry</td>\n",
       "      <td>Madison Street 97</td>\n",
       "      <td>Madison Street</td>\n",
       "      <td>97</td>\n",
       "      <td>New York</td>\n",
       "      <td>Ireland</td>\n",
       "      <td>Ireland</td>\n",
       "    </tr>\n",
       "    <tr>\n",
       "      <th>887</th>\n",
       "      <td>Sarah Henry</td>\n",
       "      <td>Sarah</td>\n",
       "      <td>Henry</td>\n",
       "      <td>Madison Street 97</td>\n",
       "      <td>Madison Street</td>\n",
       "      <td>97</td>\n",
       "      <td>New York</td>\n",
       "      <td>Ireland</td>\n",
       "      <td>Ireland</td>\n",
       "    </tr>\n",
       "    <tr>\n",
       "      <th>888</th>\n",
       "      <td>William Henry</td>\n",
       "      <td>William</td>\n",
       "      <td>Henry</td>\n",
       "      <td>Madison Street 97</td>\n",
       "      <td>Madison Street</td>\n",
       "      <td>97</td>\n",
       "      <td>New York</td>\n",
       "      <td>New York</td>\n",
       "      <td>New York</td>\n",
       "    </tr>\n",
       "    <tr>\n",
       "      <th>28636</th>\n",
       "      <td>Harry Henry</td>\n",
       "      <td>Harry</td>\n",
       "      <td>Henry</td>\n",
       "      <td>Pelham Street 9</td>\n",
       "      <td>Pelham Street</td>\n",
       "      <td>9</td>\n",
       "      <td>Russia</td>\n",
       "      <td>Russia</td>\n",
       "      <td>Russia</td>\n",
       "    </tr>\n",
       "    <tr>\n",
       "      <th>72274</th>\n",
       "      <td>John P Henry</td>\n",
       "      <td>John</td>\n",
       "      <td>Henry</td>\n",
       "      <td>Scammel Street 58</td>\n",
       "      <td>Scammel Street</td>\n",
       "      <td>58</td>\n",
       "      <td>Sweden</td>\n",
       "      <td>Sweden</td>\n",
       "      <td>Sweden</td>\n",
       "    </tr>\n",
       "    <tr>\n",
       "      <th>72275</th>\n",
       "      <td>Bertha Henry</td>\n",
       "      <td>Bertha</td>\n",
       "      <td>Henry</td>\n",
       "      <td>Scammel Street 58</td>\n",
       "      <td>Scammel Street</td>\n",
       "      <td>58</td>\n",
       "      <td>Sweden</td>\n",
       "      <td>Sweden</td>\n",
       "      <td>Sweden</td>\n",
       "    </tr>\n",
       "    <tr>\n",
       "      <th>72276</th>\n",
       "      <td>Alex Henry</td>\n",
       "      <td>Alex</td>\n",
       "      <td>Henry</td>\n",
       "      <td>Scammel Street 58</td>\n",
       "      <td>Scammel Street</td>\n",
       "      <td>58</td>\n",
       "      <td>New York</td>\n",
       "      <td>Sweden</td>\n",
       "      <td>Sweden</td>\n",
       "    </tr>\n",
       "    <tr>\n",
       "      <th>72277</th>\n",
       "      <td>Victoria Henry</td>\n",
       "      <td>Victoria</td>\n",
       "      <td>Henry</td>\n",
       "      <td>Scammel Street 58</td>\n",
       "      <td>Scammel Street</td>\n",
       "      <td>58</td>\n",
       "      <td>New York</td>\n",
       "      <td>Sweden</td>\n",
       "      <td>Sweden</td>\n",
       "    </tr>\n",
       "    <tr>\n",
       "      <th>74105</th>\n",
       "      <td>Jane Henry</td>\n",
       "      <td>Jane</td>\n",
       "      <td>Henry</td>\n",
       "      <td>Gouverneur Street 91</td>\n",
       "      <td>Gouverneur Street</td>\n",
       "      <td>91</td>\n",
       "      <td>Ireland</td>\n",
       "      <td>Ireland</td>\n",
       "      <td>Ireland</td>\n",
       "    </tr>\n",
       "  </tbody>\n",
       "</table>\n",
       "</div>"
      ],
      "text/plain": [
       "                 name     first   last               address  \\\n",
       "886     William Henry   William  Henry     Madison Street 97   \n",
       "887       Sarah Henry     Sarah  Henry     Madison Street 97   \n",
       "888     William Henry   William  Henry     Madison Street 97   \n",
       "28636     Harry Henry     Harry  Henry       Pelham Street 9   \n",
       "72274    John P Henry      John  Henry     Scammel Street 58   \n",
       "72275    Bertha Henry    Bertha  Henry     Scammel Street 58   \n",
       "72276      Alex Henry      Alex  Henry     Scammel Street 58   \n",
       "72277  Victoria Henry  Victoria  Henry     Scammel Street 58   \n",
       "74105      Jane Henry      Jane  Henry  Gouverneur Street 91   \n",
       "\n",
       "                  street  no birthplace       bpf       bpm  \n",
       "886       Madison Street  97   New York   Ireland   Ireland  \n",
       "887       Madison Street  97   New York   Ireland   Ireland  \n",
       "888       Madison Street  97   New York  New York  New York  \n",
       "28636      Pelham Street   9     Russia    Russia    Russia  \n",
       "72274     Scammel Street  58     Sweden    Sweden    Sweden  \n",
       "72275     Scammel Street  58     Sweden    Sweden    Sweden  \n",
       "72276     Scammel Street  58   New York    Sweden    Sweden  \n",
       "72277     Scammel Street  58   New York    Sweden    Sweden  \n",
       "74105  Gouverneur Street  91    Ireland   Ireland   Ireland  "
      ]
     },
     "execution_count": 125,
     "metadata": {},
     "output_type": "execute_result"
    }
   ],
   "source": [
    "df3[df3['last']=='Henry']"
   ]
  },
  {
   "cell_type": "markdown",
   "metadata": {},
   "source": [
    "\"Henry\" is too common of a last name to get any accurate results. \n",
    "\n",
    "1. Wait... there is \"Alten\" as first name being Russian and \"Henry\" as last name being Russian... could \"Alten Henry\" be Russian???\n",
    "\n",
    "2. \"Henry\" also seems to be a common Swedish last name?? But the descrepancy was between German and English...\n",
    "\n",
    "3. I realized signs of ethnic clusters? The same birthplace lived on the same stree? But also they have the exact same address so they were probably just a family...?"
   ]
  },
  {
   "cell_type": "code",
   "execution_count": 133,
   "metadata": {},
   "outputs": [
    {
     "data": {
      "text/html": [
       "<div>\n",
       "<style scoped>\n",
       "    .dataframe tbody tr th:only-of-type {\n",
       "        vertical-align: middle;\n",
       "    }\n",
       "\n",
       "    .dataframe tbody tr th {\n",
       "        vertical-align: top;\n",
       "    }\n",
       "\n",
       "    .dataframe thead th {\n",
       "        text-align: right;\n",
       "    }\n",
       "</style>\n",
       "<table border=\"1\" class=\"dataframe\">\n",
       "  <thead>\n",
       "    <tr style=\"text-align: right;\">\n",
       "      <th></th>\n",
       "      <th>name</th>\n",
       "      <th>first</th>\n",
       "      <th>last</th>\n",
       "      <th>address</th>\n",
       "      <th>street</th>\n",
       "      <th>no</th>\n",
       "      <th>birthplace</th>\n",
       "      <th>bpf</th>\n",
       "      <th>bpm</th>\n",
       "    </tr>\n",
       "  </thead>\n",
       "  <tbody>\n",
       "    <tr>\n",
       "      <th>37089</th>\n",
       "      <td>Isidore Levin</td>\n",
       "      <td>Isidore</td>\n",
       "      <td>Levin</td>\n",
       "      <td>Broadway 181</td>\n",
       "      <td>Broadway</td>\n",
       "      <td>181</td>\n",
       "      <td>United States</td>\n",
       "      <td>Germany</td>\n",
       "      <td>Germany</td>\n",
       "    </tr>\n",
       "    <tr>\n",
       "      <th>37090</th>\n",
       "      <td>Rosie Levin</td>\n",
       "      <td>Rosie</td>\n",
       "      <td>Levin</td>\n",
       "      <td>Broadway 181</td>\n",
       "      <td>Broadway</td>\n",
       "      <td>181</td>\n",
       "      <td>Germany</td>\n",
       "      <td>Germany</td>\n",
       "      <td>Germany</td>\n",
       "    </tr>\n",
       "    <tr>\n",
       "      <th>37091</th>\n",
       "      <td>Pearlie Levin</td>\n",
       "      <td>Pearlie</td>\n",
       "      <td>Levin</td>\n",
       "      <td>Broadway 181</td>\n",
       "      <td>Broadway</td>\n",
       "      <td>181</td>\n",
       "      <td>United States</td>\n",
       "      <td>United States</td>\n",
       "      <td>Germany</td>\n",
       "    </tr>\n",
       "    <tr>\n",
       "      <th>37092</th>\n",
       "      <td>Emanuel Levin</td>\n",
       "      <td>Emanuel</td>\n",
       "      <td>Levin</td>\n",
       "      <td>Broadway 181</td>\n",
       "      <td>Broadway</td>\n",
       "      <td>181</td>\n",
       "      <td>United States</td>\n",
       "      <td>United States</td>\n",
       "      <td>Germany</td>\n",
       "    </tr>\n",
       "  </tbody>\n",
       "</table>\n",
       "</div>"
      ],
      "text/plain": [
       "                name    first   last       address    street   no  \\\n",
       "37089  Isidore Levin  Isidore  Levin  Broadway 181  Broadway  181   \n",
       "37090    Rosie Levin    Rosie  Levin  Broadway 181  Broadway  181   \n",
       "37091  Pearlie Levin  Pearlie  Levin  Broadway 181  Broadway  181   \n",
       "37092  Emanuel Levin  Emanuel  Levin  Broadway 181  Broadway  181   \n",
       "\n",
       "          birthplace            bpf      bpm  \n",
       "37089  United States        Germany  Germany  \n",
       "37090        Germany        Germany  Germany  \n",
       "37091  United States  United States  Germany  \n",
       "37092  United States  United States  Germany  "
      ]
     },
     "execution_count": 133,
     "metadata": {},
     "output_type": "execute_result"
    }
   ],
   "source": [
    "df3[(df3['street']=='Broadway') & (df3['no']>130)]"
   ]
  },
  {
   "cell_type": "markdown",
   "metadata": {},
   "source": [
    "The Levin family was the only German family living on Broadway Street, there is no result between number 130 to 227 (which is what we are looking for). \n",
    "\n",
    "The ethnic cluster doesn't really make sense becasue they seem to be families instead of clusters, but I choose to be that \"Alten Henry\" is more likely German... because there has been few indicators of him being English so far?"
   ]
  },
  {
   "cell_type": "code",
   "execution_count": 135,
   "metadata": {},
   "outputs": [
    {
     "data": {
      "text/html": [
       "<div>\n",
       "<style scoped>\n",
       "    .dataframe tbody tr th:only-of-type {\n",
       "        vertical-align: middle;\n",
       "    }\n",
       "\n",
       "    .dataframe tbody tr th {\n",
       "        vertical-align: top;\n",
       "    }\n",
       "\n",
       "    .dataframe thead th {\n",
       "        text-align: right;\n",
       "    }\n",
       "</style>\n",
       "<table border=\"1\" class=\"dataframe\">\n",
       "  <thead>\n",
       "    <tr style=\"text-align: right;\">\n",
       "      <th></th>\n",
       "      <th>name</th>\n",
       "      <th>first</th>\n",
       "      <th>last</th>\n",
       "      <th>address</th>\n",
       "      <th>street</th>\n",
       "      <th>no</th>\n",
       "      <th>birthplace</th>\n",
       "      <th>bpf</th>\n",
       "      <th>bpm</th>\n",
       "    </tr>\n",
       "  </thead>\n",
       "  <tbody>\n",
       "  </tbody>\n",
       "</table>\n",
       "</div>"
      ],
      "text/plain": [
       "Empty DataFrame\n",
       "Columns: [name, first, last, address, street, no, birthplace, bpf, bpm]\n",
       "Index: []"
      ]
     },
     "execution_count": 135,
     "metadata": {},
     "output_type": "execute_result"
    }
   ],
   "source": [
    "df3[df3['first']=='Muth']"
   ]
  },
  {
   "cell_type": "code",
   "execution_count": 136,
   "metadata": {},
   "outputs": [
    {
     "data": {
      "text/html": [
       "<div>\n",
       "<style scoped>\n",
       "    .dataframe tbody tr th:only-of-type {\n",
       "        vertical-align: middle;\n",
       "    }\n",
       "\n",
       "    .dataframe tbody tr th {\n",
       "        vertical-align: top;\n",
       "    }\n",
       "\n",
       "    .dataframe thead th {\n",
       "        text-align: right;\n",
       "    }\n",
       "</style>\n",
       "<table border=\"1\" class=\"dataframe\">\n",
       "  <thead>\n",
       "    <tr style=\"text-align: right;\">\n",
       "      <th></th>\n",
       "      <th>name</th>\n",
       "      <th>first</th>\n",
       "      <th>last</th>\n",
       "      <th>address</th>\n",
       "      <th>street</th>\n",
       "      <th>no</th>\n",
       "      <th>birthplace</th>\n",
       "      <th>bpf</th>\n",
       "      <th>bpm</th>\n",
       "    </tr>\n",
       "  </thead>\n",
       "  <tbody>\n",
       "  </tbody>\n",
       "</table>\n",
       "</div>"
      ],
      "text/plain": [
       "Empty DataFrame\n",
       "Columns: [name, first, last, address, street, no, birthplace, bpf, bpm]\n",
       "Index: []"
      ]
     },
     "execution_count": 136,
     "metadata": {},
     "output_type": "execute_result"
    }
   ],
   "source": [
    "df3[df3['street']=='West']"
   ]
  },
  {
   "cell_type": "markdown",
   "metadata": {},
   "source": [
    "No data about \"Muth Theodore P\"."
   ]
  },
  {
   "cell_type": "code",
   "execution_count": null,
   "metadata": {},
   "outputs": [],
   "source": []
  },
  {
   "cell_type": "markdown",
   "metadata": {},
   "source": [
    "### dataset2: `1913TrowBus`"
   ]
  },
  {
   "cell_type": "code",
   "execution_count": 139,
   "metadata": {},
   "outputs": [
    {
     "data": {
      "text/html": [
       "<div>\n",
       "<style scoped>\n",
       "    .dataframe tbody tr th:only-of-type {\n",
       "        vertical-align: middle;\n",
       "    }\n",
       "\n",
       "    .dataframe tbody tr th {\n",
       "        vertical-align: top;\n",
       "    }\n",
       "\n",
       "    .dataframe thead th {\n",
       "        text-align: right;\n",
       "    }\n",
       "</style>\n",
       "<table border=\"1\" class=\"dataframe\">\n",
       "  <thead>\n",
       "    <tr style=\"text-align: right;\">\n",
       "      <th></th>\n",
       "      <th>name</th>\n",
       "      <th>address</th>\n",
       "      <th>nationality_final</th>\n",
       "    </tr>\n",
       "  </thead>\n",
       "  <tbody>\n",
       "    <tr>\n",
       "      <th>3672</th>\n",
       "      <td>Aberdeen</td>\n",
       "      <td>17 W 32nd</td>\n",
       "      <td>NaN</td>\n",
       "    </tr>\n",
       "    <tr>\n",
       "      <th>3673</th>\n",
       "      <td>ABINGOON HOTEL</td>\n",
       "      <td>7 Abingdon sq</td>\n",
       "      <td>NaN</td>\n",
       "    </tr>\n",
       "    <tr>\n",
       "      <th>3674</th>\n",
       "      <td>Acropolis</td>\n",
       "      <td>519 W 123rd</td>\n",
       "      <td>NaN</td>\n",
       "    </tr>\n",
       "    <tr>\n",
       "      <th>3675</th>\n",
       "      <td>Adelphi</td>\n",
       "      <td>470 W 23rd</td>\n",
       "      <td>NaN</td>\n",
       "    </tr>\n",
       "    <tr>\n",
       "      <th>3676</th>\n",
       "      <td>Albemarle</td>\n",
       "      <td>1 W 24th</td>\n",
       "      <td>NaN</td>\n",
       "    </tr>\n",
       "    <tr>\n",
       "      <th>...</th>\n",
       "      <td>...</td>\n",
       "      <td>...</td>\n",
       "      <td>...</td>\n",
       "    </tr>\n",
       "    <tr>\n",
       "      <th>5414</th>\n",
       "      <td>Zimmer Jacob</td>\n",
       "      <td>815 Westchester av</td>\n",
       "      <td>NaN</td>\n",
       "    </tr>\n",
       "    <tr>\n",
       "      <th>5415</th>\n",
       "      <td>Zimmerman Isaac</td>\n",
       "      <td>159 Monroe</td>\n",
       "      <td>NaN</td>\n",
       "    </tr>\n",
       "    <tr>\n",
       "      <th>5416</th>\n",
       "      <td>Zimmermann Agnes</td>\n",
       "      <td>424 Amsterdam av</td>\n",
       "      <td>NaN</td>\n",
       "    </tr>\n",
       "    <tr>\n",
       "      <th>5417</th>\n",
       "      <td>Zneimer Herman</td>\n",
       "      <td>2229 2nd av</td>\n",
       "      <td>NaN</td>\n",
       "    </tr>\n",
       "    <tr>\n",
       "      <th>5418</th>\n",
       "      <td>Zucker David</td>\n",
       "      <td>1460 2nd av</td>\n",
       "      <td>NaN</td>\n",
       "    </tr>\n",
       "  </tbody>\n",
       "</table>\n",
       "<p>1747 rows × 3 columns</p>\n",
       "</div>"
      ],
      "text/plain": [
       "                   name             address nationality_final\n",
       "3672          Aberdeen            17 W 32nd               NaN\n",
       "3673    ABINGOON HOTEL        7 Abingdon sq               NaN\n",
       "3674         Acropolis          519 W 123rd               NaN\n",
       "3675           Adelphi           470 W 23rd               NaN\n",
       "3676         Albemarle             1 W 24th               NaN\n",
       "...                 ...                 ...               ...\n",
       "5414      Zimmer Jacob   815 Westchester av               NaN\n",
       "5415   Zimmerman Isaac           159 Monroe               NaN\n",
       "5416  Zimmermann Agnes     424 Amsterdam av               NaN\n",
       "5417    Zneimer Herman          2229 2nd av               NaN\n",
       "5418      Zucker David          1460 2nd av               NaN\n",
       "\n",
       "[1747 rows x 3 columns]"
      ]
     },
     "execution_count": 139,
     "metadata": {},
     "output_type": "execute_result"
    }
   ],
   "source": [
    "df2[df2['nationality_final'].isnull()]"
   ]
  },
  {
   "cell_type": "code",
   "execution_count": null,
   "metadata": {},
   "outputs": [],
   "source": []
  },
  {
   "cell_type": "code",
   "execution_count": null,
   "metadata": {},
   "outputs": [],
   "source": []
  }
 ],
 "metadata": {
  "kernelspec": {
   "display_name": "Python 3.8.1 64-bit",
   "language": "python",
   "name": "python38164bit0209044da7c742dab8314e0953beb93b"
  },
  "language_info": {
   "codemirror_mode": {
    "name": "ipython",
    "version": 3
   },
   "file_extension": ".py",
   "mimetype": "text/x-python",
   "name": "python",
   "nbconvert_exporter": "python",
   "pygments_lexer": "ipython3",
   "version": "3.8.1"
  }
 },
 "nbformat": 4,
 "nbformat_minor": 4
}
