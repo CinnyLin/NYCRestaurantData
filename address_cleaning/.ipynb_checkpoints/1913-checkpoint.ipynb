{
 "cells": [
  {
   "cell_type": "markdown",
   "metadata": {},
   "source": [
    "# 1913 Restaurant Data\n",
    "Goal: Create a set of uniform code for cleaning up the street names and street numbers. \n"
   ]
  },
  {
   "cell_type": "code",
   "execution_count": 1,
   "metadata": {},
   "outputs": [],
   "source": [
    "import pandas as pd"
   ]
  },
  {
   "cell_type": "code",
   "execution_count": null,
   "metadata": {},
   "outputs": [],
   "source": []
  },
  {
   "cell_type": "markdown",
   "metadata": {},
   "source": [
    "## Master"
   ]
  },
  {
   "cell_type": "code",
   "execution_count": 2,
   "metadata": {},
   "outputs": [
    {
     "data": {
      "text/html": [
       "<div>\n",
       "<style scoped>\n",
       "    .dataframe tbody tr th:only-of-type {\n",
       "        vertical-align: middle;\n",
       "    }\n",
       "\n",
       "    .dataframe tbody tr th {\n",
       "        vertical-align: top;\n",
       "    }\n",
       "\n",
       "    .dataframe thead th {\n",
       "        text-align: right;\n",
       "    }\n",
       "</style>\n",
       "<table border=\"1\" class=\"dataframe\">\n",
       "  <thead>\n",
       "    <tr style=\"text-align: right;\">\n",
       "      <th></th>\n",
       "      <th>street_name</th>\n",
       "      <th>odd_on</th>\n",
       "      <th>avg_direction</th>\n",
       "      <th>building_num_range</th>\n",
       "      <th>start_end_coordinates</th>\n",
       "      <th>segment_length</th>\n",
       "      <th>segment_direction</th>\n",
       "      <th>building_num_range_length</th>\n",
       "      <th>avg_length_per_building</th>\n",
       "      <th>direction_deviation</th>\n",
       "      <th>road_type</th>\n",
       "      <th>offset_from_road_center</th>\n",
       "    </tr>\n",
       "  </thead>\n",
       "  <tbody>\n",
       "    <tr>\n",
       "      <th>0</th>\n",
       "      <td>10th Avenue</td>\n",
       "      <td>left</td>\n",
       "      <td>-170.561731</td>\n",
       "      <td>[1, 19]</td>\n",
       "      <td>[[40.741073, -74.009227], [40.739952, -74.0094...</td>\n",
       "      <td>126.194091</td>\n",
       "      <td>-170.561731</td>\n",
       "      <td>19</td>\n",
       "      <td>6.641794</td>\n",
       "      <td>0.0</td>\n",
       "      <td>Avenue</td>\n",
       "      <td>10</td>\n",
       "    </tr>\n",
       "  </tbody>\n",
       "</table>\n",
       "</div>"
      ],
      "text/plain": [
       "   street_name odd_on  avg_direction building_num_range  \\\n",
       "0  10th Avenue   left    -170.561731            [1, 19]   \n",
       "\n",
       "                               start_end_coordinates  segment_length  \\\n",
       "0  [[40.741073, -74.009227], [40.739952, -74.0094...      126.194091   \n",
       "\n",
       "   segment_direction  building_num_range_length  avg_length_per_building  \\\n",
       "0        -170.561731                         19                 6.641794   \n",
       "\n",
       "   direction_deviation road_type  offset_from_road_center  \n",
       "0                  0.0    Avenue                       10  "
      ]
     },
     "execution_count": 2,
     "metadata": {},
     "output_type": "execute_result"
    }
   ],
   "source": [
    "DF = pd.read_csv('datasets/1880_streets_full.csv')\n",
    "DF.head(1)"
   ]
  },
  {
   "cell_type": "code",
   "execution_count": 3,
   "metadata": {},
   "outputs": [
    {
     "data": {
      "text/plain": [
       "10th Avenue            164\n",
       "8th Avenue             148\n",
       "2nd Avenue             129\n",
       "5th Avenue             129\n",
       "3rd Avenue             126\n",
       "                      ... \n",
       "Wards Island             1\n",
       "Hall Place               1\n",
       "Gay Street               1\n",
       "Mac Dougal Alley         1\n",
       "Centre Market Place      1\n",
       "Name: street_name, Length: 666, dtype: int64"
      ]
     },
     "execution_count": 3,
     "metadata": {},
     "output_type": "execute_result"
    }
   ],
   "source": [
    "DF['street_name'].value_counts()"
   ]
  },
  {
   "cell_type": "code",
   "execution_count": 4,
   "metadata": {},
   "outputs": [],
   "source": [
    "master_list = list(dict(DF['street_name'].value_counts()).keys())\n",
    "#sorted(master_list)"
   ]
  },
  {
   "cell_type": "code",
   "execution_count": null,
   "metadata": {},
   "outputs": [],
   "source": []
  },
  {
   "cell_type": "markdown",
   "metadata": {},
   "source": [
    "## 1913"
   ]
  },
  {
   "cell_type": "code",
   "execution_count": 5,
   "metadata": {},
   "outputs": [
    {
     "data": {
      "text/html": [
       "<div>\n",
       "<style scoped>\n",
       "    .dataframe tbody tr th:only-of-type {\n",
       "        vertical-align: middle;\n",
       "    }\n",
       "\n",
       "    .dataframe tbody tr th {\n",
       "        vertical-align: top;\n",
       "    }\n",
       "\n",
       "    .dataframe thead th {\n",
       "        text-align: right;\n",
       "    }\n",
       "</style>\n",
       "<table border=\"1\" class=\"dataframe\">\n",
       "  <thead>\n",
       "    <tr style=\"text-align: right;\">\n",
       "      <th></th>\n",
       "      <th>Year</th>\n",
       "      <th>PG</th>\n",
       "      <th>ID</th>\n",
       "      <th>ID2</th>\n",
       "      <th>CAT_ORG</th>\n",
       "      <th>FULL</th>\n",
       "      <th>Position</th>\n",
       "      <th>Nation</th>\n",
       "      <th>Name</th>\n",
       "      <th>NATIONALITY</th>\n",
       "      <th>...</th>\n",
       "      <th>region_api</th>\n",
       "      <th>prob1_api</th>\n",
       "      <th>prob2_api</th>\n",
       "      <th>&gt;40</th>\n",
       "      <th>match_country</th>\n",
       "      <th>nation</th>\n",
       "      <th>countries match</th>\n",
       "      <th>regions match</th>\n",
       "      <th>name error (\"Y\" if the first and last columns are not valid names. i.e. \"Smith's Inc.\")</th>\n",
       "      <th>useable last name (if entered \"Y\" in the previous column, enter the last name contained in the restaurant name if applicable. i.e. for \"Smith's Restaurant\", please enter \"Smith\")</th>\n",
       "    </tr>\n",
       "  </thead>\n",
       "  <tbody>\n",
       "    <tr>\n",
       "      <th>0</th>\n",
       "      <td>1913_TrowBusMan</td>\n",
       "      <td>904</td>\n",
       "      <td>33</td>\n",
       "      <td>1913_TrowBusMan_33</td>\n",
       "      <td>Restaurants</td>\n",
       "      <td>Albanian Roumanian Co, 261 W37th</td>\n",
       "      <td>23</td>\n",
       "      <td>NaN</td>\n",
       "      <td>Albanian Roumanian Co</td>\n",
       "      <td>Albanian</td>\n",
       "      <td>...</td>\n",
       "      <td>Eastern Europe</td>\n",
       "      <td>0.494082</td>\n",
       "      <td>0.479671</td>\n",
       "      <td>1</td>\n",
       "      <td>FALSE</td>\n",
       "      <td>NaN</td>\n",
       "      <td>FALSE</td>\n",
       "      <td>FALSE</td>\n",
       "      <td>NaN</td>\n",
       "      <td>NaN</td>\n",
       "    </tr>\n",
       "    <tr>\n",
       "      <th>1</th>\n",
       "      <td>1913_TrowBusMan</td>\n",
       "      <td>908</td>\n",
       "      <td>1161</td>\n",
       "      <td>1913_TrowBusMan_1161</td>\n",
       "      <td>Restaurants</td>\n",
       "      <td>Garbade Emily D. 78 W Houston</td>\n",
       "      <td>17</td>\n",
       "      <td>NaN</td>\n",
       "      <td>Garbade Emily D</td>\n",
       "      <td>American</td>\n",
       "      <td>...</td>\n",
       "      <td>Northern Europe</td>\n",
       "      <td>0.477784</td>\n",
       "      <td>0.651728</td>\n",
       "      <td>1</td>\n",
       "      <td>FALSE</td>\n",
       "      <td>German</td>\n",
       "      <td>FALSE</td>\n",
       "      <td>FALSE</td>\n",
       "      <td>NaN</td>\n",
       "      <td>NaN</td>\n",
       "    </tr>\n",
       "    <tr>\n",
       "      <th>2</th>\n",
       "      <td>1913_TrowBusMan</td>\n",
       "      <td>908</td>\n",
       "      <td>1124</td>\n",
       "      <td>1913_TrowBusMan_1124</td>\n",
       "      <td>Restaurants</td>\n",
       "      <td>Frese Ida L, 2 W33d</td>\n",
       "      <td>13</td>\n",
       "      <td>NaN</td>\n",
       "      <td>Frese Ida L</td>\n",
       "      <td>American, German</td>\n",
       "      <td>...</td>\n",
       "      <td>Western Asia</td>\n",
       "      <td>0.510736</td>\n",
       "      <td>0.573118</td>\n",
       "      <td>1</td>\n",
       "      <td>FALSE</td>\n",
       "      <td>Italy</td>\n",
       "      <td>FALSE</td>\n",
       "      <td>German Jew</td>\n",
       "      <td>NaN</td>\n",
       "      <td>NaN</td>\n",
       "    </tr>\n",
       "    <tr>\n",
       "      <th>3</th>\n",
       "      <td>1913_TrowBusMan</td>\n",
       "      <td>905</td>\n",
       "      <td>77</td>\n",
       "      <td>1913_TrowBusMan_77</td>\n",
       "      <td>Restaurants</td>\n",
       "      <td>Aram Ada. 1902, 7th av</td>\n",
       "      <td>10</td>\n",
       "      <td>NaN</td>\n",
       "      <td>Aram Ada</td>\n",
       "      <td>Armenian</td>\n",
       "      <td>...</td>\n",
       "      <td>Western Africa</td>\n",
       "      <td>0.477573</td>\n",
       "      <td>0.442362</td>\n",
       "      <td>1</td>\n",
       "      <td>FALSE</td>\n",
       "      <td>Turkey</td>\n",
       "      <td>FALSE</td>\n",
       "      <td>FALSE</td>\n",
       "      <td>NaN</td>\n",
       "      <td>NaN</td>\n",
       "    </tr>\n",
       "    <tr>\n",
       "      <th>4</th>\n",
       "      <td>1913_TrowBusMan</td>\n",
       "      <td>906</td>\n",
       "      <td>430</td>\n",
       "      <td>1913_TrowBusMan_430</td>\n",
       "      <td>Restaurants</td>\n",
       "      <td>Cafe Safran, 265, 4th av</td>\n",
       "      <td>13</td>\n",
       "      <td>NaN</td>\n",
       "      <td>Cafe Safran</td>\n",
       "      <td>Armenian</td>\n",
       "      <td>...</td>\n",
       "      <td>Northern Europe</td>\n",
       "      <td>0.679962</td>\n",
       "      <td>0.68712</td>\n",
       "      <td>1</td>\n",
       "      <td>FALSE</td>\n",
       "      <td>NaN</td>\n",
       "      <td>FALSE</td>\n",
       "      <td>FALSE</td>\n",
       "      <td>Y</td>\n",
       "      <td>Safran</td>\n",
       "    </tr>\n",
       "  </tbody>\n",
       "</table>\n",
       "<p>5 rows × 36 columns</p>\n",
       "</div>"
      ],
      "text/plain": [
       "              Year   PG    ID                   ID2      CAT_ORG  \\\n",
       "0  1913_TrowBusMan  904    33    1913_TrowBusMan_33  Restaurants   \n",
       "1  1913_TrowBusMan  908  1161  1913_TrowBusMan_1161  Restaurants   \n",
       "2  1913_TrowBusMan  908  1124  1913_TrowBusMan_1124  Restaurants   \n",
       "3  1913_TrowBusMan  905    77    1913_TrowBusMan_77  Restaurants   \n",
       "4  1913_TrowBusMan  906   430   1913_TrowBusMan_430  Restaurants   \n",
       "\n",
       "                               FULL  Position Nation                   Name  \\\n",
       "0  Albanian Roumanian Co, 261 W37th        23    NaN  Albanian Roumanian Co   \n",
       "1     Garbade Emily D. 78 W Houston        17    NaN        Garbade Emily D   \n",
       "2               Frese Ida L, 2 W33d        13    NaN            Frese Ida L   \n",
       "3            Aram Ada. 1902, 7th av        10    NaN               Aram Ada   \n",
       "4          Cafe Safran, 265, 4th av        13    NaN            Cafe Safran   \n",
       "\n",
       "        NATIONALITY  ...       region_api prob1_api prob2_api >40  \\\n",
       "0          Albanian  ...   Eastern Europe  0.494082  0.479671   1   \n",
       "1          American  ...  Northern Europe  0.477784  0.651728   1   \n",
       "2  American, German  ...     Western Asia  0.510736  0.573118   1   \n",
       "3          Armenian  ...   Western Africa  0.477573  0.442362   1   \n",
       "4          Armenian  ...  Northern Europe  0.679962   0.68712   1   \n",
       "\n",
       "  match_country  nation countries match regions match  \\\n",
       "0         FALSE     NaN           FALSE         FALSE   \n",
       "1         FALSE  German           FALSE         FALSE   \n",
       "2         FALSE   Italy           FALSE    German Jew   \n",
       "3         FALSE  Turkey           FALSE         FALSE   \n",
       "4         FALSE     NaN           FALSE         FALSE   \n",
       "\n",
       "  name error (\"Y\" if the first and last columns are not valid names. i.e. \"Smith's Inc.\")  \\\n",
       "0                                                NaN                                        \n",
       "1                                                NaN                                        \n",
       "2                                                NaN                                        \n",
       "3                                                NaN                                        \n",
       "4                                                  Y                                        \n",
       "\n",
       "   useable last name (if entered \"Y\" in the previous column, enter the last name contained in the restaurant name if applicable. i.e. for \"Smith's Restaurant\", please enter \"Smith\")  \n",
       "0                                                NaN                                                                                                                                   \n",
       "1                                                NaN                                                                                                                                   \n",
       "2                                                NaN                                                                                                                                   \n",
       "3                                                NaN                                                                                                                                   \n",
       "4                                             Safran                                                                                                                                   \n",
       "\n",
       "[5 rows x 36 columns]"
      ]
     },
     "execution_count": 5,
     "metadata": {},
     "output_type": "execute_result"
    }
   ],
   "source": [
    "df1 = pd.read_csv('datasets/1913Final.csv')\n",
    "df1.head()"
   ]
  },
  {
   "cell_type": "code",
   "execution_count": 6,
   "metadata": {},
   "outputs": [
    {
     "data": {
      "text/plain": [
       "(5419, 36)"
      ]
     },
     "execution_count": 6,
     "metadata": {},
     "output_type": "execute_result"
    }
   ],
   "source": [
    "df1.shape"
   ]
  },
  {
   "cell_type": "code",
   "execution_count": 7,
   "metadata": {},
   "outputs": [
    {
     "data": {
      "text/plain": [
       "Index(['Year', 'PG', 'ID', 'ID2', 'CAT_ORG', 'FULL', 'Position', 'Nation',\n",
       "       'Name', 'NATIONALITY', 'NATIONALITY final', 'GENDER', 'Gender_api',\n",
       "       'Gender_same', 'gender_final', 'ST Name', 'ST Name 2', 'ST Name 3',\n",
       "       'ST Name 4', 'ST Name 5', 'ST Name 6', 'First', 'Last', 'country1_api',\n",
       "       'country2_api', 'score_api', 'region_api', 'prob1_api', 'prob2_api',\n",
       "       '>40', 'match_country', 'nation', 'countries match', 'regions match',\n",
       "       'name error (\"Y\" if the first and last columns are not valid names. i.e. \"Smith's Inc.\")',\n",
       "       'useable last name (if entered \"Y\" in the previous column, enter the last name contained in the restaurant name if applicable. i.e. for \"Smith's Restaurant\", please enter \"Smith\")'],\n",
       "      dtype='object')"
      ]
     },
     "execution_count": 7,
     "metadata": {},
     "output_type": "execute_result"
    }
   ],
   "source": [
    "df1.columns"
   ]
  },
  {
   "cell_type": "markdown",
   "metadata": {},
   "source": [
    "Get the columns I need."
   ]
  },
  {
   "cell_type": "code",
   "execution_count": 8,
   "metadata": {},
   "outputs": [
    {
     "data": {
      "text/html": [
       "<div>\n",
       "<style scoped>\n",
       "    .dataframe tbody tr th:only-of-type {\n",
       "        vertical-align: middle;\n",
       "    }\n",
       "\n",
       "    .dataframe tbody tr th {\n",
       "        vertical-align: top;\n",
       "    }\n",
       "\n",
       "    .dataframe thead th {\n",
       "        text-align: right;\n",
       "    }\n",
       "</style>\n",
       "<table border=\"1\" class=\"dataframe\">\n",
       "  <thead>\n",
       "    <tr style=\"text-align: right;\">\n",
       "      <th></th>\n",
       "      <th>FULL</th>\n",
       "      <th>Name</th>\n",
       "      <th>gender_final</th>\n",
       "      <th>countries match</th>\n",
       "      <th>regions match</th>\n",
       "    </tr>\n",
       "  </thead>\n",
       "  <tbody>\n",
       "    <tr>\n",
       "      <th>0</th>\n",
       "      <td>Albanian Roumanian Co, 261 W37th</td>\n",
       "      <td>Albanian Roumanian Co</td>\n",
       "      <td>Unknown</td>\n",
       "      <td>FALSE</td>\n",
       "      <td>FALSE</td>\n",
       "    </tr>\n",
       "    <tr>\n",
       "      <th>1</th>\n",
       "      <td>Garbade Emily D. 78 W Houston</td>\n",
       "      <td>Garbade Emily D</td>\n",
       "      <td>f</td>\n",
       "      <td>FALSE</td>\n",
       "      <td>FALSE</td>\n",
       "    </tr>\n",
       "    <tr>\n",
       "      <th>2</th>\n",
       "      <td>Frese Ida L, 2 W33d</td>\n",
       "      <td>Frese Ida L</td>\n",
       "      <td>f</td>\n",
       "      <td>FALSE</td>\n",
       "      <td>German Jew</td>\n",
       "    </tr>\n",
       "    <tr>\n",
       "      <th>3</th>\n",
       "      <td>Aram Ada. 1902, 7th av</td>\n",
       "      <td>Aram Ada</td>\n",
       "      <td>f</td>\n",
       "      <td>FALSE</td>\n",
       "      <td>FALSE</td>\n",
       "    </tr>\n",
       "    <tr>\n",
       "      <th>4</th>\n",
       "      <td>Cafe Safran, 265, 4th av</td>\n",
       "      <td>Cafe Safran</td>\n",
       "      <td>Unknown</td>\n",
       "      <td>FALSE</td>\n",
       "      <td>FALSE</td>\n",
       "    </tr>\n",
       "  </tbody>\n",
       "</table>\n",
       "</div>"
      ],
      "text/plain": [
       "                               FULL                   Name gender_final  \\\n",
       "0  Albanian Roumanian Co, 261 W37th  Albanian Roumanian Co      Unknown   \n",
       "1     Garbade Emily D. 78 W Houston        Garbade Emily D            f   \n",
       "2               Frese Ida L, 2 W33d            Frese Ida L            f   \n",
       "3            Aram Ada. 1902, 7th av               Aram Ada            f   \n",
       "4          Cafe Safran, 265, 4th av            Cafe Safran      Unknown   \n",
       "\n",
       "  countries match regions match  \n",
       "0           FALSE         FALSE  \n",
       "1           FALSE         FALSE  \n",
       "2           FALSE    German Jew  \n",
       "3           FALSE         FALSE  \n",
       "4           FALSE         FALSE  "
      ]
     },
     "execution_count": 8,
     "metadata": {},
     "output_type": "execute_result"
    }
   ],
   "source": [
    "df1 = df1[['FULL', 'Name', 'gender_final', 'countries match', 'regions match']]\n",
    "df1.head()"
   ]
  },
  {
   "cell_type": "code",
   "execution_count": null,
   "metadata": {},
   "outputs": [],
   "source": []
  },
  {
   "cell_type": "code",
   "execution_count": 9,
   "metadata": {},
   "outputs": [
    {
     "data": {
      "text/html": [
       "<div>\n",
       "<style scoped>\n",
       "    .dataframe tbody tr th:only-of-type {\n",
       "        vertical-align: middle;\n",
       "    }\n",
       "\n",
       "    .dataframe tbody tr th {\n",
       "        vertical-align: top;\n",
       "    }\n",
       "\n",
       "    .dataframe thead th {\n",
       "        text-align: right;\n",
       "    }\n",
       "</style>\n",
       "<table border=\"1\" class=\"dataframe\">\n",
       "  <thead>\n",
       "    <tr style=\"text-align: right;\">\n",
       "      <th></th>\n",
       "      <th>Year</th>\n",
       "      <th>PG</th>\n",
       "      <th>ID</th>\n",
       "      <th>ID2</th>\n",
       "      <th>CAT_ORG</th>\n",
       "      <th>FULL</th>\n",
       "      <th>Position</th>\n",
       "      <th>Nation</th>\n",
       "      <th>Name</th>\n",
       "      <th>NATIONALITY</th>\n",
       "      <th>...</th>\n",
       "      <th>Addy_Clean</th>\n",
       "      <th>Address</th>\n",
       "      <th>CORNER</th>\n",
       "      <th>ST combi</th>\n",
       "      <th>ST Name</th>\n",
       "      <th>ST Name 2</th>\n",
       "      <th>ST Name 3</th>\n",
       "      <th>ST Name 4</th>\n",
       "      <th>ST Name 5</th>\n",
       "      <th>ST Name 6</th>\n",
       "    </tr>\n",
       "  </thead>\n",
       "  <tbody>\n",
       "    <tr>\n",
       "      <th>0</th>\n",
       "      <td>1913_TrowBusMan</td>\n",
       "      <td>904</td>\n",
       "      <td>33</td>\n",
       "      <td>1913_TrowBusMan_33</td>\n",
       "      <td>Restaurants</td>\n",
       "      <td>Albanian Roumanian Co, 261 W37th</td>\n",
       "      <td>23</td>\n",
       "      <td>NaN</td>\n",
       "      <td>Albanian Roumanian Co</td>\n",
       "      <td>Albanian</td>\n",
       "      <td>...</td>\n",
       "      <td>261 W 37th</td>\n",
       "      <td>261 W37th</td>\n",
       "      <td>N</td>\n",
       "      <td>W 37th</td>\n",
       "      <td>261</td>\n",
       "      <td>W37th</td>\n",
       "      <td>NaN</td>\n",
       "      <td>NaN</td>\n",
       "      <td>NaN</td>\n",
       "      <td>NaN</td>\n",
       "    </tr>\n",
       "    <tr>\n",
       "      <th>1</th>\n",
       "      <td>1913_TrowBusMan</td>\n",
       "      <td>908</td>\n",
       "      <td>1161</td>\n",
       "      <td>1913_TrowBusMan_1161</td>\n",
       "      <td>Restaurants</td>\n",
       "      <td>Garbade Emily D. 78 W Houston</td>\n",
       "      <td>17</td>\n",
       "      <td>NaN</td>\n",
       "      <td>Garbade Emily D</td>\n",
       "      <td>American</td>\n",
       "      <td>...</td>\n",
       "      <td>78 W Houston</td>\n",
       "      <td>78 W Houston</td>\n",
       "      <td>N</td>\n",
       "      <td>W Houston</td>\n",
       "      <td>78</td>\n",
       "      <td>W</td>\n",
       "      <td>Houston</td>\n",
       "      <td>NaN</td>\n",
       "      <td>NaN</td>\n",
       "      <td>NaN</td>\n",
       "    </tr>\n",
       "    <tr>\n",
       "      <th>2</th>\n",
       "      <td>1913_TrowBusMan</td>\n",
       "      <td>908</td>\n",
       "      <td>1124</td>\n",
       "      <td>1913_TrowBusMan_1124</td>\n",
       "      <td>Restaurants</td>\n",
       "      <td>Frese Ida L, 2 W33d</td>\n",
       "      <td>13</td>\n",
       "      <td>NaN</td>\n",
       "      <td>Frese Ida L</td>\n",
       "      <td>American, German</td>\n",
       "      <td>...</td>\n",
       "      <td>2 W 33rd</td>\n",
       "      <td>2 W33d</td>\n",
       "      <td>N</td>\n",
       "      <td>W 33rd</td>\n",
       "      <td>2</td>\n",
       "      <td>W33d</td>\n",
       "      <td>NaN</td>\n",
       "      <td>NaN</td>\n",
       "      <td>NaN</td>\n",
       "      <td>NaN</td>\n",
       "    </tr>\n",
       "    <tr>\n",
       "      <th>3</th>\n",
       "      <td>1913_TrowBusMan</td>\n",
       "      <td>905</td>\n",
       "      <td>77</td>\n",
       "      <td>1913_TrowBusMan_77</td>\n",
       "      <td>Restaurants</td>\n",
       "      <td>Aram Ada. 1902, 7th av</td>\n",
       "      <td>10</td>\n",
       "      <td>NaN</td>\n",
       "      <td>Aram Ada</td>\n",
       "      <td>Armenian</td>\n",
       "      <td>...</td>\n",
       "      <td>1902 7th av</td>\n",
       "      <td>1902, 7th av</td>\n",
       "      <td>N</td>\n",
       "      <td>7th av</td>\n",
       "      <td>1902</td>\n",
       "      <td>7th</td>\n",
       "      <td>av</td>\n",
       "      <td>NaN</td>\n",
       "      <td>NaN</td>\n",
       "      <td>NaN</td>\n",
       "    </tr>\n",
       "    <tr>\n",
       "      <th>4</th>\n",
       "      <td>1913_TrowBusMan</td>\n",
       "      <td>906</td>\n",
       "      <td>430</td>\n",
       "      <td>1913_TrowBusMan_430</td>\n",
       "      <td>Restaurants</td>\n",
       "      <td>Cafe Safran, 265, 4th av</td>\n",
       "      <td>13</td>\n",
       "      <td>NaN</td>\n",
       "      <td>Cafe Safran</td>\n",
       "      <td>Armenian</td>\n",
       "      <td>...</td>\n",
       "      <td>265 4th av</td>\n",
       "      <td>265, 4th av</td>\n",
       "      <td>N</td>\n",
       "      <td>4th av</td>\n",
       "      <td>265</td>\n",
       "      <td>4th</td>\n",
       "      <td>av</td>\n",
       "      <td>NaN</td>\n",
       "      <td>NaN</td>\n",
       "      <td>NaN</td>\n",
       "    </tr>\n",
       "  </tbody>\n",
       "</table>\n",
       "<p>5 rows × 23 columns</p>\n",
       "</div>"
      ],
      "text/plain": [
       "              Year   PG    ID                   ID2      CAT_ORG  \\\n",
       "0  1913_TrowBusMan  904    33    1913_TrowBusMan_33  Restaurants   \n",
       "1  1913_TrowBusMan  908  1161  1913_TrowBusMan_1161  Restaurants   \n",
       "2  1913_TrowBusMan  908  1124  1913_TrowBusMan_1124  Restaurants   \n",
       "3  1913_TrowBusMan  905    77    1913_TrowBusMan_77  Restaurants   \n",
       "4  1913_TrowBusMan  906   430   1913_TrowBusMan_430  Restaurants   \n",
       "\n",
       "                               FULL  Position Nation                    Name  \\\n",
       "0  Albanian Roumanian Co, 261 W37th        23    NaN  Albanian Roumanian Co    \n",
       "1     Garbade Emily D. 78 W Houston        17    NaN        Garbade Emily D    \n",
       "2               Frese Ida L, 2 W33d        13    NaN            Frese Ida L    \n",
       "3            Aram Ada. 1902, 7th av        10    NaN               Aram Ada    \n",
       "4          Cafe Safran, 265, 4th av        13    NaN            Cafe Safran    \n",
       "\n",
       "        NATIONALITY  ...    Addy_Clean       Address CORNER   ST combi  \\\n",
       "0          Albanian  ...    261 W 37th     261 W37th      N     W 37th   \n",
       "1          American  ...  78 W Houston  78 W Houston      N  W Houston   \n",
       "2  American, German  ...      2 W 33rd        2 W33d      N     W 33rd   \n",
       "3          Armenian  ...   1902 7th av  1902, 7th av      N     7th av   \n",
       "4          Armenian  ...    265 4th av   265, 4th av      N     4th av   \n",
       "\n",
       "  ST Name ST Name 2 ST Name 3 ST Name 4 ST Name 5 ST Name 6  \n",
       "0     261     W37th       NaN       NaN       NaN       NaN  \n",
       "1      78         W   Houston       NaN       NaN       NaN  \n",
       "2       2      W33d       NaN       NaN       NaN       NaN  \n",
       "3    1902       7th        av       NaN       NaN       NaN  \n",
       "4     265       4th        av       NaN       NaN       NaN  \n",
       "\n",
       "[5 rows x 23 columns]"
      ]
     },
     "execution_count": 9,
     "metadata": {},
     "output_type": "execute_result"
    }
   ],
   "source": [
    "df2 = pd.read_csv('datasets/1913TrowBus.csv')\n",
    "df2.head()"
   ]
  },
  {
   "cell_type": "code",
   "execution_count": 10,
   "metadata": {},
   "outputs": [
    {
     "data": {
      "text/plain": [
       "Index(['Year', 'PG', 'ID', 'ID2', 'CAT_ORG', 'FULL', 'Position', 'Nation',\n",
       "       'Name', 'NATIONALITY', 'NATIONALITY final', 'GENDER', 'Unnamed: 12',\n",
       "       'Addy_Clean', 'Address', 'CORNER', 'ST combi', 'ST Name', 'ST Name 2',\n",
       "       'ST Name 3', 'ST Name 4', 'ST Name 5', 'ST Name 6'],\n",
       "      dtype='object')"
      ]
     },
     "execution_count": 10,
     "metadata": {},
     "output_type": "execute_result"
    }
   ],
   "source": [
    "df2.columns"
   ]
  },
  {
   "cell_type": "code",
   "execution_count": 11,
   "metadata": {},
   "outputs": [
    {
     "data": {
      "text/html": [
       "<div>\n",
       "<style scoped>\n",
       "    .dataframe tbody tr th:only-of-type {\n",
       "        vertical-align: middle;\n",
       "    }\n",
       "\n",
       "    .dataframe tbody tr th {\n",
       "        vertical-align: top;\n",
       "    }\n",
       "\n",
       "    .dataframe thead th {\n",
       "        text-align: right;\n",
       "    }\n",
       "</style>\n",
       "<table border=\"1\" class=\"dataframe\">\n",
       "  <thead>\n",
       "    <tr style=\"text-align: right;\">\n",
       "      <th></th>\n",
       "      <th>FULL</th>\n",
       "      <th>Name</th>\n",
       "      <th>Addy_Clean</th>\n",
       "      <th>ST combi</th>\n",
       "    </tr>\n",
       "  </thead>\n",
       "  <tbody>\n",
       "    <tr>\n",
       "      <th>0</th>\n",
       "      <td>Albanian Roumanian Co, 261 W37th</td>\n",
       "      <td>Albanian Roumanian Co</td>\n",
       "      <td>261 W 37th</td>\n",
       "      <td>W 37th</td>\n",
       "    </tr>\n",
       "    <tr>\n",
       "      <th>1</th>\n",
       "      <td>Garbade Emily D. 78 W Houston</td>\n",
       "      <td>Garbade Emily D</td>\n",
       "      <td>78 W Houston</td>\n",
       "      <td>W Houston</td>\n",
       "    </tr>\n",
       "    <tr>\n",
       "      <th>2</th>\n",
       "      <td>Frese Ida L, 2 W33d</td>\n",
       "      <td>Frese Ida L</td>\n",
       "      <td>2 W 33rd</td>\n",
       "      <td>W 33rd</td>\n",
       "    </tr>\n",
       "    <tr>\n",
       "      <th>3</th>\n",
       "      <td>Aram Ada. 1902, 7th av</td>\n",
       "      <td>Aram Ada</td>\n",
       "      <td>1902 7th av</td>\n",
       "      <td>7th av</td>\n",
       "    </tr>\n",
       "    <tr>\n",
       "      <th>4</th>\n",
       "      <td>Cafe Safran, 265, 4th av</td>\n",
       "      <td>Cafe Safran</td>\n",
       "      <td>265 4th av</td>\n",
       "      <td>4th av</td>\n",
       "    </tr>\n",
       "  </tbody>\n",
       "</table>\n",
       "</div>"
      ],
      "text/plain": [
       "                               FULL                    Name    Addy_Clean  \\\n",
       "0  Albanian Roumanian Co, 261 W37th  Albanian Roumanian Co     261 W 37th   \n",
       "1     Garbade Emily D. 78 W Houston        Garbade Emily D   78 W Houston   \n",
       "2               Frese Ida L, 2 W33d            Frese Ida L       2 W 33rd   \n",
       "3            Aram Ada. 1902, 7th av               Aram Ada    1902 7th av   \n",
       "4          Cafe Safran, 265, 4th av            Cafe Safran     265 4th av   \n",
       "\n",
       "    ST combi  \n",
       "0     W 37th  \n",
       "1  W Houston  \n",
       "2     W 33rd  \n",
       "3     7th av  \n",
       "4     4th av  "
      ]
     },
     "execution_count": 11,
     "metadata": {},
     "output_type": "execute_result"
    }
   ],
   "source": [
    "df2 = df2[['FULL', 'Name', 'Addy_Clean', 'ST combi']]\n",
    "df2.head()"
   ]
  },
  {
   "cell_type": "code",
   "execution_count": 12,
   "metadata": {},
   "outputs": [
    {
     "data": {
      "text/html": [
       "<div>\n",
       "<style scoped>\n",
       "    .dataframe tbody tr th:only-of-type {\n",
       "        vertical-align: middle;\n",
       "    }\n",
       "\n",
       "    .dataframe tbody tr th {\n",
       "        vertical-align: top;\n",
       "    }\n",
       "\n",
       "    .dataframe thead th {\n",
       "        text-align: right;\n",
       "    }\n",
       "</style>\n",
       "<table border=\"1\" class=\"dataframe\">\n",
       "  <thead>\n",
       "    <tr style=\"text-align: right;\">\n",
       "      <th></th>\n",
       "      <th>FULL</th>\n",
       "      <th>Name</th>\n",
       "      <th>Addy_Clean</th>\n",
       "      <th>ST combi</th>\n",
       "      <th>gender_final</th>\n",
       "      <th>countries match</th>\n",
       "      <th>regions match</th>\n",
       "    </tr>\n",
       "  </thead>\n",
       "  <tbody>\n",
       "    <tr>\n",
       "      <th>0</th>\n",
       "      <td>Ashton Frederica; 1306 Madison av</td>\n",
       "      <td>Ashton Frederica</td>\n",
       "      <td>1306 Madison av</td>\n",
       "      <td>Madison av</td>\n",
       "      <td>f</td>\n",
       "      <td>British</td>\n",
       "      <td>NaN</td>\n",
       "    </tr>\n",
       "    <tr>\n",
       "      <th>1</th>\n",
       "      <td>Bowen &amp; Turner, 502, 6th av</td>\n",
       "      <td>Bowen &amp; Turner</td>\n",
       "      <td>502 6th av</td>\n",
       "      <td>6th av</td>\n",
       "      <td>m</td>\n",
       "      <td>FALSE</td>\n",
       "      <td>British</td>\n",
       "    </tr>\n",
       "    <tr>\n",
       "      <th>2</th>\n",
       "      <td>Burke &amp; Thomas, 451 Lenox av</td>\n",
       "      <td>Burke &amp; Thomas</td>\n",
       "      <td>451 Lenox av</td>\n",
       "      <td>Lenox av</td>\n",
       "      <td>m</td>\n",
       "      <td>Irish</td>\n",
       "      <td>NaN</td>\n",
       "    </tr>\n",
       "    <tr>\n",
       "      <th>3</th>\n",
       "      <td>Pedersen O. Anker, 645 W42d</td>\n",
       "      <td>Pedersen O Anker</td>\n",
       "      <td>645 W 42nd</td>\n",
       "      <td>W 42nd</td>\n",
       "      <td>m</td>\n",
       "      <td>Norwegian</td>\n",
       "      <td>FALSE</td>\n",
       "    </tr>\n",
       "    <tr>\n",
       "      <th>4</th>\n",
       "      <td>Boat House Restaurant. E182d Boston rd</td>\n",
       "      <td>Boat House Restaurant E</td>\n",
       "      <td>182d Boston rd</td>\n",
       "      <td>Boston rd</td>\n",
       "      <td>Unknown</td>\n",
       "      <td>FALSE</td>\n",
       "      <td>FALSE</td>\n",
       "    </tr>\n",
       "  </tbody>\n",
       "</table>\n",
       "</div>"
      ],
      "text/plain": [
       "                                     FULL                     Name  \\\n",
       "0       Ashton Frederica; 1306 Madison av         Ashton Frederica   \n",
       "1             Bowen & Turner, 502, 6th av           Bowen & Turner   \n",
       "2            Burke & Thomas, 451 Lenox av           Burke & Thomas   \n",
       "3             Pedersen O. Anker, 645 W42d         Pedersen O Anker   \n",
       "4  Boat House Restaurant. E182d Boston rd  Boat House Restaurant E   \n",
       "\n",
       "        Addy_Clean    ST combi gender_final countries match regions match  \n",
       "0  1306 Madison av  Madison av            f         British           NaN  \n",
       "1       502 6th av      6th av            m           FALSE       British  \n",
       "2     451 Lenox av    Lenox av            m           Irish           NaN  \n",
       "3       645 W 42nd      W 42nd            m       Norwegian         FALSE  \n",
       "4   182d Boston rd   Boston rd      Unknown           FALSE         FALSE  "
      ]
     },
     "execution_count": 12,
     "metadata": {},
     "output_type": "execute_result"
    }
   ],
   "source": [
    "df = df2.merge(df1, on=['FULL', 'Name'])\n",
    "df.head()"
   ]
  },
  {
   "cell_type": "code",
   "execution_count": null,
   "metadata": {},
   "outputs": [],
   "source": []
  },
  {
   "cell_type": "code",
   "execution_count": 13,
   "metadata": {},
   "outputs": [
    {
     "data": {
      "text/html": [
       "<div>\n",
       "<style scoped>\n",
       "    .dataframe tbody tr th:only-of-type {\n",
       "        vertical-align: middle;\n",
       "    }\n",
       "\n",
       "    .dataframe tbody tr th {\n",
       "        vertical-align: top;\n",
       "    }\n",
       "\n",
       "    .dataframe thead th {\n",
       "        text-align: right;\n",
       "    }\n",
       "</style>\n",
       "<table border=\"1\" class=\"dataframe\">\n",
       "  <thead>\n",
       "    <tr style=\"text-align: right;\">\n",
       "      <th></th>\n",
       "      <th>full</th>\n",
       "      <th>name</th>\n",
       "      <th>address</th>\n",
       "      <th>street</th>\n",
       "      <th>gender</th>\n",
       "      <th>country</th>\n",
       "      <th>region</th>\n",
       "    </tr>\n",
       "  </thead>\n",
       "  <tbody>\n",
       "    <tr>\n",
       "      <th>0</th>\n",
       "      <td>Ashton Frederica; 1306 Madison av</td>\n",
       "      <td>Ashton Frederica</td>\n",
       "      <td>1306 Madison av</td>\n",
       "      <td>Madison av</td>\n",
       "      <td>f</td>\n",
       "      <td>British</td>\n",
       "      <td>NaN</td>\n",
       "    </tr>\n",
       "  </tbody>\n",
       "</table>\n",
       "</div>"
      ],
      "text/plain": [
       "                                full              name          address  \\\n",
       "0  Ashton Frederica; 1306 Madison av  Ashton Frederica  1306 Madison av   \n",
       "\n",
       "       street gender  country region  \n",
       "0  Madison av      f  British    NaN  "
      ]
     },
     "execution_count": 13,
     "metadata": {},
     "output_type": "execute_result"
    }
   ],
   "source": [
    "df.columns = ['full', 'name', 'address', 'street', 'gender', 'country', 'region']\n",
    "df.head(1)"
   ]
  },
  {
   "cell_type": "code",
   "execution_count": null,
   "metadata": {},
   "outputs": [],
   "source": []
  },
  {
   "cell_type": "code",
   "execution_count": 14,
   "metadata": {},
   "outputs": [
    {
     "data": {
      "text/html": [
       "<div>\n",
       "<style scoped>\n",
       "    .dataframe tbody tr th:only-of-type {\n",
       "        vertical-align: middle;\n",
       "    }\n",
       "\n",
       "    .dataframe tbody tr th {\n",
       "        vertical-align: top;\n",
       "    }\n",
       "\n",
       "    .dataframe thead th {\n",
       "        text-align: right;\n",
       "    }\n",
       "</style>\n",
       "<table border=\"1\" class=\"dataframe\">\n",
       "  <thead>\n",
       "    <tr style=\"text-align: right;\">\n",
       "      <th></th>\n",
       "      <th>full</th>\n",
       "      <th>name</th>\n",
       "      <th>address</th>\n",
       "      <th>street</th>\n",
       "      <th>gender</th>\n",
       "      <th>country</th>\n",
       "      <th>region</th>\n",
       "      <th>num</th>\n",
       "    </tr>\n",
       "  </thead>\n",
       "  <tbody>\n",
       "    <tr>\n",
       "      <th>0</th>\n",
       "      <td>Ashton Frederica; 1306 Madison av</td>\n",
       "      <td>Ashton Frederica</td>\n",
       "      <td>1306 Madison av</td>\n",
       "      <td>Madison av</td>\n",
       "      <td>f</td>\n",
       "      <td>British</td>\n",
       "      <td>NaN</td>\n",
       "      <td>1306</td>\n",
       "    </tr>\n",
       "  </tbody>\n",
       "</table>\n",
       "</div>"
      ],
      "text/plain": [
       "                                full              name          address  \\\n",
       "0  Ashton Frederica; 1306 Madison av  Ashton Frederica  1306 Madison av   \n",
       "\n",
       "       street gender  country region   num  \n",
       "0  Madison av      f  British    NaN  1306  "
      ]
     },
     "execution_count": 14,
     "metadata": {},
     "output_type": "execute_result"
    }
   ],
   "source": [
    "df['num'] = df['address'].str.split().str[0]\n",
    "df.head(1)"
   ]
  },
  {
   "cell_type": "code",
   "execution_count": null,
   "metadata": {},
   "outputs": [],
   "source": []
  },
  {
   "cell_type": "markdown",
   "metadata": {},
   "source": [
    "### Street"
   ]
  },
  {
   "cell_type": "markdown",
   "metadata": {},
   "source": [
    "### systematic cleaning"
   ]
  },
  {
   "cell_type": "markdown",
   "metadata": {},
   "source": [
    "#### strip unnecessary white spaces"
   ]
  },
  {
   "cell_type": "code",
   "execution_count": 15,
   "metadata": {},
   "outputs": [
    {
     "data": {
      "text/html": [
       "<div>\n",
       "<style scoped>\n",
       "    .dataframe tbody tr th:only-of-type {\n",
       "        vertical-align: middle;\n",
       "    }\n",
       "\n",
       "    .dataframe tbody tr th {\n",
       "        vertical-align: top;\n",
       "    }\n",
       "\n",
       "    .dataframe thead th {\n",
       "        text-align: right;\n",
       "    }\n",
       "</style>\n",
       "<table border=\"1\" class=\"dataframe\">\n",
       "  <thead>\n",
       "    <tr style=\"text-align: right;\">\n",
       "      <th></th>\n",
       "      <th>full</th>\n",
       "      <th>name</th>\n",
       "      <th>address</th>\n",
       "      <th>street</th>\n",
       "      <th>gender</th>\n",
       "      <th>country</th>\n",
       "      <th>region</th>\n",
       "      <th>num</th>\n",
       "      <th>street_clean</th>\n",
       "    </tr>\n",
       "  </thead>\n",
       "  <tbody>\n",
       "    <tr>\n",
       "      <th>0</th>\n",
       "      <td>Ashton Frederica; 1306 Madison av</td>\n",
       "      <td>Ashton Frederica</td>\n",
       "      <td>1306 Madison av</td>\n",
       "      <td>Madison av</td>\n",
       "      <td>f</td>\n",
       "      <td>British</td>\n",
       "      <td>NaN</td>\n",
       "      <td>1306</td>\n",
       "      <td>Madison av</td>\n",
       "    </tr>\n",
       "  </tbody>\n",
       "</table>\n",
       "</div>"
      ],
      "text/plain": [
       "                                full              name          address  \\\n",
       "0  Ashton Frederica; 1306 Madison av  Ashton Frederica  1306 Madison av   \n",
       "\n",
       "       street gender  country region   num street_clean  \n",
       "0  Madison av      f  British    NaN  1306   Madison av  "
      ]
     },
     "execution_count": 15,
     "metadata": {},
     "output_type": "execute_result"
    }
   ],
   "source": [
    "df['street_clean'] = df['street'].str.strip()\n",
    "df.head(1)"
   ]
  },
  {
   "cell_type": "markdown",
   "metadata": {},
   "source": [
    "Inspect `street_clean` data."
   ]
  },
  {
   "cell_type": "code",
   "execution_count": 16,
   "metadata": {},
   "outputs": [],
   "source": [
    "st = dict(df['street_clean'].value_counts())\n",
    "#sorted(st.items())"
   ]
  },
  {
   "cell_type": "code",
   "execution_count": null,
   "metadata": {},
   "outputs": [],
   "source": []
  },
  {
   "cell_type": "markdown",
   "metadata": {},
   "source": [
    "#### add \"street\" after \"E xxth\" or \"W xxth\""
   ]
  },
  {
   "cell_type": "code",
   "execution_count": 17,
   "metadata": {},
   "outputs": [
    {
     "data": {
      "text/html": [
       "<div>\n",
       "<style scoped>\n",
       "    .dataframe tbody tr th:only-of-type {\n",
       "        vertical-align: middle;\n",
       "    }\n",
       "\n",
       "    .dataframe tbody tr th {\n",
       "        vertical-align: top;\n",
       "    }\n",
       "\n",
       "    .dataframe thead th {\n",
       "        text-align: right;\n",
       "    }\n",
       "</style>\n",
       "<table border=\"1\" class=\"dataframe\">\n",
       "  <thead>\n",
       "    <tr style=\"text-align: right;\">\n",
       "      <th></th>\n",
       "      <th>full</th>\n",
       "      <th>name</th>\n",
       "      <th>address</th>\n",
       "      <th>street</th>\n",
       "      <th>gender</th>\n",
       "      <th>country</th>\n",
       "      <th>region</th>\n",
       "      <th>num</th>\n",
       "      <th>street_clean</th>\n",
       "    </tr>\n",
       "  </thead>\n",
       "  <tbody>\n",
       "    <tr>\n",
       "      <th>0</th>\n",
       "      <td>Ashton Frederica; 1306 Madison av</td>\n",
       "      <td>Ashton Frederica</td>\n",
       "      <td>1306 Madison av</td>\n",
       "      <td>Madison av</td>\n",
       "      <td>f</td>\n",
       "      <td>British</td>\n",
       "      <td>NaN</td>\n",
       "      <td>1306</td>\n",
       "      <td>Madison av</td>\n",
       "    </tr>\n",
       "  </tbody>\n",
       "</table>\n",
       "</div>"
      ],
      "text/plain": [
       "                                full              name          address  \\\n",
       "0  Ashton Frederica; 1306 Madison av  Ashton Frederica  1306 Madison av   \n",
       "\n",
       "       street gender  country region   num street_clean  \n",
       "0  Madison av      f  British    NaN  1306   Madison av  "
      ]
     },
     "execution_count": 17,
     "metadata": {},
     "output_type": "execute_result"
    }
   ],
   "source": [
    "df['street_clean'] = df['street_clean'].apply(\n",
    "    lambda x: x+' Street' if x.startswith('E ') | x.startswith('W ') else x)\n",
    "df.head(1)"
   ]
  },
  {
   "cell_type": "code",
   "execution_count": 18,
   "metadata": {},
   "outputs": [],
   "source": [
    "st = dict(df['street_clean'].value_counts())\n",
    "#sorted(st.items())"
   ]
  },
  {
   "cell_type": "code",
   "execution_count": null,
   "metadata": {},
   "outputs": [],
   "source": []
  },
  {
   "cell_type": "markdown",
   "metadata": {},
   "source": [
    "#### replace abbreviation with full names."
   ]
  },
  {
   "cell_type": "code",
   "execution_count": 19,
   "metadata": {},
   "outputs": [],
   "source": [
    "df['street_clean'] = df['street_clean'].apply(\n",
    "    lambda x: x.replace(' st', ' Street') if x.endswith(' st') else x)"
   ]
  },
  {
   "cell_type": "code",
   "execution_count": 20,
   "metadata": {},
   "outputs": [],
   "source": [
    "df['street_clean'] = df['street_clean'].apply(\n",
    "    lambda x: x.replace(' St', ' Street') if x.endswith(' St') else x)"
   ]
  },
  {
   "cell_type": "code",
   "execution_count": 21,
   "metadata": {},
   "outputs": [],
   "source": [
    "df['street_clean'] = df['street_clean'].apply(\n",
    "    lambda x: x.replace(' av', ' Avenue') if x.endswith(' av') else x)"
   ]
  },
  {
   "cell_type": "code",
   "execution_count": 22,
   "metadata": {},
   "outputs": [],
   "source": [
    "df['street_clean'] = df['street_clean'].apply(\n",
    "    lambda x: x.replace(' pl', ' Place') if x.endswith(' pl') else x)"
   ]
  },
  {
   "cell_type": "code",
   "execution_count": 23,
   "metadata": {},
   "outputs": [],
   "source": [
    "df['street_clean'] = df['street_clean'].apply(\n",
    "    lambda x: x.replace(' mkt', ' Market') if x.endswith(' mkt') else x)"
   ]
  },
  {
   "cell_type": "code",
   "execution_count": 24,
   "metadata": {},
   "outputs": [],
   "source": [
    "df['street_clean'] = df['street_clean'].apply(\n",
    "    lambda x: x.replace(' ln', ' Lane') if x.endswith(' ln') else x)"
   ]
  },
  {
   "cell_type": "code",
   "execution_count": 25,
   "metadata": {},
   "outputs": [],
   "source": [
    "df['street_clean'] = df['street_clean'].apply(\n",
    "    lambda x: x.replace(' sq', ' Square') if x.endswith(' sq') else x)"
   ]
  },
  {
   "cell_type": "code",
   "execution_count": 26,
   "metadata": {},
   "outputs": [],
   "source": [
    "df['street_clean'] = df['street_clean'].apply(\n",
    "    lambda x: x.replace(' slip', ' Slip') if x.endswith(' slip') else x)"
   ]
  },
  {
   "cell_type": "code",
   "execution_count": 27,
   "metadata": {},
   "outputs": [],
   "source": [
    "df['street_clean'] = df['street_clean'].apply(\n",
    "    lambda x: x.replace(' sl', ' Slip') if x.endswith(' sl') else x)"
   ]
  },
  {
   "cell_type": "code",
   "execution_count": 28,
   "metadata": {},
   "outputs": [],
   "source": [
    "df['street_clean'] = df['street_clean'].apply(\n",
    "    lambda x: x.replace(' pkway', ' Parkway') if x.endswith(' pkway') else x)"
   ]
  },
  {
   "cell_type": "code",
   "execution_count": 29,
   "metadata": {},
   "outputs": [],
   "source": [
    "df['street_clean'] = df['street_clean'].apply(\n",
    "    lambda x: x.replace(' rd', ' Road') if x.endswith(' rd') else x)"
   ]
  },
  {
   "cell_type": "code",
   "execution_count": 30,
   "metadata": {},
   "outputs": [],
   "source": [
    "df['street_clean'] = df['street_clean'].apply(\n",
    "    lambda x: x.replace(' pk', ' Park') if x.endswith(' pk') else x)"
   ]
  },
  {
   "cell_type": "code",
   "execution_count": 31,
   "metadata": {},
   "outputs": [],
   "source": [
    "st = dict(df['street_clean'].value_counts())\n",
    "#sorted(st.items())"
   ]
  },
  {
   "cell_type": "code",
   "execution_count": null,
   "metadata": {},
   "outputs": [],
   "source": []
  },
  {
   "cell_type": "markdown",
   "metadata": {},
   "source": [
    "#### add \"street\" to all the ones with only one word"
   ]
  },
  {
   "cell_type": "code",
   "execution_count": 32,
   "metadata": {},
   "outputs": [],
   "source": [
    "df['street_clean'] = df['street_clean'].apply(\n",
    "    lambda x: x+' Street' if len(x.split())==1 else x)"
   ]
  },
  {
   "cell_type": "code",
   "execution_count": 33,
   "metadata": {},
   "outputs": [],
   "source": [
    "st = dict(df['street_clean'].value_counts())\n",
    "#sorted(st.items())"
   ]
  },
  {
   "cell_type": "code",
   "execution_count": null,
   "metadata": {},
   "outputs": [],
   "source": []
  },
  {
   "cell_type": "markdown",
   "metadata": {},
   "source": [
    "### cross check results"
   ]
  },
  {
   "cell_type": "code",
   "execution_count": 34,
   "metadata": {},
   "outputs": [
    {
     "data": {
      "text/plain": [
       "['3rd Avenue', 'Ave C', 'Delancey Street', 'W 42nd Street', 'Boston Road']"
      ]
     },
     "execution_count": 34,
     "metadata": {},
     "output_type": "execute_result"
    }
   ],
   "source": [
    "streets_list = list(dict(df['street_clean'].value_counts()).keys())\n",
    "streets_list[:5]"
   ]
  },
  {
   "cell_type": "code",
   "execution_count": 35,
   "metadata": {},
   "outputs": [
    {
     "name": "stdout",
     "output_type": "stream",
     "text": [
      "Ave C\n",
      "Boston Road\n",
      "Lenox Avenue\n"
     ]
    }
   ],
   "source": [
    "for street in streets_list:\n",
    "    if street not in master_list:\n",
    "        print(street)"
   ]
  },
  {
   "cell_type": "code",
   "execution_count": null,
   "metadata": {},
   "outputs": [],
   "source": []
  },
  {
   "cell_type": "markdown",
   "metadata": {},
   "source": [
    "### manual cleaning"
   ]
  },
  {
   "cell_type": "code",
   "execution_count": 36,
   "metadata": {},
   "outputs": [],
   "source": [
    "STREET = {\n",
    "    # unmatched\n",
    "    # 123rd Street\n",
    "    # W 8th Street\n",
    "    # W 22th Street\n",
    "    # W 18st Street\n",
    "    # E 100th Street\n",
    "    # E 101st Street\n",
    "    # E 102nd Street\n",
    "    # E 137th Street\n",
    "    # E 138th Street\n",
    "    # E 143rd Street\n",
    "    # E 148th Street\n",
    "    # E 149th Street\n",
    "    # E 150th Street\n",
    "    # E 151st Street\n",
    "    # E 155th Street\n",
    "    # E 158th Street\n",
    "    # E 160th Street\n",
    "    # E 161st Street\n",
    "    # E 163rd Street\n",
    "    # E 165th Street\n",
    "    # E 169th Street\n",
    "    # E 174th Street\n",
    "    # E 180th Street\n",
    "    # E 183rd Street\n",
    "    # E 187th Street\n",
    "    \n",
    "    # street added wrongly\n",
    "    '1st Street': '1st Avenue',\n",
    "    '2nd Street': '2nd Avenue',\n",
    "    '3 Avenue': '3rd Avenue',\n",
    "    'c 3rd Avenue': '3rd Avenue',\n",
    "    '3rd Street': '3rd Avenue',\n",
    "    '5th Street': '5th Avenue',\n",
    "    '6th Street': '6th Avenue',\n",
    "    '7th Street': '7th Avenue',\n",
    "    '8th Street': '8th Avenue',\n",
    "    '8d Avenue': '8th Avenue',\n",
    "    '9th Street': '9th Avenue',\n",
    "    'Broadway Street': 'Broadway',\n",
    "    \n",
    "    # direction order\n",
    "    'W Broadway Street': 'Broadway W',\n",
    "    'E Broadway Street': 'Broadway E',\n",
    "    'W Houston Street': 'Houston Street W',\n",
    "    'E Houston Street': 'Houston Street E',\n",
    "    'N Moore': 'Moore Street N',\n",
    "    'S William': 'William Street S',\n",
    "    'N William': 'William Street N',\n",
    "    'Union sq E': 'Union Square E',\n",
    "    'Little W 12th': 'W 12th Street',\n",
    "    'E 145th Street': 'E 145th Street',\n",
    "    \n",
    "    # title case\n",
    "    'Park row': 'Park Row',\n",
    "    'James slip': 'James Slip',\n",
    "    'Old slip': 'Old Slip',\n",
    "    'Catherine slip': 'Catherine Slip',\n",
    "    'Peck slip'\n",
    "    \n",
    "    # order\n",
    "    'Av A': 'A Avenue',\n",
    "    'Ave A': 'A Avenue',\n",
    "    'Av B': 'B Avenue',\n",
    "    'Ave B': 'B Avenue',\n",
    "    'Av C': 'C Avenue',\n",
    "    'Ave C': 'C Avenue',\n",
    "    'av c W': 'C Avenue',\n",
    "    'Av D': 'D Avenue',\n",
    "    'Ave D': 'D Avenue',\n",
    "    'av n E': 'East Avenue',\n",
    "    'av n W': 'West Avenue',\n",
    "    'W End av Street': 'West Avenue',\n",
    "    'W End Av Street': 'West Avenue',\n",
    "    \n",
    "    # same name\n",
    "    'Centre Market': 'Centre Market Place',\n",
    "    'Clinton Market': 'Clinton Place',\n",
    "    'Chatham Square': 'Chatham Street',\n",
    "    'Catherine Market': 'Catherine Street',\n",
    "    'Fulton Market': 'Fulton Street',\n",
    "    'Grand st Circle': 'Grand Street',\n",
    "    'Jefferson Market': 'Jefferson Street',\n",
    "    'Stone William': 'Stone Street',\n",
    "    'Tompkins Market': 'Tompkins Street',\n",
    "    'Washington Market': 'Washington Place',\n",
    "    'Hanover Square': 'Hanover Street',\n",
    "    'New Chambers': 'New Chambers Street',\n",
    "    'Thompson Avenue': 'Thompson Street',\n",
    "    'Union Avenue': 'Union Square',\n",
    "    'Lexington Street': 'Lexington Avenue',\n",
    "    'Morris pk Avenue': 'Morris Street',\n",
    "    \n",
    "    # different spelling\n",
    "    'Macdougal Street': 'Mac Dougal Street',\n",
    "    'St Mark’s Place': 'Saint Marks Place',\n",
    "    'St Mark\\'s Place': 'Saint Marks Place',\n",
    "    'VandeWater Street': 'Vandewater Street',\n",
    "    'Riverside drive': 'Riverside Driveway',\n",
    "    'Newell Avenue': 'New Avenue',\n",
    "    'Washington sq E': 'Washington Square E',\n",
    "    'Washington sq W': 'Washington Square W',\n",
    "    'Washington sq S': 'Washington Square S',\n",
    "    'Waverley Place': 'Waverly Place',\n",
    "    'Hamilton Place': 'Hamilton Street',\n",
    "    'Morris Avenue': 'Morris Street',\n",
    "    'Courtlandt Avenue': 'Courtlandt Street',\n",
    "    'Lafayette Street': 'Lafayette Place',\n",
    "    'Boston Road': 'Bolton Road',\n",
    "    'Washington Avenue': 'Washington Street',\n",
    "    'Burling Street': 'Burling Slip'\n",
    "    \n",
    "    \n",
    "    # unmatched avenues\n",
    "    # Alex Avenue\n",
    "    # Amsterdam Avenue\n",
    "    # Lincoln Avenue\n",
    "    # Tremont Avenue\n",
    "    # Brook Avenue\n",
    "    # Willis Avenue\n",
    "    # Columbus Avenue\n",
    "    # Bergen Avenue\n",
    "    # Hughes Avenue\n",
    "    # Claremont Avenue\n",
    "    # Clay Avenue\n",
    "    # Bathgate Avenue\n",
    "    # Forest Avenue\n",
    "    # Pleasant Avenue\n",
    "    # Cypress Avenue\n",
    "    # Edgecombe Avenue\n",
    "    # Ogden Avenue\n",
    "    # Longwood Avenue\n",
    "    # Belmont Avenue\n",
    "    # Villa Avenue\n",
    "    # Arthur Avenue\n",
    "    # Wilkins Avenue\n",
    "    # Tremont Avenue\n",
    "    # Jerome Avenue\n",
    "    # Lenox Avenue\n",
    "    # Westchester Avenue\n",
    "    # Prospect Avenue\n",
    "    # St Nicholas Avenue\n",
    "    # Webster Avenue\n",
    "    # Wendover Avenue\n",
    "    # City Id Avenue\n",
    "    # Melrose Avenue\n",
    "    # Manhattan Avenue\n",
    "    # St Ann's Avenue\n",
    "    # Jerome Avenue\n",
    "    \n",
    "    # unmatched\n",
    "    # Trinity Place\n",
    "    # Bible h\n",
    "    # Home Street\n",
    "    # Columbus Circle\n",
    "    # Central pk W\n",
    "    # E End av Street\n",
    "    # Little W12th\n",
    "    # Gt Jones\n",
    "    # Westchester Square\n",
    "    # Freeman Street\n",
    "    # Central pk S\n",
    "    # Harlem Market\n",
    "    # Trinity Place\n",
    "    # Ditmars City Id\n",
    "    # Central Station\n",
    "    # Morningside drive\n",
    "    # Fox Street\n",
    "    # Macomb's Road\n",
    "    # Cathedral Parkway\n",
    "    # Cooper sq E\n",
    "    # S Boulevard\n",
    "    # E Tremont av Street\n",
    "    # Marginal Street\n",
    "    # Kenmare Street\n",
    "    # E Fordham rd Street\n",
    "    # White Plains Road\n",
    "}"
   ]
  },
  {
   "cell_type": "code",
   "execution_count": 37,
   "metadata": {},
   "outputs": [
    {
     "data": {
      "text/html": [
       "<div>\n",
       "<style scoped>\n",
       "    .dataframe tbody tr th:only-of-type {\n",
       "        vertical-align: middle;\n",
       "    }\n",
       "\n",
       "    .dataframe tbody tr th {\n",
       "        vertical-align: top;\n",
       "    }\n",
       "\n",
       "    .dataframe thead th {\n",
       "        text-align: right;\n",
       "    }\n",
       "</style>\n",
       "<table border=\"1\" class=\"dataframe\">\n",
       "  <thead>\n",
       "    <tr style=\"text-align: right;\">\n",
       "      <th></th>\n",
       "      <th>full</th>\n",
       "      <th>name</th>\n",
       "      <th>address</th>\n",
       "      <th>street</th>\n",
       "      <th>gender</th>\n",
       "      <th>country</th>\n",
       "      <th>region</th>\n",
       "      <th>num</th>\n",
       "      <th>street_clean</th>\n",
       "    </tr>\n",
       "  </thead>\n",
       "  <tbody>\n",
       "    <tr>\n",
       "      <th>0</th>\n",
       "      <td>Ashton Frederica; 1306 Madison av</td>\n",
       "      <td>Ashton Frederica</td>\n",
       "      <td>1306 Madison av</td>\n",
       "      <td>Madison av</td>\n",
       "      <td>f</td>\n",
       "      <td>British</td>\n",
       "      <td>NaN</td>\n",
       "      <td>1306</td>\n",
       "      <td>Madison Avenue</td>\n",
       "    </tr>\n",
       "  </tbody>\n",
       "</table>\n",
       "</div>"
      ],
      "text/plain": [
       "                                full              name          address  \\\n",
       "0  Ashton Frederica; 1306 Madison av  Ashton Frederica  1306 Madison av   \n",
       "\n",
       "       street gender  country region   num    street_clean  \n",
       "0  Madison av      f  British    NaN  1306  Madison Avenue  "
      ]
     },
     "execution_count": 37,
     "metadata": {},
     "output_type": "execute_result"
    }
   ],
   "source": [
    "df = df.replace({'street_clean': STREET})\n",
    "df.head(1)"
   ]
  },
  {
   "cell_type": "code",
   "execution_count": 38,
   "metadata": {},
   "outputs": [
    {
     "data": {
      "text/plain": [
       "['3rd Avenue', 'C Avenue', 'Delancey Street', 'W 42nd Street', '6th Avenue']"
      ]
     },
     "execution_count": 38,
     "metadata": {},
     "output_type": "execute_result"
    }
   ],
   "source": [
    "streets_list = list(dict(df['street_clean'].value_counts()).keys())\n",
    "streets_list[:5]"
   ]
  },
  {
   "cell_type": "code",
   "execution_count": null,
   "metadata": {},
   "outputs": [],
   "source": []
  },
  {
   "cell_type": "markdown",
   "metadata": {},
   "source": [
    "### cross check results"
   ]
  },
  {
   "cell_type": "code",
   "execution_count": 39,
   "metadata": {},
   "outputs": [
    {
     "name": "stdout",
     "output_type": "stream",
     "text": [
      "Lenox Avenue\n"
     ]
    }
   ],
   "source": [
    "for street in streets_list:\n",
    "    if street not in master_list:\n",
    "        print(street)"
   ]
  },
  {
   "cell_type": "code",
   "execution_count": null,
   "metadata": {},
   "outputs": [],
   "source": []
  },
  {
   "cell_type": "markdown",
   "metadata": {},
   "source": [
    "### House Number"
   ]
  },
  {
   "cell_type": "code",
   "execution_count": 40,
   "metadata": {},
   "outputs": [
    {
     "data": {
      "text/html": [
       "<div>\n",
       "<style scoped>\n",
       "    .dataframe tbody tr th:only-of-type {\n",
       "        vertical-align: middle;\n",
       "    }\n",
       "\n",
       "    .dataframe tbody tr th {\n",
       "        vertical-align: top;\n",
       "    }\n",
       "\n",
       "    .dataframe thead th {\n",
       "        text-align: right;\n",
       "    }\n",
       "</style>\n",
       "<table border=\"1\" class=\"dataframe\">\n",
       "  <thead>\n",
       "    <tr style=\"text-align: right;\">\n",
       "      <th></th>\n",
       "      <th>full</th>\n",
       "      <th>name</th>\n",
       "      <th>address</th>\n",
       "      <th>street</th>\n",
       "      <th>gender</th>\n",
       "      <th>country</th>\n",
       "      <th>region</th>\n",
       "      <th>num</th>\n",
       "      <th>street_clean</th>\n",
       "      <th>num_clean</th>\n",
       "    </tr>\n",
       "  </thead>\n",
       "  <tbody>\n",
       "    <tr>\n",
       "      <th>0</th>\n",
       "      <td>Ashton Frederica; 1306 Madison av</td>\n",
       "      <td>Ashton Frederica</td>\n",
       "      <td>1306 Madison av</td>\n",
       "      <td>Madison av</td>\n",
       "      <td>f</td>\n",
       "      <td>British</td>\n",
       "      <td>NaN</td>\n",
       "      <td>1306</td>\n",
       "      <td>Madison Avenue</td>\n",
       "      <td>1306</td>\n",
       "    </tr>\n",
       "  </tbody>\n",
       "</table>\n",
       "</div>"
      ],
      "text/plain": [
       "                                full              name          address  \\\n",
       "0  Ashton Frederica; 1306 Madison av  Ashton Frederica  1306 Madison av   \n",
       "\n",
       "       street gender  country region   num    street_clean num_clean  \n",
       "0  Madison av      f  British    NaN  1306  Madison Avenue      1306  "
      ]
     },
     "execution_count": 40,
     "metadata": {},
     "output_type": "execute_result"
    }
   ],
   "source": [
    "df['num_clean'] = df['num']\n",
    "df.head(1)"
   ]
  },
  {
   "cell_type": "code",
   "execution_count": 41,
   "metadata": {},
   "outputs": [],
   "source": [
    "no = dict(df['num_clean'].value_counts())\n",
    "#sorted(no.items())"
   ]
  },
  {
   "cell_type": "code",
   "execution_count": null,
   "metadata": {},
   "outputs": [],
   "source": []
  },
  {
   "cell_type": "code",
   "execution_count": 42,
   "metadata": {},
   "outputs": [],
   "source": [
    "df['num_clean'] = df['num_clean'].apply(\n",
    "    lambda x: x.replace('Grand', '0') if str(x).endswith('Grand') else x)"
   ]
  },
  {
   "cell_type": "code",
   "execution_count": 43,
   "metadata": {},
   "outputs": [],
   "source": [
    "df['num_clean'] = df['num_clean'].apply(\n",
    "    lambda x: x.replace('d', '') if str(x).endswith('d') else x)"
   ]
  },
  {
   "cell_type": "code",
   "execution_count": null,
   "metadata": {},
   "outputs": [],
   "source": []
  },
  {
   "cell_type": "code",
   "execution_count": 44,
   "metadata": {},
   "outputs": [],
   "source": [
    "df['num_clean'] = df['num_clean'].dropna().astype(str).astype(float).astype(int)"
   ]
  },
  {
   "cell_type": "code",
   "execution_count": null,
   "metadata": {},
   "outputs": [],
   "source": []
  },
  {
   "cell_type": "code",
   "execution_count": 45,
   "metadata": {},
   "outputs": [],
   "source": [
    "df.to_csv('cleaned/1913_address_CLEANED.csv')"
   ]
  }
 ],
 "metadata": {
  "kernelspec": {
   "display_name": "Python 3.8.1 64-bit",
   "language": "python",
   "name": "python38164bit0209044da7c742dab8314e0953beb93b"
  },
  "language_info": {
   "codemirror_mode": {
    "name": "ipython",
    "version": 3
   },
   "file_extension": ".py",
   "mimetype": "text/x-python",
   "name": "python",
   "nbconvert_exporter": "python",
   "pygments_lexer": "ipython3",
   "version": "3.8.1"
  }
 },
 "nbformat": 4,
 "nbformat_minor": 4
}
