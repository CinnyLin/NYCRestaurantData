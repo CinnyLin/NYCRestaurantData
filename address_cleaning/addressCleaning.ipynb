{
 "cells": [
  {
   "cell_type": "markdown",
   "metadata": {},
   "source": [
    "# 1898 Restaurant Data\n",
    "Goal: Create a set of uniform code for cleaning up the street names and street numbers. \n"
   ]
  },
  {
   "cell_type": "code",
   "execution_count": 1,
   "metadata": {},
   "outputs": [],
   "source": [
    "import pandas as pd\n",
    "import re"
   ]
  },
  {
   "cell_type": "markdown",
   "metadata": {},
   "source": [
    "## Master"
   ]
  },
  {
   "cell_type": "code",
   "execution_count": 2,
   "metadata": {},
   "outputs": [
    {
     "output_type": "execute_result",
     "data": {
      "text/plain": [
       "   street_name odd_on  avg_direction building_num_range  \\\n",
       "0  10th Avenue   left    -170.561731            [1, 19]   \n",
       "\n",
       "                               start_end_coordinates  segment_length  \\\n",
       "0  [[40.741073, -74.009227], [40.739952, -74.0094...      126.194091   \n",
       "\n",
       "   segment_direction  building_num_range_length  avg_length_per_building  \\\n",
       "0        -170.561731                         19                 6.641794   \n",
       "\n",
       "   direction_deviation road_type  offset_from_road_center  \n",
       "0                  0.0    Avenue                       10  "
      ],
      "text/html": "<div>\n<style scoped>\n    .dataframe tbody tr th:only-of-type {\n        vertical-align: middle;\n    }\n\n    .dataframe tbody tr th {\n        vertical-align: top;\n    }\n\n    .dataframe thead th {\n        text-align: right;\n    }\n</style>\n<table border=\"1\" class=\"dataframe\">\n  <thead>\n    <tr style=\"text-align: right;\">\n      <th></th>\n      <th>street_name</th>\n      <th>odd_on</th>\n      <th>avg_direction</th>\n      <th>building_num_range</th>\n      <th>start_end_coordinates</th>\n      <th>segment_length</th>\n      <th>segment_direction</th>\n      <th>building_num_range_length</th>\n      <th>avg_length_per_building</th>\n      <th>direction_deviation</th>\n      <th>road_type</th>\n      <th>offset_from_road_center</th>\n    </tr>\n  </thead>\n  <tbody>\n    <tr>\n      <th>0</th>\n      <td>10th Avenue</td>\n      <td>left</td>\n      <td>-170.561731</td>\n      <td>[1, 19]</td>\n      <td>[[40.741073, -74.009227], [40.739952, -74.0094...</td>\n      <td>126.194091</td>\n      <td>-170.561731</td>\n      <td>19</td>\n      <td>6.641794</td>\n      <td>0.0</td>\n      <td>Avenue</td>\n      <td>10</td>\n    </tr>\n  </tbody>\n</table>\n</div>"
     },
     "metadata": {},
     "execution_count": 2
    }
   ],
   "source": [
    "DF = pd.read_csv('datasets/1880_streets_full.csv')\n",
    "DF.head(1)"
   ]
  },
  {
   "cell_type": "code",
   "execution_count": 3,
   "metadata": {},
   "outputs": [],
   "source": [
    "master_list = list(dict(DF['street_name'].value_counts()).keys())\n",
    "#sorted(master_list)"
   ]
  },
  {
   "cell_type": "markdown",
   "metadata": {},
   "source": [
    "## 1898"
   ]
  },
  {
   "cell_type": "code",
   "execution_count": 24,
   "metadata": {},
   "outputs": [
    {
     "output_type": "execute_result",
     "data": {
      "text/plain": [
       "     YR        DIR      PG TYPE                    NAME              ADDY  \\\n",
       "0  1920  Phillip's  1186.0  NaN   Lutes Restaurant Inc.       51 W 14 St.   \n",
       "1  1920  Phillip's  1186.0  NaN              Lux J. B.   4 Union Square     \n",
       "2  1920  Phillip's  1186.0  NaN         McCormick M. J.       475 4 Ave.    \n",
       "3  1920  Phillip's  1186.0  NaN          McDonald E. H.     380 W 125 St.   \n",
       "4  1920  Phillip's  1186.0  NaN  McKinley Square Casino     775 E 169 St.   \n",
       "\n",
       "  BOROUGH      CITY     STATE HOUSENO  ...  first_name  \\\n",
       "0     NaN  New York  New York      51  ...  Restaurant   \n",
       "1     NaN  New York  New York       4  ...          J.   \n",
       "2     NaN  New York  New York     475  ...          M.   \n",
       "3     NaN  New York  New York     380  ...          E.   \n",
       "4     NaN  New York  New York     775  ...      Square   \n",
       "\n",
       "                         census_match_full_2 census_match_2 census_match_2p  \\\n",
       "0                                        NaN            NaN             NaN   \n",
       "1                                        NaN            NaN             NaN   \n",
       "2                                        NaN            NaN             NaN   \n",
       "3                                        NaN            NaN             NaN   \n",
       "4  Counter({'Ireland': 0.96, 'Italy': 0.45})        Ireland            0.96   \n",
       "\n",
       "                                   NamePrismResponse NamePrismFirstClass  \\\n",
       "0  {'European,SouthSlavs': 0.013008041942021492, ...     European,French   \n",
       "1  {'European,SouthSlavs': 0.06783373707463733, '...    Hispanic,Spanish   \n",
       "2  {'European,SouthSlavs': 0.020820721133716837, ...       CelticEnglish   \n",
       "3  {'European,SouthSlavs': 0.0011123199484532247,...       CelticEnglish   \n",
       "4  {'European,SouthSlavs': 8.69915275717278e-05, ...       CelticEnglish   \n",
       "\n",
       "   NamePrismSecondClass       NamePrismThirdClass   NO          STREET  \n",
       "0       European,German  European,Italian,Romania   51        W 14 St.  \n",
       "1       European,German       European,SouthSlavs    4  Union Square    \n",
       "2      Hispanic,Spanish            Nordic,Finland  475         4 Ave.   \n",
       "3   African,WestAfrican       African,EastAfrican  380       W 125 St.  \n",
       "4  African,SouthAfrican      Hispanic,Philippines  775       E 169 St.  \n",
       "\n",
       "[5 rows x 32 columns]"
      ],
      "text/html": "<div>\n<style scoped>\n    .dataframe tbody tr th:only-of-type {\n        vertical-align: middle;\n    }\n\n    .dataframe tbody tr th {\n        vertical-align: top;\n    }\n\n    .dataframe thead th {\n        text-align: right;\n    }\n</style>\n<table border=\"1\" class=\"dataframe\">\n  <thead>\n    <tr style=\"text-align: right;\">\n      <th></th>\n      <th>YR</th>\n      <th>DIR</th>\n      <th>PG</th>\n      <th>TYPE</th>\n      <th>NAME</th>\n      <th>ADDY</th>\n      <th>BOROUGH</th>\n      <th>CITY</th>\n      <th>STATE</th>\n      <th>HOUSENO</th>\n      <th>...</th>\n      <th>first_name</th>\n      <th>census_match_full_2</th>\n      <th>census_match_2</th>\n      <th>census_match_2p</th>\n      <th>NamePrismResponse</th>\n      <th>NamePrismFirstClass</th>\n      <th>NamePrismSecondClass</th>\n      <th>NamePrismThirdClass</th>\n      <th>NO</th>\n      <th>STREET</th>\n    </tr>\n  </thead>\n  <tbody>\n    <tr>\n      <th>0</th>\n      <td>1920</td>\n      <td>Phillip's</td>\n      <td>1186.0</td>\n      <td>NaN</td>\n      <td>Lutes Restaurant Inc.</td>\n      <td>51 W 14 St.</td>\n      <td>NaN</td>\n      <td>New York</td>\n      <td>New York</td>\n      <td>51</td>\n      <td>...</td>\n      <td>Restaurant</td>\n      <td>NaN</td>\n      <td>NaN</td>\n      <td>NaN</td>\n      <td>{'European,SouthSlavs': 0.013008041942021492, ...</td>\n      <td>European,French</td>\n      <td>European,German</td>\n      <td>European,Italian,Romania</td>\n      <td>51</td>\n      <td>W 14 St.</td>\n    </tr>\n    <tr>\n      <th>1</th>\n      <td>1920</td>\n      <td>Phillip's</td>\n      <td>1186.0</td>\n      <td>NaN</td>\n      <td>Lux J. B.</td>\n      <td>4 Union Square</td>\n      <td>NaN</td>\n      <td>New York</td>\n      <td>New York</td>\n      <td>4</td>\n      <td>...</td>\n      <td>J.</td>\n      <td>NaN</td>\n      <td>NaN</td>\n      <td>NaN</td>\n      <td>{'European,SouthSlavs': 0.06783373707463733, '...</td>\n      <td>Hispanic,Spanish</td>\n      <td>European,German</td>\n      <td>European,SouthSlavs</td>\n      <td>4</td>\n      <td>Union Square</td>\n    </tr>\n    <tr>\n      <th>2</th>\n      <td>1920</td>\n      <td>Phillip's</td>\n      <td>1186.0</td>\n      <td>NaN</td>\n      <td>McCormick M. J.</td>\n      <td>475 4 Ave.</td>\n      <td>NaN</td>\n      <td>New York</td>\n      <td>New York</td>\n      <td>475</td>\n      <td>...</td>\n      <td>M.</td>\n      <td>NaN</td>\n      <td>NaN</td>\n      <td>NaN</td>\n      <td>{'European,SouthSlavs': 0.020820721133716837, ...</td>\n      <td>CelticEnglish</td>\n      <td>Hispanic,Spanish</td>\n      <td>Nordic,Finland</td>\n      <td>475</td>\n      <td>4 Ave.</td>\n    </tr>\n    <tr>\n      <th>3</th>\n      <td>1920</td>\n      <td>Phillip's</td>\n      <td>1186.0</td>\n      <td>NaN</td>\n      <td>McDonald E. H.</td>\n      <td>380 W 125 St.</td>\n      <td>NaN</td>\n      <td>New York</td>\n      <td>New York</td>\n      <td>380</td>\n      <td>...</td>\n      <td>E.</td>\n      <td>NaN</td>\n      <td>NaN</td>\n      <td>NaN</td>\n      <td>{'European,SouthSlavs': 0.0011123199484532247,...</td>\n      <td>CelticEnglish</td>\n      <td>African,WestAfrican</td>\n      <td>African,EastAfrican</td>\n      <td>380</td>\n      <td>W 125 St.</td>\n    </tr>\n    <tr>\n      <th>4</th>\n      <td>1920</td>\n      <td>Phillip's</td>\n      <td>1186.0</td>\n      <td>NaN</td>\n      <td>McKinley Square Casino</td>\n      <td>775 E 169 St.</td>\n      <td>NaN</td>\n      <td>New York</td>\n      <td>New York</td>\n      <td>775</td>\n      <td>...</td>\n      <td>Square</td>\n      <td>Counter({'Ireland': 0.96, 'Italy': 0.45})</td>\n      <td>Ireland</td>\n      <td>0.96</td>\n      <td>{'European,SouthSlavs': 8.69915275717278e-05, ...</td>\n      <td>CelticEnglish</td>\n      <td>African,SouthAfrican</td>\n      <td>Hispanic,Philippines</td>\n      <td>775</td>\n      <td>E 169 St.</td>\n    </tr>\n  </tbody>\n</table>\n<p>5 rows × 32 columns</p>\n</div>"
     },
     "metadata": {},
     "execution_count": 24
    }
   ],
   "source": [
    "df = pd.read_csv('datasets/1870_1033_NamePrismResults.csv', error_bad_lines=False, encoding='latin-1')\n",
    "df['NO']= df['ADDY'].str.extract(r'(^\\d*)')\n",
    "df['STREET']=df['ADDY'].str.extract(r'((?<=\\s).*)')\n",
    "df.head()"
   ]
  },
  {
   "cell_type": "code",
   "execution_count": 25,
   "metadata": {},
   "outputs": [],
   "source": [
    "df['street_clean'] = df['STREET'].str.strip()"
   ]
  },
  {
   "cell_type": "code",
   "execution_count": 26,
   "metadata": {},
   "outputs": [],
   "source": [
    "st = dict(df['STREET'].value_counts())\n",
    "#sorted(st.items())"
   ]
  },
  {
   "cell_type": "markdown",
   "metadata": {},
   "source": [
    "#### Fixing names"
   ]
  },
  {
   "cell_type": "code",
   "execution_count": 27,
   "metadata": {},
   "outputs": [],
   "source": [
    "df['street_clean'].dropna(inplace=True)"
   ]
  },
  {
   "cell_type": "code",
   "execution_count": 28,
   "metadata": {},
   "outputs": [],
   "source": [
    "df['street_clean'].replace(r'St.?$','Street',regex=True,inplace=True)\n",
    "df['street_clean'].replace(r'Ave.','Avenue',regex=True,inplace=True)\n",
    "df['street_clean'].replace(r'Ave$','Avenue',regex=True,inplace=True)\n",
    "df['street_clean'].replace(r'Pl','Place',regex=True,inplace=True)\n",
    "df['street_clean'].replace(r'Rd','Road',regex=True,inplace=True)\n",
    "df['street_clean'].replace(r'^&\\s','',regex=True,inplace=True)\n",
    "df['street_clean'].replace(r'\\s\\s',' ',regex=True,inplace=True)\n",
    "df['street_clean'].replace(r'W\\.','W',regex=True,inplace=True)\n",
    "df['street_clean'].replace(r'S\\.','S',regex=True,inplace=True)\n",
    "df['street_clean'].replace(r'N\\.','N',regex=True,inplace=True)\n",
    "df['street_clean'].replace(r'E\\.','E',regex=True,inplace=True)\n",
    "df['street_clean'].replace(r'Sreet','Street',regex=True,inplace=True)\n",
    "df['street_clean'].replace(r'Sq(\\.)?(?!\\w)','Square',regex=True,inplace=True)\n",
    "df['street_clean'].replace(r'Mkt(\\.)?(?!\\w)','Market',regex=True,inplace=True)\n",
    "df['street_clean'].replace(r'^.*&\\s*','',regex=True,inplace=True)\n",
    "df['street_clean'].replace(r'\\.$','',regex=True,inplace=True)\n",
    "\n",
    "\n",
    "df['street_clean'].replace(r'E Houston Street','Houston Street E',regex=True,inplace=True)\n",
    "df['street_clean'].replace(r'W Houston Street','Houston Street W',regex=True,inplace=True)\n",
    "df['street_clean'].replace(r'S Houston Street','Houston Street S',regex=True,inplace=True)\n",
    "df['street_clean'].replace(r'N Houston Street','Houston Street N',regex=True,inplace=True)\n",
    "\n",
    "df['street_clean'].replace(r'^(W)(?=[A-Z|\\d])','W ',regex=True,inplace=True)\n",
    "df['street_clean'].replace(r'^(E)(?=[A-Z|\\d])','E ',regex=True,inplace=True)\n",
    "df['street_clean'].replace(r'^(S)(?=[A-Z|\\d])','S ',regex=True,inplace=True)\n",
    "df['street_clean'].replace(r'^(N)(?=[A-Z|\\d])','N ',regex=True,inplace=True)\n",
    "\n",
    "\n",
    "\n",
    "\n",
    "#for 1st ave\n",
    "df['street_clean'].replace(r'(?<=\\d)\\s','th ',regex=True,inplace=True)\n",
    "df['street_clean'].replace(r'(?<=\\d)$','th Street ',regex=True,inplace=True)\n",
    "df['street_clean'].replace(r'1th ','1st ',regex=True,inplace=True)\n",
    "df['street_clean'].replace(r'2th ','2nd ',regex=True,inplace=True)\n",
    "df['street_clean'].replace(r'3th ','3rd ',regex=True,inplace=True)\n",
    "\n",
    "df['street_clean'].replace(r'11st ','11th ',regex=True,inplace=True)\n",
    "df['street_clean'].replace(r'12nd ','12th ',regex=True,inplace=True)\n",
    "df['street_clean'].replace(r'13rd ','13th ',regex=True,inplace=True)\n"
   ]
  },
  {
   "cell_type": "code",
   "execution_count": 29,
   "metadata": {},
   "outputs": [],
   "source": [
    "st = dict(df['street_clean'].value_counts())\n",
    "#sorted(st.items())"
   ]
  },
  {
   "cell_type": "code",
   "execution_count": 30,
   "metadata": {},
   "outputs": [],
   "source": [
    "st = dict(df['street_clean'].value_counts())\n",
    "#sorted(st.items())"
   ]
  },
  {
   "cell_type": "markdown",
   "metadata": {},
   "source": [
    "### cross check results"
   ]
  },
  {
   "cell_type": "code",
   "execution_count": 31,
   "metadata": {},
   "outputs": [
    {
     "output_type": "execute_result",
     "data": {
      "text/plain": [
       "['Broadway', '3rd Avenue', '6th Avenue', '8th Avenue', '2nd Avenue']"
      ]
     },
     "metadata": {},
     "execution_count": 31
    }
   ],
   "source": [
    "streets_list = list(dict(df['street_clean'].value_counts()).keys())\n",
    "streets_list[:5]"
   ]
  },
  {
   "cell_type": "code",
   "execution_count": 32,
   "metadata": {
    "tags": []
   },
   "outputs": [
    {
     "output_type": "stream",
     "name": "stdout",
     "text": [
      "W Broadway\nColumbus Avenue\nE Broadway\nAmsterdam Avenue\nMaiden La\nLenox Avenue\nFulton Market\nAvenueue A\nMaiden Ln\nLafayette Street\nAvenueue C\n2nd Street\nAvenueue B\n6th Street\nBroadway Street\nSt. Nicholas Avenue\n3rd Street\nAvenueue D\nWashington Market\n5th Street\n\nAvenueue A Street\nPark Row Street\nSt. Mark's Place\nW 8th Street\nMacdougal Street\nTrinity Place\nWillis Avenue\nE 149th Street\n1st Street\nCoenties Sl\nAvenueue B Street\nN Moore Street\nS William Street\nPeck Sl\nAvenueue A. Street\nWebster Avenue\nN William Street\nBoston Road\nCooper Square\nChatham Square\n7th Street\nSouth Blvd\nAvenueue C Street\nTompkins Market\nE 138th Street\n8th Street\nColumbus Street\nClinton Market\nProspect Avenue\nAvenueue B. Street\nHamilton Place\nCatharine Street\nJames Sl\nLincoln Avenue\nE Tremont Avenue\nMaiden la\nJeff Street\nCatherine Sl\nE 102nd Street\nHanover Square\nCooper Square E\nWashn Street\nAvenueue C. Street\nWestchester Avenue\nE 135th Street\nCatharine Sl\nS Boulevard Street\nManhattan Avenue\nMorris Avenue\nCourtlandt Street\nS Boulevard\nOld Sl\nCathedral Pkway\nBrook Avenue\nColumbus Circle\nSt. Marks Place\nE Union Square\nE 148th Street\nLex Avenue\nLittle W 12th Street\nBurling Sl\nAmsterdamn Avenue\nLexington Street\nE 169th Street\nWchester Avenue\nW 125th Street \n59th Street\nFordham Road\nE 151st Street\nAmsterdam Street\nCorttlandt Street\nPlaceatt Street\nPeck sl\nGreenwich\nTremont Avenue\nBeekmann Street\nW End Avenue\nMaiden Avenue\nJerome Avenue\n126th Street \n48th Street\nKenmare Street\nMinetta La\nW Broadway Street\n41st Street \nTomp Market\nFreeman Street\nWashington Avenue\nCoenties sl\nE Fordham Road\nAlexander Avenue\nDOWN Formula by clicking down on right corner\nE 23rd Street \nCath Street\nE 125th Street \nWorchester Avenue\nJOhn Street\nAvenueue D. Street\n50th Street \nWashington Square\nW 42nd Street \n242nd Street\nLaf Place\nSchiff Pkway\nBroad\nPearl\nHughes Avenue\nW 221st Street\nWest End Avenue\nDepot Place\nCanal\nMarket\n41st Street\nAlex Avenue\nE 14th Street \nWilkins Avenue\nWashn Square S\nCooper Square E Street\nChurch\nUnion Place\nW 34th Street \nDay Street\nHudson\n10th Street\nGrand Circle\n116th Street\nClaremont Avenue\n26th Street\nCypress Avenue\nWilliam\nGt. Jones Street\nillegibleÂ  Â illegibleÂ\n9th A\nBaruch Place\nRobinson Street\nPelham Avenue\nCatherine Market\nE 143rd Street\nUnion Street\nHUdson Street\nW 23rd Street \n45th Street\nE 180th Street\nE Houston\nIsland\nCentre Market\nCentral Concourse\nCatharine Market\nAvenueue D Street\nStation\nW 1255th Street\nVarvick Street\n39th n Broadway\nMelrose Avenue\nPk opp E 82nd Street\nW 158th Street \n23rd Street \nTemple Street\nE 161st Street \nb Placeatt Street\nHarrison\nAbingdon Street\nAmsterdam\nBronx Pk\n9th Street\n28th Street\nE 159th Street\n4th Street\n38th Street \nBroadway and W 242nd Street\nFrank Street\nGreemwich Street\nW 43-44th Street\nW 6th Avenue\nFerry House\nDleancey Street\nW 14th Street \nWillet Street\nBleecker Avenue\nCourtlandt\n9th Mott Street\nh\nDleancey\nWorchester Square\nE 11th Street \nW 39th Street \nCathedral Pkway Circle\nBoston rd\nW, 127th Street\nPark opposite E 65th Street\nDry Dock\n10th ave. C W 161st Street\nWashington Square S Street\nGrand Circle Street\nJerome\nE 4th Street \n43rd Street\nOld sl\nN Monroe Street\nPlaceeasant Avenue\nNassau\nGt Jones Street\n6th Street \nElton Avenue\nE Street\n54th Pine Street\nWashn Market\nAllen Blvd\nW Webster Avenue\nE 160th Street\nS Williams Street\nCastle Clinton\n7th E R\nJefferson Market\nE 141st Street \n50th Street\nW, Washington Market\nCooper Square W\nGrand circle\nW 162nd Street \nNassa Street\nW 19th Street \nAvenueue near W 14th Street\nChamber Street\nEnd Avenue n W 59th Street\n126th Street\nLafayette\nE 181st Street\nW 207th Street\nAvenueWiliamsberg Bridge\nW 40th Avenue\nW 126th Street \n66th Street \nE Broady Street\nS Pring Street\nMcDougal Street\nCenre Street\nUnion Square W\nW 27th v\nBeaver\nAnn\nLenox Street\nE 153rd Street\nStong Street\nand 6th Pell Street\nCouper Square E\nUniersity Place\nGrand Cir\n2nd 5th Avenue\n138th n. Mott Avenue\n33rd Street\nGansevoort n 13th Avenue\nGreewich Street\nLoew Avenue\nW 40th Street \nCity Island Avenue\nLaurens Street\nPark opp E 65th Street\nS Washington Square\nCharton Street\nDebrosses Street\nW 44th Street \nPark\nE 73rd Street \nE 99th Street \nPelham av. N Kingsbridge Road\nThames\nY. Zoo Park\n259th William Street\nE Houston Avenue\nCrotona Avenue\n10th ave. c W 186th Street\nTrinity Place. Street\nE 59th Street \nPk\nVessey Street\nE Broadway Avenue\n21st Avenue\nav. C Webster Avenue\nW 215th Street \nOrchar Street\nmadison Avenue\n145th Street\nE 101st Street\nFranklin Market\nSedgwick av. N Depot Place\nW 181st Street \nMISS\n18th Avenue\nS Blvd\n172nd Street\npark\nWestchester sq\nJeff Market\nY. Park Zoo\nE . 42nd Street\nColumbia Avenue\nHancock Place\nBronx Pk Avenue\nE 201st Street\nEldridge\nN Ew Street\nSchiff Parkway\nMereer Street\nst. c 12th Avenue\nn Naegle Avenue\nWendover Avenue\n22nd Street \nFulton Market Street\nGorck Street\n72nd University Place\nave. N W 15th Street\n28th Street \nE 100th Street\nBoulevard n W 77th Street\nW 22nd Street \nSt Marks Place\nave. c. W 24th Street\nFulton\nW 28th Street \nC.I. Street\nThompson AvenueW Washn Market\nClaremont Pkwy\nCustom h\nForest Avenue\nSt. Broadway\nLittle Street\nmaiden La\nW 225th Street\nAmseterdam Avenue\nJohn\nCath sl\n2678th Street\nW 59th Street \n14th Avenue\nAmseterdamn Avenue\nBroadwa\nW Fordham\nMorningside Avenue\nNicholas ave. c. 112th Street\nPk opp E 104th Street\nC. H\n8th ave. n W 155th Street\nBible Hill\n135th Street \nE 23rd d Street\nBoston\n86th Street\n56th Street \nOrcharg Street\nUniversity pl\nCooper Square E Avenue\nCentral Park South\nHouse\nBible h\nE 216th Street \nRutgers pl\nPlace. c. Sedgwick Avenue\nAvenueue 32nd Street\nDey c West Street\nBenson Street\nBloome Street\nCathedral Pkwy\nSouth Boulevard\n60th c Broadway\nWoose Street\n49th Street\n71st Broad Street\nWebster Street\navenue n W 131st Street\nav. N Depot Place\nMadiden Ln\nW Farms Road\nBeaver Avenue\nE House Street\n32nd E R\nE 146th Street\nW 60th Street \nE 42nd Street \n183rd Street\nWestchester\nMt. Morris Avenue\nE 187th Street\nHarlen Market\nSt. Anns Avenue\nW E Street\nav. C. West W Washington Market\n32nd Street\nC H\nBleecker\n11th Street\nPershing Square\nE 181st Street \nCleveland Place\n59th Street \nStreet\nCedar Avenue\nS Williams\nW 116th Street \nColumbus A\nE Houson Street\nCentl Street\nCooper Street\nGoerick Street\n32-33rd Avenue\nNassan Street\nTryon Avenue\nave. c. W 111th Street\nExchange\nSquare\nSt. Nichoals Avenue\nJames sl\nE 19th Street \nCath Sl\n1566th Broadway Street\nW 15th Street \nW 15th Avenue\nW End Street\nHarlem Market\nW 29th Street \n34th Street\n1/2nd Little W 12th Street\nE 161st Street\nE Broadway Street\nPark opposite E 72nd Street\nArthur Avenue\nW E Avenue\nE 176th Street \nW 18th Street \nE 183rd Street\nCourtlandt Avenue\nGourverneur Street\n3rd A\nCentral Concourse Street\n60th Street\nGouverneur Market\nE 174th Street\n44th Street\n"
     ]
    }
   ],
   "source": [
    "for street in streets_list:\n",
    "    if street not in master_list:\n",
    "\n",
    "        print(street)\n",
    "    "
   ]
  },
  {
   "cell_type": "markdown",
   "metadata": {},
   "source": [
    "### manual cleaning"
   ]
  },
  {
   "cell_type": "code",
   "execution_count": 37,
   "metadata": {},
   "outputs": [],
   "source": [
    "STREET = {\n",
    "    # street added wrongly\n",
    "    '1st Street': '1st Avenue',\n",
    "    '2nd Street': '2nd Avenue',\n",
    "    '3 Avenue': '3rd Avenue',\n",
    "    'c 3rd Avenue': '3rd Avenue',\n",
    "    '5th Street': '5th Avenue',\n",
    "    '6th Street': '6th Avenue',\n",
    "    '7th Street': '7th Avenue',\n",
    "    '8th Street': '8th Avenue',\n",
    "    '8d Avenue': '8th Avenue',\n",
    "    '9th Street': '9th Avenue',\n",
    "    'Broadway Street': 'Broadway',\n",
    "    \n",
    "    # direction order\n",
    "    'W Broadway Street': 'Broadway W',\n",
    "    'E Broadway Street': 'Broadway E',\n",
    "    'W Houston Street': 'Houston Street W',\n",
    "    'E Houston Street': 'Houston Street E',\n",
    "    'N Moore': 'Moore Street N',\n",
    "    'S William': 'William Street S',\n",
    "    'N William': 'William Street N',\n",
    "    'Union sq E': 'Union Square E',\n",
    "    'Little W 12th': 'W 12th Street',\n",
    "    'E 145th Street': 'E 145th Street',\n",
    "    \n",
    "    # title case\n",
    "    'Park row': 'Park Row',\n",
    "    'James slip': 'James Slip',\n",
    "    'Old slip': 'Old Slip',\n",
    "    'Catherine slip': 'Catherine Slip',\n",
    "    'Peck slip'\n",
    "    \n",
    "    # order\n",
    "    'Av A': 'A Avenue',\n",
    "    'Av B': 'B Avenue',\n",
    "    'Av C': 'C Avenue',\n",
    "    'av c W': 'C Avenue',\n",
    "    'Av D': 'D Avenue',\n",
    "    'av n E': 'East Avenue',\n",
    "    'av n W': 'West Avenue',\n",
    "    'W End av Street': 'West Avenue',\n",
    "    \n",
    "    # same name\n",
    "    'Centre Market': 'Centre Market Place',\n",
    "    'Clinton Market': 'Clinton Place',\n",
    "    'Chatham Square': 'Chatham Street',\n",
    "    'Catherine Market': 'Catherine Street',\n",
    "    'Fulton Market': 'Fulton Street',\n",
    "    'Grand st Circle': 'Grand Street',\n",
    "    'Jefferson Market': 'Jefferson Street',\n",
    "    'Stone William': 'Stone Street',\n",
    "    'Tompkins Market': 'Tompkins Street',\n",
    "    'Washington Market': 'Washington Place',\n",
    "    'Hanover Square': 'Hanover Street',\n",
    "    'New Chambers': 'New Chambers Street',\n",
    "    \n",
    "    # different spelling\n",
    "    'Macdougal Street': 'Mac Dougal Street',\n",
    "    'St Mark’s Place': 'Saint Marks Place',\n",
    "    'VandeWater Street': 'Vandewater Street',\n",
    "    \n",
    "    # unmatched\n",
    "    # Amsterdam Avenue\n",
    "    # Columbus Avenue\n",
    "    # Trinity Place\n",
    "    # Lincoln Avenue\n",
    "    # Tremont Avenue\n",
    "    # Brook Avenue\n",
    "    # Willis Avenue\n",
    "    # Bible h\n",
    "    # Jerome Avenue\n",
    "}"
   ]
  },
  {
   "cell_type": "code",
   "execution_count": 38,
   "metadata": {},
   "outputs": [
    {
     "output_type": "execute_result",
     "data": {
      "text/plain": [
       "     YR        DIR      PG TYPE                   NAME         ADDY BOROUGH  \\\n",
       "0  1920  Phillip's  1186.0  NaN  Lutes Restaurant Inc.  51 W 14 St.     NaN   \n",
       "\n",
       "       CITY     STATE HOUSENO  ... census_match_full_2 census_match_2  \\\n",
       "0  New York  New York      51  ...                 NaN            NaN   \n",
       "\n",
       "  census_match_2p                                  NamePrismResponse  \\\n",
       "0             NaN  {'European,SouthSlavs': 0.013008041942021492, ...   \n",
       "\n",
       "  NamePrismFirstClass NamePrismSecondClass       NamePrismThirdClass  NO  \\\n",
       "0     European,French      European,German  European,Italian,Romania  51   \n",
       "\n",
       "     STREET   street_clean  \n",
       "0  W 14 St.  W 14th Street  \n",
       "\n",
       "[1 rows x 33 columns]"
      ],
      "text/html": "<div>\n<style scoped>\n    .dataframe tbody tr th:only-of-type {\n        vertical-align: middle;\n    }\n\n    .dataframe tbody tr th {\n        vertical-align: top;\n    }\n\n    .dataframe thead th {\n        text-align: right;\n    }\n</style>\n<table border=\"1\" class=\"dataframe\">\n  <thead>\n    <tr style=\"text-align: right;\">\n      <th></th>\n      <th>YR</th>\n      <th>DIR</th>\n      <th>PG</th>\n      <th>TYPE</th>\n      <th>NAME</th>\n      <th>ADDY</th>\n      <th>BOROUGH</th>\n      <th>CITY</th>\n      <th>STATE</th>\n      <th>HOUSENO</th>\n      <th>...</th>\n      <th>census_match_full_2</th>\n      <th>census_match_2</th>\n      <th>census_match_2p</th>\n      <th>NamePrismResponse</th>\n      <th>NamePrismFirstClass</th>\n      <th>NamePrismSecondClass</th>\n      <th>NamePrismThirdClass</th>\n      <th>NO</th>\n      <th>STREET</th>\n      <th>street_clean</th>\n    </tr>\n  </thead>\n  <tbody>\n    <tr>\n      <th>0</th>\n      <td>1920</td>\n      <td>Phillip's</td>\n      <td>1186.0</td>\n      <td>NaN</td>\n      <td>Lutes Restaurant Inc.</td>\n      <td>51 W 14 St.</td>\n      <td>NaN</td>\n      <td>New York</td>\n      <td>New York</td>\n      <td>51</td>\n      <td>...</td>\n      <td>NaN</td>\n      <td>NaN</td>\n      <td>NaN</td>\n      <td>{'European,SouthSlavs': 0.013008041942021492, ...</td>\n      <td>European,French</td>\n      <td>European,German</td>\n      <td>European,Italian,Romania</td>\n      <td>51</td>\n      <td>W 14 St.</td>\n      <td>W 14th Street</td>\n    </tr>\n  </tbody>\n</table>\n<p>1 rows × 33 columns</p>\n</div>"
     },
     "metadata": {},
     "execution_count": 38
    }
   ],
   "source": [
    "df = df.replace({'street_clean': STREET})\n",
    "df.head(1)"
   ]
  },
  {
   "cell_type": "code",
   "execution_count": 39,
   "metadata": {},
   "outputs": [
    {
     "output_type": "execute_result",
     "data": {
      "text/plain": [
       "['Broadway', '3rd Avenue', '6th Avenue', '8th Avenue', '2nd Avenue']"
      ]
     },
     "metadata": {},
     "execution_count": 39
    }
   ],
   "source": [
    "streets_list = list(dict(df['street_clean'].value_counts()).keys())\n",
    "streets_list[:5]"
   ]
  },
  {
   "cell_type": "code",
   "execution_count": 33,
   "metadata": {},
   "outputs": [],
   "source": []
  },
  {
   "cell_type": "markdown",
   "metadata": {},
   "source": [
    "### cross check results"
   ]
  },
  {
   "cell_type": "code",
   "execution_count": 40,
   "metadata": {},
   "outputs": [
    {
     "output_type": "stream",
     "name": "stdout",
     "text": [
      "W Broadway\nColumbus Avenue\nE Broadway\nAmsterdam Avenue\nMaiden La\nLenox Avenue\nAvenueue A\nMaiden Ln\nLafayette Street\nAvenueue C\nAvenueue B\nSt. Nicholas Avenue\n3rd Street\nAvenueue D\n\nPark Row Street\nAvenueue A Street\nSt. Mark's Place\nW 8th Street\nTrinity Place\nWillis Avenue\nE 149th Street\nAvenueue B Street\nN Moore Street\nCoenties Sl\nS William Street\nAvenueue A. Street\nPeck Sl\nWebster Avenue\nN William Street\nCooper Square\nBoston Road\nAvenueue C Street\nE 138th Street\nSouth Blvd\nProspect Avenue\nColumbus Street\nAvenueue B. Street\nHamilton Place\nE Tremont Avenue\nCooper Square E\nAvenueue C. Street\nMaiden la\nLincoln Avenue\nJeff Street\nCatherine Sl\nJames Sl\nE 102nd Street\nWashn Street\nCatharine Street\nMorris Avenue\nCathedral Pkway\nBrook Avenue\nWestchester Avenue\nOld Sl\nE 135th Street\nCourtlandt Street\nManhattan Avenue\nS Boulevard Street\nS Boulevard\nCatharine Sl\nLex Avenue\nE Union Square\nE 148th Street\nSt. Marks Place\nColumbus Circle\nBeekmann Street\nW 125th Street \n126th Street \nWashington Avenue\nCoenties sl\nAmsterdam Street\nFordham Road\n59th Street\nCorttlandt Street\nPeck sl\nKenmare Street\nE 169th Street\nBurling Sl\nBroadway W\nE 151st Street\nTomp Market\n48th Street\nLittle W 12th Street\nW End Avenue\nTremont Avenue\nMinetta La\nWchester Avenue\nFreeman Street\nPlaceatt Street\nMaiden Avenue\nJerome Avenue\nE Fordham Road\nLexington Street\n41st Street \nAmsterdamn Avenue\nGreenwich\nE 14th Street \nCentral Concourse\nBroad\nLaf Place\n26th Street\nAlexander Avenue\nWorchester Avenue\nPelham Avenue\nPearl\n10th Street\nCooper Square E Street\nUnion Street\nHUdson Street\nW 42nd Street \n50th Street \nAvenueue D. Street\nJOhn Street\nW 221st Street\nHudson\n41st Street\n116th Street\nUnion Place\nCatharine Market\nGrand Circle\nE Houston\nCath Street\nWashn Square S\nWest End Avenue\nHughes Avenue\nChurch\nE 125th Street \nE 23rd Street \n242nd Street\nDOWN Formula by clicking down on right corner\nWashington Square\nMarket\nWilkins Avenue\nIsland\nCypress Avenue\nAlex Avenue\nWilliam\n45th Street\nCanal\nClaremont Avenue\nDepot Place\nE 143rd Street\nBaruch Place\nGt. Jones Street\nillegibleÂ  Â illegibleÂ\nW 23rd Street \nRobinson Street\n9th A\nW 34th Street \nE 180th Street\nDay Street\nSchiff Pkway\nSt. Anns Avenue\nCouper Square E\nBroadway and W 242nd Street\nW 27th v\nGrand Circle Street\n66th Street \nE 153rd Street\n2nd 5th Avenue\nNassa Street\nW 162nd Street \nGrand circle\nAbingdon Street\nUniersity Place\nMt. Morris Avenue\nW E Street\nEnd Avenue n W 59th Street\n28th Street\nAvenueWiliamsberg Bridge\nW 43-44th Street\n6th Street \n11th Street\nBleecker\nC H\nAllen Blvd\n32nd Street\nW Webster Avenue\nav. C. West W Washington Market\n7th E R\nW 44th Street \nb Placeatt Street\nTemple Street\nE Broady Street\n23rd Street \nGrand Cir\nE 160th Street\nW 158th Street \nN Monroe Street\nPark\n14th Avenue\nLoew Avenue\nCenre Street\nCourtlandt\nBeaver\nGt Jones Street\nFerry House\nElton Avenue\nand 6th Pell Street\nW 14th Street \nBleecker Avenue\nE 161st Street \nLenox Street\nW 6th Avenue\nh\nDleancey\n54th Pine Street\nW 40th Avenue\nCastle Clinton\nS Williams Street\n38th Street \nPark opp E 65th Street\nE 99th Street \nMcDougal Street\nMelrose Avenue\nHarrison\nAvenueue D Street\nAnn\nBoston rd\n50th Street\nPark opposite E 65th Street\nAmsterdam\n183rd Street\nDleancey Street\nPk opp E 82nd Street\nE 42nd Street \nE 146th Street\n126th Street\nDebrosses Street\nCharton Street\nE 4th Street \nE 141st Street \n32nd E R\nS Washington Square\nStong Street\n44th Street\nRutgers pl\nE 176th Street \nCleveland Place\nJames sl\nExchange\nNassan Street\nCentl Street\nE Houson Street\nColumbus A\nW 116th Street \nS Williams\nW 15th Avenue\nGouverneur Market\nCentral Concourse Street\nE 161st Street\nPlace. c. Sedgwick Avenue\n1/2nd Little W 12th Street\nW Farms Road\nMadiden Ln\navenue n W 131st Street\nWebster Street\nSouth Boulevard\nBenson Street\nDey c West Street\nBible h\nY. Park Zoo\nE . 42nd Street\nHancock Place\n86th Street\nBoston\n8th ave. n W 155th Street\nWestchester\nSt Marks Place\nC. H\nNicholas ave. c. 112th Street\nW Fordham\nE 100th Street\n28th Street \n72nd University Place\n145th Street\nOrchar Street\n10th ave. c W 186th Street\nCrotona Avenue\n259th William Street\nPelham av. N Kingsbridge Road\nMISS\nGorck Street\nWendover Avenue\nn Naegle Avenue\nst. c 12th Avenue\nMereer Street\nSchiff Parkway\nE 201st Street\nBeaver Avenue\nE House Street\nLafayette\nW 19th Street \nW, Washington Market\nCooper Square W\nChamber Street\nE Street\nWashn Market\nLaurens Street\nS Pring Street\nUnion Square W\nPlaceeasant Avenue\nW, 127th Street\n4th Street\nVarvick Street\nW 1255th Street\nFrank Street\nGreemwich Street\nJerome\nDry Dock\nOld sl\n9th Mott Street\nWillet Street\n39th n Broadway\nAvenueue near W 14th Street\nW 207th Street\nE 187th Street\nPershing Square\n18th Avenue\nHarlen Market\nW 60th Street \n10th ave. C W 161st Street\nWorchester Square\nE 11th Street \nW 39th Street \nWashington Square S Street\n43rd Street\nCathedral Pkway Circle\nStation\nBronx Pk\nE 159th Street\nCity Island Avenue\nW 40th Street \nGreewich Street\n33rd Street\n138th n. Mott Avenue\nW 126th Street \nNassau\nUniversity pl\nBoulevard n W 77th Street\nE 174th Street\nW 15th Street \nStreet\nCedar Avenue\nCooper Street\nGoerick Street\n32-33rd Avenue\nTryon Avenue\nave. c. W 111th Street\nSquare\nSt. Nichoals Avenue\nE 19th Street \nCath Sl\n1566th Broadway Street\nHouse\n172nd Street\npark\nWestchester sq\nJeff Market\nColumbia Avenue\nBronx Pk Avenue\nEldridge\nN Ew Street\nW 18th Street \n60th Street\n22nd Street \n3rd A\nAvenueue 32nd Street\nE 73rd Street \nBloome Street\nCathedral Pkwy\nBroadway E\n60th c Broadway\nWoose Street\n49th Street\n71st Broad Street\nav. N Depot Place\nE 181st Street \nE 216th Street \n59th Street \nHarlem Market\nW 29th Street \n34th Street\nPark opposite E 72nd Street\nArthur Avenue\nW E Avenue\nW End Street\nE 183rd Street\nCourtlandt Avenue\nGourverneur Street\nE 181st Street\nFulton Market Street\nW 22nd Street \nCooper Square E Avenue\nCentral Park South\nAmseterdamn Avenue\nave. c. W 24th Street\nW 28th Street \nC.I. Street\nThompson AvenueW Washn Market\nCustom h\nSt. Broadway\nmaiden La\nAmseterdam Avenue\nJohn\nCath sl\nW 59th Street \n2678th Street\nW 225th Street\nLittle Street\nForest Avenue\nClaremont Pkwy\nFulton\nOrcharg Street\nS Blvd\n56th Street \nW 181st Street \nThames\nY. Zoo Park\nE Houston Avenue\nTrinity Place. Street\nE 59th Street \nPk\nVessey Street\nE Broadway Avenue\n21st Avenue\nW 215th Street \nmadison Avenue\nE 101st Street\nFranklin Market\nSedgwick av. N Depot Place\nave. N W 15th Street\nMorningside Avenue\nGansevoort n 13th Avenue\nPk opp E 104th Street\nBible Hill\n135th Street \nE 23rd d Street\nBroadwa\nav. C Webster Avenue\n"
     ]
    }
   ],
   "source": [
    "for street in streets_list:\n",
    "    if street not in master_list:\n",
    "        print(street)\n",
    "    "
   ]
  },
  {
   "cell_type": "markdown",
   "metadata": {},
   "source": [
    "### House Number"
   ]
  },
  {
   "cell_type": "code",
   "execution_count": 42,
   "metadata": {},
   "outputs": [
    {
     "output_type": "execute_result",
     "data": {
      "text/plain": [
       "     YR        DIR      PG TYPE                   NAME         ADDY BOROUGH  \\\n",
       "0  1920  Phillip's  1186.0  NaN  Lutes Restaurant Inc.  51 W 14 St.     NaN   \n",
       "\n",
       "       CITY     STATE HOUSENO  ... census_match_2 census_match_2p  \\\n",
       "0  New York  New York      51  ...            NaN             NaN   \n",
       "\n",
       "                                   NamePrismResponse NamePrismFirstClass  \\\n",
       "0  {'European,SouthSlavs': 0.013008041942021492, ...     European,French   \n",
       "\n",
       "  NamePrismSecondClass       NamePrismThirdClass  NO    STREET   street_clean  \\\n",
       "0      European,German  European,Italian,Romania  51  W 14 St.  W 14th Street   \n",
       "\n",
       "  num_clean  \n",
       "0        51  \n",
       "\n",
       "[1 rows x 34 columns]"
      ],
      "text/html": "<div>\n<style scoped>\n    .dataframe tbody tr th:only-of-type {\n        vertical-align: middle;\n    }\n\n    .dataframe tbody tr th {\n        vertical-align: top;\n    }\n\n    .dataframe thead th {\n        text-align: right;\n    }\n</style>\n<table border=\"1\" class=\"dataframe\">\n  <thead>\n    <tr style=\"text-align: right;\">\n      <th></th>\n      <th>YR</th>\n      <th>DIR</th>\n      <th>PG</th>\n      <th>TYPE</th>\n      <th>NAME</th>\n      <th>ADDY</th>\n      <th>BOROUGH</th>\n      <th>CITY</th>\n      <th>STATE</th>\n      <th>HOUSENO</th>\n      <th>...</th>\n      <th>census_match_2</th>\n      <th>census_match_2p</th>\n      <th>NamePrismResponse</th>\n      <th>NamePrismFirstClass</th>\n      <th>NamePrismSecondClass</th>\n      <th>NamePrismThirdClass</th>\n      <th>NO</th>\n      <th>STREET</th>\n      <th>street_clean</th>\n      <th>num_clean</th>\n    </tr>\n  </thead>\n  <tbody>\n    <tr>\n      <th>0</th>\n      <td>1920</td>\n      <td>Phillip's</td>\n      <td>1186.0</td>\n      <td>NaN</td>\n      <td>Lutes Restaurant Inc.</td>\n      <td>51 W 14 St.</td>\n      <td>NaN</td>\n      <td>New York</td>\n      <td>New York</td>\n      <td>51</td>\n      <td>...</td>\n      <td>NaN</td>\n      <td>NaN</td>\n      <td>{'European,SouthSlavs': 0.013008041942021492, ...</td>\n      <td>European,French</td>\n      <td>European,German</td>\n      <td>European,Italian,Romania</td>\n      <td>51</td>\n      <td>W 14 St.</td>\n      <td>W 14th Street</td>\n      <td>51</td>\n    </tr>\n  </tbody>\n</table>\n<p>1 rows × 34 columns</p>\n</div>"
     },
     "metadata": {},
     "execution_count": 42
    }
   ],
   "source": [
    "df['num_clean'] = df['NO']\n",
    "df.head(1)"
   ]
  },
  {
   "cell_type": "code",
   "execution_count": 43,
   "metadata": {},
   "outputs": [],
   "source": [
    "no = dict(df['num_clean'].value_counts())\n",
    "#sorted(no.items())"
   ]
  },
  {
   "cell_type": "code",
   "execution_count": null,
   "metadata": {},
   "outputs": [],
   "source": []
  },
  {
   "cell_type": "code",
   "execution_count": 44,
   "metadata": {},
   "outputs": [],
   "source": [
    "df['num_clean'] = df['num_clean'].dropna().apply(\n",
    "    lambda x: x.replace('th', '') if str(x).endswith('th') else x)"
   ]
  },
  {
   "cell_type": "code",
   "execution_count": 45,
   "metadata": {},
   "outputs": [],
   "source": [
    "df['num_clean'] = df['num_clean'].dropna().apply(\n",
    "    lambda x: x.replace('d', '') if str(x).endswith('d') else x)"
   ]
  },
  {
   "cell_type": "code",
   "execution_count": null,
   "metadata": {},
   "outputs": [],
   "source": []
  },
  {
   "cell_type": "code",
   "execution_count": null,
   "metadata": {},
   "outputs": [],
   "source": []
  },
  {
   "cell_type": "code",
   "execution_count": 46,
   "metadata": {},
   "outputs": [],
   "source": [
    "df.to_csv('cleaned/1898_address_CLEANED.csv')"
   ]
  },
  {
   "cell_type": "code",
   "execution_count": null,
   "metadata": {},
   "outputs": [],
   "source": []
  }
 ],
 "metadata": {
  "kernelspec": {
   "name": "python3",
   "language": "python",
   "display_name": "Python 3"
  },
  "language_info": {
   "codemirror_mode": {
    "name": "ipython",
    "version": 3
   },
   "file_extension": ".py",
   "mimetype": "text/x-python",
   "name": "python",
   "nbconvert_exporter": "python",
   "pygments_lexer": "ipython3",
   "version": "3.6.8-final"
  }
 },
 "nbformat": 4,
 "nbformat_minor": 4
}