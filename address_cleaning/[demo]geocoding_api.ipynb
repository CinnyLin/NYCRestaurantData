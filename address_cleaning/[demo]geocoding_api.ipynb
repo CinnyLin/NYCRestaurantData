{
 "cells": [
  {
   "cell_type": "code",
   "execution_count": 1,
   "metadata": {},
   "outputs": [],
   "source": [
    "import warnings\n",
    "warnings.filterwarnings('ignore')\n",
    "\n",
    "import pandas as pd\n",
    "pd.set_option('display.max_columns', 100)\n",
    "pd.set_option('display.max_rows', 100)\n",
    "\n",
    "import numpy as np\n",
    "import re \n",
    "import matplotlib.pyplot as plt\n",
    "import seaborn as sns\n",
    "\n",
    "from geographiclib.geodesic import Geodesic\n",
    "geod = Geodesic.WGS84\n",
    "\n",
    "from scipy.interpolate import interp1d\n",
    "\n",
    "from glob import glob\n",
    "\n",
    "import folium\n",
    "\n",
    "# !pip3 install geopy\n",
    "from geopy.distance import distance\n",
    "\n",
    "# !pip3 install iteround\n",
    "from iteround import saferound\n",
    "\n",
    "from collections import Counter\n",
    "\n",
    "def flatten_list(l):\n",
    "    return [item for sublist in l for item in sublist]\n",
    "\n",
    "def angleDiff(sourceA,targetA):\n",
    "    a = targetA - sourceA\n",
    "    a = (a + 180) % 360 - 180\n",
    "    return a\n",
    "\n",
    "def unique_num(x):\n",
    "    return len(set(x))\n",
    "    \n",
    "def add_degree_to_azimuth(current, change):\n",
    "    assert(abs(change)<180)\n",
    "    output = current+change\n",
    "    if output<-180:\n",
    "        output = 180-(-output-180)\n",
    "    elif output>180:\n",
    "        output = -180+(output-180)\n",
    "    if output == -180:\n",
    "        output = -output\n",
    "    return output\n",
    "\n",
    "def replace_word(x, dic):\n",
    "    for key,value in dic.items():\n",
    "        x = x.replace(key,value)\n",
    "    return x\n",
    "\n",
    "# !pip3 install fuzzywuzzy\n",
    "from fuzzywuzzy import fuzz"
   ]
  },
  {
   "cell_type": "markdown",
   "metadata": {},
   "source": [
    "## Start geocoding"
   ]
  },
  {
   "cell_type": "code",
   "execution_count": 2,
   "metadata": {},
   "outputs": [],
   "source": [
    "full = pd.read_csv('1880_streets_full.csv')\n",
    "full['building_num_range'] = full['building_num_range'].apply(lambda x: np.array(eval(x)))\n",
    "full['start_end_coordinates'] = full['start_end_coordinates'].apply(lambda x: np.array(eval(x)))\n",
    "\n",
    "\n",
    "streets = full.street_name.drop_duplicates().tolist()\n",
    "\n",
    "geo = pd.read_csv('Cleaned_manhattan.csv')"
   ]
  },
  {
   "cell_type": "code",
   "execution_count": 4,
   "metadata": {
    "scrolled": true
   },
   "outputs": [
    {
     "data": {
      "text/html": [
       "<div>\n",
       "<style scoped>\n",
       "    .dataframe tbody tr th:only-of-type {\n",
       "        vertical-align: middle;\n",
       "    }\n",
       "\n",
       "    .dataframe tbody tr th {\n",
       "        vertical-align: top;\n",
       "    }\n",
       "\n",
       "    .dataframe thead th {\n",
       "        text-align: right;\n",
       "    }\n",
       "</style>\n",
       "<table border=\"1\" class=\"dataframe\">\n",
       "  <thead>\n",
       "    <tr style=\"text-align: right;\">\n",
       "      <th></th>\n",
       "      <th>street_name</th>\n",
       "      <th>odd_on</th>\n",
       "      <th>avg_direction</th>\n",
       "      <th>building_num_range</th>\n",
       "      <th>start_end_coordinates</th>\n",
       "      <th>segment_length</th>\n",
       "      <th>segment_direction</th>\n",
       "      <th>building_num_range_length</th>\n",
       "      <th>avg_length_per_building</th>\n",
       "      <th>direction_deviation</th>\n",
       "      <th>road_type</th>\n",
       "      <th>offset_from_road_center</th>\n",
       "    </tr>\n",
       "  </thead>\n",
       "  <tbody>\n",
       "    <tr>\n",
       "      <th>0</th>\n",
       "      <td>10th avenue</td>\n",
       "      <td>left</td>\n",
       "      <td>9.438109</td>\n",
       "      <td>[1, 19]</td>\n",
       "      <td>[[40.739952, -74.009472], [40.741073, -74.0092...</td>\n",
       "      <td>126.194091</td>\n",
       "      <td>9.438109</td>\n",
       "      <td>19</td>\n",
       "      <td>6.641794</td>\n",
       "      <td>0.000000</td>\n",
       "      <td>Avenue</td>\n",
       "      <td>10</td>\n",
       "    </tr>\n",
       "    <tr>\n",
       "      <th>1</th>\n",
       "      <td>10th avenue</td>\n",
       "      <td>left</td>\n",
       "      <td>29.586666</td>\n",
       "      <td>[20, 43]</td>\n",
       "      <td>[[40.741073, -74.009227], [40.741552, -74.0089...</td>\n",
       "      <td>95.813888</td>\n",
       "      <td>31.457163</td>\n",
       "      <td>24</td>\n",
       "      <td>3.992245</td>\n",
       "      <td>-1.870497</td>\n",
       "      <td>Avenue</td>\n",
       "      <td>10</td>\n",
       "    </tr>\n",
       "    <tr>\n",
       "      <th>2</th>\n",
       "      <td>10th avenue</td>\n",
       "      <td>left</td>\n",
       "      <td>29.586666</td>\n",
       "      <td>[44, 57]</td>\n",
       "      <td>[[40.741552, -74.008912], [40.742288, -74.00832]]</td>\n",
       "      <td>59.475289</td>\n",
       "      <td>26.573321</td>\n",
       "      <td>14</td>\n",
       "      <td>4.248235</td>\n",
       "      <td>3.013345</td>\n",
       "      <td>Avenue</td>\n",
       "      <td>10</td>\n",
       "    </tr>\n",
       "    <tr>\n",
       "      <th>3</th>\n",
       "      <td>10th avenue</td>\n",
       "      <td>left</td>\n",
       "      <td>27.736630</td>\n",
       "      <td>[58, 77]</td>\n",
       "      <td>[[40.742288, -74.00832], [40.742928, -74.007856]]</td>\n",
       "      <td>81.474865</td>\n",
       "      <td>26.604547</td>\n",
       "      <td>20</td>\n",
       "      <td>4.073743</td>\n",
       "      <td>1.132084</td>\n",
       "      <td>Avenue</td>\n",
       "      <td>10</td>\n",
       "    </tr>\n",
       "    <tr>\n",
       "      <th>4</th>\n",
       "      <td>10th avenue</td>\n",
       "      <td>left</td>\n",
       "      <td>27.736630</td>\n",
       "      <td>[78, 95]</td>\n",
       "      <td>[[40.742928, -74.007856], [40.743584, -74.0074...</td>\n",
       "      <td>81.160360</td>\n",
       "      <td>28.873101</td>\n",
       "      <td>18</td>\n",
       "      <td>4.508909</td>\n",
       "      <td>-1.136471</td>\n",
       "      <td>Avenue</td>\n",
       "      <td>10</td>\n",
       "    </tr>\n",
       "  </tbody>\n",
       "</table>\n",
       "</div>"
      ],
      "text/plain": [
       "   street_name odd_on  avg_direction building_num_range  \\\n",
       "0  10th avenue   left       9.438109            [1, 19]   \n",
       "1  10th avenue   left      29.586666           [20, 43]   \n",
       "2  10th avenue   left      29.586666           [44, 57]   \n",
       "3  10th avenue   left      27.736630           [58, 77]   \n",
       "4  10th avenue   left      27.736630           [78, 95]   \n",
       "\n",
       "                               start_end_coordinates  segment_length  \\\n",
       "0  [[40.739952, -74.009472], [40.741073, -74.0092...      126.194091   \n",
       "1  [[40.741073, -74.009227], [40.741552, -74.0089...       95.813888   \n",
       "2  [[40.741552, -74.008912], [40.742288, -74.00832]]       59.475289   \n",
       "3  [[40.742288, -74.00832], [40.742928, -74.007856]]       81.474865   \n",
       "4  [[40.742928, -74.007856], [40.743584, -74.0074...       81.160360   \n",
       "\n",
       "   segment_direction  building_num_range_length  avg_length_per_building  \\\n",
       "0           9.438109                         19                 6.641794   \n",
       "1          31.457163                         24                 3.992245   \n",
       "2          26.573321                         14                 4.248235   \n",
       "3          26.604547                         20                 4.073743   \n",
       "4          28.873101                         18                 4.508909   \n",
       "\n",
       "   direction_deviation road_type  offset_from_road_center  \n",
       "0             0.000000    Avenue                       10  \n",
       "1            -1.870497    Avenue                       10  \n",
       "2             3.013345    Avenue                       10  \n",
       "3             1.132084    Avenue                       10  \n",
       "4            -1.136471    Avenue                       10  "
      ]
     },
     "execution_count": 4,
     "metadata": {},
     "output_type": "execute_result"
    }
   ],
   "source": [
    "full.head()"
   ]
  },
  {
   "cell_type": "code",
   "execution_count": 3,
   "metadata": {},
   "outputs": [
    {
     "data": {
      "text/html": [
       "<div>\n",
       "<style scoped>\n",
       "    .dataframe tbody tr th:only-of-type {\n",
       "        vertical-align: middle;\n",
       "    }\n",
       "\n",
       "    .dataframe tbody tr th {\n",
       "        vertical-align: top;\n",
       "    }\n",
       "\n",
       "    .dataframe thead th {\n",
       "        text-align: right;\n",
       "    }\n",
       "</style>\n",
       "<table border=\"1\" class=\"dataframe\">\n",
       "  <thead>\n",
       "    <tr style=\"text-align: right;\">\n",
       "      <th></th>\n",
       "      <th>DataID</th>\n",
       "      <th>RecordId</th>\n",
       "      <th>Name</th>\n",
       "      <th>First Name</th>\n",
       "      <th>Middle Name</th>\n",
       "      <th>Surname</th>\n",
       "      <th>HouseHoldId</th>\n",
       "      <th>Street Name</th>\n",
       "      <th>House Number</th>\n",
       "      <th>Dwelling Number</th>\n",
       "      <th>Own or Rent</th>\n",
       "      <th>Relationship</th>\n",
       "      <th>Gender</th>\n",
       "      <th>Race</th>\n",
       "      <th>Age</th>\n",
       "      <th>Marital Status</th>\n",
       "      <th>Number of Years of Present Marriage</th>\n",
       "      <th>Number of Children Born</th>\n",
       "      <th>Number of Children Living</th>\n",
       "      <th>Birthplace</th>\n",
       "      <th>Father's Birthplace</th>\n",
       "      <th>Mother's Birthplace</th>\n",
       "      <th>US Born</th>\n",
       "      <th>Immigration Year</th>\n",
       "      <th>Naturalization Status</th>\n",
       "      <th>Self Native Tongue</th>\n",
       "      <th>Occupation</th>\n",
       "      <th>Industry</th>\n",
       "      <th>Self Employed or Not</th>\n",
       "      <th>Out of Work on April 15</th>\n",
       "      <th>Number of Weeks Out of Work</th>\n",
       "      <th>Can Read</th>\n",
       "      <th>Can Write</th>\n",
       "      <th>Attended School</th>\n",
       "      <th>Blind</th>\n",
       "      <th>Deaf and Dumb</th>\n",
       "      <th>Enumeration District Number</th>\n",
       "      <th>Ward of City</th>\n",
       "    </tr>\n",
       "  </thead>\n",
       "  <tbody>\n",
       "    <tr>\n",
       "      <th>0</th>\n",
       "      <td>4449800_00006</td>\n",
       "      <td>18491317</td>\n",
       "      <td>August Mohr</td>\n",
       "      <td>August</td>\n",
       "      <td>NaN</td>\n",
       "      <td>Mohr</td>\n",
       "      <td>18491317</td>\n",
       "      <td>Whitehall St</td>\n",
       "      <td>28-3</td>\n",
       "      <td>1.0</td>\n",
       "      <td>Rent</td>\n",
       "      <td>Head</td>\n",
       "      <td>Male</td>\n",
       "      <td>White</td>\n",
       "      <td>24.0</td>\n",
       "      <td>Married</td>\n",
       "      <td>2</td>\n",
       "      <td>NaN</td>\n",
       "      <td>NaN</td>\n",
       "      <td>New York</td>\n",
       "      <td>Germany</td>\n",
       "      <td>New York</td>\n",
       "      <td>True</td>\n",
       "      <td>Inapplicable</td>\n",
       "      <td>Inapplicable</td>\n",
       "      <td>English</td>\n",
       "      <td>Laborer</td>\n",
       "      <td>Produce</td>\n",
       "      <td>Wage Earner</td>\n",
       "      <td>False</td>\n",
       "      <td>6.0</td>\n",
       "      <td>Yes</td>\n",
       "      <td>Yes</td>\n",
       "      <td>No</td>\n",
       "      <td>False</td>\n",
       "      <td>False</td>\n",
       "      <td>1</td>\n",
       "      <td>1</td>\n",
       "    </tr>\n",
       "    <tr>\n",
       "      <th>1</th>\n",
       "      <td>4449800_00162</td>\n",
       "      <td>123472341</td>\n",
       "      <td>Fredrick Val Diem</td>\n",
       "      <td>Fredrick</td>\n",
       "      <td>Val</td>\n",
       "      <td>Diem</td>\n",
       "      <td>18494569</td>\n",
       "      <td>Washington Street</td>\n",
       "      <td>3</td>\n",
       "      <td>2.0</td>\n",
       "      <td>NaN</td>\n",
       "      <td>Son</td>\n",
       "      <td>Male</td>\n",
       "      <td>White</td>\n",
       "      <td>1.0</td>\n",
       "      <td>Single</td>\n",
       "      <td>Inapplicable</td>\n",
       "      <td>NaN</td>\n",
       "      <td>NaN</td>\n",
       "      <td>New York</td>\n",
       "      <td>Germany</td>\n",
       "      <td>Hungary</td>\n",
       "      <td>True</td>\n",
       "      <td>Inapplicable</td>\n",
       "      <td>Inapplicable</td>\n",
       "      <td>Unknown</td>\n",
       "      <td>English</td>\n",
       "      <td>NaN</td>\n",
       "      <td>NaN</td>\n",
       "      <td>NaN</td>\n",
       "      <td>NaN</td>\n",
       "      <td>NaN</td>\n",
       "      <td>NaN</td>\n",
       "      <td>NaN</td>\n",
       "      <td>False</td>\n",
       "      <td>False</td>\n",
       "      <td>6</td>\n",
       "      <td>1</td>\n",
       "    </tr>\n",
       "    <tr>\n",
       "      <th>2</th>\n",
       "      <td>4449800_00162</td>\n",
       "      <td>18494554</td>\n",
       "      <td>William Hassen</td>\n",
       "      <td>William</td>\n",
       "      <td>NaN</td>\n",
       "      <td>Hassen</td>\n",
       "      <td>18494554</td>\n",
       "      <td>Washington Street</td>\n",
       "      <td>3</td>\n",
       "      <td>2.0</td>\n",
       "      <td>Rent</td>\n",
       "      <td>Head</td>\n",
       "      <td>Male</td>\n",
       "      <td>White</td>\n",
       "      <td>21.0</td>\n",
       "      <td>Married</td>\n",
       "      <td>6</td>\n",
       "      <td>NaN</td>\n",
       "      <td>NaN</td>\n",
       "      <td>Turkey</td>\n",
       "      <td>Turkey</td>\n",
       "      <td>Turkey</td>\n",
       "      <td>False</td>\n",
       "      <td>1904.0</td>\n",
       "      <td>Papers</td>\n",
       "      <td>English</td>\n",
       "      <td>Proprietor</td>\n",
       "      <td>Dry Goods</td>\n",
       "      <td>Own Account</td>\n",
       "      <td>NaN</td>\n",
       "      <td>NaN</td>\n",
       "      <td>Yes</td>\n",
       "      <td>Yes</td>\n",
       "      <td>NaN</td>\n",
       "      <td>False</td>\n",
       "      <td>False</td>\n",
       "      <td>6</td>\n",
       "      <td>1</td>\n",
       "    </tr>\n",
       "    <tr>\n",
       "      <th>3</th>\n",
       "      <td>4449800_00162</td>\n",
       "      <td>123472343</td>\n",
       "      <td>Naffie Hassen</td>\n",
       "      <td>Naffie</td>\n",
       "      <td>NaN</td>\n",
       "      <td>Hassen</td>\n",
       "      <td>18494554</td>\n",
       "      <td>Washington Street</td>\n",
       "      <td>3</td>\n",
       "      <td>2.0</td>\n",
       "      <td>NaN</td>\n",
       "      <td>Wife</td>\n",
       "      <td>Female</td>\n",
       "      <td>White</td>\n",
       "      <td>25.0</td>\n",
       "      <td>Married</td>\n",
       "      <td>6</td>\n",
       "      <td>3.0</td>\n",
       "      <td>2.0</td>\n",
       "      <td>Turkey</td>\n",
       "      <td>Turkey</td>\n",
       "      <td>Turkey</td>\n",
       "      <td>False</td>\n",
       "      <td>1904.0</td>\n",
       "      <td>NaN</td>\n",
       "      <td>English</td>\n",
       "      <td>NaN</td>\n",
       "      <td>NaN</td>\n",
       "      <td>NaN</td>\n",
       "      <td>NaN</td>\n",
       "      <td>NaN</td>\n",
       "      <td>Yes</td>\n",
       "      <td>Yes</td>\n",
       "      <td>NaN</td>\n",
       "      <td>False</td>\n",
       "      <td>False</td>\n",
       "      <td>6</td>\n",
       "      <td>1</td>\n",
       "    </tr>\n",
       "    <tr>\n",
       "      <th>4</th>\n",
       "      <td>4449800_00162</td>\n",
       "      <td>123472344</td>\n",
       "      <td>Samuel Hassen</td>\n",
       "      <td>Samuel</td>\n",
       "      <td>NaN</td>\n",
       "      <td>Hassen</td>\n",
       "      <td>18494554</td>\n",
       "      <td>Washington Street</td>\n",
       "      <td>3</td>\n",
       "      <td>2.0</td>\n",
       "      <td>NaN</td>\n",
       "      <td>Son</td>\n",
       "      <td>Male</td>\n",
       "      <td>White</td>\n",
       "      <td>4.0</td>\n",
       "      <td>Single</td>\n",
       "      <td>Inapplicable</td>\n",
       "      <td>NaN</td>\n",
       "      <td>NaN</td>\n",
       "      <td>New York</td>\n",
       "      <td>Turkey</td>\n",
       "      <td>Turkey</td>\n",
       "      <td>True</td>\n",
       "      <td>Inapplicable</td>\n",
       "      <td>Inapplicable</td>\n",
       "      <td>English</td>\n",
       "      <td>NaN</td>\n",
       "      <td>NaN</td>\n",
       "      <td>NaN</td>\n",
       "      <td>NaN</td>\n",
       "      <td>NaN</td>\n",
       "      <td>NaN</td>\n",
       "      <td>NaN</td>\n",
       "      <td>NaN</td>\n",
       "      <td>False</td>\n",
       "      <td>False</td>\n",
       "      <td>6</td>\n",
       "      <td>1</td>\n",
       "    </tr>\n",
       "  </tbody>\n",
       "</table>\n",
       "</div>"
      ],
      "text/plain": [
       "          DataID   RecordId               Name First Name Middle Name Surname  \\\n",
       "0  4449800_00006   18491317        August Mohr     August         NaN    Mohr   \n",
       "1  4449800_00162  123472341  Fredrick Val Diem   Fredrick         Val    Diem   \n",
       "2  4449800_00162   18494554     William Hassen    William         NaN  Hassen   \n",
       "3  4449800_00162  123472343      Naffie Hassen     Naffie         NaN  Hassen   \n",
       "4  4449800_00162  123472344      Samuel Hassen     Samuel         NaN  Hassen   \n",
       "\n",
       "   HouseHoldId        Street Name House Number Dwelling Number Own or Rent  \\\n",
       "0     18491317       Whitehall St         28-3             1.0        Rent   \n",
       "1     18494569  Washington Street            3             2.0         NaN   \n",
       "2     18494554  Washington Street            3             2.0        Rent   \n",
       "3     18494554  Washington Street            3             2.0         NaN   \n",
       "4     18494554  Washington Street            3             2.0         NaN   \n",
       "\n",
       "  Relationship  Gender   Race   Age Marital Status  \\\n",
       "0         Head    Male  White  24.0        Married   \n",
       "1          Son    Male  White   1.0         Single   \n",
       "2         Head    Male  White  21.0        Married   \n",
       "3         Wife  Female  White  25.0        Married   \n",
       "4          Son    Male  White   4.0         Single   \n",
       "\n",
       "  Number of Years of Present Marriage  Number of Children Born  \\\n",
       "0                                   2                      NaN   \n",
       "1                        Inapplicable                      NaN   \n",
       "2                                   6                      NaN   \n",
       "3                                   6                      3.0   \n",
       "4                        Inapplicable                      NaN   \n",
       "\n",
       "   Number of Children Living Birthplace Father's Birthplace  \\\n",
       "0                        NaN   New York             Germany   \n",
       "1                        NaN   New York             Germany   \n",
       "2                        NaN     Turkey              Turkey   \n",
       "3                        2.0     Turkey              Turkey   \n",
       "4                        NaN   New York              Turkey   \n",
       "\n",
       "  Mother's Birthplace  US Born Immigration Year Naturalization Status  \\\n",
       "0            New York     True     Inapplicable          Inapplicable   \n",
       "1             Hungary     True     Inapplicable          Inapplicable   \n",
       "2              Turkey    False           1904.0                Papers   \n",
       "3              Turkey    False           1904.0                   NaN   \n",
       "4              Turkey     True     Inapplicable          Inapplicable   \n",
       "\n",
       "  Self Native Tongue  Occupation   Industry Self Employed or Not  \\\n",
       "0            English     Laborer    Produce          Wage Earner   \n",
       "1            Unknown     English        NaN                  NaN   \n",
       "2            English  Proprietor  Dry Goods          Own Account   \n",
       "3            English         NaN        NaN                  NaN   \n",
       "4            English         NaN        NaN                  NaN   \n",
       "\n",
       "  Out of Work on April 15  Number of Weeks Out of Work Can Read Can Write  \\\n",
       "0                   False                          6.0      Yes       Yes   \n",
       "1                     NaN                          NaN      NaN       NaN   \n",
       "2                     NaN                          NaN      Yes       Yes   \n",
       "3                     NaN                          NaN      Yes       Yes   \n",
       "4                     NaN                          NaN      NaN       NaN   \n",
       "\n",
       "  Attended School  Blind  Deaf and Dumb Enumeration District Number  \\\n",
       "0              No  False          False                           1   \n",
       "1             NaN  False          False                           6   \n",
       "2             NaN  False          False                           6   \n",
       "3             NaN  False          False                           6   \n",
       "4             NaN  False          False                           6   \n",
       "\n",
       "   Ward of City  \n",
       "0             1  \n",
       "1             1  \n",
       "2             1  \n",
       "3             1  \n",
       "4             1  "
      ]
     },
     "execution_count": 3,
     "metadata": {},
     "output_type": "execute_result"
    }
   ],
   "source": [
    "geo.head()"
   ]
  },
  {
   "cell_type": "code",
   "execution_count": 7,
   "metadata": {},
   "outputs": [],
   "source": [
    "# geo['Street Name'].value_counts()[:100]"
   ]
  },
  {
   "cell_type": "code",
   "execution_count": 8,
   "metadata": {},
   "outputs": [],
   "source": [
    "ordinal_correction_mapping = pd.DataFrame([e.split() for e in '''1st\tfirst\n",
    "2nd\tsecond\n",
    "3rd\tthird\n",
    "4th\tfourth\n",
    "5th\tfifth\n",
    "6th\tsixth\n",
    "7th\tseventh\n",
    "8th\teighth\n",
    "9th\tninth\n",
    "10th\ttenth\n",
    "11th\televenth\n",
    "12th\ttwelfth\n",
    "13th\tthirteenth\n",
    "14th\tfourteenth\n",
    "15th\tfifteenth\n",
    "16th\tsixteenth\n",
    "17th\tseventeenth\n",
    "18th\teighteenth\n",
    "19th\tnineteenth\n",
    "20th\ttwentieth'''.split('\\n')]).set_index(1).to_dict()[0]"
   ]
  },
  {
   "cell_type": "code",
   "execution_count": 10,
   "metadata": {},
   "outputs": [],
   "source": [
    "address_correction_mapping = {' ship':' slip'}\n",
    " \n",
    "address_correction_mapping.update(ordinal_correction_mapping)\n",
    "\n",
    "direction_mapping = {'west ':'w ','east ':'e ','north ':'n ','south ':'s '}"
   ]
  },
  {
   "cell_type": "code",
   "execution_count": 11,
   "metadata": {},
   "outputs": [],
   "source": [
    "geo['Street Name New'] = geo['Street Name'].apply(lambda x: replace_word(x.lower(),address_correction_mapping))\n",
    "\n",
    "geo['Street Name New'] = geo['Street Name New'].apply(lambda x: x.replace(' st',' street') if x.endswith(' st') else x)\n",
    "\n",
    "geo['Street Name New'] = geo['Street Name New'].apply(lambda x: re.sub(r'[^a-zA-Z0-9\\s]+','',x))"
   ]
  },
  {
   "cell_type": "code",
   "execution_count": 13,
   "metadata": {},
   "outputs": [],
   "source": [
    "raw_streets = geo['Street Name New'].value_counts().index.tolist()"
   ]
  },
  {
   "cell_type": "code",
   "execution_count": 35,
   "metadata": {},
   "outputs": [],
   "source": [
    "def get_potential_match(this_street_name):\n",
    "\n",
    "    if this_street_name in streets:\n",
    "        return this_street_name\n",
    "    \n",
    "    if this_street_name+' street' in streets:\n",
    "        return this_street_name+' street'\n",
    "    \n",
    "    prefix = ''\n",
    "    number_street = False\n",
    "    if this_street_name.startswith('east ') or this_street_name.startswith('west ') or this_street_name.startswith('e ') or this_street_name.startswith('w '):\n",
    "        prefix = this_street_name.split()[0][0] + ' '\n",
    "        x = this_street_name.split(' ',1)[1]\n",
    "    else:\n",
    "        x = this_street_name\n",
    "    if len(re.findall(r'^\\d+(?:th|st|nd|rd|) (?:street|st|avenue|ave)$',x))>0:\n",
    "        number_street = True\n",
    "        num, road_type = x.split()\n",
    "        if num.isnumeric():\n",
    "            if num[-2:] in ['11','12','13']:\n",
    "                num = num+'th'\n",
    "            else:\n",
    "                if num[-1]=='1':\n",
    "                    num = num+'st'\n",
    "                elif num[-1]=='2':\n",
    "                    num = num+'nd'\n",
    "                elif num[-1]=='3':\n",
    "                    num = num+'rd'\n",
    "                else: \n",
    "                    num = num+'th'\n",
    "            this_street_name = prefix + num + ' ' + ('avenue' if road_type == 'ave' else 'street' if road_type == 'st' else road_type)\n",
    "\n",
    "    \n",
    "    if this_street_name.startswith('ave ') or this_street_name.startswith('avenue '):\n",
    "        this_street_name = this_street_name.replace('ave ','').replace('avenue ','')+' avenue'\n",
    "        \n",
    "    if this_street_name.endswith(' ave'):\n",
    "        this_street_name = this_street_name.replace(' ave',' avenue')\n",
    "    \n",
    "    if not re.sub(r'\\s+','',this_street_name).isalpha():\n",
    "        this_street_name = replace_word(this_street_name,direction_mapping)\n",
    "    \n",
    "    if this_street_name in streets:\n",
    "        return this_street_name\n",
    "    else:\n",
    "        if number_street:\n",
    "            if 'e ' + this_street_name in streets or 'w ' + this_street_name in streets:\n",
    "                return this_street_name\n",
    "    \n",
    "    \n",
    "    streets_df = pd.DataFrame(zip(streets),columns = ['street_name'])\n",
    "\n",
    "    streets_df['match_score'] = -streets_df['street_name'].apply(lambda x: fuzz.partial_ratio(x,this_street_name))\n",
    "\n",
    "    streets_df = streets_df.sort_values('match_score')\n",
    "\n",
    "    streets_df['ranking'] = streets_df['match_score'].rank(method='dense')\n",
    "\n",
    "    potentials = streets_df[streets_df['ranking']==1].street_name.tolist()    \n",
    "    \n",
    "    return '?' + ', '.join(potentials)"
   ]
  },
  {
   "cell_type": "code",
   "execution_count": 36,
   "metadata": {},
   "outputs": [],
   "source": [
    "potential_matched_streets = [get_potential_match(s) for s in raw_streets]"
   ]
  },
  {
   "cell_type": "code",
   "execution_count": 37,
   "metadata": {},
   "outputs": [],
   "source": [
    "raw_and_potential = pd.DataFrame(zip(raw_streets,potential_matched_streets), columns=['raw','potential'])"
   ]
  },
  {
   "cell_type": "code",
   "execution_count": 38,
   "metadata": {},
   "outputs": [],
   "source": [
    "raw_and_potential['counts'] = geo['Street Name New'].value_counts().values"
   ]
  },
  {
   "cell_type": "code",
   "execution_count": 39,
   "metadata": {},
   "outputs": [
    {
     "data": {
      "text/plain": [
       "0.792794456476298"
      ]
     },
     "execution_count": 39,
     "metadata": {},
     "output_type": "execute_result"
    }
   ],
   "source": [
    "matched = raw_and_potential[~raw_and_potential.potential.str.startswith('?')].copy()\n",
    "\n",
    "auto_matched_mapping = matched.drop('counts',axis=1).set_index('raw').to_dict()['potential']\n",
    "\n",
    "matched.counts.sum()/raw_and_potential.counts.sum()"
   ]
  },
  {
   "cell_type": "code",
   "execution_count": 42,
   "metadata": {
    "scrolled": true
   },
   "outputs": [
    {
     "data": {
      "text/plain": [
       "0.1546566416355218"
      ]
     },
     "execution_count": 42,
     "metadata": {},
     "output_type": "execute_result"
    }
   ],
   "source": [
    "need_fix = raw_and_potential[(raw_and_potential.potential.str.startswith('?'))&(raw_and_potential.counts>100)].copy()\n",
    "\n",
    "need_fix.to_csv('need_fix.csv',index=False)\n",
    "\n",
    "need_fix.counts.sum()/raw_and_potential.counts.sum()"
   ]
  },
  {
   "cell_type": "code",
   "execution_count": 44,
   "metadata": {},
   "outputs": [],
   "source": [
    "fixed = pd.read_csv('fixed.csv')\n",
    "\n",
    "manual_fixed_mapping = fixed[fixed.potential!='?'].drop('counts',axis=1).set_index('raw').to_dict()['potential']\n",
    "\n",
    "auto_matched_mapping.update(manual_fixed_mapping)"
   ]
  },
  {
   "cell_type": "code",
   "execution_count": 34,
   "metadata": {},
   "outputs": [],
   "source": [
    "# import pickle\n",
    "# pickle.dump(auto_matched_mapping,open('_auto_matched_mapping.txt','wb'))"
   ]
  },
  {
   "cell_type": "code",
   "execution_count": 46,
   "metadata": {},
   "outputs": [],
   "source": [
    "geo['Street Name New'] = geo['Street Name New'].apply(lambda x: auto_matched_mapping[x] if x in auto_matched_mapping.keys() else '?'+x)"
   ]
  },
  {
   "cell_type": "code",
   "execution_count": 55,
   "metadata": {},
   "outputs": [],
   "source": [
    "def get_house_number(x):\n",
    "    \n",
    "    x = x.replace(' to ',' - ').replace('.0','')\n",
    "    x = ''.join([letter for letter in list(x) if not letter.isalpha()]).strip()\n",
    "    x = re.sub(r'(\\d+) \\d/\\d',r'\\1',x)\n",
    "    x = re.sub(r'\\s*(\\&|\\+|\\-|\\/)\\s*','-',x)\n",
    "    x = re.sub(r'(\\d+)\\s+(\\d+)',r'\\1-\\2',x)\n",
    "    x = x.replace('#','').replace('%','').replace('(','').replace(')','')\n",
    "    x = re.sub(r'\\-$','',x)\n",
    "    x = x.strip()\n",
    "\n",
    "    if x=='':\n",
    "        return np.nan\n",
    "    \n",
    "    try:\n",
    "        num = int(x)\n",
    "        return num\n",
    "    except:\n",
    "        \n",
    "        try:\n",
    "        \n",
    "            num_li = x.split('-')\n",
    "            start,end = num_li[0],num_li[-1]\n",
    "\n",
    "            if len(end)>len(start):\n",
    "                num = np.nan\n",
    "            elif len(end) == len(start):\n",
    "                if int(end)<=int(start):\n",
    "                    num = np.nan\n",
    "                else:\n",
    "                    num = (int(end)+int(start))//2\n",
    "            elif len(end)<len(start):\n",
    "                start_latter_digits = start[-len(end):]\n",
    "                if int(end)<=int(start_latter_digits):\n",
    "                    num = np.nan\n",
    "                else:        \n",
    "                    middle = (int(start_latter_digits)+int(end))//2\n",
    "                    num = int(start[:-len(end)])*(10**len(start_latter_digits)) + middle\n",
    "        \n",
    "            return num\n",
    "        \n",
    "        except:\n",
    "            \n",
    "            return x"
   ]
  },
  {
   "cell_type": "code",
   "execution_count": 56,
   "metadata": {},
   "outputs": [],
   "source": [
    "geo['House Number New'] = geo['House Number'].apply(get_house_number)"
   ]
  },
  {
   "cell_type": "code",
   "execution_count": 57,
   "metadata": {},
   "outputs": [],
   "source": [
    "assert(geo['House Number New'].apply(lambda x: isinstance(x,str)).sum()==0)"
   ]
  },
  {
   "cell_type": "code",
   "execution_count": 58,
   "metadata": {},
   "outputs": [
    {
     "data": {
      "text/plain": [
       "16186"
      ]
     },
     "execution_count": 58,
     "metadata": {},
     "output_type": "execute_result"
    }
   ],
   "source": [
    "geo['House Number New'].isnull().sum()"
   ]
  },
  {
   "cell_type": "code",
   "execution_count": 276,
   "metadata": {},
   "outputs": [],
   "source": [
    "street_name_to_max_building_num = full.groupby('street_name')['building_num_range'].apply(list).apply(lambda li: max([t[-1] for t in li])).to_dict()\n",
    "def ensure_building_num_valid(street_name, building_num):\n",
    "    if np.isnan(building_num):\n",
    "        return building_num\n",
    "    upper_bound = street_name_to_max_building_num[street_name] if street_name in street_name_to_max_building_num.keys() else 999\n",
    "    if building_num>upper_bound:\n",
    "        building_num_string = str(int(building_num))\n",
    "        \n",
    "        half_length = len(building_num_string)//2\n",
    "        start = int(building_num_string[:half_length])\n",
    "        end = int(building_num_string[half_length:])\n",
    "        middle = (start+end)//2\n",
    "        \n",
    "        if start<end and middle<=upper_bound:\n",
    "            return middle\n",
    "        else:\n",
    "            return np.nan\n",
    "    else:\n",
    "        return building_num\n",
    "    "
   ]
  },
  {
   "cell_type": "code",
   "execution_count": 288,
   "metadata": {},
   "outputs": [],
   "source": [
    "\n",
    "geo.loc[geo['House Number New'].notnull(),'House Number New'] = geo.loc[geo['House Number New'].notnull(),['House Number New','Street Name New']].apply(lambda row: ensure_building_num_valid(row['Street Name New'], row['House Number New']), axis=1)\n"
   ]
  },
  {
   "cell_type": "code",
   "execution_count": 289,
   "metadata": {
    "scrolled": true
   },
   "outputs": [
    {
     "data": {
      "text/plain": [
       "25958"
      ]
     },
     "execution_count": 289,
     "metadata": {},
     "output_type": "execute_result"
    }
   ],
   "source": [
    "geo['House Number New'].isnull().sum()"
   ]
  },
  {
   "cell_type": "code",
   "execution_count": 304,
   "metadata": {},
   "outputs": [],
   "source": [
    "geo['Street Name New'] = geo['Street Name New'].apply(lambda x: np.nan if x.startswith('?') else x)"
   ]
  },
  {
   "cell_type": "code",
   "execution_count": 307,
   "metadata": {},
   "outputs": [],
   "source": [
    "geo['Address'] = np.nan"
   ]
  },
  {
   "cell_type": "code",
   "execution_count": 310,
   "metadata": {},
   "outputs": [],
   "source": [
    "geo.loc[(geo['Street Name New'].notnull()) & (geo['House Number New'].notnull()), 'Address'] = geo.loc[(geo['Street Name New'].notnull()) & (geo['House Number New'].notnull()),['Street Name New','House Number New']].apply(lambda row: row['Street Name New'] + ' ' + str(int(row['House Number New'])), axis=1)"
   ]
  },
  {
   "cell_type": "code",
   "execution_count": 315,
   "metadata": {},
   "outputs": [],
   "source": [
    "geo.to_csv('_Manhattan_with_address.csv',index=False)"
   ]
  },
  {
   "cell_type": "markdown",
   "metadata": {},
   "source": [
    "### E & W of a street should be searchable with street name"
   ]
  },
  {
   "cell_type": "code",
   "execution_count": 331,
   "metadata": {
    "scrolled": false
   },
   "outputs": [
    {
     "data": {
      "text/html": [
       "<div>\n",
       "<style scoped>\n",
       "    .dataframe tbody tr th:only-of-type {\n",
       "        vertical-align: middle;\n",
       "    }\n",
       "\n",
       "    .dataframe tbody tr th {\n",
       "        vertical-align: top;\n",
       "    }\n",
       "\n",
       "    .dataframe thead th {\n",
       "        text-align: right;\n",
       "    }\n",
       "</style>\n",
       "<table border=\"1\" class=\"dataframe\">\n",
       "  <thead>\n",
       "    <tr style=\"text-align: right;\">\n",
       "      <th></th>\n",
       "      <th>street_name</th>\n",
       "      <th>odd_on</th>\n",
       "      <th>avg_direction</th>\n",
       "      <th>building_num_range</th>\n",
       "      <th>start_end_coordinates</th>\n",
       "      <th>segment_length</th>\n",
       "      <th>segment_direction</th>\n",
       "      <th>building_num_range_length</th>\n",
       "      <th>avg_length_per_building</th>\n",
       "      <th>direction_deviation</th>\n",
       "      <th>road_type</th>\n",
       "      <th>offset_from_road_center</th>\n",
       "    </tr>\n",
       "  </thead>\n",
       "  <tbody>\n",
       "    <tr>\n",
       "      <th>23</th>\n",
       "      <td>e houston street</td>\n",
       "      <td>right</td>\n",
       "      <td>107.045830</td>\n",
       "      <td>[465, 472]</td>\n",
       "      <td>[[40.719946, -73.977607], [40.719796, -73.9769...</td>\n",
       "      <td>56.823608</td>\n",
       "      <td>107.045830</td>\n",
       "      <td>8</td>\n",
       "      <td>7.102951</td>\n",
       "      <td>0.000000</td>\n",
       "      <td>Street</td>\n",
       "      <td>5</td>\n",
       "    </tr>\n",
       "    <tr>\n",
       "      <th>24</th>\n",
       "      <td>e houston street</td>\n",
       "      <td>right</td>\n",
       "      <td>108.392973</td>\n",
       "      <td>[473, 512]</td>\n",
       "      <td>[[40.719796, -73.976964], [40.719522, -73.9758...</td>\n",
       "      <td>96.429708</td>\n",
       "      <td>108.392973</td>\n",
       "      <td>40</td>\n",
       "      <td>2.410743</td>\n",
       "      <td>0.000000</td>\n",
       "      <td>Street</td>\n",
       "      <td>5</td>\n",
       "    </tr>\n",
       "    <tr>\n",
       "      <th>25</th>\n",
       "      <td>w houston street</td>\n",
       "      <td>left</td>\n",
       "      <td>-56.415274</td>\n",
       "      <td>[1, 22]</td>\n",
       "      <td>[[40.725984, -73.99664], [40.726384, -73.997456]]</td>\n",
       "      <td>78.550051</td>\n",
       "      <td>-53.976604</td>\n",
       "      <td>22</td>\n",
       "      <td>3.570457</td>\n",
       "      <td>-2.438670</td>\n",
       "      <td>Street</td>\n",
       "      <td>5</td>\n",
       "    </tr>\n",
       "    <tr>\n",
       "      <th>26</th>\n",
       "      <td>w houston street</td>\n",
       "      <td>left</td>\n",
       "      <td>-56.415274</td>\n",
       "      <td>[23, 43]</td>\n",
       "      <td>[[40.726384, -73.997456], [40.726768, -73.9981...</td>\n",
       "      <td>80.139322</td>\n",
       "      <td>-59.340190</td>\n",
       "      <td>21</td>\n",
       "      <td>3.816158</td>\n",
       "      <td>2.924916</td>\n",
       "      <td>Street</td>\n",
       "      <td>5</td>\n",
       "    </tr>\n",
       "  </tbody>\n",
       "</table>\n",
       "</div>"
      ],
      "text/plain": [
       "         street_name odd_on  avg_direction building_num_range  \\\n",
       "23  e houston street  right     107.045830         [465, 472]   \n",
       "24  e houston street  right     108.392973         [473, 512]   \n",
       "25  w houston street   left     -56.415274            [1, 22]   \n",
       "26  w houston street   left     -56.415274           [23, 43]   \n",
       "\n",
       "                                start_end_coordinates  segment_length  \\\n",
       "23  [[40.719946, -73.977607], [40.719796, -73.9769...       56.823608   \n",
       "24  [[40.719796, -73.976964], [40.719522, -73.9758...       96.429708   \n",
       "25  [[40.725984, -73.99664], [40.726384, -73.997456]]       78.550051   \n",
       "26  [[40.726384, -73.997456], [40.726768, -73.9981...       80.139322   \n",
       "\n",
       "    segment_direction  building_num_range_length  avg_length_per_building  \\\n",
       "23         107.045830                          8                 7.102951   \n",
       "24         108.392973                         40                 2.410743   \n",
       "25         -53.976604                         22                 3.570457   \n",
       "26         -59.340190                         21                 3.816158   \n",
       "\n",
       "    direction_deviation road_type  offset_from_road_center  \n",
       "23             0.000000    Street                        5  \n",
       "24             0.000000    Street                        5  \n",
       "25            -2.438670    Street                        5  \n",
       "26             2.924916    Street                        5  "
      ]
     },
     "execution_count": 331,
     "metadata": {},
     "output_type": "execute_result"
    }
   ],
   "source": [
    "temp = full[full.street_name.str.endswith('houston street')].copy().reset_index(drop=True)\n",
    "temp[23:27]"
   ]
  },
  {
   "cell_type": "code",
   "execution_count": 333,
   "metadata": {},
   "outputs": [
    {
     "data": {
      "text/html": [
       "<div style=\"width:100%;\"><div style=\"position:relative;width:100%;height:0;padding-bottom:60%;\"><iframe src=\"data:text/html;charset=utf-8;base64,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\" style=\"position:absolute;width:100%;height:100%;left:0;top:0;border:none !important;\" allowfullscreen webkitallowfullscreen mozallowfullscreen></iframe></div></div>"
      ],
      "text/plain": [
       "<folium.folium.Map at 0x1a2a727048>"
      ]
     },
     "execution_count": 333,
     "metadata": {},
     "output_type": "execute_result"
    }
   ],
   "source": [
    "### Visual inspect\n",
    "\n",
    "street_points_list = temp.start_end_coordinates.tolist()\n",
    "\n",
    "all_streets_center_loc = np.mean([np.mean(li, axis=0).tolist() for li in street_points_list],axis=0)\n",
    "\n",
    "my_map = folium.Map(location=all_streets_center_loc,\n",
    "                        zoom_start= 14 ,\n",
    "                        tiles=\"CartoDB dark_matter\")\n",
    "\n",
    "for street_points in street_points_list[:25]:\n",
    "    folium.PolyLine(street_points, color=\"red\", weight=1).add_to(my_map)\n",
    "for street_points in street_points_list[25:]:\n",
    "    folium.PolyLine(street_points, color=\"blue\", weight=1).add_to(my_map)\n",
    "\n",
    "my_map"
   ]
  },
  {
   "cell_type": "code",
   "execution_count": 336,
   "metadata": {},
   "outputs": [],
   "source": [
    "geo = pd.read_csv('Manhattan_with_address.csv')"
   ]
  },
  {
   "cell_type": "code",
   "execution_count": 337,
   "metadata": {},
   "outputs": [],
   "source": [
    "geo = geo[['RecordId','Street Name','House Number','Street Name New','House Number New','Address','Enumeration District Number','Ward of City']]\n",
    "\n",
    "geo = geo.drop_duplicates(subset=geo.columns[1:].tolist(), keep='last')[geo.columns[1:]].reset_index()\n",
    "\n",
    "geo['Number of Residents'] = geo['index'].diff().fillna(geo['index'][0]).apply(int)\n",
    "\n",
    "geo = geo.drop('index',axis=1)"
   ]
  },
  {
   "cell_type": "code",
   "execution_count": 338,
   "metadata": {},
   "outputs": [
    {
     "name": "stdout",
     "output_type": "stream",
     "text": [
      "\n",
      "78.3% of the streets in geo are covered in our 1880 address database.\n",
      "\n"
     ]
    }
   ],
   "source": [
    "# print(', '.join(sorted(geo['Street Name New'].drop_duplicates().tolist())))\n",
    "print()\n",
    "print(f\"{np.mean(geo['Street Name New'].isin(streets))*100:.1f}% of the streets in geo are covered in our 1880 address database.\")\n",
    "print()"
   ]
  },
  {
   "cell_type": "code",
   "execution_count": 339,
   "metadata": {},
   "outputs": [],
   "source": [
    "addresses = sorted(geo.dropna().Address.drop_duplicates().tolist())"
   ]
  },
  {
   "cell_type": "code",
   "execution_count": 340,
   "metadata": {},
   "outputs": [],
   "source": [
    "def get_coordinates_from_details(target_building_num,building_num_range,start_end_coordinates,segment_direction,odd_on,offset_from_road_center):\n",
    "    \n",
    "    is_odd = target_building_num%2==1\n",
    "    \n",
    "    if (building_num_range[1] - building_num_range[0])==0:\n",
    "        street_center_position = np.mean(start_end_coordinates,axis=0).tolist()\n",
    "    else:\n",
    "        f_pt_proportion = (target_building_num - building_num_range[0])/(building_num_range[1] - building_num_range[0])\n",
    "        t_pt_proportion = 1 - f_pt_proportion\n",
    "        street_center_position = np.average(np.array(start_end_coordinates), weights = (f_pt_proportion,t_pt_proportion), axis=0).tolist()\n",
    "\n",
    "    offset_direction = add_degree_to_azimuth(segment_direction,-90) if ((odd_on=='left' and is_odd) or (odd_on=='right' and not is_odd))  else add_degree_to_azimuth(segment_direction,90)\n",
    "\n",
    "    target_position = geod.Direct(*street_center_position, offset_direction, offset_from_road_center)\n",
    "    target_point = list([target_position['lat2'],target_position['lon2']])\n",
    "\n",
    "    return target_point"
   ]
  },
  {
   "cell_type": "code",
   "execution_count": 341,
   "metadata": {},
   "outputs": [],
   "source": [
    "def get_addr_coordinates(addr):\n",
    "    target_street_name, target_building_num = ' '.join(addr.split()[:-1]), addr.split()[-1]\n",
    "    target_building_num = int(target_building_num)\n",
    "    matched = full[full.street_name==target_street_name].copy().apply(lambda row: get_coordinates_from_details(target_building_num, row['building_num_range'],row['start_end_coordinates'],row['segment_direction'],row['odd_on'],row['offset_from_road_center']) if target_building_num>= row['building_num_range'][0] and target_building_num <= row['building_num_range'][1] else np.nan, axis=1).dropna()\n",
    "    if len(matched)>0:\n",
    "        return tuple(matched.tolist()[0])\n",
    "    return (np.nan,np.nan)"
   ]
  },
  {
   "cell_type": "code",
   "execution_count": 342,
   "metadata": {},
   "outputs": [],
   "source": [
    "addresses_coordinates = []\n",
    "for addr in addresses:\n",
    "    addresses_coordinates.append(get_addr_coordinates(addr))\n",
    "\n",
    "addr_to_coordinates = pd.DataFrame(zip(addresses,addresses_coordinates),columns=['Address','Coordinates'])"
   ]
  },
  {
   "cell_type": "code",
   "execution_count": 393,
   "metadata": {},
   "outputs": [],
   "source": [
    "new_geo = pd.merge(geo,addr_to_coordinates)\n",
    "new_geo['Lat'],new_geo['Lon'] = zip(*new_geo['Coordinates'])"
   ]
  },
  {
   "cell_type": "code",
   "execution_count": 396,
   "metadata": {
    "scrolled": true
   },
   "outputs": [
    {
     "name": "stdout",
     "output_type": "stream",
     "text": [
      "\n",
      "10.7% of the address are not found.\n",
      "0.3% of the addresses have the same coordinate with somewhere else.\n",
      "\n"
     ]
    }
   ],
   "source": [
    "print()\n",
    "print(f\"{np.round(new_geo['Lat'].isnull().sum()/len(new_geo),3)*100:.1f}% of the address are not found.\")\n",
    "print(f\"{(new_geo.drop_duplicates(subset=['Address'])['Lat'].value_counts()[new_geo.drop_duplicates(subset=['Address'])['Lat'].value_counts()>1].sum()/len(geo.drop_duplicates(subset=['Address'])))*100:.1f}% of the addresses have the same coordinate with somewhere else.\\n\")"
   ]
  },
  {
   "cell_type": "code",
   "execution_count": 411,
   "metadata": {},
   "outputs": [
    {
     "name": "stdout",
     "output_type": "stream",
     "text": [
      "80.4% of the entries are geocoded.\n"
     ]
    }
   ],
   "source": [
    "df = pd.read_csv('Manhattan_with_address.csv')\n",
    "geo_info_df = new_geo[['Address','Lat','Lon']].dropna().drop_duplicates()\n",
    "df = pd.merge(df,geo_info_df,how='left')\n",
    "assert(df.RecordId.nunique() == len(df))\n",
    "print(f\"{df.Lat.notnull().sum()/len(df)*100:.1f}% of the entries are geocoded.\")"
   ]
  },
  {
   "cell_type": "code",
   "execution_count": 415,
   "metadata": {},
   "outputs": [],
   "source": [
    "valid_new_geo = new_geo[new_geo.Coordinates!=(np.nan,np.nan)].copy()\n",
    "\n",
    "max_num_of_res = valid_new_geo['Number of Residents'].max()\n",
    "\n",
    "list_of_points = valid_new_geo.Coordinates.tolist()\n",
    "\n",
    "residents_at_points = valid_new_geo['Number of Residents'].tolist()\n",
    "\n",
    "max_r = (0.5+np.log(max(residents_at_points))**1.2)\n",
    "\n",
    "center_loc = np.mean( list_of_points ,axis=0).tolist()\n",
    "\n",
    "my_map = folium.Map(location=center_loc,zoom_start=15)# ,tiles=\"CartoDB dark_matter\")\n",
    "\n",
    "\n",
    "plot_streets = valid_new_geo['Street Name New'].drop_duplicates().tolist()\n",
    "for s in plot_streets:\n",
    "\n",
    "    line_weight = 4 if s.endswith('Avenue') or s.endswith('Broadway') else 2\n",
    "    street_points = full[full.street_name==s].start_end_coordinates.tolist()\n",
    "    folium.PolyLine(street_points, color='dimgrey', weight=line_weight, alpha = 0.1, popup=s).add_to(my_map)\n",
    "    \n",
    "\n",
    "for i in range(len(list_of_points)):\n",
    "    \n",
    "    pt = list_of_points[i]\n",
    "    num_of_res = residents_at_points[i]\n",
    "        \n",
    "    r = 0.5+np.log(num_of_res)**1.2\n",
    "    \n",
    "    color_ratio = r/max_r\n",
    "    rgb_tuple = (int(255/2 + 255/2*color_ratio),int(0),int(255/2 - 255/2*color_ratio))\n",
    "    hex_code = '#%02x%02x%02x' % rgb_tuple\n",
    "    \n",
    "    folium.Circle(location=pt,radius=r,color=hex_code,alpha=0.3 ).add_to(my_map)\n",
    "\n",
    "# my_map"
   ]
  },
  {
   "cell_type": "code",
   "execution_count": 419,
   "metadata": {},
   "outputs": [],
   "source": [
    "# my_map"
   ]
  },
  {
   "cell_type": "code",
   "execution_count": 418,
   "metadata": {},
   "outputs": [],
   "source": [
    "my_map.save('large_demo.html')"
   ]
  },
  {
   "cell_type": "code",
   "execution_count": 420,
   "metadata": {},
   "outputs": [],
   "source": [
    "df.to_csv('Geocoded_Manhattan.csv',index=False)"
   ]
  },
  {
   "cell_type": "code",
   "execution_count": null,
   "metadata": {},
   "outputs": [],
   "source": []
  },
  {
   "cell_type": "code",
   "execution_count": null,
   "metadata": {},
   "outputs": [],
   "source": []
  },
  {
   "cell_type": "code",
   "execution_count": null,
   "metadata": {},
   "outputs": [],
   "source": []
  },
  {
   "cell_type": "code",
   "execution_count": null,
   "metadata": {},
   "outputs": [],
   "source": []
  },
  {
   "cell_type": "code",
   "execution_count": null,
   "metadata": {},
   "outputs": [],
   "source": []
  },
  {
   "cell_type": "code",
   "execution_count": null,
   "metadata": {},
   "outputs": [],
   "source": []
  },
  {
   "cell_type": "code",
   "execution_count": null,
   "metadata": {},
   "outputs": [],
   "source": []
  },
  {
   "cell_type": "code",
   "execution_count": null,
   "metadata": {},
   "outputs": [],
   "source": []
  },
  {
   "cell_type": "code",
   "execution_count": null,
   "metadata": {},
   "outputs": [],
   "source": []
  },
  {
   "cell_type": "code",
   "execution_count": null,
   "metadata": {},
   "outputs": [],
   "source": []
  },
  {
   "cell_type": "code",
   "execution_count": null,
   "metadata": {},
   "outputs": [],
   "source": []
  },
  {
   "cell_type": "code",
   "execution_count": null,
   "metadata": {},
   "outputs": [],
   "source": []
  },
  {
   "cell_type": "code",
   "execution_count": null,
   "metadata": {},
   "outputs": [],
   "source": []
  },
  {
   "cell_type": "code",
   "execution_count": null,
   "metadata": {},
   "outputs": [],
   "source": []
  },
  {
   "cell_type": "markdown",
   "metadata": {},
   "source": [
    "#### Point order problem"
   ]
  },
  {
   "cell_type": "code",
   "execution_count": null,
   "metadata": {},
   "outputs": [],
   "source": [
    "# this_street = '10th Avenue'\n",
    "# full[full.street_name==this_street]"
   ]
  },
  {
   "cell_type": "code",
   "execution_count": null,
   "metadata": {},
   "outputs": [],
   "source": [
    "# full[full.street_name==this_street]['start_end_coordinates'].apply(lambda li: li[0][0]).plot()"
   ]
  },
  {
   "cell_type": "code",
   "execution_count": null,
   "metadata": {},
   "outputs": [],
   "source": [
    "# full[full.street_name==this_street]['start_end_coordinates'].apply(lambda li: li[0][1]).plot()"
   ]
  },
  {
   "cell_type": "code",
   "execution_count": null,
   "metadata": {},
   "outputs": [],
   "source": [
    "# full[full.street_name==this_street].segment_direction.plot()"
   ]
  },
  {
   "cell_type": "code",
   "execution_count": null,
   "metadata": {},
   "outputs": [],
   "source": [
    "# street_points_list = full[full.street_name==this_street].start_end_coordinates.tolist() \n",
    "\n",
    "# ### Visual inspect\n",
    "\n",
    "# colors = ['red','orange','green','blue','purple','white','brown']\n",
    "\n",
    "# my_map = folium.Map(location=np.mean(flatten_list(street_points_list),axis=0).tolist(),\n",
    "#                         zoom_start= 17 ,\n",
    "#                         tiles=\"CartoDB dark_matter\")\n",
    "\n",
    "# for i in range(len(street_points_list)):\n",
    "#     street_points = street_points_list[i]\n",
    "#     # print(i,street_points)\n",
    "#     folium.PolyLine(street_points, color=colors[i%len(colors)], weight=(1+i%len(colors))).add_to(my_map)\n",
    "\n",
    "# #[[40.710512, -73.992112], [40.710864, -73.99232], [40.711312, -73.992416]]\n",
    "    \n",
    "# my_map"
   ]
  },
  {
   "cell_type": "code",
   "execution_count": null,
   "metadata": {},
   "outputs": [],
   "source": [
    "# street_points_list = raw[raw['Name']==this_street.split()[0]].sort_values('L_f_add').reset_index(drop=True).coordinates.tolist()\n",
    "\n",
    "\n",
    "# ### Visual inspect\n",
    "\n",
    "# center = np.mean(flatten_list(street_points_list),axis=0).tolist()\n",
    "\n",
    "# colors = ['red','orange','green','blue','purple','white','brown']\n",
    "\n",
    "# my_map = folium.Map(location=center,\n",
    "#                         zoom_start= 17 ,\n",
    "#                         tiles=\"CartoDB dark_matter\")\n",
    "\n",
    "# for i in range(len(street_points_list)):\n",
    "#     street_points = street_points_list[i]\n",
    "#     # print(i,street_points)\n",
    "#     folium.PolyLine(street_points, color=colors[i%len(colors)], weight=(1+i%len(colors))).add_to(my_map)\n",
    "\n",
    "# my_map"
   ]
  },
  {
   "cell_type": "markdown",
   "metadata": {},
   "source": [
    "**END** Point order problem <br><br><br><br><br>"
   ]
  },
  {
   "cell_type": "markdown",
   "metadata": {},
   "source": [
    "#### Old Geo"
   ]
  },
  {
   "cell_type": "code",
   "execution_count": null,
   "metadata": {},
   "outputs": [],
   "source": [
    "## old_geo = pd.read_csv('/Users/timsmac/Desktop/us_census_data/aggregate/Geoloaded_1910_New York_Manhattan Ward 7.csv')\n",
    "\n",
    "## old_geo = old_geo[['Street Name','House Number','Street Name New', 'House Number New', 'Address', 'Lon', 'Lat', 'Enumeration District Number', 'Ward of City']]\n",
    "\n",
    "## old_geo = old_geo.drop_duplicates(['Street Name','House Number'])\n",
    "\n",
    "## old_geo.to_csv('_old_geo_for_comparison.csv',index=False)"
   ]
  },
  {
   "cell_type": "markdown",
   "metadata": {},
   "source": [
    "**END** Old Geo<br><br><br><br><br>"
   ]
  },
  {
   "cell_type": "code",
   "execution_count": null,
   "metadata": {},
   "outputs": [],
   "source": [
    "# li = [street_center_position,target_point]\n",
    "\n",
    "# my_map = folium.Map(location=np.mean(li,axis=0).tolist(), zoom_start= 20, tiles=\"CartoDB dark_matter\")\n",
    "\n",
    "# for i in range(len(li)):\n",
    "#     pt = li[i]\n",
    "#     folium.Circle(pt, radius=2,color=colors[i%len(colors)]).add_to(my_map)\n",
    "    \n",
    "# my_map"
   ]
  },
  {
   "cell_type": "code",
   "execution_count": null,
   "metadata": {},
   "outputs": [],
   "source": [
    "# # # Check and verify that there is overlapping building num range problem\n",
    "\n",
    "# data = df.copy()\n",
    "\n",
    "# data['building_num_range'] = df[['min_building_num','max_building_num']].apply(lambda row: list(range(row['min_building_num'],row['max_building_num'])),axis=1)\n",
    "\n",
    "# overlapping_range_detection = data.groupby('street_name').agg({'building_num_range':list})\n",
    "\n",
    "# overlapping_range_detection['building_num_range'] = overlapping_range_detection['building_num_range'].apply(flatten_list)\n",
    "\n",
    "# overlapping_range_detection['building_num_range'] = overlapping_range_detection['building_num_range'].apply(lambda li: Counter(li))\n",
    "\n",
    "# overlapping_range_detection['building_num_range'] = overlapping_range_detection['building_num_range'].apply(lambda counter: [k for k, v in counter.items() if v > 1])\n",
    "\n",
    "# overlapping_range_detection['building_num_range'].apply(len).value_counts()\n",
    "\n",
    "# overlapping_range_detection['building_num_range'][overlapping_range_detection['building_num_range'].apply(len)>0][:100]"
   ]
  },
  {
   "cell_type": "code",
   "execution_count": null,
   "metadata": {},
   "outputs": [],
   "source": [
    "# # # Fix max_building_num\n",
    "\n",
    "# non_overlapping_range_df = pd.DataFrame()\n",
    "\n",
    "# for street_name in df.street_name.unique().tolist():\n",
    "    \n",
    "#     data = df[df.street_name==street_name]\n",
    "\n",
    "#     data['next_segment_min_building_num'] = data.min_building_num.shift(-1)\n",
    "\n",
    "#     data['max_building_num'] = data.apply(lambda row: row['max_building_num'] if np.isnan(row['next_segment_min_building_num']) else row['max_building_num'] if row['max_building_num']<row['next_segment_min_building_num'] else row['next_segment_min_building_num']-1  , axis=1).apply(int)\n",
    "\n",
    "#     data = data.drop('next_segment_min_building_num',axis=1)\n",
    "    \n",
    "#     non_overlapping_range_df = non_overlapping_range_df.append(data, ignore_index=True)\n",
    "    "
   ]
  },
  {
   "cell_type": "code",
   "execution_count": null,
   "metadata": {},
   "outputs": [],
   "source": [
    "# ### Visual inspect\n",
    "\n",
    "# street_points_list = df.coordinates.tolist()\n",
    "\n",
    "# all_streets_center_loc = np.mean([np.mean(li, axis=0).tolist() for li in street_points_list],axis=0)\n",
    "\n",
    "# my_map = folium.Map(location=all_streets_center_loc,\n",
    "#                         zoom_start= 13 ,\n",
    "#                         tiles=\"CartoDB dark_matter\")\n",
    "\n",
    "# for street_points in street_points_list:\n",
    "\n",
    "#     folium.PolyLine(street_points, color=\"red\", weight=1).add_to(my_map)\n",
    "\n",
    "# my_map"
   ]
  },
  {
   "cell_type": "code",
   "execution_count": null,
   "metadata": {},
   "outputs": [],
   "source": [
    "# glob('1910MAN/*')\n",
    "\n",
    "# df = pd.read_csv('1910MAN/1910MANstCLN_W7.csv')\n",
    "\n",
    "# geo_relevant_cols = ['DataID', 'RecordId', 'HouseHoldId', 'Street Name', 'St_MOD',\n",
    "#        'ADDY_CLN', 'ZIP', 'City', 'State', 'Country', 'House Number', 'HoNo_1',\n",
    "#        'Dwelling Number','Enumeration District Number', 'Ward of City']\n",
    "\n",
    "# df = df[geo_relevant_cols]\n",
    "\n",
    "# df.ZIP.value_counts()\n",
    "\n",
    "# df.RecordId.nunique()\n",
    "\n",
    "# found = pd.read_csv('1910MAN/1910MANstCLN_W7_found.csv')[['RecordId','Longitude', 'Latitude', 'Side']]\n",
    "\n",
    "# found\n",
    "\n",
    "# found.Side.value_counts()\n",
    "\n",
    "# fdf = df[df.RecordId.isin( set(found.RecordId.tolist()) )]\n",
    "\n",
    "# fdf['House Number'].value_counts()\n",
    "\n",
    "# fdf.St_MOD.value_counts()\n",
    "\n",
    "# ndf = df[~df.RecordId.isin( set(found.RecordId.tolist()) )]\n",
    "\n",
    "# ndf['House Number'].value_counts()\n",
    "\n",
    "# ndf.St_MOD.value_counts()"
   ]
  },
  {
   "cell_type": "code",
   "execution_count": null,
   "metadata": {},
   "outputs": [],
   "source": [
    "# address = 'Macombs Place 16'\n",
    "\n",
    "# street_name = ' '.join(address.split()[:-1])\n",
    "# building_number = address.split()[-1]\n",
    "\n",
    "# # np.cumsum(segment_lengths)"
   ]
  }
 ],
 "metadata": {
  "kernelspec": {
   "display_name": "Python 3",
   "language": "python",
   "name": "python3"
  },
  "language_info": {
   "codemirror_mode": {
    "name": "ipython",
    "version": 3
   },
   "file_extension": ".py",
   "mimetype": "text/x-python",
   "name": "python",
   "nbconvert_exporter": "python",
   "pygments_lexer": "ipython3",
   "version": "3.6.10"
  }
 },
 "nbformat": 4,
 "nbformat_minor": 4
}
