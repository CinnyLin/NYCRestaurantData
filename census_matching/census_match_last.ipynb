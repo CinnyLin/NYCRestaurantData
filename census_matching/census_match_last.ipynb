{
 "cells": [
  {
   "cell_type": "markdown",
   "metadata": {},
   "source": [
    "- Use census data to match probability.\n",
    "- Create a new column that shows all possibilities and its probability.\n",
    "- Create two other columns that are the top nationality and its probability.\n",
    "- Create a bar chart data summary for across years."
   ]
  },
  {
   "cell_type": "code",
   "execution_count": null,
   "metadata": {},
   "outputs": [],
   "source": []
  },
  {
   "cell_type": "markdown",
   "metadata": {},
   "source": [
    "### requirements for matching pipeline"
   ]
  },
  {
   "cell_type": "code",
   "execution_count": 191,
   "metadata": {},
   "outputs": [],
   "source": [
    "# import library\n",
    "import pandas as pd\n",
    "from collections import Counter\n",
    "import matplotlib.pyplot as plt\n",
    "import numpy as np"
   ]
  },
  {
   "cell_type": "code",
   "execution_count": 1,
   "metadata": {},
   "outputs": [
    {
     "name": "stderr",
     "output_type": "stream",
     "text": [
      "/Library/Frameworks/Python.framework/Versions/3.8/lib/python3.8/site-packages/IPython/core/interactiveshell.py:3050: DtypeWarning: Columns (37) have mixed types.Specify dtype option on import or set low_memory=False.\n",
      "  has_raised = await self.run_ast_nodes(code_ast.body, cell_name,\n"
     ]
    }
   ],
   "source": [
    "# import census data with 1034722 entries\n",
    "master_df = pd.read_csv('census_1910_manhattan.csv')"
   ]
  },
  {
   "cell_type": "code",
   "execution_count": 2,
   "metadata": {},
   "outputs": [],
   "source": [
    "# matching function\n",
    "def nationality_distribution(last_name):\n",
    "    result = list(master_df[(master_df['Surname']==last_name)]['Father\\'s Birthplace']) + \\\n",
    "             list(master_df[(master_df['Surname']==last_name)]['Mother\\'s Birthplace'])\n",
    "    if result == []:\n",
    "        return False\n",
    "    distribution = Counter(result)\n",
    "    for birthplace in distribution.keys():\n",
    "        total = sum(distribution.values())\n",
    "        #count = distribution[birthplace]\n",
    "        probability = round(distribution[birthplace]/total,2)\n",
    "        distribution[birthplace] = probability\n",
    "        probability_max = max(distribution.values())\n",
    "    for nationality, probability in distribution.items():\n",
    "        if probability == probability_max:\n",
    "            top_nationality = nationality\n",
    "            top_probability = probability\n",
    "    return distribution, top_nationality, top_probability"
   ]
  },
  {
   "cell_type": "code",
   "execution_count": null,
   "metadata": {},
   "outputs": [],
   "source": []
  },
  {
   "cell_type": "markdown",
   "metadata": {},
   "source": [
    "### algorithms\n",
    "is there a more efficient way for nationality matching?\n",
    "yes!! instead of matching each surname with census data, which means checking all rows in census data each time when i want to match one row in the business directories, i can instead create a table with summary results of the census data, because the people with the same last name will have the same nationality match and probability using our current pipeline, it would be more efficient if we match each row in the business directory with the census table summary. "
   ]
  },
  {
   "cell_type": "code",
   "execution_count": 3,
   "metadata": {},
   "outputs": [
    {
     "data": {
      "text/plain": [
       "(1034722, 46)"
      ]
     },
     "execution_count": 3,
     "metadata": {},
     "output_type": "execute_result"
    }
   ],
   "source": [
    "master_df.shape"
   ]
  },
  {
   "cell_type": "code",
   "execution_count": 4,
   "metadata": {},
   "outputs": [
    {
     "data": {
      "text/html": [
       "<div>\n",
       "<style scoped>\n",
       "    .dataframe tbody tr th:only-of-type {\n",
       "        vertical-align: middle;\n",
       "    }\n",
       "\n",
       "    .dataframe tbody tr th {\n",
       "        vertical-align: top;\n",
       "    }\n",
       "\n",
       "    .dataframe thead th {\n",
       "        text-align: right;\n",
       "    }\n",
       "</style>\n",
       "<table border=\"1\" class=\"dataframe\">\n",
       "  <thead>\n",
       "    <tr style=\"text-align: right;\">\n",
       "      <th></th>\n",
       "      <th>DataID</th>\n",
       "      <th>RecordId</th>\n",
       "      <th>Name</th>\n",
       "      <th>First Name</th>\n",
       "      <th>Middle Name</th>\n",
       "      <th>Surname</th>\n",
       "      <th>HouseHoldId</th>\n",
       "      <th>Street Name</th>\n",
       "      <th>House Number</th>\n",
       "      <th>Dwelling Number</th>\n",
       "      <th>...</th>\n",
       "      <th>Deaf and Dumb</th>\n",
       "      <th>Enumeration District Number</th>\n",
       "      <th>Ward of City</th>\n",
       "      <th>Street Name New</th>\n",
       "      <th>House Number New</th>\n",
       "      <th>Address</th>\n",
       "      <th>Lat</th>\n",
       "      <th>Lon</th>\n",
       "      <th>Full Occupation</th>\n",
       "      <th>Occupation Score</th>\n",
       "    </tr>\n",
       "  </thead>\n",
       "  <tbody>\n",
       "    <tr>\n",
       "      <th>0</th>\n",
       "      <td>4450087_00350</td>\n",
       "      <td>18356998</td>\n",
       "      <td>Frank Collomeger</td>\n",
       "      <td>Frank</td>\n",
       "      <td>NaN</td>\n",
       "      <td>Collomeger</td>\n",
       "      <td>18356998</td>\n",
       "      <td>Twenty-First Street</td>\n",
       "      <td>224-6</td>\n",
       "      <td>10.0</td>\n",
       "      <td>...</td>\n",
       "      <td>False</td>\n",
       "      <td>972</td>\n",
       "      <td>18</td>\n",
       "      <td>21st street</td>\n",
       "      <td>225.0</td>\n",
       "      <td>21st street 225</td>\n",
       "      <td>NaN</td>\n",
       "      <td>NaN</td>\n",
       "      <td>Hotel Chef</td>\n",
       "      <td>33.06</td>\n",
       "    </tr>\n",
       "  </tbody>\n",
       "</table>\n",
       "<p>1 rows × 46 columns</p>\n",
       "</div>"
      ],
      "text/plain": [
       "          DataID  RecordId              Name First Name Middle Name  \\\n",
       "0  4450087_00350  18356998  Frank Collomeger      Frank         NaN   \n",
       "\n",
       "      Surname  HouseHoldId          Street Name House Number  Dwelling Number  \\\n",
       "0  Collomeger     18356998  Twenty-First Street        224-6             10.0   \n",
       "\n",
       "   ... Deaf and Dumb Enumeration District Number Ward of City Street Name New  \\\n",
       "0  ...         False                         972           18     21st street   \n",
       "\n",
       "   House Number New          Address Lat  Lon  Full Occupation  \\\n",
       "0             225.0  21st street 225 NaN  NaN       Hotel Chef   \n",
       "\n",
       "   Occupation Score  \n",
       "0             33.06  \n",
       "\n",
       "[1 rows x 46 columns]"
      ]
     },
     "execution_count": 4,
     "metadata": {},
     "output_type": "execute_result"
    }
   ],
   "source": [
    "master_df.head(1)"
   ]
  },
  {
   "cell_type": "code",
   "execution_count": 5,
   "metadata": {},
   "outputs": [
    {
     "data": {
      "text/plain": [
       "Index(['DataID', 'RecordId', 'Name', 'First Name', 'Middle Name', 'Surname',\n",
       "       'HouseHoldId', 'Street Name', 'House Number', 'Dwelling Number',\n",
       "       'Own or Rent', 'Relationship', 'Gender', 'Race', 'Age', 'Born Year',\n",
       "       'Marital Status', 'Number of Years of Present Marriage',\n",
       "       'Number of Children Born', 'Number of Children Living', 'Birthplace',\n",
       "       'Father's Birthplace', 'Mother's Birthplace', 'US Born',\n",
       "       'Immigration Year', 'Naturalization Status', 'Self Native Tongue',\n",
       "       'Occupation', 'Industry', 'Self Employed or Not',\n",
       "       'Out of Work on April 15', 'Number of Weeks Out of Work', 'Can Read',\n",
       "       'Can Write', 'Attended School', 'Blind', 'Deaf and Dumb',\n",
       "       'Enumeration District Number', 'Ward of City', 'Street Name New',\n",
       "       'House Number New', 'Address', 'Lat', 'Lon', 'Full Occupation',\n",
       "       'Occupation Score'],\n",
       "      dtype='object')"
      ]
     },
     "execution_count": 5,
     "metadata": {},
     "output_type": "execute_result"
    }
   ],
   "source": [
    "master_df.columns"
   ]
  },
  {
   "cell_type": "code",
   "execution_count": 6,
   "metadata": {},
   "outputs": [
    {
     "data": {
      "text/plain": [
       "175357"
      ]
     },
     "execution_count": 6,
     "metadata": {},
     "output_type": "execute_result"
    }
   ],
   "source": [
    "surname_dict = dict(master_df['Surname'].value_counts())\n",
    "len(surname_dict.keys())"
   ]
  },
  {
   "cell_type": "code",
   "execution_count": 7,
   "metadata": {},
   "outputs": [],
   "source": [
    "surname_list = list(surname_dict.keys())"
   ]
  },
  {
   "cell_type": "code",
   "execution_count": 8,
   "metadata": {},
   "outputs": [
    {
     "data": {
      "text/plain": [
       "50700"
      ]
     },
     "execution_count": 8,
     "metadata": {},
     "output_type": "execute_result"
    }
   ],
   "source": [
    "firstname_dict = dict(master_df['First Name'].value_counts())\n",
    "len(firstname_dict.keys())"
   ]
  },
  {
   "cell_type": "code",
   "execution_count": 9,
   "metadata": {},
   "outputs": [],
   "source": [
    "firstname_list = list(firstname_dict.keys())"
   ]
  },
  {
   "cell_type": "code",
   "execution_count": null,
   "metadata": {},
   "outputs": [],
   "source": []
  },
  {
   "cell_type": "code",
   "execution_count": 10,
   "metadata": {},
   "outputs": [],
   "source": [
    "# surname_nationality_count: {(surname, nationality): count}\n",
    "surname_nationality_count = dict(master_df[['Surname', 'Father\\'s Birthplace']].value_counts())"
   ]
  },
  {
   "cell_type": "code",
   "execution_count": 11,
   "metadata": {},
   "outputs": [
    {
     "data": {
      "text/html": [
       "<div>\n",
       "<style scoped>\n",
       "    .dataframe tbody tr th:only-of-type {\n",
       "        vertical-align: middle;\n",
       "    }\n",
       "\n",
       "    .dataframe tbody tr th {\n",
       "        vertical-align: top;\n",
       "    }\n",
       "\n",
       "    .dataframe thead th {\n",
       "        text-align: right;\n",
       "    }\n",
       "</style>\n",
       "<table border=\"1\" class=\"dataframe\">\n",
       "  <thead>\n",
       "    <tr style=\"text-align: right;\">\n",
       "      <th></th>\n",
       "      <th>count</th>\n",
       "    </tr>\n",
       "  </thead>\n",
       "  <tbody>\n",
       "    <tr>\n",
       "      <th>(Cohen, Russia)</th>\n",
       "      <td>6528</td>\n",
       "    </tr>\n",
       "  </tbody>\n",
       "</table>\n",
       "</div>"
      ],
      "text/plain": [
       "                 count\n",
       "(Cohen, Russia)   6528"
      ]
     },
     "execution_count": 11,
     "metadata": {},
     "output_type": "execute_result"
    }
   ],
   "source": [
    "df_surname_nationality = pd.DataFrame.from_dict(data=surname_nationality_count, orient='index', columns=['count'])\n",
    "df_surname_nationality.head(1)"
   ]
  },
  {
   "cell_type": "code",
   "execution_count": 12,
   "metadata": {},
   "outputs": [
    {
     "data": {
      "text/html": [
       "<div>\n",
       "<style scoped>\n",
       "    .dataframe tbody tr th:only-of-type {\n",
       "        vertical-align: middle;\n",
       "    }\n",
       "\n",
       "    .dataframe tbody tr th {\n",
       "        vertical-align: top;\n",
       "    }\n",
       "\n",
       "    .dataframe thead th {\n",
       "        text-align: right;\n",
       "    }\n",
       "</style>\n",
       "<table border=\"1\" class=\"dataframe\">\n",
       "  <thead>\n",
       "    <tr style=\"text-align: right;\">\n",
       "      <th></th>\n",
       "      <th>index</th>\n",
       "      <th>count</th>\n",
       "    </tr>\n",
       "  </thead>\n",
       "  <tbody>\n",
       "    <tr>\n",
       "      <th>0</th>\n",
       "      <td>(Cohen, Russia)</td>\n",
       "      <td>6528</td>\n",
       "    </tr>\n",
       "  </tbody>\n",
       "</table>\n",
       "</div>"
      ],
      "text/plain": [
       "             index  count\n",
       "0  (Cohen, Russia)   6528"
      ]
     },
     "execution_count": 12,
     "metadata": {},
     "output_type": "execute_result"
    }
   ],
   "source": [
    "#df_surname[('surname', 'nationality')] = df_surname.index\n",
    "df_surname_nationality.reset_index(level=0, inplace=True)\n",
    "df_surname_nationality.head(1)"
   ]
  },
  {
   "cell_type": "code",
   "execution_count": 13,
   "metadata": {},
   "outputs": [
    {
     "data": {
      "text/html": [
       "<div>\n",
       "<style scoped>\n",
       "    .dataframe tbody tr th:only-of-type {\n",
       "        vertical-align: middle;\n",
       "    }\n",
       "\n",
       "    .dataframe tbody tr th {\n",
       "        vertical-align: top;\n",
       "    }\n",
       "\n",
       "    .dataframe thead th {\n",
       "        text-align: right;\n",
       "    }\n",
       "</style>\n",
       "<table border=\"1\" class=\"dataframe\">\n",
       "  <thead>\n",
       "    <tr style=\"text-align: right;\">\n",
       "      <th></th>\n",
       "      <th>index</th>\n",
       "      <th>count</th>\n",
       "      <th>surname</th>\n",
       "      <th>nationality</th>\n",
       "    </tr>\n",
       "  </thead>\n",
       "  <tbody>\n",
       "    <tr>\n",
       "      <th>0</th>\n",
       "      <td>(Cohen, Russia)</td>\n",
       "      <td>6528</td>\n",
       "      <td>Cohen</td>\n",
       "      <td>Russia</td>\n",
       "    </tr>\n",
       "  </tbody>\n",
       "</table>\n",
       "</div>"
      ],
      "text/plain": [
       "             index  count surname nationality\n",
       "0  (Cohen, Russia)   6528   Cohen      Russia"
      ]
     },
     "execution_count": 13,
     "metadata": {},
     "output_type": "execute_result"
    }
   ],
   "source": [
    "df_surname_nationality['surname'] = df_surname_nationality['index'].str[0]\n",
    "df_surname_nationality['nationality'] = df_surname_nationality['index'].str[1]\n",
    "df_surname_nationality.head(1)"
   ]
  },
  {
   "cell_type": "code",
   "execution_count": 15,
   "metadata": {},
   "outputs": [
    {
     "data": {
      "text/plain": [
       "{'Cohen': {'Russia': 6528,\n",
       "  'Austria': 725,\n",
       "  'Romania': 365,\n",
       "  'Germany': 149,\n",
       "  'Hungary': 131,\n",
       "  'Turkey': 105,\n",
       "  'New York': 94,\n",
       "  'England': 32,\n",
       "  'Poland': 28,\n",
       "  'Holland': 12,\n",
       "  'Ireland': 12,\n",
       "  'Syria': 7,\n",
       "  'Pennsylvania': 4,\n",
       "  'Virginia': 3,\n",
       "  'Tennessee': 3,\n",
       "  'Greece': 3,\n",
       "  'Egypt': 3,\n",
       "  'Africa': 3,\n",
       "  'Ohio': 2,\n",
       "  'New Jersey': 2,\n",
       "  'Bohemia': 2,\n",
       "  'Asia': 1,\n",
       "  'Belgium': 1,\n",
       "  'Galicia': 1,\n",
       "  'Georgia': 1,\n",
       "  'Jerusalem': 1,\n",
       "  'Maryland': 1,\n",
       "  'Michigan': 1,\n",
       "  'Missouri': 1,\n",
       "  'Spain': 1,\n",
       "  'US': 1}}"
      ]
     },
     "execution_count": 15,
     "metadata": {},
     "output_type": "execute_result"
    }
   ],
   "source": [
    "# surname_nationality_dict = {nationality1: prob1, nationality2: prob2}\n",
    "surname_nationality_dict = {}\n",
    "# surname_distribution_dict = {surname: surname_nationality_dict}\n",
    "surname_distribution_dict = {}\n",
    "\n",
    "surname_df = df_surname_nationality[df_surname_nationality['surname']=='Cohen']\n",
    "surname_nationality = list(surname_df['nationality'])\n",
    "surname_count = list(surname_df['count'])\n",
    "n = len(surname_nationality)\n",
    "for i in range(n):\n",
    "    surname_nationality_dict[surname_nationality[i]] = surname_count[i]\n",
    "surname_distribution_dict['Cohen'] = surname_nationality_dict\n",
    "\n",
    "surname_distribution_dict"
   ]
  },
  {
   "cell_type": "code",
   "execution_count": 49,
   "metadata": {},
   "outputs": [
    {
     "data": {
      "text/html": [
       "<div>\n",
       "<style scoped>\n",
       "    .dataframe tbody tr th:only-of-type {\n",
       "        vertical-align: middle;\n",
       "    }\n",
       "\n",
       "    .dataframe tbody tr th {\n",
       "        vertical-align: top;\n",
       "    }\n",
       "\n",
       "    .dataframe thead th {\n",
       "        text-align: right;\n",
       "    }\n",
       "</style>\n",
       "<table border=\"1\" class=\"dataframe\">\n",
       "  <thead>\n",
       "    <tr style=\"text-align: right;\">\n",
       "      <th></th>\n",
       "      <th>surname</th>\n",
       "      <th>distribution</th>\n",
       "      <th>top_match</th>\n",
       "      <th>top_prob</th>\n",
       "    </tr>\n",
       "  </thead>\n",
       "  <tbody>\n",
       "    <tr>\n",
       "      <th>0</th>\n",
       "      <td>Cohen</td>\n",
       "      <td>{'Russia': 6528, 'Austria': 725, 'Romania': 36...</td>\n",
       "      <td>Russia</td>\n",
       "      <td>0.793871</td>\n",
       "    </tr>\n",
       "  </tbody>\n",
       "</table>\n",
       "</div>"
      ],
      "text/plain": [
       "  surname                                       distribution top_match  \\\n",
       "0   Cohen  {'Russia': 6528, 'Austria': 725, 'Romania': 36...    Russia   \n",
       "\n",
       "   top_prob  \n",
       "0  0.793871  "
      ]
     },
     "execution_count": 49,
     "metadata": {},
     "output_type": "execute_result"
    }
   ],
   "source": [
    "pd.DataFrame(data={'surname': surname_distribution_dict.keys(),\n",
    "                   'distribution': surname_distribution_dict.values(),\n",
    "                   'top_match': list(surname_nationality_dict.keys())[0],\n",
    "                   'top_prob': list(surname_nationality_dict.values())[0]/sum(surname_nationality_dict.values())})"
   ]
  },
  {
   "cell_type": "code",
   "execution_count": null,
   "metadata": {},
   "outputs": [],
   "source": []
  },
  {
   "cell_type": "markdown",
   "metadata": {},
   "source": [
    "NO I WAS WRONG\n",
    "\n",
    "census data has `1034722` unique entries, with a total of `175357` unique last names\n",
    "\n",
    "the aggregated data from 1870 to 1933 altogether only has `15042` entries\n",
    "\n",
    "so it is still faster running from restaurant data than from census data"
   ]
  },
  {
   "cell_type": "code",
   "execution_count": null,
   "metadata": {},
   "outputs": [],
   "source": []
  },
  {
   "cell_type": "code",
   "execution_count": null,
   "metadata": {},
   "outputs": [],
   "source": []
  },
  {
   "cell_type": "code",
   "execution_count": null,
   "metadata": {},
   "outputs": [],
   "source": []
  },
  {
   "cell_type": "code",
   "execution_count": null,
   "metadata": {},
   "outputs": [],
   "source": [
    "# surname_nationality_dict = {nationality1: prob1, nationality2: prob2}\n",
    "surname_nationality_dict = {}\n",
    "# surname_distribution_dict = {surname: surname_nationality_dict}\n",
    "surname_distribution_dict = {}\n",
    "\n",
    "for surname in surname_list:\n",
    "    surname_df = df_surname_nationality[df_surname_nationality['surname']==surname]\n",
    "    surname_nationality = list(surname_df['nationality'])\n",
    "    surname_count = list(surname_df['count'])\n",
    "    n = len(surname_nationality)\n",
    "    for i in range(n):\n",
    "        surname_nationality_dict[surname_nationality[i]] = surname_count[i]\n",
    "    surname_distribution_dict[surname] = surname_nationality_dict"
   ]
  },
  {
   "cell_type": "code",
   "execution_count": null,
   "metadata": {},
   "outputs": [],
   "source": []
  },
  {
   "cell_type": "markdown",
   "metadata": {},
   "source": [
    "create two new dataframes from census data with columns: \n",
    "- \"last name\", \"full distribution\", \"top_nationality\"\n",
    "- \"first name\", \"full distribution\", \"top_nationality\""
   ]
  },
  {
   "cell_type": "code",
   "execution_count": null,
   "metadata": {},
   "outputs": [],
   "source": []
  },
  {
   "cell_type": "code",
   "execution_count": null,
   "metadata": {},
   "outputs": [],
   "source": [
    "full_distribution = []\n",
    "top_nationality = []\n",
    "top_probability = []\n",
    "# apply function\n",
    "for surname in surname_list:\n",
    "    distribution, top_nation, top_prob = nationality_distribution(surname)\n",
    "    full_distribution.append(distribution)\n",
    "    top_nationality.append(top_nation)\n",
    "    top_probability.append(top_prob)"
   ]
  },
  {
   "cell_type": "code",
   "execution_count": null,
   "metadata": {},
   "outputs": [],
   "source": [
    "data = {'last_name': surname_list, 'full_distribution': full_distribution, \n",
    "        'top_nationality': top_nationality, 'top_probability': top_probability}"
   ]
  },
  {
   "cell_type": "code",
   "execution_count": null,
   "metadata": {},
   "outputs": [],
   "source": [
    "surname_df = pd.DataFrame(data=data)\n",
    "surname_df"
   ]
  },
  {
   "cell_type": "code",
   "execution_count": null,
   "metadata": {},
   "outputs": [],
   "source": []
  },
  {
   "cell_type": "code",
   "execution_count": null,
   "metadata": {},
   "outputs": [],
   "source": []
  },
  {
   "cell_type": "code",
   "execution_count": null,
   "metadata": {},
   "outputs": [],
   "source": [
    "full_distribution_first = []\n",
    "top_nationality_first = []\n",
    "top_probability_first = []\n",
    "# apply function\n",
    "for firstname in firstname_list:\n",
    "    distribution, top_nation, top_prob = nationality_distribution(firstname)\n",
    "    full_distribution_first.append(distribution)\n",
    "    top_nationality_first.append(top_nation)\n",
    "    top_probability_first.append(top_prob)"
   ]
  },
  {
   "cell_type": "code",
   "execution_count": null,
   "metadata": {},
   "outputs": [],
   "source": [
    "data_first = {'last_name': surname_list, 'full_distribution': full_distribution, \n",
    "              'top_nationality': top_nationality, 'top_probability': top_probability}"
   ]
  },
  {
   "cell_type": "code",
   "execution_count": null,
   "metadata": {},
   "outputs": [],
   "source": [
    "firstname_df = pd.DataFrame(data=data_first)\n",
    "firstname_df"
   ]
  },
  {
   "cell_type": "code",
   "execution_count": null,
   "metadata": {},
   "outputs": [],
   "source": []
  },
  {
   "cell_type": "code",
   "execution_count": null,
   "metadata": {},
   "outputs": [],
   "source": []
  },
  {
   "cell_type": "markdown",
   "metadata": {},
   "source": [
    "### loading datasets"
   ]
  },
  {
   "cell_type": "code",
   "execution_count": 50,
   "metadata": {},
   "outputs": [
    {
     "data": {
      "text/html": [
       "<div>\n",
       "<style scoped>\n",
       "    .dataframe tbody tr th:only-of-type {\n",
       "        vertical-align: middle;\n",
       "    }\n",
       "\n",
       "    .dataframe tbody tr th {\n",
       "        vertical-align: top;\n",
       "    }\n",
       "\n",
       "    .dataframe thead th {\n",
       "        text-align: right;\n",
       "    }\n",
       "</style>\n",
       "<table border=\"1\" class=\"dataframe\">\n",
       "  <thead>\n",
       "    <tr style=\"text-align: right;\">\n",
       "      <th></th>\n",
       "      <th>ID</th>\n",
       "      <th>YR</th>\n",
       "      <th>DIR</th>\n",
       "      <th>PG</th>\n",
       "      <th>TYPE</th>\n",
       "      <th>NAME</th>\n",
       "      <th>ADDY</th>\n",
       "      <th>BOROUGH</th>\n",
       "      <th>CITY</th>\n",
       "      <th>STATE</th>\n",
       "      <th>...</th>\n",
       "      <th>Unnamed: 7</th>\n",
       "      <th>Unnamed: 8</th>\n",
       "      <th>ST_PREFIX</th>\n",
       "      <th>ST_SUFFIX</th>\n",
       "      <th>AdrMod</th>\n",
       "      <th>STNAME.3</th>\n",
       "      <th>STNAME.4</th>\n",
       "      <th>Unnamed: 17</th>\n",
       "      <th>tcch1  fiov!A-J     wf0- l3</th>\n",
       "      <th>0 t&amp; t;,- /oS\"V</th>\n",
       "    </tr>\n",
       "  </thead>\n",
       "  <tbody>\n",
       "    <tr>\n",
       "      <th>0</th>\n",
       "      <td>COPY DOWN Formula by clicking down on right co...</td>\n",
       "      <td>NaN</td>\n",
       "      <td>NaN</td>\n",
       "      <td>NaN</td>\n",
       "      <td>they are all restaurants, unless they have a C...</td>\n",
       "      <td>NaN</td>\n",
       "      <td>COPY DOWN Formula by clicking down on right co...</td>\n",
       "      <td>Copy and paste</td>\n",
       "      <td>Copy and paste</td>\n",
       "      <td>Copy and paste</td>\n",
       "      <td>...</td>\n",
       "      <td>NaN</td>\n",
       "      <td>NaN</td>\n",
       "      <td>NaN</td>\n",
       "      <td>NaN</td>\n",
       "      <td>NaN</td>\n",
       "      <td>NaN</td>\n",
       "      <td>NaN</td>\n",
       "      <td>NaN</td>\n",
       "      <td>NaN</td>\n",
       "      <td>NaN</td>\n",
       "    </tr>\n",
       "  </tbody>\n",
       "</table>\n",
       "<p>1 rows × 33 columns</p>\n",
       "</div>"
      ],
      "text/plain": [
       "                                                  ID   YR  DIR   PG  \\\n",
       "0  COPY DOWN Formula by clicking down on right co...  NaN  NaN  NaN   \n",
       "\n",
       "                                                TYPE NAME  \\\n",
       "0  they are all restaurants, unless they have a C...  NaN   \n",
       "\n",
       "                                                ADDY         BOROUGH  \\\n",
       "0  COPY DOWN Formula by clicking down on right co...  Copy and paste   \n",
       "\n",
       "             CITY           STATE  ... Unnamed: 7 Unnamed: 8 ST_PREFIX  \\\n",
       "0  Copy and paste  Copy and paste  ...        NaN        NaN       NaN   \n",
       "\n",
       "  ST_SUFFIX AdrMod STNAME.3 STNAME.4 Unnamed: 17 tcch1  fiov!A-J     wf0- l3  \\\n",
       "0       NaN    NaN      NaN      NaN         NaN                         NaN   \n",
       "\n",
       "  0 t& t;,- /oS\"V  \n",
       "0             NaN  \n",
       "\n",
       "[1 rows x 33 columns]"
      ]
     },
     "execution_count": 50,
     "metadata": {},
     "output_type": "execute_result"
    }
   ],
   "source": [
    "# use this library to read in all restaurant datasets\n",
    "import glob\n",
    "\n",
    "#specify a pattern of the file and pass it as a parameter into a glob function\n",
    "excel_files = glob.glob('restaurant_datasets/*.xlsx')\n",
    "#print a list of filenames\n",
    "#print(excel_files)\n",
    " \n",
    "#intialize empty list that we will append dataframes to\n",
    "list_data = []\n",
    "\n",
    "#write a for loop that will go through each of the file name through globbing and the end result will be the list of dataframes\n",
    "for filename in excel_files:\n",
    "    data = pd.read_excel(filename)\n",
    "    list_data.append(data)\n",
    "\n",
    "#print list_data which is a list of dataframes\n",
    "#list_data\n",
    " \n",
    "# since each dataset has similar format we can aggregate them and run them altogether\n",
    "df_agg = pd.concat(list_data,ignore_index=True)\n",
    "df_agg.head(1)"
   ]
  },
  {
   "cell_type": "code",
   "execution_count": null,
   "metadata": {},
   "outputs": [],
   "source": []
  },
  {
   "cell_type": "code",
   "execution_count": 51,
   "metadata": {},
   "outputs": [
    {
     "data": {
      "text/plain": [
       "(18790, 33)"
      ]
     },
     "execution_count": 51,
     "metadata": {},
     "output_type": "execute_result"
    }
   ],
   "source": [
    "df_agg.shape"
   ]
  },
  {
   "cell_type": "code",
   "execution_count": 52,
   "metadata": {},
   "outputs": [
    {
     "data": {
      "text/plain": [
       "ID                              6748\n",
       "YR                              3748\n",
       "DIR                             2774\n",
       "PG                              2025\n",
       "TYPE                            6709\n",
       "NAME                            2023\n",
       "ADDY                            2431\n",
       "BOROUGH                         6544\n",
       "CITY                            4152\n",
       "STATE                           4152\n",
       "HOUSENO                         2092\n",
       "STNAME                          2046\n",
       "STNAME.1                        7753\n",
       "STNAME.2                       16332\n",
       "Unnamed: 14                    18747\n",
       "Unnamed: 15                    18773\n",
       "..                             18204\n",
       "Unnamed: 1                     18786\n",
       "Unnamed: 2                     18783\n",
       "Unnamed: 3                     18787\n",
       "Unnamed: 4                     18789\n",
       "Unnamed: 5                     18790\n",
       "Unnamed: 6                     18788\n",
       "Unnamed: 7                     18788\n",
       "Unnamed: 8                     18790\n",
       "ST_PREFIX                      17921\n",
       "ST_SUFFIX                      15028\n",
       "AdrMod                         15342\n",
       "STNAME.3                       18768\n",
       "STNAME.4                       18775\n",
       "Unnamed: 17                    18782\n",
       "tcch1  fiov!A-J     wf0- l3    18615\n",
       "0 t& t;,- /oS\"V                17540\n",
       "dtype: int64"
      ]
     },
     "execution_count": 52,
     "metadata": {},
     "output_type": "execute_result"
    }
   ],
   "source": [
    "df_agg.isnull().sum()"
   ]
  },
  {
   "cell_type": "code",
   "execution_count": 53,
   "metadata": {},
   "outputs": [],
   "source": [
    "# we got some \"dirty\" data while combining and we need to clean it\n",
    "# drop additional NaN columns in the end of datasets\n",
    "df_agg = df_agg.drop(columns=['Unnamed: 14', 'Unnamed: 15', '..', 'Unnamed: 1', 'Unnamed: 2', \n",
    "                 'Unnamed: 3', 'Unnamed: 4', 'Unnamed: 5', 'Unnamed: 6', 'Unnamed: 7', \n",
    "                 'Unnamed: 8', 'Unnamed: 17', 'tcch1  fiov!A-J     wf0- l3', '0 t& t;,- /oS\"V'])"
   ]
  },
  {
   "cell_type": "code",
   "execution_count": 54,
   "metadata": {},
   "outputs": [
    {
     "data": {
      "text/html": [
       "<div>\n",
       "<style scoped>\n",
       "    .dataframe tbody tr th:only-of-type {\n",
       "        vertical-align: middle;\n",
       "    }\n",
       "\n",
       "    .dataframe tbody tr th {\n",
       "        vertical-align: top;\n",
       "    }\n",
       "\n",
       "    .dataframe thead th {\n",
       "        text-align: right;\n",
       "    }\n",
       "</style>\n",
       "<table border=\"1\" class=\"dataframe\">\n",
       "  <thead>\n",
       "    <tr style=\"text-align: right;\">\n",
       "      <th></th>\n",
       "      <th>ID</th>\n",
       "      <th>YR</th>\n",
       "      <th>DIR</th>\n",
       "      <th>PG</th>\n",
       "      <th>TYPE</th>\n",
       "      <th>NAME</th>\n",
       "      <th>ADDY</th>\n",
       "      <th>BOROUGH</th>\n",
       "      <th>CITY</th>\n",
       "      <th>STATE</th>\n",
       "      <th>HOUSENO</th>\n",
       "      <th>STNAME</th>\n",
       "      <th>STNAME.1</th>\n",
       "      <th>STNAME.2</th>\n",
       "      <th>ST_PREFIX</th>\n",
       "      <th>ST_SUFFIX</th>\n",
       "      <th>AdrMod</th>\n",
       "      <th>STNAME.3</th>\n",
       "      <th>STNAME.4</th>\n",
       "    </tr>\n",
       "  </thead>\n",
       "  <tbody>\n",
       "    <tr>\n",
       "      <th>1</th>\n",
       "      <td>1</td>\n",
       "      <td>1885</td>\n",
       "      <td>Trow's</td>\n",
       "      <td>272</td>\n",
       "      <td>Restaurants</td>\n",
       "      <td>Abott Charles E.</td>\n",
       "      <td>109 Bleecker St.</td>\n",
       "      <td>Manhattan</td>\n",
       "      <td>New York</td>\n",
       "      <td>New York</td>\n",
       "      <td>109</td>\n",
       "      <td>Bleecker</td>\n",
       "      <td>St.</td>\n",
       "      <td>NaN</td>\n",
       "      <td>NaN</td>\n",
       "      <td>NaN</td>\n",
       "      <td>NaN</td>\n",
       "      <td>NaN</td>\n",
       "      <td>NaN</td>\n",
       "    </tr>\n",
       "  </tbody>\n",
       "</table>\n",
       "</div>"
      ],
      "text/plain": [
       "  ID    YR     DIR   PG         TYPE              NAME               ADDY  \\\n",
       "1  1  1885  Trow's  272  Restaurants  Abott Charles E.  109 Bleecker St.    \n",
       "\n",
       "     BOROUGH      CITY     STATE HOUSENO    STNAME STNAME.1 STNAME.2  \\\n",
       "1  Manhattan  New York  New York     109  Bleecker      St.      NaN   \n",
       "\n",
       "  ST_PREFIX ST_SUFFIX AdrMod STNAME.3 STNAME.4  \n",
       "1       NaN       NaN    NaN      NaN      NaN  "
      ]
     },
     "execution_count": 54,
     "metadata": {},
     "output_type": "execute_result"
    }
   ],
   "source": [
    "# drop rows with NaNs in YR because if YR=NaN that means it is the first row with annotations\n",
    "df_agg = df_agg.dropna(subset=['YR'])\n",
    "df_agg.head(1)"
   ]
  },
  {
   "cell_type": "code",
   "execution_count": 55,
   "metadata": {},
   "outputs": [
    {
     "data": {
      "text/plain": [
       "(15042, 19)"
      ]
     },
     "execution_count": 55,
     "metadata": {},
     "output_type": "execute_result"
    }
   ],
   "source": [
    "df_agg.shape"
   ]
  },
  {
   "cell_type": "code",
   "execution_count": null,
   "metadata": {},
   "outputs": [],
   "source": []
  },
  {
   "cell_type": "code",
   "execution_count": 57,
   "metadata": {},
   "outputs": [
    {
     "data": {
      "text/html": [
       "<div>\n",
       "<style scoped>\n",
       "    .dataframe tbody tr th:only-of-type {\n",
       "        vertical-align: middle;\n",
       "    }\n",
       "\n",
       "    .dataframe tbody tr th {\n",
       "        vertical-align: top;\n",
       "    }\n",
       "\n",
       "    .dataframe thead th {\n",
       "        text-align: right;\n",
       "    }\n",
       "</style>\n",
       "<table border=\"1\" class=\"dataframe\">\n",
       "  <thead>\n",
       "    <tr style=\"text-align: right;\">\n",
       "      <th></th>\n",
       "      <th>ID</th>\n",
       "      <th>YR</th>\n",
       "      <th>DIR</th>\n",
       "      <th>PG</th>\n",
       "      <th>TYPE</th>\n",
       "      <th>NAME</th>\n",
       "      <th>ADDY</th>\n",
       "      <th>BOROUGH</th>\n",
       "      <th>CITY</th>\n",
       "      <th>STATE</th>\n",
       "      <th>HOUSENO</th>\n",
       "      <th>STNAME</th>\n",
       "      <th>STNAME.1</th>\n",
       "      <th>STNAME.2</th>\n",
       "      <th>ST_PREFIX</th>\n",
       "      <th>ST_SUFFIX</th>\n",
       "      <th>AdrMod</th>\n",
       "      <th>STNAME.3</th>\n",
       "      <th>STNAME.4</th>\n",
       "      <th>last_name</th>\n",
       "    </tr>\n",
       "  </thead>\n",
       "  <tbody>\n",
       "    <tr>\n",
       "      <th>1</th>\n",
       "      <td>1</td>\n",
       "      <td>1885</td>\n",
       "      <td>Trow's</td>\n",
       "      <td>272</td>\n",
       "      <td>Restaurants</td>\n",
       "      <td>Abott Charles E.</td>\n",
       "      <td>109 Bleecker St.</td>\n",
       "      <td>Manhattan</td>\n",
       "      <td>New York</td>\n",
       "      <td>New York</td>\n",
       "      <td>109</td>\n",
       "      <td>Bleecker</td>\n",
       "      <td>St.</td>\n",
       "      <td>NaN</td>\n",
       "      <td>NaN</td>\n",
       "      <td>NaN</td>\n",
       "      <td>NaN</td>\n",
       "      <td>NaN</td>\n",
       "      <td>NaN</td>\n",
       "      <td>Abott</td>\n",
       "    </tr>\n",
       "  </tbody>\n",
       "</table>\n",
       "</div>"
      ],
      "text/plain": [
       "  ID    YR     DIR   PG         TYPE              NAME               ADDY  \\\n",
       "1  1  1885  Trow's  272  Restaurants  Abott Charles E.  109 Bleecker St.    \n",
       "\n",
       "     BOROUGH      CITY     STATE HOUSENO    STNAME STNAME.1 STNAME.2  \\\n",
       "1  Manhattan  New York  New York     109  Bleecker      St.      NaN   \n",
       "\n",
       "  ST_PREFIX ST_SUFFIX AdrMod STNAME.3 STNAME.4 last_name  \n",
       "1       NaN       NaN    NaN      NaN      NaN     Abott  "
      ]
     },
     "execution_count": 57,
     "metadata": {},
     "output_type": "execute_result"
    }
   ],
   "source": [
    "#df_agg['first_name']=df_agg['NAME'].str.split().str[0]\n",
    "df_agg['last_name']=df_agg['NAME'].str.split().str[0]\n",
    "df_agg.head(1)"
   ]
  },
  {
   "cell_type": "code",
   "execution_count": null,
   "metadata": {},
   "outputs": [],
   "source": []
  },
  {
   "cell_type": "code",
   "execution_count": 58,
   "metadata": {},
   "outputs": [],
   "source": [
    "df_agg.to_csv('restaurant_datasets/1870_1933_aggregated.csv')"
   ]
  },
  {
   "cell_type": "code",
   "execution_count": null,
   "metadata": {},
   "outputs": [],
   "source": []
  },
  {
   "cell_type": "code",
   "execution_count": null,
   "metadata": {},
   "outputs": [],
   "source": [
    "#df_agg['census_match_full'] = df_agg['last_name'].apply(nationality_distribution).str[0]\n",
    "#df_agg['census_match1'] = df_agg['last_name'].apply(nationality_distribution).str[1]\n",
    "#df_agg['census_match1p'] = df_agg['last_name'].apply(nationality_distribution).str[2]\n",
    "#df_agg.head()"
   ]
  },
  {
   "cell_type": "code",
   "execution_count": null,
   "metadata": {},
   "outputs": [],
   "source": []
  },
  {
   "cell_type": "code",
   "execution_count": null,
   "metadata": {},
   "outputs": [],
   "source": []
  },
  {
   "cell_type": "code",
   "execution_count": 158,
   "metadata": {},
   "outputs": [
    {
     "data": {
      "text/html": [
       "<div>\n",
       "<style scoped>\n",
       "    .dataframe tbody tr th:only-of-type {\n",
       "        vertical-align: middle;\n",
       "    }\n",
       "\n",
       "    .dataframe tbody tr th {\n",
       "        vertical-align: top;\n",
       "    }\n",
       "\n",
       "    .dataframe thead th {\n",
       "        text-align: right;\n",
       "    }\n",
       "</style>\n",
       "<table border=\"1\" class=\"dataframe\">\n",
       "  <thead>\n",
       "    <tr style=\"text-align: right;\">\n",
       "      <th></th>\n",
       "      <th>ID</th>\n",
       "      <th>YR</th>\n",
       "      <th>DIR</th>\n",
       "      <th>PG</th>\n",
       "      <th>TYPE</th>\n",
       "      <th>NAME</th>\n",
       "      <th>ADDY</th>\n",
       "      <th>BOROUGH</th>\n",
       "      <th>CITY</th>\n",
       "      <th>STATE</th>\n",
       "      <th>...</th>\n",
       "      <th>STNAME.2</th>\n",
       "      <th>ST_PREFIX</th>\n",
       "      <th>ST_SUFFIX</th>\n",
       "      <th>AdrMod</th>\n",
       "      <th>STNAME.3</th>\n",
       "      <th>STNAME.4</th>\n",
       "      <th>last_name</th>\n",
       "      <th>census_match_full</th>\n",
       "      <th>census_match_1</th>\n",
       "      <th>census_match_1p</th>\n",
       "    </tr>\n",
       "  </thead>\n",
       "  <tbody>\n",
       "    <tr>\n",
       "      <th>0</th>\n",
       "      <td>784</td>\n",
       "      <td>1910</td>\n",
       "      <td>Trow</td>\n",
       "      <td>826.0</td>\n",
       "      <td>Restaurant</td>\n",
       "      <td>Edwards Alice W.</td>\n",
       "      <td>130 W 57 St.</td>\n",
       "      <td>Manhattan</td>\n",
       "      <td>New York</td>\n",
       "      <td>New York</td>\n",
       "      <td>...</td>\n",
       "      <td>St.</td>\n",
       "      <td>NaN</td>\n",
       "      <td>NaN</td>\n",
       "      <td>130 W 57 St.</td>\n",
       "      <td>NaN</td>\n",
       "      <td>NaN</td>\n",
       "      <td>Edwards</td>\n",
       "      <td>Counter({'Tennessee': 0.42, 'Ohio': 0.42, 'New...</td>\n",
       "      <td>Ohio</td>\n",
       "      <td>0.42</td>\n",
       "    </tr>\n",
       "  </tbody>\n",
       "</table>\n",
       "<p>1 rows × 23 columns</p>\n",
       "</div>"
      ],
      "text/plain": [
       "    ID    YR   DIR     PG        TYPE              NAME            ADDY  \\\n",
       "0  784  1910  Trow  826.0  Restaurant  Edwards Alice W.  130 W 57 St.     \n",
       "\n",
       "     BOROUGH      CITY     STATE  ... STNAME.2 ST_PREFIX ST_SUFFIX  \\\n",
       "0  Manhattan  New York  New York  ...      St.       NaN       NaN   \n",
       "\n",
       "           AdrMod STNAME.3 STNAME.4 last_name  \\\n",
       "0  130 W 57 St.        NaN      NaN   Edwards   \n",
       "\n",
       "                                   census_match_full census_match_1  \\\n",
       "0  Counter({'Tennessee': 0.42, 'Ohio': 0.42, 'New...           Ohio   \n",
       "\n",
       "  census_match_1p  \n",
       "0            0.42  \n",
       "\n",
       "[1 rows x 23 columns]"
      ]
     },
     "execution_count": 158,
     "metadata": {},
     "output_type": "execute_result"
    }
   ],
   "source": [
    "df_agg_processed_last = pd.read_csv('restaurant_datasets/1870_1933_matched_last.csv', index_col=0)\n",
    "df_agg_processed_last.head(1)"
   ]
  },
  {
   "cell_type": "code",
   "execution_count": 60,
   "metadata": {},
   "outputs": [
    {
     "data": {
      "text/plain": [
       "(15042, 26)"
      ]
     },
     "execution_count": 60,
     "metadata": {},
     "output_type": "execute_result"
    }
   ],
   "source": [
    "df_agg_processed_last.shape"
   ]
  },
  {
   "cell_type": "code",
   "execution_count": 61,
   "metadata": {},
   "outputs": [
    {
     "data": {
      "text/plain": [
       "Index(['Unnamed: 0', 'Unnamed: 0.1', 'Unnamed: 0.1.1', 'ID', 'YR', 'DIR', 'PG',\n",
       "       'TYPE', 'NAME', 'ADDY', 'BOROUGH', 'CITY', 'STATE', 'HOUSENO', 'STNAME',\n",
       "       'STNAME.1', 'STNAME.2', 'ST_PREFIX', 'ST_SUFFIX', 'AdrMod', 'STNAME.3',\n",
       "       'STNAME.4', 'last_name', 'census_match_full', 'census_match_1',\n",
       "       'census_match_1p'],\n",
       "      dtype='object')"
      ]
     },
     "execution_count": 61,
     "metadata": {},
     "output_type": "execute_result"
    }
   ],
   "source": [
    "df_agg_processed_last.columns"
   ]
  },
  {
   "cell_type": "code",
   "execution_count": 157,
   "metadata": {},
   "outputs": [
    {
     "data": {
      "text/html": [
       "<div>\n",
       "<style scoped>\n",
       "    .dataframe tbody tr th:only-of-type {\n",
       "        vertical-align: middle;\n",
       "    }\n",
       "\n",
       "    .dataframe tbody tr th {\n",
       "        vertical-align: top;\n",
       "    }\n",
       "\n",
       "    .dataframe thead th {\n",
       "        text-align: right;\n",
       "    }\n",
       "</style>\n",
       "<table border=\"1\" class=\"dataframe\">\n",
       "  <thead>\n",
       "    <tr style=\"text-align: right;\">\n",
       "      <th></th>\n",
       "      <th>ID</th>\n",
       "      <th>YR</th>\n",
       "      <th>DIR</th>\n",
       "      <th>PG</th>\n",
       "      <th>TYPE</th>\n",
       "      <th>NAME</th>\n",
       "      <th>ADDY</th>\n",
       "      <th>BOROUGH</th>\n",
       "      <th>CITY</th>\n",
       "      <th>STATE</th>\n",
       "      <th>...</th>\n",
       "      <th>STNAME.2</th>\n",
       "      <th>ST_PREFIX</th>\n",
       "      <th>ST_SUFFIX</th>\n",
       "      <th>AdrMod</th>\n",
       "      <th>STNAME.3</th>\n",
       "      <th>STNAME.4</th>\n",
       "      <th>last_name</th>\n",
       "      <th>census_match_full</th>\n",
       "      <th>census_match_1</th>\n",
       "      <th>census_match_1p</th>\n",
       "    </tr>\n",
       "  </thead>\n",
       "  <tbody>\n",
       "    <tr>\n",
       "      <th>0</th>\n",
       "      <td>784</td>\n",
       "      <td>1910</td>\n",
       "      <td>Trow</td>\n",
       "      <td>826.0</td>\n",
       "      <td>Restaurant</td>\n",
       "      <td>Edwards Alice W.</td>\n",
       "      <td>130 W 57 St.</td>\n",
       "      <td>Manhattan</td>\n",
       "      <td>New York</td>\n",
       "      <td>New York</td>\n",
       "      <td>...</td>\n",
       "      <td>St.</td>\n",
       "      <td>NaN</td>\n",
       "      <td>NaN</td>\n",
       "      <td>130 W 57 St.</td>\n",
       "      <td>NaN</td>\n",
       "      <td>NaN</td>\n",
       "      <td>Edwards</td>\n",
       "      <td>Counter({'Tennessee': 0.42, 'Ohio': 0.42, 'New...</td>\n",
       "      <td>Ohio</td>\n",
       "      <td>0.42</td>\n",
       "    </tr>\n",
       "  </tbody>\n",
       "</table>\n",
       "<p>1 rows × 23 columns</p>\n",
       "</div>"
      ],
      "text/plain": [
       "    ID    YR   DIR     PG        TYPE              NAME            ADDY  \\\n",
       "0  784  1910  Trow  826.0  Restaurant  Edwards Alice W.  130 W 57 St.     \n",
       "\n",
       "     BOROUGH      CITY     STATE  ... STNAME.2 ST_PREFIX ST_SUFFIX  \\\n",
       "0  Manhattan  New York  New York  ...      St.       NaN       NaN   \n",
       "\n",
       "           AdrMod STNAME.3 STNAME.4 last_name  \\\n",
       "0  130 W 57 St.        NaN      NaN   Edwards   \n",
       "\n",
       "                                   census_match_full census_match_1  \\\n",
       "0  Counter({'Tennessee': 0.42, 'Ohio': 0.42, 'New...           Ohio   \n",
       "\n",
       "  census_match_1p  \n",
       "0            0.42  \n",
       "\n",
       "[1 rows x 23 columns]"
      ]
     },
     "execution_count": 157,
     "metadata": {},
     "output_type": "execute_result"
    }
   ],
   "source": [
    "df_agg_processed_last = df_agg_processed_last[['ID', 'YR', 'DIR', 'PG',\n",
    "       'TYPE', 'NAME', 'ADDY', 'BOROUGH', 'CITY', 'STATE', 'HOUSENO', 'STNAME',\n",
    "       'STNAME.1', 'STNAME.2', 'ST_PREFIX', 'ST_SUFFIX', 'AdrMod', 'STNAME.3',\n",
    "       'STNAME.4', 'last_name', 'census_match_full', 'census_match_1',\n",
    "       'census_match_1p']]\n",
    "df_agg_processed_last.head(1)"
   ]
  },
  {
   "cell_type": "code",
   "execution_count": null,
   "metadata": {},
   "outputs": [],
   "source": []
  },
  {
   "cell_type": "code",
   "execution_count": null,
   "metadata": {},
   "outputs": [],
   "source": []
  },
  {
   "cell_type": "code",
   "execution_count": null,
   "metadata": {},
   "outputs": [],
   "source": []
  },
  {
   "cell_type": "markdown",
   "metadata": {},
   "source": [
    "### summary statistics\n",
    "- how many (percentage) entries did not return results?\n",
    "- nationality distribution through years"
   ]
  },
  {
   "cell_type": "code",
   "execution_count": 69,
   "metadata": {},
   "outputs": [
    {
     "name": "stdout",
     "output_type": "stream",
     "text": [
      "32.14% of the entries did not yield results\n"
     ]
    }
   ],
   "source": [
    "NULL = df_agg_processed_last.isnull().sum()['census_match_full']\n",
    "TOTAL = df_agg_processed_last.shape[0]\n",
    "print(f'{round(NULL/TOTAL*100,2)}% of the entries did not yield results')"
   ]
  },
  {
   "cell_type": "code",
   "execution_count": 72,
   "metadata": {},
   "outputs": [
    {
     "data": {
      "text/plain": [
       "{('1870', 'New York'): 89,\n",
       " ('1870', 'Russia'): 53,\n",
       " ('1870', 'Germany'): 50,\n",
       " ('1870', 'Ireland'): 40,\n",
       " ('1870', 'Austria'): 20,\n",
       " ('1870', 'Virginia'): 10,\n",
       " ('1870', 'England'): 9,\n",
       " ('1870', 'Massachusetts'): 9,\n",
       " ('1870', 'Georgia'): 8,\n",
       " ('1870', 'Hungary'): 8,\n",
       " ('1870', 'Italy'): 8,\n",
       " ('1870', 'New Jersey'): 7,\n",
       " ('1870', 'Pennsylvania'): 7,\n",
       " ('1870', 'South Carolina'): 6,\n",
       " ('1870', 'West Indies'): 6,\n",
       " ('1870', 'North Carolina'): 5,\n",
       " ('1870', 'Scotland'): 5,\n",
       " ('1870', 'Switzerland'): 5,\n",
       " ('1870', 'DC'): 4,\n",
       " ('1870', 'France'): 4,\n",
       " ('1870', 'Romania'): 4,\n",
       " ('1870', 'Canada'): 3,\n",
       " ('1870', 'Connecticut'): 3,\n",
       " ('1870', 'Delaware'): 3,\n",
       " ('1870', 'Denmark'): 3,\n",
       " ('1870', 'Ohio'): 3,\n",
       " ('1870', 'Texas'): 3,\n",
       " ('1870', 'Vermont'): 3,\n",
       " ('1870', 'Florida'): 2,\n",
       " ('1870', 'Luxembourg'): 2,\n",
       " ('1870', 'New Hampshire'): 2,\n",
       " ('1870', 'Sweden'): 2,\n",
       " ('1870', 'Barbados'): 1,\n",
       " ('1870', 'California'): 1,\n",
       " ('1870', 'Kentucky'): 1,\n",
       " ('1870', 'Maine'): 1,\n",
       " ('1870', 'Maryland'): 1,\n",
       " ('1870', 'Michigan'): 1,\n",
       " ('1870', 'Rhode Island'): 1,\n",
       " ('1870', 'US'): 1,\n",
       " ('1885.0', 'New York'): 14,\n",
       " ('1885.0', 'Germany'): 10,\n",
       " ('1885.0', 'Russia'): 9,\n",
       " ('1885.0', 'Austria'): 6,\n",
       " ('1885.0', 'Colorado'): 4,\n",
       " ('1885.0', 'England'): 3,\n",
       " ('1885.0', 'Hungary'): 3,\n",
       " ('1885.0', 'Ireland'): 3,\n",
       " ('1885.0', 'Italy'): 2,\n",
       " ('1885.0', 'California'): 1,\n",
       " ('1885.0', 'Canada'): 1,\n",
       " ('1885.0', 'Florida'): 1,\n",
       " ('1885.0', 'Kentucky'): 1,\n",
       " ('1885.0', 'North Carolina'): 1,\n",
       " ('1885.0', 'Pennsylvania'): 1,\n",
       " ('1885.0', 'South America'): 1,\n",
       " ('1890', 'New York'): 224,\n",
       " ('1890', 'Germany'): 140,\n",
       " ('1890', 'Russia'): 136,\n",
       " ('1890', 'Ireland'): 99,\n",
       " ('1890', 'Austria'): 78,\n",
       " ('1890', 'Hungary'): 66,\n",
       " ('1890', 'Italy'): 34,\n",
       " ('1890', 'Virginia'): 19,\n",
       " ('1890', 'Pennsylvania'): 15,\n",
       " ('1890', 'England'): 14,\n",
       " ('1890', 'Romania'): 13,\n",
       " ('1890', 'France'): 10,\n",
       " ('1890', 'Massachusetts'): 10,\n",
       " ('1890', 'Sweden'): 10,\n",
       " ('1890', 'DC'): 8,\n",
       " ('1890', 'Maryland'): 8,\n",
       " ('1890', 'New Jersey'): 8,\n",
       " ('1890', 'South Carolina'): 8,\n",
       " ('1890', 'Switzerland'): 8,\n",
       " ('1890', 'Canada'): 7,\n",
       " ('1890', 'North Carolina'): 7,\n",
       " ('1890', 'Georgia'): 6,\n",
       " ('1890', 'West Indies'): 6,\n",
       " ('1890', 'Maine'): 5,\n",
       " ('1890', 'Scotland'): 5,\n",
       " ('1890', 'Colorado'): 4,\n",
       " ('1890', 'Connecticut'): 4,\n",
       " ('1890', 'Indiana'): 4,\n",
       " ('1890', 'Ohio'): 4,\n",
       " ('1890', 'Delaware'): 3,\n",
       " ('1890', 'Luxembourg'): 3,\n",
       " ('1890', 'Michigan'): 3,\n",
       " ('1890', 'New Hampshire'): 3,\n",
       " ('1890', 'Texas'): 3,\n",
       " ('1890', 'Denmark'): 2,\n",
       " ('1890', 'Florida'): 2,\n",
       " ('1890', 'Kentucky'): 2,\n",
       " ('1890', 'Other'): 2,\n",
       " ('1890', 'Poland'): 2,\n",
       " ('1890', 'Barbados'): 1,\n",
       " ('1890', 'Belgium'): 1,\n",
       " ('1890', 'Bohemia'): 1,\n",
       " ('1890', 'California'): 1,\n",
       " ('1890', 'Cuba'): 1,\n",
       " ('1890', 'Finland'): 1,\n",
       " ('1890', 'Galicia'): 1,\n",
       " ('1890', 'Holland'): 1,\n",
       " ('1890', 'Louisiana'): 1,\n",
       " ('1890', 'Mississippi'): 1,\n",
       " ('1890', 'Norway'): 1,\n",
       " ('1890', 'South America'): 1,\n",
       " ('1890', 'Spain'): 1,\n",
       " ('1890', 'Turkey'): 1,\n",
       " ('1890', 'US'): 1,\n",
       " ('1890', 'Vermont'): 1,\n",
       " ('1890.0', 'New York'): 24,\n",
       " ('1890.0', 'Germany'): 17,\n",
       " ('1890.0', 'Austria'): 13,\n",
       " ('1890.0', 'Italy'): 10,\n",
       " ('1890.0', 'Romania'): 9,\n",
       " ('1890.0', 'Ireland'): 7,\n",
       " ('1890.0', 'Russia'): 7,\n",
       " ('1890.0', 'Virginia'): 4,\n",
       " ('1890.0', 'West Indies'): 4,\n",
       " ('1890.0', 'France'): 3,\n",
       " ('1890.0', 'Texas'): 3,\n",
       " ('1890.0', 'Hungary'): 2,\n",
       " ('1890.0', 'Canada'): 1,\n",
       " ('1890.0', 'England'): 1,\n",
       " ('1890.0', 'Iowa'): 1,\n",
       " ('1890.0', 'Maine'): 1,\n",
       " ('1890.0', 'Massachusetts'): 1,\n",
       " ('1890.0', 'New Jersey'): 1,\n",
       " ('1890.0', 'Puerto Rico'): 1,\n",
       " ('1890.0', 'Rhode Island'): 1,\n",
       " ('1890.0', 'Vermont'): 1,\n",
       " ('1895', 'New York'): 279,\n",
       " ('1895', 'Germany'): 195,\n",
       " ('1895', 'Russia'): 173,\n",
       " ('1895', 'Austria'): 120,\n",
       " ('1895', 'Ireland'): 111,\n",
       " ('1895', 'Hungary'): 106,\n",
       " ('1895', 'Italy'): 69,\n",
       " ('1895', 'Romania'): 27,\n",
       " ('1895', 'France'): 26,\n",
       " ('1895', 'Virginia'): 23,\n",
       " ('1895', 'Pennsylvania'): 19,\n",
       " ('1895', 'New Jersey'): 15,\n",
       " ('1895', 'Sweden'): 15,\n",
       " ('1895', 'England'): 11,\n",
       " ('1895', 'Switzerland'): 10,\n",
       " ('1895', 'Texas'): 10,\n",
       " ('1895', 'Massachusetts'): 9,\n",
       " ('1895', 'West Indies'): 9,\n",
       " ('1895', 'Georgia'): 8,\n",
       " ('1895', 'Canada'): 6,\n",
       " ('1895', 'Maryland'): 6,\n",
       " ('1895', 'Scotland'): 6,\n",
       " ('1895', 'South Carolina'): 6,\n",
       " ('1895', 'North Carolina'): 5,\n",
       " ('1895', 'Ohio'): 5,\n",
       " ('1895', 'Bohemia'): 4,\n",
       " ('1895', 'Colorado'): 4,\n",
       " ('1895', 'Delaware'): 4,\n",
       " ('1895', 'Cuba'): 3,\n",
       " ('1895', 'DC'): 3,\n",
       " ('1895', 'Michigan'): 3,\n",
       " ('1895', 'New Hampshire'): 3,\n",
       " ('1895', 'Norway'): 3,\n",
       " ('1895', 'Spain'): 3,\n",
       " ('1895', 'China'): 2,\n",
       " ('1895', 'Connecticut'): 2,\n",
       " ('1895', 'Denmark'): 2,\n",
       " ('1895', 'Indiana'): 2,\n",
       " ('1895', 'Poland'): 2,\n",
       " ('1895', 'Rhode Island'): 2,\n",
       " ('1895', 'Barbados'): 1,\n",
       " ('1895', 'Belgium'): 1,\n",
       " ('1895', 'Florida'): 1,\n",
       " ('1895', 'Galicia'): 1,\n",
       " ('1895', 'Holland'): 1,\n",
       " ('1895', 'Illinois'): 1,\n",
       " ('1895', 'Luxembourg'): 1,\n",
       " ('1895', 'Maine'): 1,\n",
       " ('1895', 'Mississippi'): 1,\n",
       " ('1895', 'Missouri'): 1,\n",
       " ('1895', 'Other'): 1,\n",
       " ('1895', 'Puerto Rico'): 1,\n",
       " ('1895', 'Serbia'): 1,\n",
       " ('1895', 'South America'): 1,\n",
       " ('1895', 'US'): 1,\n",
       " ('1895', 'Wales'): 1,\n",
       " ('1905', 'Russia'): 353,\n",
       " ('1905', 'Austria'): 276,\n",
       " ('1905', 'New York'): 241,\n",
       " ('1905', 'Germany'): 217,\n",
       " ('1905', 'Hungary'): 137,\n",
       " ('1905', 'Italy'): 126,\n",
       " ('1905', 'Ireland'): 123,\n",
       " ('1905', 'Romania'): 60,\n",
       " ('1905', 'England'): 30,\n",
       " ('1905', 'China'): 20,\n",
       " ('1905', 'New Jersey'): 16,\n",
       " ('1905', 'France'): 12,\n",
       " ('1905', 'Virginia'): 12,\n",
       " ('1905', 'Connecticut'): 11,\n",
       " ('1905', 'Massachusetts'): 11,\n",
       " ('1905', 'North Carolina'): 10,\n",
       " ('1905', 'Switzerland'): 10,\n",
       " ('1905', 'Pennsylvania'): 8,\n",
       " ('1905', 'Sweden'): 8,\n",
       " ('1905', 'Greece'): 7,\n",
       " ('1905', 'Ohio'): 7,\n",
       " ('1905', 'Scotland'): 7,\n",
       " ('1905', 'Canada'): 6,\n",
       " ('1905', 'DC'): 5,\n",
       " ('1905', 'Michigan'): 5,\n",
       " ('1905', 'Sicily'): 5,\n",
       " ('1905', 'South Carolina'): 5,\n",
       " ('1905', 'West Indies'): 5,\n",
       " ('1905', 'Denmark'): 4,\n",
       " ('1905', 'Georgia'): 4,\n",
       " ('1905', 'Maine'): 4,\n",
       " ('1905', 'Maryland'): 3,\n",
       " ('1905', 'Texas'): 3,\n",
       " ('1905', 'Bohemia'): 2,\n",
       " ('1905', 'Delaware'): 2,\n",
       " ('1905', 'Finland'): 2,\n",
       " ('1905', 'Holland'): 2,\n",
       " ('1905', 'Indiana'): 2,\n",
       " ('1905', 'Prussia'): 2,\n",
       " ('1905', 'Rhode Island'): 2,\n",
       " ('1905', 'Spain'): 2,\n",
       " ('1905', 'Turkey'): 2,\n",
       " ('1905', 'Vermont'): 2,\n",
       " ('1905', 'Asia'): 1,\n",
       " ('1905', 'Belgium'): 1,\n",
       " ('1905', 'Florida'): 1,\n",
       " ('1905', 'Kentucky'): 1,\n",
       " ('1905', 'Mississippi'): 1,\n",
       " ('1905', 'New Hampshire'): 1,\n",
       " ('1905', 'Norway'): 1,\n",
       " ('1905', 'Venezuela'): 1,\n",
       " ('1905.0', 'Russia'): 61,\n",
       " ('1905.0', 'New York'): 53,\n",
       " ('1905.0', 'Austria'): 39,\n",
       " ('1905.0', 'Hungary'): 29,\n",
       " ('1905.0', 'Italy'): 26,\n",
       " ('1905.0', 'Germany'): 24,\n",
       " ('1905.0', 'Ireland'): 18,\n",
       " ('1905.0', 'Pennsylvania'): 10,\n",
       " ('1905.0', 'Colorado'): 5,\n",
       " ('1905.0', 'France'): 4,\n",
       " ('1905.0', 'North Carolina'): 4,\n",
       " ('1905.0', 'Ohio'): 4,\n",
       " ('1905.0', 'South Carolina'): 4,\n",
       " ('1905.0', 'Romania'): 3,\n",
       " ('1905.0', 'Virginia'): 3,\n",
       " ('1905.0', 'California'): 2,\n",
       " ('1905.0', 'Canada'): 2,\n",
       " ('1905.0', 'Greece'): 2,\n",
       " ('1905.0', 'New Jersey'): 2,\n",
       " ('1905.0', 'Alabama'): 1,\n",
       " ('1905.0', 'Armenia'): 1,\n",
       " ('1905.0', 'Belgium'): 1,\n",
       " ('1905.0', 'Connecticut'): 1,\n",
       " ('1905.0', 'DC'): 1,\n",
       " ('1905.0', 'England'): 1,\n",
       " ('1905.0', 'Indiana'): 1,\n",
       " ('1905.0', 'Iowa'): 1,\n",
       " ('1905.0', 'Scotland'): 1,\n",
       " ('1905.0', 'Spain'): 1,\n",
       " ('1905.0', 'Sweden'): 1,\n",
       " ('1905.0', 'Switzerland'): 1,\n",
       " ('1905.0', 'Turkey'): 1,\n",
       " ('1910', 'Russia'): 497,\n",
       " ('1910', 'Austria'): 357,\n",
       " ('1910', 'New York'): 307,\n",
       " ('1910', 'Germany'): 242,\n",
       " ('1910', 'Italy'): 236,\n",
       " ('1910', 'Hungary'): 221,\n",
       " ('1910', 'Ireland'): 150,\n",
       " ('1910', 'Romania'): 92,\n",
       " ('1910', 'Pennsylvania'): 60,\n",
       " ('1910', 'England'): 30,\n",
       " ('1910', 'France'): 27,\n",
       " ('1910', 'Virginia'): 21,\n",
       " ('1910', 'China'): 20,\n",
       " ('1910', 'Switzerland'): 17,\n",
       " ('1910', 'West Indies'): 16,\n",
       " ('1910', 'New Jersey'): 14,\n",
       " ('1910', 'North Carolina'): 14,\n",
       " ('1910', 'Ohio'): 13,\n",
       " ('1910', 'South Carolina'): 13,\n",
       " ('1910', 'Sweden'): 13,\n",
       " ('1910', 'DC'): 11,\n",
       " ('1910', 'Massachusetts'): 11,\n",
       " ('1910', 'Greece'): 9,\n",
       " ('1910', 'Turkey'): 8,\n",
       " ('1910', 'Canada'): 5,\n",
       " ('1910', 'Denmark'): 5,\n",
       " ('1910', 'Illinois'): 5,\n",
       " ('1910', 'Maryland'): 5,\n",
       " ('1910', 'Scotland'): 5,\n",
       " ('1910', 'Bohemia'): 4,\n",
       " ('1910', 'Connecticut'): 4,\n",
       " ('1910', 'Maine'): 4,\n",
       " ('1910', 'Michigan'): 4,\n",
       " ('1910', 'Other'): 4,\n",
       " ('1910', 'Texas'): 4,\n",
       " ('1910', 'Spain'): 3,\n",
       " ('1910', 'Syria'): 3,\n",
       " ('1910', 'Armenia'): 2,\n",
       " ('1910', 'Asia'): 2,\n",
       " ('1910', 'Colorado'): 2,\n",
       " ('1910', 'Delaware'): 2,\n",
       " ('1910', 'Florida'): 2,\n",
       " ('1910', 'Georgia'): 2,\n",
       " ('1910', 'Norway'): 2,\n",
       " ('1910', 'Tennessee'): 2,\n",
       " ('1910', 'Vermont'): 2,\n",
       " ('1910', 'Alabama'): 1,\n",
       " ('1910', 'Australia'): 1,\n",
       " ('1910', 'Belgium'): 1,\n",
       " ('1910', 'Bulgaria'): 1,\n",
       " ('1910', 'Finland'): 1,\n",
       " ('1910', 'Indiana'): 1,\n",
       " ('1910', 'Japan'): 1,\n",
       " ('1910', 'Luxembourg'): 1,\n",
       " ('1910', 'Missouri'): 1,\n",
       " ('1910', 'New Hampshire'): 1,\n",
       " ('1910', 'Rhode Island'): 1,\n",
       " ('1910', 'Sicily'): 1,\n",
       " ('1910', 'US'): 1,\n",
       " ('1910', 'Wales'): 1,\n",
       " ('1910', 'Wisconsin'): 1,\n",
       " ('1915', 'Pennsylvania'): 55,\n",
       " ('1915', 'New York'): 39,\n",
       " ('1915', 'Russia'): 30,\n",
       " ('1915', 'Austria'): 26,\n",
       " ('1915', 'Ireland'): 22,\n",
       " ('1915', 'Germany'): 15,\n",
       " ('1915', 'Italy'): 14,\n",
       " ('1915', 'Hungary'): 9,\n",
       " ('1915', 'North Carolina'): 3,\n",
       " ('1915', 'France'): 2,\n",
       " ('1915', 'Romania'): 2,\n",
       " ('1915', 'Armenia'): 1,\n",
       " ('1915', 'China'): 1,\n",
       " ('1915', 'Connecticut'): 1,\n",
       " ('1915', 'England'): 1,\n",
       " ('1915', 'Georgia'): 1,\n",
       " ('1915', 'Luxembourg'): 1,\n",
       " ('1915', 'Maryland'): 1,\n",
       " ('1915', 'New Jersey'): 1,\n",
       " ('1915', 'Ohio'): 1,\n",
       " ('1915', 'Other'): 1,\n",
       " ('1915', 'South Carolina'): 1,\n",
       " ('1915', 'Spain'): 1,\n",
       " ('1915', 'Turkey'): 1,\n",
       " ('1915', 'Vermont'): 1,\n",
       " ('1915', 'Virginia'): 1,\n",
       " ('1915.0', 'New York'): 47,\n",
       " ('1915.0', 'Austria'): 46,\n",
       " ('1915.0', 'Russia'): 45,\n",
       " ('1915.0', 'Germany'): 27,\n",
       " ('1915.0', 'Italy'): 21,\n",
       " ('1915.0', 'Hungary'): 18,\n",
       " ('1915.0', 'Ireland'): 15,\n",
       " ('1915.0', 'Romania'): 7,\n",
       " ('1915.0', 'England'): 5,\n",
       " ('1915.0', 'Sweden'): 4,\n",
       " ('1915.0', 'France'): 3,\n",
       " ('1915.0', 'Georgia'): 2,\n",
       " ('1915.0', 'Greece'): 2,\n",
       " ('1915.0', 'New Hampshire'): 2,\n",
       " ('1915.0', 'Ohio'): 2,\n",
       " ('1915.0', 'Scotland'): 2,\n",
       " ('1915.0', 'South Carolina'): 2,\n",
       " ('1915.0', 'Virginia'): 2,\n",
       " ('1915.0', 'Bohemia'): 1,\n",
       " ('1915.0', 'Canada'): 1,\n",
       " ('1915.0', 'Connecticut'): 1,\n",
       " ('1915.0', 'DC'): 1,\n",
       " ('1915.0', 'Holland'): 1,\n",
       " ('1915.0', 'Maine'): 1,\n",
       " ('1915.0', 'Maryland'): 1,\n",
       " ('1915.0', 'Massachusetts'): 1,\n",
       " ('1915.0', 'New Jersey'): 1,\n",
       " ('1915.0', 'Texas'): 1,\n",
       " ('1915.0', 'Turkey'): 1,\n",
       " ('1915.0', 'Vermont'): 1,\n",
       " ('1920.0', 'Russia'): 152,\n",
       " ('1920.0', 'Austria'): 121,\n",
       " ('1920.0', 'New York'): 99,\n",
       " ('1920.0', 'Italy'): 87,\n",
       " ('1920.0', 'Hungary'): 59,\n",
       " ('1920.0', 'Germany'): 56,\n",
       " ('1920.0', 'Ireland'): 53,\n",
       " ('1920.0', 'England'): 17,\n",
       " ('1920.0', 'Romania'): 16,\n",
       " ('1920.0', 'Virginia'): 12,\n",
       " ('1920.0', 'France'): 11,\n",
       " ('1920.0', 'China'): 7,\n",
       " ('1920.0', 'Greece'): 6,\n",
       " ('1920.0', 'Pennsylvania'): 6,\n",
       " ('1920.0', 'South Carolina'): 6,\n",
       " ('1920.0', 'North Carolina'): 5,\n",
       " ('1920.0', 'Sweden'): 5,\n",
       " ('1920.0', 'Turkey'): 5,\n",
       " ('1920.0', 'Ohio'): 4,\n",
       " ('1920.0', 'Scotland'): 4,\n",
       " ('1920.0', 'Switzerland'): 4,\n",
       " ('1920.0', 'Denmark'): 3,\n",
       " ('1920.0', 'Massachusetts'): 3,\n",
       " ('1920.0', 'New Jersey'): 3,\n",
       " ('1920.0', 'Texas'): 3,\n",
       " ('1920.0', 'Connecticut'): 2,\n",
       " ('1920.0', 'Georgia'): 2,\n",
       " ('1920.0', 'Illinois'): 2,\n",
       " ('1920.0', 'Iowa'): 2,\n",
       " ('1920.0', 'Maryland'): 2,\n",
       " ('1920.0', 'Michigan'): 2,\n",
       " ('1920.0', 'New Hampshire'): 2,\n",
       " ('1920.0', 'Vermont'): 2,\n",
       " ('1920.0', 'West Indies'): 2,\n",
       " ('1920.0', 'Belgium'): 1,\n",
       " ('1920.0', 'California'): 1,\n",
       " ('1920.0', 'Colorado'): 1,\n",
       " ('1920.0', 'DC'): 1,\n",
       " ('1920.0', 'Galicia'): 1,\n",
       " ('1920.0', 'Kentucky'): 1,\n",
       " ('1920.0', 'Luxembourg'): 1,\n",
       " ('1920.0', 'Maine'): 1,\n",
       " ('1920.0', 'Portugal'): 1,\n",
       " ('1925.0', 'Russia'): 130,\n",
       " ('1925.0', 'Austria'): 112,\n",
       " ('1925.0', 'Italy'): 86,\n",
       " ('1925.0', 'New York'): 86,\n",
       " ('1925.0', 'Germany'): 55,\n",
       " ('1925.0', 'Ireland'): 50,\n",
       " ('1925.0', 'Hungary'): 47,\n",
       " ('1925.0', 'England'): 21,\n",
       " ('1925.0', 'Romania'): 19,\n",
       " ('1925.0', 'Virginia'): 15,\n",
       " ('1925.0', 'France'): 14,\n",
       " ('1925.0', 'China'): 9,\n",
       " ('1925.0', 'Massachusetts'): 8,\n",
       " ('1925.0', 'Pennsylvania'): 7,\n",
       " ('1925.0', 'New Jersey'): 6,\n",
       " ('1925.0', 'Sweden'): 6,\n",
       " ('1925.0', 'Switzerland'): 6,\n",
       " ('1925.0', 'Scotland'): 5,\n",
       " ('1925.0', 'South Carolina'): 5,\n",
       " ('1925.0', 'Turkey'): 5,\n",
       " ('1925.0', 'West Indies'): 5,\n",
       " ('1925.0', 'Greece'): 4,\n",
       " ('1925.0', 'Ohio'): 4,\n",
       " ('1925.0', 'Connecticut'): 3,\n",
       " ('1925.0', 'Illinois'): 3,\n",
       " ('1925.0', 'Michigan'): 3,\n",
       " ('1925.0', 'Rhode Island'): 3,\n",
       " ('1925.0', 'Bohemia'): 2,\n",
       " ('1925.0', 'DC'): 2,\n",
       " ('1925.0', 'Denmark'): 2,\n",
       " ('1925.0', 'Iowa'): 2,\n",
       " ('1925.0', 'Maryland'): 2,\n",
       " ('1925.0', 'North Carolina'): 2,\n",
       " ('1925.0', 'Texas'): 2,\n",
       " ('1925.0', 'Vermont'): 2,\n",
       " ('1925.0', 'Alabama'): 1,\n",
       " ('1925.0', 'Arkansas'): 1,\n",
       " ('1925.0', 'Belgium'): 1,\n",
       " ('1925.0', 'Canada'): 1,\n",
       " ('1925.0', 'Florida'): 1,\n",
       " ('1925.0', 'Galicia'): 1,\n",
       " ('1925.0', 'Georgia'): 1,\n",
       " ('1925.0', 'Maine'): 1,\n",
       " ('1925.0', 'New Hampshire'): 1,\n",
       " ('1925.0', 'Norway'): 1,\n",
       " ('1925.0', 'Sicily'): 1,\n",
       " ('1925.0', 'Spain'): 1,\n",
       " ('1930.0', 'New York'): 34,\n",
       " ('1930.0', 'Russia'): 27,\n",
       " ('1930.0', 'Austria'): 23,\n",
       " ('1930.0', 'Italy'): 20,\n",
       " ('1930.0', 'Ireland'): 14,\n",
       " ('1930.0', 'England'): 12,\n",
       " ('1930.0', 'Germany'): 11,\n",
       " ('1930.0', 'Pennsylvania'): 8,\n",
       " ('1930.0', 'Hungary'): 7,\n",
       " ('1930.0', 'France'): 6,\n",
       " ('1930.0', 'Ohio'): 5,\n",
       " ('1930.0', 'New Jersey'): 4,\n",
       " ('1930.0', 'Massachusetts'): 3,\n",
       " ('1930.0', 'Romania'): 3,\n",
       " ('1930.0', 'China'): 2,\n",
       " ('1930.0', 'Texas'): 2,\n",
       " ('1930.0', 'Turkey'): 2,\n",
       " ('1930.0', 'Virginia'): 2,\n",
       " ('1930.0', 'Arkansas'): 1,\n",
       " ('1930.0', 'Connecticut'): 1,\n",
       " ('1930.0', 'Greece'): 1,\n",
       " ('1930.0', 'Illinois'): 1,\n",
       " ('1930.0', 'Maryland'): 1,\n",
       " ('1930.0', 'Michigan'): 1,\n",
       " ('1930.0', 'Rhode Island'): 1,\n",
       " ('1930.0', 'Scotland'): 1,\n",
       " ('1930.0', 'Spain'): 1,\n",
       " ('1933', 'Russia'): 93,\n",
       " ('1933', 'Austria'): 78,\n",
       " ('1933', 'New York'): 64,\n",
       " ('1933', 'Italy'): 63,\n",
       " ('1933', 'Germany'): 35,\n",
       " ('1933', 'Ireland'): 33,\n",
       " ('1933', 'Hungary'): 28,\n",
       " ('1933', 'England'): 18,\n",
       " ('1933', 'France'): 12,\n",
       " ('1933', 'Pennsylvania'): 10,\n",
       " ('1933', 'Romania'): 10,\n",
       " ('1933', 'Virginia'): 9,\n",
       " ('1933', 'Massachusetts'): 8,\n",
       " ('1933', 'China'): 6,\n",
       " ('1933', 'New Jersey'): 5,\n",
       " ('1933', 'Scotland'): 5,\n",
       " ('1933', 'West Indies'): 5,\n",
       " ('1933', 'Ohio'): 4,\n",
       " ('1933', 'South Carolina'): 4,\n",
       " ('1933', 'Turkey'): 4,\n",
       " ('1933', 'Illinois'): 3,\n",
       " ('1933', 'Michigan'): 3,\n",
       " ('1933', 'Bohemia'): 2,\n",
       " ('1933', 'Canada'): 2,\n",
       " ('1933', 'Connecticut'): 2,\n",
       " ('1933', 'DC'): 2,\n",
       " ('1933', 'Denmark'): 2,\n",
       " ('1933', 'Greece'): 2,\n",
       " ('1933', 'Maryland'): 2,\n",
       " ('1933', 'Alabama'): 1,\n",
       " ('1933', 'Arkansas'): 1,\n",
       " ('1933', 'Iowa'): 1,\n",
       " ('1933', 'Kentucky'): 1,\n",
       " ('1933', 'Maine'): 1,\n",
       " ('1933', 'New Hampshire'): 1,\n",
       " ('1933', 'Norway'): 1,\n",
       " ('1933', 'Rhode Island'): 1,\n",
       " ('1933', 'Texas'): 1,\n",
       " ('1933', 'Vermont'): 1,\n",
       " ('1933', 'West Virginia'): 1}"
      ]
     },
     "execution_count": 72,
     "metadata": {},
     "output_type": "execute_result"
    }
   ],
   "source": [
    "df_agg_last_dict = dict(df_agg_processed_last.groupby('YR')['census_match_1'].value_counts())\n",
    "df_agg_last_dict"
   ]
  },
  {
   "cell_type": "code",
   "execution_count": null,
   "metadata": {},
   "outputs": [],
   "source": []
  },
  {
   "cell_type": "code",
   "execution_count": 96,
   "metadata": {},
   "outputs": [],
   "source": [
    "def convert_nationality(region):\n",
    "    if (region=='New York') or (region=='Pennsylvania') or (region=='West Indies')\\\n",
    "    or (region=='Virginia') or (region=='New Jersey') or (region=='South Carolina')\\\n",
    "    or (region=='Georgia') or (region=='Colorado') or (region=='Ohio')\\\n",
    "    or (region=='Tennessee') or (region=='Rhode Island') or (region=='Indiana')\\\n",
    "    or (region=='Connecticut') or (region=='Michigan') or (region=='Maine')\\\n",
    "    or (region=='Maryland') or (region=='North Carolina ') or (region=='Florida')\\\n",
    "    or (region=='DC') or (region=='Kentucky') or (region=='Massachusetts')\\\n",
    "    or (region=='New Hampshire') or (region=='Louisiana') or (region=='California')\\\n",
    "    or (region=='Iowa') or (region=='Missouri') or (region=='Illinois')\\\n",
    "    or (region=='US') or (region=='Barbados') or (region=='Texas') or (region=='North Carolina')\\\n",
    "    or (region=='Vermont') or (region=='Delaware') or (region=='Canada'):\n",
    "        return 'American'\n",
    "    elif (region=='Russia') or (region=='Hungary') or (region=='Romania')\\\n",
    "    or (region=='Poland') or (region=='Bohemia'):\n",
    "        return 'Eastern European'\n",
    "    elif (region=='Germany') or (region=='Austria') or (region=='Scotland'):\n",
    "        return 'Germanic'\n",
    "    elif (region=='Ireland') or (region=='England'):\n",
    "        return 'British'\n",
    "    elif (region=='Italy') or (region=='Spain') or (region=='Greece'):\n",
    "        return 'Southern European'\n",
    "    elif (region=='France') or (region=='Switzerland') or (region=='Holland') or (region=='Luxembourg'):\n",
    "        return 'Western European'\n",
    "    elif (region=='Sweden') or (region=='Finland') or (region=='Norway') or (region=='Denmark'):\n",
    "        return 'Scandinavian' \n",
    "    elif (region=='China'):\n",
    "        return 'Asian'\n",
    "    elif (region=='Turkey'):\n",
    "        return 'Middle Eastern'\n",
    "    else:\n",
    "        return 'False'"
   ]
  },
  {
   "cell_type": "code",
   "execution_count": 141,
   "metadata": {},
   "outputs": [],
   "source": [
    "def convert_year(year):\n",
    "    if len(year)==4:\n",
    "        return int(year)\n",
    "    else:\n",
    "        return int(year[:4])"
   ]
  },
  {
   "cell_type": "code",
   "execution_count": 171,
   "metadata": {},
   "outputs": [
    {
     "data": {
      "text/html": [
       "<div>\n",
       "<style scoped>\n",
       "    .dataframe tbody tr th:only-of-type {\n",
       "        vertical-align: middle;\n",
       "    }\n",
       "\n",
       "    .dataframe tbody tr th {\n",
       "        vertical-align: top;\n",
       "    }\n",
       "\n",
       "    .dataframe thead th {\n",
       "        text-align: right;\n",
       "    }\n",
       "</style>\n",
       "<table border=\"1\" class=\"dataframe\">\n",
       "  <thead>\n",
       "    <tr style=\"text-align: right;\">\n",
       "      <th></th>\n",
       "      <th>index</th>\n",
       "      <th>count</th>\n",
       "      <th>year</th>\n",
       "      <th>birthplace</th>\n",
       "      <th>nationality</th>\n",
       "    </tr>\n",
       "  </thead>\n",
       "  <tbody>\n",
       "    <tr>\n",
       "      <th>0</th>\n",
       "      <td>(1870, New York)</td>\n",
       "      <td>89</td>\n",
       "      <td>1870</td>\n",
       "      <td>New York</td>\n",
       "      <td>American</td>\n",
       "    </tr>\n",
       "  </tbody>\n",
       "</table>\n",
       "</div>"
      ],
      "text/plain": [
       "              index  count  year birthplace nationality\n",
       "0  (1870, New York)     89  1870   New York    American"
      ]
     },
     "execution_count": 171,
     "metadata": {},
     "output_type": "execute_result"
    }
   ],
   "source": [
    "df_last_count['nationality'] = df_last_count['birthplace'].apply(convert_nationality)\n",
    "df_last_count['year'] = df_last_count['year'].apply(convert_year)\n",
    "df_last_count.head(1)"
   ]
  },
  {
   "cell_type": "code",
   "execution_count": null,
   "metadata": {},
   "outputs": [],
   "source": []
  },
  {
   "cell_type": "code",
   "execution_count": null,
   "metadata": {},
   "outputs": [],
   "source": []
  },
  {
   "cell_type": "code",
   "execution_count": null,
   "metadata": {},
   "outputs": [],
   "source": []
  },
  {
   "cell_type": "code",
   "execution_count": 97,
   "metadata": {},
   "outputs": [
    {
     "data": {
      "text/html": [
       "<div>\n",
       "<style scoped>\n",
       "    .dataframe tbody tr th:only-of-type {\n",
       "        vertical-align: middle;\n",
       "    }\n",
       "\n",
       "    .dataframe tbody tr th {\n",
       "        vertical-align: top;\n",
       "    }\n",
       "\n",
       "    .dataframe thead th {\n",
       "        text-align: right;\n",
       "    }\n",
       "</style>\n",
       "<table border=\"1\" class=\"dataframe\">\n",
       "  <thead>\n",
       "    <tr style=\"text-align: right;\">\n",
       "      <th></th>\n",
       "      <th>index</th>\n",
       "      <th>count</th>\n",
       "      <th>year</th>\n",
       "      <th>birthplace</th>\n",
       "    </tr>\n",
       "  </thead>\n",
       "  <tbody>\n",
       "    <tr>\n",
       "      <th>0</th>\n",
       "      <td>(1870, New York)</td>\n",
       "      <td>89</td>\n",
       "      <td>1870</td>\n",
       "      <td>New York</td>\n",
       "    </tr>\n",
       "  </tbody>\n",
       "</table>\n",
       "</div>"
      ],
      "text/plain": [
       "              index  count  year birthplace\n",
       "0  (1870, New York)     89  1870   New York"
      ]
     },
     "execution_count": 97,
     "metadata": {},
     "output_type": "execute_result"
    }
   ],
   "source": [
    "# dict to df\n",
    "df_last_count = pd.DataFrame.from_dict(data=df_agg_last_dict, orient='index', columns=['count'])\n",
    "# reset index\n",
    "df_last_count.reset_index(level=0, inplace=True)\n",
    "# split dict keys to two cols\n",
    "df_last_count['year'] = df_last_count['index'].str[0]\n",
    "df_last_count['birthplace'] = df_last_count['index'].str[1]\n",
    "# inspect df\n",
    "df_last_count.head(1)"
   ]
  },
  {
   "cell_type": "code",
   "execution_count": 144,
   "metadata": {},
   "outputs": [
    {
     "data": {
      "text/html": [
       "<div>\n",
       "<style scoped>\n",
       "    .dataframe tbody tr th:only-of-type {\n",
       "        vertical-align: middle;\n",
       "    }\n",
       "\n",
       "    .dataframe tbody tr th {\n",
       "        vertical-align: top;\n",
       "    }\n",
       "\n",
       "    .dataframe thead th {\n",
       "        text-align: right;\n",
       "    }\n",
       "</style>\n",
       "<table border=\"1\" class=\"dataframe\">\n",
       "  <thead>\n",
       "    <tr style=\"text-align: right;\">\n",
       "      <th></th>\n",
       "      <th>count</th>\n",
       "      <th>year</th>\n",
       "    </tr>\n",
       "    <tr>\n",
       "      <th>nationality</th>\n",
       "      <th></th>\n",
       "      <th></th>\n",
       "    </tr>\n",
       "  </thead>\n",
       "  <tbody>\n",
       "    <tr>\n",
       "      <th>American</th>\n",
       "      <td>181</td>\n",
       "      <td>48620</td>\n",
       "    </tr>\n",
       "    <tr>\n",
       "      <th>Germanic</th>\n",
       "      <td>75</td>\n",
       "      <td>5610</td>\n",
       "    </tr>\n",
       "    <tr>\n",
       "      <th>Eastern European</th>\n",
       "      <td>65</td>\n",
       "      <td>5610</td>\n",
       "    </tr>\n",
       "    <tr>\n",
       "      <th>British</th>\n",
       "      <td>49</td>\n",
       "      <td>3740</td>\n",
       "    </tr>\n",
       "    <tr>\n",
       "      <th>Western European</th>\n",
       "      <td>11</td>\n",
       "      <td>5610</td>\n",
       "    </tr>\n",
       "    <tr>\n",
       "      <th>Southern European</th>\n",
       "      <td>8</td>\n",
       "      <td>1870</td>\n",
       "    </tr>\n",
       "    <tr>\n",
       "      <th>Scandinavian</th>\n",
       "      <td>5</td>\n",
       "      <td>3740</td>\n",
       "    </tr>\n",
       "  </tbody>\n",
       "</table>\n",
       "</div>"
      ],
      "text/plain": [
       "                   count   year\n",
       "nationality                    \n",
       "American             181  48620\n",
       "Germanic              75   5610\n",
       "Eastern European      65   5610\n",
       "British               49   3740\n",
       "Western European      11   5610\n",
       "Southern European      8   1870\n",
       "Scandinavian           5   3740"
      ]
     },
     "execution_count": 144,
     "metadata": {},
     "output_type": "execute_result"
    }
   ],
   "source": [
    "test = df_last_count[df_last_count['year']==1870].groupby('nationality').sum().sort_values(by='count', ascending=False)\n",
    "test"
   ]
  },
  {
   "cell_type": "code",
   "execution_count": null,
   "metadata": {},
   "outputs": [],
   "source": []
  },
  {
   "cell_type": "code",
   "execution_count": 132,
   "metadata": {},
   "outputs": [
    {
     "data": {
      "text/plain": [
       "([0, 1, 2, 3, 4, 5, 6], <a list of 7 Text xticklabel objects>)"
      ]
     },
     "execution_count": 132,
     "metadata": {},
     "output_type": "execute_result"
    },
    {
     "data": {
      "image/png": "[encoded data removed]",
      "text/plain": [
       "<Figure size 432x288 with 1 Axes>"
      ]
     },
     "metadata": {
      "needs_background": "light"
     },
     "output_type": "display_data"
    }
   ],
   "source": [
    "y = list(test['count'])\n",
    "x = list(test.index)\n",
    "plt.bar(x=x, height=y)\n",
    "plt.xticks(rotation=45)"
   ]
  },
  {
   "cell_type": "code",
   "execution_count": null,
   "metadata": {},
   "outputs": [],
   "source": []
  },
  {
   "cell_type": "code",
   "execution_count": null,
   "metadata": {},
   "outputs": [],
   "source": []
  },
  {
   "cell_type": "code",
   "execution_count": 145,
   "metadata": {},
   "outputs": [
    {
     "data": {
      "text/html": [
       "<div>\n",
       "<style scoped>\n",
       "    .dataframe tbody tr th:only-of-type {\n",
       "        vertical-align: middle;\n",
       "    }\n",
       "\n",
       "    .dataframe tbody tr th {\n",
       "        vertical-align: top;\n",
       "    }\n",
       "\n",
       "    .dataframe thead th {\n",
       "        text-align: right;\n",
       "    }\n",
       "</style>\n",
       "<table border=\"1\" class=\"dataframe\">\n",
       "  <thead>\n",
       "    <tr style=\"text-align: right;\">\n",
       "      <th></th>\n",
       "      <th>count</th>\n",
       "    </tr>\n",
       "    <tr>\n",
       "      <th>year</th>\n",
       "      <th></th>\n",
       "    </tr>\n",
       "  </thead>\n",
       "  <tbody>\n",
       "    <tr>\n",
       "      <th>1870</th>\n",
       "      <td>75</td>\n",
       "    </tr>\n",
       "    <tr>\n",
       "      <th>1885</th>\n",
       "      <td>16</td>\n",
       "    </tr>\n",
       "    <tr>\n",
       "      <th>1890</th>\n",
       "      <td>253</td>\n",
       "    </tr>\n",
       "    <tr>\n",
       "      <th>1895</th>\n",
       "      <td>321</td>\n",
       "    </tr>\n",
       "    <tr>\n",
       "      <th>1905</th>\n",
       "      <td>564</td>\n",
       "    </tr>\n",
       "    <tr>\n",
       "      <th>1910</th>\n",
       "      <td>604</td>\n",
       "    </tr>\n",
       "    <tr>\n",
       "      <th>1915</th>\n",
       "      <td>116</td>\n",
       "    </tr>\n",
       "    <tr>\n",
       "      <th>1920</th>\n",
       "      <td>181</td>\n",
       "    </tr>\n",
       "    <tr>\n",
       "      <th>1925</th>\n",
       "      <td>172</td>\n",
       "    </tr>\n",
       "    <tr>\n",
       "      <th>1930</th>\n",
       "      <td>35</td>\n",
       "    </tr>\n",
       "    <tr>\n",
       "      <th>1933</th>\n",
       "      <td>118</td>\n",
       "    </tr>\n",
       "  </tbody>\n",
       "</table>\n",
       "</div>"
      ],
      "text/plain": [
       "      count\n",
       "year       \n",
       "1870     75\n",
       "1885     16\n",
       "1890    253\n",
       "1895    321\n",
       "1905    564\n",
       "1910    604\n",
       "1915    116\n",
       "1920    181\n",
       "1925    172\n",
       "1930     35\n",
       "1933    118"
      ]
     },
     "execution_count": 145,
     "metadata": {},
     "output_type": "execute_result"
    }
   ],
   "source": [
    "test2 = df_last_count[df_last_count['nationality']=='Germanic'].groupby('year').sum()\n",
    "test2"
   ]
  },
  {
   "cell_type": "code",
   "execution_count": 147,
   "metadata": {},
   "outputs": [
    {
     "data": {
      "text/plain": [
       "([<matplotlib.axis.XTick at 0x126ad48b0>,\n",
       "  <matplotlib.axis.XTick at 0x126ad43a0>,\n",
       "  <matplotlib.axis.XTick at 0x126ad4730>,\n",
       "  <matplotlib.axis.XTick at 0x126b134c0>,\n",
       "  <matplotlib.axis.XTick at 0x126b13a60>,\n",
       "  <matplotlib.axis.XTick at 0x126b1a040>,\n",
       "  <matplotlib.axis.XTick at 0x126b1a5e0>,\n",
       "  <matplotlib.axis.XTick at 0x126b1ab80>,\n",
       "  <matplotlib.axis.XTick at 0x126b1e160>,\n",
       "  <matplotlib.axis.XTick at 0x126b1e700>,\n",
       "  <matplotlib.axis.XTick at 0x126b1eca0>],\n",
       " <a list of 11 Text xticklabel objects>)"
      ]
     },
     "execution_count": 147,
     "metadata": {},
     "output_type": "execute_result"
    },
    {
     "data": {
      "image/png": "[encoded data removed]",
      "text/plain": [
       "<Figure size 432x288 with 1 Axes>"
      ]
     },
     "metadata": {
      "needs_background": "light"
     },
     "output_type": "display_data"
    }
   ],
   "source": [
    "y = list(test2['count'])\n",
    "x = list(test2.index)\n",
    "plt.bar(x=x, height=y)\n",
    "plt.xticks(x, rotation=45)"
   ]
  },
  {
   "cell_type": "code",
   "execution_count": null,
   "metadata": {},
   "outputs": [],
   "source": []
  },
  {
   "cell_type": "code",
   "execution_count": 175,
   "metadata": {},
   "outputs": [
    {
     "data": {
      "text/plain": [
       "{'1870',\n",
       " '1885.0',\n",
       " '1890',\n",
       " '1890.0',\n",
       " '1895',\n",
       " '1905',\n",
       " '1905.0',\n",
       " '1910',\n",
       " '1915',\n",
       " '1915.0',\n",
       " '1920.0',\n",
       " '1925.0',\n",
       " '1930.0',\n",
       " '1933'}"
      ]
     },
     "execution_count": 175,
     "metadata": {},
     "output_type": "execute_result"
    }
   ],
   "source": [
    "set(df_last_count['year'])"
   ]
  },
  {
   "cell_type": "code",
   "execution_count": 149,
   "metadata": {},
   "outputs": [
    {
     "data": {
      "text/plain": [
       "{'American',\n",
       " 'Asian',\n",
       " 'British',\n",
       " 'Eastern European',\n",
       " 'False',\n",
       " 'Germanic',\n",
       " 'Middle Eastern',\n",
       " 'Scandinavian',\n",
       " 'Southern European',\n",
       " 'Western European'}"
      ]
     },
     "execution_count": 149,
     "metadata": {},
     "output_type": "execute_result"
    }
   ],
   "source": [
    "set(df_last_count['nationality'])"
   ]
  },
  {
   "cell_type": "code",
   "execution_count": null,
   "metadata": {},
   "outputs": [],
   "source": []
  },
  {
   "cell_type": "code",
   "execution_count": 183,
   "metadata": {},
   "outputs": [],
   "source": [
    "df_agg_last_dict = dict(df_agg_processed_last.groupby('YR')[\n",
    "                        'census_match_1'].value_counts())\n",
    "# df_last_count.columns = ['index', 'count', 'year', 'birthplace', 'nationality']\n",
    "df_last_count = pd.DataFrame.from_dict(\n",
    "    data=df_agg_last_dict, orient='index', columns=['count'])\n",
    "df_last_count.reset_index(level=0, inplace=True)\n",
    "df_last_count['year'] = df_last_count['index'].str[0]\n",
    "df_last_count['year'] = df_last_count['year'].apply(convert_year)\n",
    "df_last_count['birthplace'] = df_last_count['index'].str[1]\n",
    "df_last_count['nationality'] = df_last_count['birthplace'].apply(\n",
    "    convert_nationality)\n",
    "\n",
    "# get list of years and nationalities\n",
    "years = list(set(df_last_count['year']))\n",
    "nationalities = list(set(df_last_count['nationality']))"
   ]
  },
  {
   "cell_type": "code",
   "execution_count": 195,
   "metadata": {},
   "outputs": [
    {
     "data": {
      "image/png": "[encoded data removed]",
      "text/plain": [
       "<Figure size 1440x1080 with 12 Axes>"
      ]
     },
     "metadata": {
      "needs_background": "light"
     },
     "output_type": "display_data"
    }
   ],
   "source": [
    "# nationalities distribution each year\n",
    "\n",
    "fig, ax = plt.subplots(3, 4, figsize=(20, 15))\n",
    "\n",
    "for i in range(len(years)):\n",
    "    nationality_count = df_last_count[df_last_count['year'] == years[i]].groupby(\n",
    "        'nationality').sum().sort_values(by='count', ascending=False)\n",
    "    y = list(nationality_count['count'])\n",
    "    x = list(nationality_count.index)\n",
    "    x_loc = np.arange(len(x))\n",
    "    if i < 4:  # k=1-4\n",
    "        ax[0, i-1].bar(x=x, height=y)\n",
    "        #ax[0, i-1].set_xticks(x_loc)\n",
    "        ax[0, i-1].set_xticklabels(x, rotation=45)\n",
    "        ax[0, i-1].set_title(f'{years[i]}')\n",
    "        ax[0, i-1].set_ylim(0, 800)\n",
    "    elif i < 8:  # k=5-8\n",
    "        ax[1, i-5].bar(x=x, height=y)\n",
    "        ax[1, i-5].tick_params(labelrotation=45)\n",
    "        ax[1, i-5].set_title(f'{years[i]}')\n",
    "        ax[1, i-5].set_ylim(0, 800)\n",
    "    else:  # k=9-12\n",
    "        ax[2, i-8].bar(x=x, height=y)\n",
    "        ax[2, i-8].tick_params(labelrotation=45)\n",
    "        ax[2, i-8].set_title(f'{years[i]}')\n",
    "        ax[2, i-8].set_ylim(0, 800)\n",
    "fig.tight_layout(pad=3.0)\n",
    "plt.savefig(f'plots/nationalities_distribution_year.png')"
   ]
  },
  {
   "cell_type": "code",
   "execution_count": null,
   "metadata": {},
   "outputs": [],
   "source": []
  },
  {
   "cell_type": "code",
   "execution_count": 201,
   "metadata": {},
   "outputs": [
    {
     "data": {
      "image/png": "[encoded data removed]",
      "text/plain": [
       "<Figure size 1440x1080 with 12 Axes>"
      ]
     },
     "metadata": {
      "needs_background": "light"
     },
     "output_type": "display_data"
    }
   ],
   "source": [
    "# single nationality counts each year\n",
    "fig, ax = plt.subplots(3, 4, figsize=(20, 15))\n",
    "\n",
    "for i in range(len(nationalities)):\n",
    "    year_count = df_last_count[df_last_count['nationality']==nationalities[i]].groupby('year').sum()\n",
    "    y = list(year_count['count'])\n",
    "    x = list(year_count.index)\n",
    "    if i < 4:  # k=1-4\n",
    "        ax[0, i-1].bar(x=x, height=y)\n",
    "        #ax[0, i-1].set_xticks(x_loc)\n",
    "        ax[0, i-1].set_xticklabels(x, rotation=45)\n",
    "        ax[0, i-1].set_title(f'{nationalities[i]}')\n",
    "        ax[0, i-1].set_ylim(0, 800)\n",
    "    elif i < 8:  # k=5-8\n",
    "        ax[1, i-5].bar(x=x, height=y)\n",
    "        ax[1, i-5].tick_params(labelrotation=45)\n",
    "        ax[1, i-5].set_title(f'{nationalities[i]}')\n",
    "        ax[1, i-5].set_ylim(0, 800)\n",
    "    else:  # k=9-12\n",
    "        ax[2, i-8].bar(x=x, height=y)\n",
    "        ax[2, i-8].tick_params(labelrotation=45)\n",
    "        ax[2, i-8].set_title(f'{nationalities[i]}')\n",
    "        ax[2, i-8].set_ylim(0, 800)\n",
    "fig.tight_layout(pad=3.0)\n",
    "plt.savefig(f'plots/nationality_distribution_year.png')    "
   ]
  },
  {
   "cell_type": "code",
   "execution_count": null,
   "metadata": {},
   "outputs": [],
   "source": []
  },
  {
   "cell_type": "code",
   "execution_count": null,
   "metadata": {},
   "outputs": [],
   "source": []
  }
 ],
 "metadata": {
  "kernelspec": {
   "display_name": "Python 3.8.1 64-bit",
   "language": "python",
   "name": "python38164bit0209044da7c742dab8314e0953beb93b"
  },
  "language_info": {
   "codemirror_mode": {
    "name": "ipython",
    "version": 3
   },
   "file_extension": ".py",
   "mimetype": "text/x-python",
   "name": "python",
   "nbconvert_exporter": "python",
   "pygments_lexer": "ipython3",
   "version": "3.8.1"
  }
 },
 "nbformat": 4,
 "nbformat_minor": 4
}
