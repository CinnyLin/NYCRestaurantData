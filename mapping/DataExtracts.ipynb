{
 "cells": [
  {
   "cell_type": "markdown",
   "metadata": {},
   "source": [
    "# Datasets for Mapping"
   ]
  },
  {
   "cell_type": "code",
   "execution_count": 1,
   "metadata": {},
   "outputs": [],
   "source": [
    "import pandas as pd"
   ]
  },
  {
   "cell_type": "markdown",
   "metadata": {},
   "source": [
    "\n",
    "## [ABCEats Restaurant Data](https://a816-health.nyc.gov/ABCEatsRestaurants/#/Search) \n",
    "\n",
    "Downloaded dataset from [NYC Open Data](https://data.cityofnewyork.us/Health/DOHMH-New-York-City-Restaurant-Inspection-Results/43nn-pn8j). "
   ]
  },
  {
   "cell_type": "code",
   "execution_count": 2,
   "metadata": {},
   "outputs": [],
   "source": [
    "df = pd.read_csv('datasets/DOHMH_New_York_City_Restaurant_Inspection_Results.csv')"
   ]
  },
  {
   "cell_type": "code",
   "execution_count": 3,
   "metadata": {},
   "outputs": [
    {
     "data": {
      "text/plain": [
       "(400238, 26)"
      ]
     },
     "execution_count": 3,
     "metadata": {},
     "output_type": "execute_result"
    }
   ],
   "source": [
    "df.shape"
   ]
  },
  {
   "cell_type": "code",
   "execution_count": 4,
   "metadata": {},
   "outputs": [],
   "source": [
    "# df.info"
   ]
  },
  {
   "cell_type": "code",
   "execution_count": 35,
   "metadata": {},
   "outputs": [
    {
     "data": {
      "text/html": [
       "<div>\n",
       "<style scoped>\n",
       "    .dataframe tbody tr th:only-of-type {\n",
       "        vertical-align: middle;\n",
       "    }\n",
       "\n",
       "    .dataframe tbody tr th {\n",
       "        vertical-align: top;\n",
       "    }\n",
       "\n",
       "    .dataframe thead th {\n",
       "        text-align: right;\n",
       "    }\n",
       "</style>\n",
       "<table border=\"1\" class=\"dataframe\">\n",
       "  <thead>\n",
       "    <tr style=\"text-align: right;\">\n",
       "      <th></th>\n",
       "      <th>CAMIS</th>\n",
       "      <th>DBA</th>\n",
       "      <th>BORO</th>\n",
       "      <th>BUILDING</th>\n",
       "      <th>STREET</th>\n",
       "      <th>ZIPCODE</th>\n",
       "      <th>PHONE</th>\n",
       "      <th>CUISINE DESCRIPTION</th>\n",
       "      <th>INSPECTION DATE</th>\n",
       "      <th>ACTION</th>\n",
       "      <th>...</th>\n",
       "      <th>RECORD DATE</th>\n",
       "      <th>INSPECTION TYPE</th>\n",
       "      <th>Latitude</th>\n",
       "      <th>Longitude</th>\n",
       "      <th>Community Board</th>\n",
       "      <th>Council District</th>\n",
       "      <th>Census Tract</th>\n",
       "      <th>BIN</th>\n",
       "      <th>BBL</th>\n",
       "      <th>NTA</th>\n",
       "    </tr>\n",
       "  </thead>\n",
       "  <tbody>\n",
       "    <tr>\n",
       "      <th>0</th>\n",
       "      <td>40735273</td>\n",
       "      <td>EL PARAISO BAR &amp; RESTAURANT</td>\n",
       "      <td>Queens</td>\n",
       "      <td>99-10</td>\n",
       "      <td>37 AVENUE</td>\n",
       "      <td>11368.0</td>\n",
       "      <td>9173097766</td>\n",
       "      <td>Latin (Cuban, Dominican, Puerto Rican, South &amp;...</td>\n",
       "      <td>07/13/2019</td>\n",
       "      <td>Violations were cited in the following area(s).</td>\n",
       "      <td>...</td>\n",
       "      <td>06/23/2020</td>\n",
       "      <td>Cycle Inspection / Re-inspection</td>\n",
       "      <td>40.7523</td>\n",
       "      <td>-73.867993</td>\n",
       "      <td>403.0</td>\n",
       "      <td>21.0</td>\n",
       "      <td>40700.0</td>\n",
       "      <td>4043958.0</td>\n",
       "      <td>4.017620e+09</td>\n",
       "      <td>QN26</td>\n",
       "    </tr>\n",
       "  </tbody>\n",
       "</table>\n",
       "<p>1 rows × 26 columns</p>\n",
       "</div>"
      ],
      "text/plain": [
       "      CAMIS                          DBA    BORO BUILDING     STREET  ZIPCODE  \\\n",
       "0  40735273  EL PARAISO BAR & RESTAURANT  Queens    99-10  37 AVENUE  11368.0   \n",
       "\n",
       "        PHONE                                CUISINE DESCRIPTION  \\\n",
       "0  9173097766  Latin (Cuban, Dominican, Puerto Rican, South &...   \n",
       "\n",
       "  INSPECTION DATE                                           ACTION  ...  \\\n",
       "0      07/13/2019  Violations were cited in the following area(s).  ...   \n",
       "\n",
       "  RECORD DATE                   INSPECTION TYPE Latitude  Longitude  \\\n",
       "0  06/23/2020  Cycle Inspection / Re-inspection  40.7523 -73.867993   \n",
       "\n",
       "  Community Board Council District Census Tract        BIN           BBL   NTA  \n",
       "0           403.0             21.0      40700.0  4043958.0  4.017620e+09  QN26  \n",
       "\n",
       "[1 rows x 26 columns]"
      ]
     },
     "execution_count": 35,
     "metadata": {},
     "output_type": "execute_result"
    }
   ],
   "source": [
    "df.head(1)"
   ]
  },
  {
   "cell_type": "code",
   "execution_count": 6,
   "metadata": {},
   "outputs": [
    {
     "data": {
      "text/plain": [
       "Index(['CAMIS', 'DBA', 'BORO', 'BUILDING', 'STREET', 'ZIPCODE', 'PHONE',\n",
       "       'CUISINE DESCRIPTION', 'INSPECTION DATE', 'ACTION', 'VIOLATION CODE',\n",
       "       'VIOLATION DESCRIPTION', 'CRITICAL FLAG', 'SCORE', 'GRADE',\n",
       "       'GRADE DATE', 'RECORD DATE', 'INSPECTION TYPE', 'Latitude', 'Longitude',\n",
       "       'Community Board', 'Council District', 'Census Tract', 'BIN', 'BBL',\n",
       "       'NTA'],\n",
       "      dtype='object')"
      ]
     },
     "execution_count": 6,
     "metadata": {},
     "output_type": "execute_result"
    }
   ],
   "source": [
    "df.columns"
   ]
  },
  {
   "cell_type": "code",
   "execution_count": 43,
   "metadata": {},
   "outputs": [
    {
     "data": {
      "text/plain": [
       "American                                                            83270\n",
       "Chinese                                                             42266\n",
       "Café/Coffee/Tea                                                     19832\n",
       "Latin (Cuban, Dominican, Puerto Rican, South & Central American)    17597\n",
       "Pizza                                                               17387\n",
       "Mexican                                                             16665\n",
       "Italian                                                             16222\n",
       "Caribbean                                                           14499\n",
       "Japanese                                                            14419\n",
       "Spanish                                                             12450\n",
       "Name: CUISINE DESCRIPTION, dtype: int64"
      ]
     },
     "execution_count": 43,
     "metadata": {},
     "output_type": "execute_result"
    }
   ],
   "source": [
    "# df['CUISINE DESCRIPTION']\n",
    "lst = df['CUISINE DESCRIPTION'].value_counts()\n",
    "lst[:10]"
   ]
  },
  {
   "cell_type": "markdown",
   "metadata": {},
   "source": [
    "### Chinese_2020\n",
    "\n",
    "'Chinese', 'Chinese/Japanese', 'Chinese/Cuban'"
   ]
  },
  {
   "cell_type": "code",
   "execution_count": 8,
   "metadata": {},
   "outputs": [
    {
     "data": {
      "text/html": [
       "<div>\n",
       "<style scoped>\n",
       "    .dataframe tbody tr th:only-of-type {\n",
       "        vertical-align: middle;\n",
       "    }\n",
       "\n",
       "    .dataframe tbody tr th {\n",
       "        vertical-align: top;\n",
       "    }\n",
       "\n",
       "    .dataframe thead th {\n",
       "        text-align: right;\n",
       "    }\n",
       "</style>\n",
       "<table border=\"1\" class=\"dataframe\">\n",
       "  <thead>\n",
       "    <tr style=\"text-align: right;\">\n",
       "      <th></th>\n",
       "      <th>DBA</th>\n",
       "      <th>BORO</th>\n",
       "      <th>BUILDING</th>\n",
       "      <th>STREET</th>\n",
       "      <th>ZIPCODE</th>\n",
       "      <th>Latitude</th>\n",
       "      <th>Longitude</th>\n",
       "    </tr>\n",
       "  </thead>\n",
       "  <tbody>\n",
       "    <tr>\n",
       "      <th>2</th>\n",
       "      <td>NEW WONG RESTAURANT</td>\n",
       "      <td>Manhattan</td>\n",
       "      <td>103</td>\n",
       "      <td>EAST BROADWAY</td>\n",
       "      <td>10002.0</td>\n",
       "      <td>40.713784</td>\n",
       "      <td>-73.993283</td>\n",
       "    </tr>\n",
       "  </tbody>\n",
       "</table>\n",
       "</div>"
      ],
      "text/plain": [
       "                   DBA       BORO BUILDING         STREET  ZIPCODE   Latitude  \\\n",
       "2  NEW WONG RESTAURANT  Manhattan      103  EAST BROADWAY  10002.0  40.713784   \n",
       "\n",
       "   Longitude  \n",
       "2 -73.993283  "
      ]
     },
     "execution_count": 8,
     "metadata": {},
     "output_type": "execute_result"
    }
   ],
   "source": [
    "Chinese_2020 = df['CUISINE DESCRIPTION'] == ('Chinese' or 'Chinese/Japanese' or 'Chinese/Cuban')\n",
    "CH2020 = df.loc[Chinese_2020, ['DBA','BORO', 'BUILDING', 'STREET', 'ZIPCODE', 'Latitude', 'Longitude']]\n",
    "CH2020.head(1)"
   ]
  },
  {
   "cell_type": "code",
   "execution_count": 9,
   "metadata": {},
   "outputs": [],
   "source": [
    "CH2020.to_csv(r'Chinese_2020.csv', index = False)"
   ]
  },
  {
   "cell_type": "markdown",
   "metadata": {},
   "source": [
    "### French_2020"
   ]
  },
  {
   "cell_type": "code",
   "execution_count": 10,
   "metadata": {},
   "outputs": [],
   "source": [
    "French_2020 = df['CUISINE DESCRIPTION'] == 'French'\n",
    "FR2020 = df.loc[French_2020, ['DBA','BORO', 'BUILDING', 'STREET', 'ZIPCODE', 'Latitude', 'Longitude']]\n",
    "FR2020.to_csv(r'French_2020.csv', index = False)"
   ]
  },
  {
   "cell_type": "markdown",
   "metadata": {},
   "source": [
    "### Russian_2020"
   ]
  },
  {
   "cell_type": "code",
   "execution_count": 11,
   "metadata": {},
   "outputs": [],
   "source": [
    "Russian_2020 = df['CUISINE DESCRIPTION'] == 'Russian'\n",
    "RS2020 = df.loc[Russian_2020, ['DBA','BORO', 'BUILDING', 'STREET', 'ZIPCODE', 'Latitude', 'Longitude']]\n",
    "RS2020.to_csv(r'Russian_2020.csv', index = False)"
   ]
  },
  {
   "cell_type": "markdown",
   "metadata": {},
   "source": [
    "### Italian_2020"
   ]
  },
  {
   "cell_type": "code",
   "execution_count": 12,
   "metadata": {},
   "outputs": [],
   "source": [
    "Italian_2020 = df['CUISINE DESCRIPTION'] == 'Italian'\n",
    "IT2020 = df.loc[Italian_2020, ['DBA','BORO', 'BUILDING', 'STREET', 'ZIPCODE', 'Latitude', 'Longitude']]\n",
    "IT2020.to_csv(r'Italian_2020.csv', index = False)"
   ]
  },
  {
   "cell_type": "markdown",
   "metadata": {},
   "source": [
    "### Spanish_2020\n",
    "\n",
    "'Spanish', 'Tapas'"
   ]
  },
  {
   "cell_type": "code",
   "execution_count": 13,
   "metadata": {},
   "outputs": [],
   "source": [
    "Spanish_2020 = df['CUISINE DESCRIPTION'] == ('Spanish' or 'Tapas')\n",
    "SP2020 = df.loc[Spanish_2020, ['DBA','BORO', 'BUILDING', 'STREET', 'ZIPCODE', 'Latitude', 'Longitude']]\n",
    "SP2020.to_csv(r'Spanish_2020.csv', index = False)"
   ]
  },
  {
   "cell_type": "markdown",
   "metadata": {},
   "source": [
    "### Jewish_2020\n",
    "\n",
    "'Jewish/Kosher'"
   ]
  },
  {
   "cell_type": "code",
   "execution_count": 14,
   "metadata": {},
   "outputs": [],
   "source": [
    "Jewish_2020 = (df['CUISINE DESCRIPTION'] == 'Jewish/Kosher') \n",
    "JW2020 = df.loc[Jewish_2020, ['DBA','BORO', 'BUILDING', 'STREET', 'ZIPCODE', 'Latitude', 'Longitude']]\n",
    "JW2020.to_csv(r'Jewish_2020.csv', index = False)"
   ]
  },
  {
   "cell_type": "markdown",
   "metadata": {},
   "source": [
    "### German_2020\n",
    "\n",
    "'Delicatessen', 'German'"
   ]
  },
  {
   "cell_type": "code",
   "execution_count": 15,
   "metadata": {},
   "outputs": [],
   "source": [
    "German_2020 = df['CUISINE DESCRIPTION'] == ('Delicatessen' or 'German') \n",
    "GM2020 = df.loc[German_2020, ['DBA','BORO', 'BUILDING', 'STREET', 'ZIPCODE', 'Latitude', 'Longitude']]\n",
    "GM2020.to_csv(r'German_2020.csv', index = False)"
   ]
  },
  {
   "cell_type": "markdown",
   "metadata": {},
   "source": [
    "### Irish_2020"
   ]
  },
  {
   "cell_type": "code",
   "execution_count": 16,
   "metadata": {},
   "outputs": [],
   "source": [
    "Irish_2020 = df['CUISINE DESCRIPTION'] == 'Irish'\n",
    "IR2020 = df.loc[Irish_2020, ['DBA','BORO', 'BUILDING', 'STREET', 'ZIPCODE', 'Latitude', 'Longitude']]\n",
    "IR2020.to_csv(r'Irish_2020.csv', index = False)"
   ]
  },
  {
   "cell_type": "markdown",
   "metadata": {},
   "source": [
    "### Polish_2020"
   ]
  },
  {
   "cell_type": "code",
   "execution_count": 17,
   "metadata": {},
   "outputs": [],
   "source": [
    "Polish_2020 = df['CUISINE DESCRIPTION'] == 'Polish'\n",
    "PL2020 = df.loc[Polish_2020, ['DBA','BORO', 'BUILDING', 'STREET', 'ZIPCODE', 'Latitude', 'Longitude']]\n",
    "PL2020.to_csv(r'Polish_2020.csv', index = False)"
   ]
  },
  {
   "cell_type": "code",
   "execution_count": null,
   "metadata": {},
   "outputs": [],
   "source": []
  },
  {
   "cell_type": "markdown",
   "metadata": {},
   "source": [
    "Other category of food that didn't exist at the time \n",
    "\n",
    "### Culture food\n",
    "- 'American'\n",
    "- 'Indian'\n",
    "- 'Thai'\n",
    "- 'Mediterranean'\n",
    "- 'Middle Eastern'\n",
    "- 'Greek'\n",
    "- 'Vietnamese/Cambodian/Malaysia'\n",
    "- 'African'\n",
    "- 'Turkish'\n",
    "- 'Bangladeshi'\n",
    "- 'Filipino'\n",
    "- 'Pakistani'\n",
    "- 'Hawaiian'\n",
    "- 'Continental'\n",
    "- 'Brazilian'\n",
    "- 'Australian'\n",
    "\n",
    "### Category food\n",
    "- 'Café/Coffee/Tea'\n",
    "- **'Pizza'** -- Italian?\n",
    "- 'Bakery'\n",
    "- 'Donuts'\n",
    "- 'Juice, Smoothies, Fruit Salads'\n",
    "- 'Hamburgers'\n",
    "- 'Sandwiches'\n",
    "- 'Seafood'\n",
    "- 'Ice Cream, Gelato, Yogurt, Ices'\n",
    "- 'Sandwiches/Salads/Mixed Buffet'\n",
    "- **'Bagels/Pretzels'** -- Bagels are Jewish and Pretzels and German?\n",
    "- 'Vegetarian'\n",
    "- 'Steak'\n",
    "- 'Bottled beverages, including water, sodas, juices, etc.'\n",
    "- 'Soul Food'\n",
    "- 'Salads'\n",
    "- 'Barbecue'\n",
    "- 'Soups & Sandwiches'\n",
    "- 'Creole'\n"
   ]
  },
  {
   "cell_type": "code",
   "execution_count": null,
   "metadata": {},
   "outputs": [],
   "source": []
  },
  {
   "cell_type": "markdown",
   "metadata": {},
   "source": [
    "## [2019 Abdala Nationality_Gender_1898TrowBus \"March 26 Plotting\" sheet](https://docs.google.com/spreadsheets/d/1D154NR_0JElKssEAw4Y2RmUzwkSxR533DrDC46pU2uU/edit#gid=572697680)\n",
    "\n",
    "Google Sheet from shared drive downloaded as csv file."
   ]
  },
  {
   "cell_type": "code",
   "execution_count": 18,
   "metadata": {},
   "outputs": [],
   "source": [
    "df2 = pd.read_csv('datasets/2019 Abdala Nationality_Gender_1898TrowBus - March 26 Plotting.csv')"
   ]
  },
  {
   "cell_type": "code",
   "execution_count": 19,
   "metadata": {},
   "outputs": [
    {
     "data": {
      "text/html": [
       "<div>\n",
       "<style scoped>\n",
       "    .dataframe tbody tr th:only-of-type {\n",
       "        vertical-align: middle;\n",
       "    }\n",
       "\n",
       "    .dataframe tbody tr th {\n",
       "        vertical-align: top;\n",
       "    }\n",
       "\n",
       "    .dataframe thead th {\n",
       "        text-align: right;\n",
       "    }\n",
       "</style>\n",
       "<table border=\"1\" class=\"dataframe\">\n",
       "  <thead>\n",
       "    <tr style=\"text-align: right;\">\n",
       "      <th></th>\n",
       "      <th>Year</th>\n",
       "      <th>PG</th>\n",
       "      <th>ID</th>\n",
       "      <th>ID2</th>\n",
       "      <th>CAT_ORG</th>\n",
       "      <th>CAT_MOD</th>\n",
       "      <th>FULL</th>\n",
       "      <th>Position</th>\n",
       "      <th>Nation</th>\n",
       "      <th>Name</th>\n",
       "      <th>...</th>\n",
       "      <th>Arrival / I Record</th>\n",
       "      <th>CORNER</th>\n",
       "      <th>Address2</th>\n",
       "      <th>ST combi</th>\n",
       "      <th>ST Name</th>\n",
       "      <th>ST Name 2</th>\n",
       "      <th>ST Name 3</th>\n",
       "      <th>ST Name 4</th>\n",
       "      <th>ST Name 5</th>\n",
       "      <th>ST Name 6</th>\n",
       "    </tr>\n",
       "  </thead>\n",
       "  <tbody>\n",
       "    <tr>\n",
       "      <th>0</th>\n",
       "      <td>1898_TrowBusMan</td>\n",
       "      <td>951</td>\n",
       "      <td>75</td>\n",
       "      <td>1898_TrowBusMan_75</td>\n",
       "      <td>Restaurants (Marked thus + are oyster saloons.)</td>\n",
       "      <td>Restaurant</td>\n",
       "      <td>Abbott Charles W. 548 W 39th</td>\n",
       "      <td>18</td>\n",
       "      <td>NaN</td>\n",
       "      <td>Abbott Charles W</td>\n",
       "      <td>...</td>\n",
       "      <td>NaN</td>\n",
       "      <td>N</td>\n",
       "      <td>548</td>\n",
       "      <td>W 39th</td>\n",
       "      <td>W</td>\n",
       "      <td>39th</td>\n",
       "      <td>NaN</td>\n",
       "      <td>NaN</td>\n",
       "      <td>NaN</td>\n",
       "      <td>NaN</td>\n",
       "    </tr>\n",
       "  </tbody>\n",
       "</table>\n",
       "<p>1 rows × 31 columns</p>\n",
       "</div>"
      ],
      "text/plain": [
       "              Year   PG  ID                 ID2  \\\n",
       "0  1898_TrowBusMan  951  75  1898_TrowBusMan_75   \n",
       "\n",
       "                                           CAT_ORG     CAT_MOD  \\\n",
       "0  Restaurants (Marked thus + are oyster saloons.)  Restaurant   \n",
       "\n",
       "                           FULL  Position Nation               Name  ...  \\\n",
       "0  Abbott Charles W. 548 W 39th        18    NaN  Abbott Charles W   ...   \n",
       "\n",
       "  Arrival / I Record CORNER Address2 ST combi ST Name ST Name 2 ST Name 3  \\\n",
       "0                NaN      N      548  W 39th        W      39th       NaN   \n",
       "\n",
       "  ST Name 4 ST Name 5 ST Name 6  \n",
       "0       NaN       NaN       NaN  \n",
       "\n",
       "[1 rows x 31 columns]"
      ]
     },
     "execution_count": 19,
     "metadata": {},
     "output_type": "execute_result"
    }
   ],
   "source": [
    "df2.head(1)"
   ]
  },
  {
   "cell_type": "code",
   "execution_count": 20,
   "metadata": {},
   "outputs": [
    {
     "data": {
      "text/plain": [
       "Index(['Year', 'PG', 'ID', 'ID2', 'CAT_ORG', 'CAT_MOD', 'FULL', 'Position',\n",
       "       'Nation', 'Name', 'Addy_Clean', 'Address',\n",
       "       'Nationality - Katherine Vote', 'Nationality - Zehra Vote',\n",
       "       'Nationality - Jessica', 'Nationality Final', 'Gender - Katherine Vote',\n",
       "       'Gender - Zehra Vote', 'Gender - Jessica', 'Gender - Final', 'Notes',\n",
       "       'Arrival / I Record', 'CORNER', 'Address2', 'ST combi', 'ST Name',\n",
       "       'ST Name 2', 'ST Name 3', 'ST Name 4', 'ST Name 5', 'ST Name 6'],\n",
       "      dtype='object')"
      ]
     },
     "execution_count": 20,
     "metadata": {},
     "output_type": "execute_result"
    }
   ],
   "source": [
    "df2.columns"
   ]
  },
  {
   "cell_type": "code",
   "execution_count": 21,
   "metadata": {},
   "outputs": [
    {
     "data": {
      "text/plain": [
       "German      717\n",
       "English     481\n",
       "Irish       161\n",
       "Italian     121\n",
       "Jewish       82\n",
       "French       58\n",
       "Scottish     32\n",
       "Dutch        29\n",
       "Russian      17\n",
       "Spanish      15\n",
       "Name: Nationality Final, dtype: int64"
      ]
     },
     "execution_count": 21,
     "metadata": {},
     "output_type": "execute_result"
    }
   ],
   "source": [
    "lst2 = df2['Nationality Final'].value_counts()\n",
    "lst2[:10]"
   ]
  },
  {
   "cell_type": "code",
   "execution_count": null,
   "metadata": {},
   "outputs": [],
   "source": []
  },
  {
   "cell_type": "markdown",
   "metadata": {},
   "source": [
    "### German_1898\n",
    "\n",
    "'German', 'German/Austrian', 'Austrian/German', 'German, Austrian, Czech?', 'Gernan', 'German, Prussian'"
   ]
  },
  {
   "cell_type": "code",
   "execution_count": 22,
   "metadata": {},
   "outputs": [],
   "source": [
    "German_1898 = df2['Nationality Final'] == ('German' or 'German/Austrian' \n",
    "                                           or 'Austrian/German' or 'German, Austrian, Czech?' \n",
    "                                           or 'Gernan' or 'German, Prussian') \n",
    "GM1898 = df2.loc[German_1898, ['Name', 'Address', 'Nationality Final']]\n",
    "GM1898.to_csv(r'German_1898.csv', index = False)"
   ]
  },
  {
   "cell_type": "markdown",
   "metadata": {},
   "source": [
    "### Italian_1898"
   ]
  },
  {
   "cell_type": "code",
   "execution_count": 23,
   "metadata": {},
   "outputs": [],
   "source": [
    "Italian_1898 = df2['Nationality Final'] == 'Italian'\n",
    "IT1898 = df2.loc[Italian_1898, ['Name', 'Address', 'Nationality Final']]\n",
    "IT1898.to_csv(r'Italian_1898.csv', index = False)"
   ]
  },
  {
   "cell_type": "markdown",
   "metadata": {},
   "source": [
    "### Jewish_1898\n",
    "\n",
    "'Jewish', 'Jewish, German', 'Jewish, Russian'"
   ]
  },
  {
   "cell_type": "code",
   "execution_count": 24,
   "metadata": {},
   "outputs": [],
   "source": [
    "Jewish_1898 = df2['Nationality Final'] == ('Jewish' or 'Jewish, German' or 'Jewish, Russian') \n",
    "JW1898 = df2.loc[Jewish_1898, ['Name', 'Address', 'Nationality Final']]\n",
    "JW1898.to_csv(r'Jewish_1898.csv', index = False)"
   ]
  },
  {
   "cell_type": "markdown",
   "metadata": {},
   "source": [
    "### French_1898"
   ]
  },
  {
   "cell_type": "code",
   "execution_count": 25,
   "metadata": {},
   "outputs": [],
   "source": [
    "French_1898 = df2['Nationality Final'] == 'French'\n",
    "FR1898 = df2.loc[French_1898, ['Name', 'Address', 'Nationality Final']]\n",
    "FR1898.to_csv(r'French_1898.csv', index = False)"
   ]
  },
  {
   "cell_type": "markdown",
   "metadata": {},
   "source": [
    "### Russian_1898\n",
    "\n",
    "'Russian', 'Russian/Romanian'"
   ]
  },
  {
   "cell_type": "code",
   "execution_count": 26,
   "metadata": {},
   "outputs": [],
   "source": [
    "Russian_1898 = df2['Nationality Final'] == ('Russian' or 'Russian/Romanian') \n",
    "RS1898 = df2.loc[Russian_1898, ['Name', 'Address', 'Nationality Final']]\n",
    "RS1898.to_csv(r'Russian_1898.csv', index = False)"
   ]
  },
  {
   "cell_type": "markdown",
   "metadata": {},
   "source": [
    "### Spanish_1898"
   ]
  },
  {
   "cell_type": "code",
   "execution_count": 28,
   "metadata": {},
   "outputs": [],
   "source": [
    "Spanish_1898 = df2['Nationality Final'] == 'Spanish'\n",
    "SP1898 = df2.loc[Spanish_1898, ['Name', 'Address', 'Nationality Final']]\n",
    "SP1898.to_csv(r'Spanish_1898.csv', index = False)"
   ]
  },
  {
   "cell_type": "markdown",
   "metadata": {},
   "source": [
    "### Chinese_1898"
   ]
  },
  {
   "cell_type": "code",
   "execution_count": 30,
   "metadata": {},
   "outputs": [],
   "source": [
    "Chinese_1898 = df2['Nationality Final'] == 'Chinese'\n",
    "CH1898 = df2.loc[Chinese_1898, ['Name', 'Address', 'Nationality Final']]\n",
    "CH1898.to_csv(r'Chinese_1898.csv', index = False)"
   ]
  },
  {
   "cell_type": "markdown",
   "metadata": {},
   "source": [
    "### Irish_1898"
   ]
  },
  {
   "cell_type": "code",
   "execution_count": 31,
   "metadata": {},
   "outputs": [],
   "source": [
    "Irish_1898 = df2['Nationality Final'] == 'Irish'\n",
    "IR1898 = df2.loc[Irish_1898, ['Name', 'Address', 'Nationality Final']]\n",
    "IR1898.to_csv(r'Irish_1898.csv', index = False)"
   ]
  },
  {
   "cell_type": "markdown",
   "metadata": {},
   "source": [
    "### Polish_1898"
   ]
  },
  {
   "cell_type": "code",
   "execution_count": 32,
   "metadata": {},
   "outputs": [],
   "source": [
    "Polish_1898 = df2['Nationality Final'] == 'Polish'\n",
    "PL1898 = df2.loc[Polish_1898, ['Name', 'Address', 'Nationality Final']]\n",
    "PL1898.to_csv(r'Polish_1898.csv', index = False)"
   ]
  },
  {
   "cell_type": "code",
   "execution_count": null,
   "metadata": {},
   "outputs": [],
   "source": []
  },
  {
   "cell_type": "markdown",
   "metadata": {},
   "source": [
    "## [2019 Abdala National and Gender 1913 Trow sheet](https://docs.google.com/spreadsheets/d/1-PhdqRmy7AfbV-Je6vziABKruAOivNFRMPrvwGsM7ro/edit#gid=89465283)\n",
    "\n",
    "Google Sheet from shared drive downloaded as csv file."
   ]
  },
  {
   "cell_type": "code",
   "execution_count": 48,
   "metadata": {},
   "outputs": [],
   "source": [
    "df3 = pd.read_csv('datasets/1913 - 1913 Trows Bus Dir Man EXCERPT .csv')"
   ]
  },
  {
   "cell_type": "code",
   "execution_count": 49,
   "metadata": {},
   "outputs": [
    {
     "data": {
      "text/html": [
       "<div>\n",
       "<style scoped>\n",
       "    .dataframe tbody tr th:only-of-type {\n",
       "        vertical-align: middle;\n",
       "    }\n",
       "\n",
       "    .dataframe tbody tr th {\n",
       "        vertical-align: top;\n",
       "    }\n",
       "\n",
       "    .dataframe thead th {\n",
       "        text-align: right;\n",
       "    }\n",
       "</style>\n",
       "<table border=\"1\" class=\"dataframe\">\n",
       "  <thead>\n",
       "    <tr style=\"text-align: right;\">\n",
       "      <th></th>\n",
       "      <th>Year</th>\n",
       "      <th>PG</th>\n",
       "      <th>ID</th>\n",
       "      <th>ID2</th>\n",
       "      <th>CAT_ORG</th>\n",
       "      <th>FULL</th>\n",
       "      <th>Position</th>\n",
       "      <th>Nation</th>\n",
       "      <th>Name</th>\n",
       "      <th>NATIONALITY</th>\n",
       "      <th>...</th>\n",
       "      <th>Addy_Clean</th>\n",
       "      <th>Address</th>\n",
       "      <th>CORNER</th>\n",
       "      <th>ST combi</th>\n",
       "      <th>ST Name</th>\n",
       "      <th>ST Name 2</th>\n",
       "      <th>ST Name 3</th>\n",
       "      <th>ST Name 4</th>\n",
       "      <th>ST Name 5</th>\n",
       "      <th>ST Name 6</th>\n",
       "    </tr>\n",
       "  </thead>\n",
       "  <tbody>\n",
       "    <tr>\n",
       "      <th>0</th>\n",
       "      <td>1913_TrowBusMan</td>\n",
       "      <td>904</td>\n",
       "      <td>33</td>\n",
       "      <td>1913_TrowBusMan_33</td>\n",
       "      <td>Restaurants</td>\n",
       "      <td>Albanian Roumanian Co, 261 W37th</td>\n",
       "      <td>23</td>\n",
       "      <td>NaN</td>\n",
       "      <td>Albanian Roumanian Co</td>\n",
       "      <td>Albanian</td>\n",
       "      <td>...</td>\n",
       "      <td>261 W 37th</td>\n",
       "      <td>261 W37th</td>\n",
       "      <td>N</td>\n",
       "      <td>W 37th</td>\n",
       "      <td>261</td>\n",
       "      <td>W37th</td>\n",
       "      <td>NaN</td>\n",
       "      <td>NaN</td>\n",
       "      <td>NaN</td>\n",
       "      <td>NaN</td>\n",
       "    </tr>\n",
       "  </tbody>\n",
       "</table>\n",
       "<p>1 rows × 23 columns</p>\n",
       "</div>"
      ],
      "text/plain": [
       "              Year   PG  ID                 ID2      CAT_ORG  \\\n",
       "0  1913_TrowBusMan  904  33  1913_TrowBusMan_33  Restaurants   \n",
       "\n",
       "                               FULL  Position Nation                    Name  \\\n",
       "0  Albanian Roumanian Co, 261 W37th        23    NaN  Albanian Roumanian Co    \n",
       "\n",
       "  NATIONALITY  ...  Addy_Clean    Address CORNER ST combi ST Name ST Name 2  \\\n",
       "0    Albanian  ...  261 W 37th  261 W37th      N   W 37th     261     W37th   \n",
       "\n",
       "  ST Name 3 ST Name 4 ST Name 5 ST Name 6  \n",
       "0       NaN       NaN       NaN       NaN  \n",
       "\n",
       "[1 rows x 23 columns]"
      ]
     },
     "execution_count": 49,
     "metadata": {},
     "output_type": "execute_result"
    }
   ],
   "source": [
    "df3.head(1)"
   ]
  },
  {
   "cell_type": "code",
   "execution_count": 50,
   "metadata": {},
   "outputs": [
    {
     "data": {
      "text/plain": [
       "Index(['Year', 'PG', 'ID', 'ID2', 'CAT_ORG', 'FULL', 'Position', 'Nation',\n",
       "       'Name', 'NATIONALITY', 'NATIONALITY final', 'GENDER', 'Unnamed: 12',\n",
       "       'Addy_Clean', 'Address', 'CORNER', 'ST combi', 'ST Name', 'ST Name 2',\n",
       "       'ST Name 3', 'ST Name 4', 'ST Name 5', 'ST Name 6'],\n",
       "      dtype='object')"
      ]
     },
     "execution_count": 50,
     "metadata": {},
     "output_type": "execute_result"
    }
   ],
   "source": [
    "df3.columns"
   ]
  },
  {
   "cell_type": "code",
   "execution_count": 55,
   "metadata": {},
   "outputs": [
    {
     "data": {
      "text/plain": [
       "German     882\n",
       "Jewish     669\n",
       "British    632\n",
       "Unknown    373\n",
       "Italian    354\n",
       "Greek      172\n",
       "French      95\n",
       "Polish      85\n",
       "Irish       73\n",
       "Chinese     63\n",
       "Name: NATIONALITY final, dtype: int64"
      ]
     },
     "execution_count": 55,
     "metadata": {},
     "output_type": "execute_result"
    }
   ],
   "source": [
    "lst3 = df3['NATIONALITY final'].value_counts()\n",
    "lst3[:10]"
   ]
  },
  {
   "cell_type": "markdown",
   "metadata": {},
   "source": [
    "### German_1913"
   ]
  },
  {
   "cell_type": "code",
   "execution_count": 58,
   "metadata": {},
   "outputs": [],
   "source": [
    "German_1913 = df3['NATIONALITY final'] == ('German' or 'german')\n",
    "GM1913 = df3.loc[German_1913, ['Name', 'Address', 'NATIONALITY final']]\n",
    "GM1913.to_csv(r'German_1913.csv', index = False)"
   ]
  },
  {
   "cell_type": "markdown",
   "metadata": {},
   "source": [
    "### Italian_1913"
   ]
  },
  {
   "cell_type": "code",
   "execution_count": 60,
   "metadata": {},
   "outputs": [],
   "source": [
    "Italian_1913 = df3['NATIONALITY final'] == 'Italian'\n",
    "IT1913 = df3.loc[Italian_1913, ['Name', 'Address', 'NATIONALITY final']]\n",
    "IT1913.to_csv(r'Italian_1913.csv', index = False)"
   ]
  },
  {
   "cell_type": "markdown",
   "metadata": {},
   "source": [
    "### Jewish_1913"
   ]
  },
  {
   "cell_type": "code",
   "execution_count": 61,
   "metadata": {},
   "outputs": [],
   "source": [
    "Jewish_1913 = df3['NATIONALITY final'] == 'Jewish'\n",
    "JW1913 = df3.loc[Jewish_1913, ['Name', 'Address', 'NATIONALITY final']]\n",
    "JW1913.to_csv(r'Jewish_1913.csv', index = False)"
   ]
  },
  {
   "cell_type": "markdown",
   "metadata": {},
   "source": [
    "### French_1913"
   ]
  },
  {
   "cell_type": "code",
   "execution_count": 62,
   "metadata": {},
   "outputs": [],
   "source": [
    "French_1913 = df3['NATIONALITY final'] == 'French'\n",
    "FR1913 = df3.loc[French_1913, ['Name', 'Address', 'NATIONALITY final']]\n",
    "FR1913.to_csv(r'French_1913.csv', index = False)"
   ]
  },
  {
   "cell_type": "markdown",
   "metadata": {},
   "source": [
    "### Russian_1913"
   ]
  },
  {
   "cell_type": "code",
   "execution_count": 63,
   "metadata": {},
   "outputs": [],
   "source": [
    "Russian_1913 = df3['NATIONALITY final'] == 'Russian' \n",
    "RS1913 = df3.loc[Russian_1913, ['Name', 'Address', 'NATIONALITY final']]\n",
    "RS1913.to_csv(r'Russian_1913.csv', index = False)"
   ]
  },
  {
   "cell_type": "markdown",
   "metadata": {},
   "source": [
    "### Spanish_1913"
   ]
  },
  {
   "cell_type": "code",
   "execution_count": 64,
   "metadata": {},
   "outputs": [],
   "source": [
    "Spanish_1913 = df3['NATIONALITY final'] == 'Spanish'\n",
    "SP1913 = df3.loc[Spanish_1913, ['Name', 'Address', 'NATIONALITY final']]\n",
    "SP1913.to_csv(r'Spanish_1913.csv', index = False)"
   ]
  },
  {
   "cell_type": "markdown",
   "metadata": {},
   "source": [
    "### Chinese_1913"
   ]
  },
  {
   "cell_type": "code",
   "execution_count": 65,
   "metadata": {},
   "outputs": [],
   "source": [
    "Chinese_1913 = df3['NATIONALITY final'] == 'Chinese'\n",
    "CH1913 = df3.loc[Chinese_1913, ['Name', 'Address', 'NATIONALITY final']]\n",
    "CH1913.to_csv(r'Chinese_1913.csv', index = False)"
   ]
  },
  {
   "cell_type": "markdown",
   "metadata": {},
   "source": [
    "### Irish_1913"
   ]
  },
  {
   "cell_type": "code",
   "execution_count": 66,
   "metadata": {},
   "outputs": [],
   "source": [
    "Irish_1913 = df3['NATIONALITY final'] == 'Irish'\n",
    "IR1913 = df3.loc[Irish_1913, ['Name', 'Address', 'NATIONALITY final']]\n",
    "IR1913.to_csv(r'Irish_1913.csv', index = False)"
   ]
  },
  {
   "cell_type": "markdown",
   "metadata": {},
   "source": [
    "### Polish_1913"
   ]
  },
  {
   "cell_type": "code",
   "execution_count": 67,
   "metadata": {},
   "outputs": [],
   "source": [
    "Polish_1913 = df3['NATIONALITY final'] == 'Polish'\n",
    "PL1913 = df3.loc[Polish_1913, ['Name', 'Address', 'NATIONALITY final']]\n",
    "PL1913.to_csv(r'Polish_1913.csv', index = False)"
   ]
  },
  {
   "cell_type": "code",
   "execution_count": null,
   "metadata": {},
   "outputs": [],
   "source": []
  },
  {
   "cell_type": "code",
   "execution_count": null,
   "metadata": {},
   "outputs": [],
   "source": []
  }
 ],
 "metadata": {
  "kernelspec": {
   "display_name": "Python 3.8.1 64-bit",
   "language": "python",
   "name": "python38164bit0209044da7c742dab8314e0953beb93b"
  },
  "language_info": {
   "codemirror_mode": {
    "name": "ipython",
    "version": 3
   },
   "file_extension": ".py",
   "mimetype": "text/x-python",
   "name": "python",
   "nbconvert_exporter": "python",
   "pygments_lexer": "ipython3",
   "version": "3.8.1"
  }
 },
 "nbformat": 4,
 "nbformat_minor": 4
}
